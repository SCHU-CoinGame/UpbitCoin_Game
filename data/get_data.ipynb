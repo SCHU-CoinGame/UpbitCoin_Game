{
 "cells": [
  {
   "cell_type": "code",
   "execution_count": 22,
   "metadata": {},
   "outputs": [],
   "source": [
    "import pyupbit\n",
    "import pandas as pd"
   ]
  },
  {
   "cell_type": "code",
   "execution_count": 2,
   "metadata": {},
   "outputs": [],
   "source": [
    "interval = 'minute1'\n",
    "count = 3126000"
   ]
  },
  {
   "cell_type": "code",
   "execution_count": 2,
   "metadata": {},
   "outputs": [],
   "source": [
    "ticker = 'KRW-BTC'\n",
    "to = '2024-10-10 20:18:00'"
   ]
  },
  {
   "cell_type": "code",
   "execution_count": 3,
   "metadata": {},
   "outputs": [],
   "source": [
    "price_history = pyupbit.get_ohlcv(ticker=ticker,interval=interval,to=to,count=count)"
   ]
  },
  {
   "cell_type": "code",
   "execution_count": 6,
   "metadata": {},
   "outputs": [],
   "source": [
    "pc = price_history.reset_index().rename(columns={'index':'timestamp'})\n",
    "pc.to_csv('from_pyupbit/bitcoin.csv', index=False)"
   ]
  },
  {
   "cell_type": "code",
   "execution_count": 7,
   "metadata": {},
   "outputs": [
    {
     "data": {
      "text/html": [
       "<div>\n",
       "<style scoped>\n",
       "    .dataframe tbody tr th:only-of-type {\n",
       "        vertical-align: middle;\n",
       "    }\n",
       "\n",
       "    .dataframe tbody tr th {\n",
       "        vertical-align: top;\n",
       "    }\n",
       "\n",
       "    .dataframe thead th {\n",
       "        text-align: right;\n",
       "    }\n",
       "</style>\n",
       "<table border=\"1\" class=\"dataframe\">\n",
       "  <thead>\n",
       "    <tr style=\"text-align: right;\">\n",
       "      <th></th>\n",
       "      <th>open</th>\n",
       "      <th>high</th>\n",
       "      <th>low</th>\n",
       "      <th>close</th>\n",
       "      <th>volume</th>\n",
       "      <th>value</th>\n",
       "    </tr>\n",
       "  </thead>\n",
       "  <tbody>\n",
       "    <tr>\n",
       "      <th>2018-10-15 22:34:00</th>\n",
       "      <td>7465000.0</td>\n",
       "      <td>7469000.0</td>\n",
       "      <td>7464000.0</td>\n",
       "      <td>7467000.0</td>\n",
       "      <td>3.273223</td>\n",
       "      <td>2.443834e+07</td>\n",
       "    </tr>\n",
       "    <tr>\n",
       "      <th>2018-10-15 22:35:00</th>\n",
       "      <td>7467000.0</td>\n",
       "      <td>7467000.0</td>\n",
       "      <td>7460000.0</td>\n",
       "      <td>7460000.0</td>\n",
       "      <td>7.458447</td>\n",
       "      <td>5.565499e+07</td>\n",
       "    </tr>\n",
       "    <tr>\n",
       "      <th>2018-10-15 22:36:00</th>\n",
       "      <td>7462000.0</td>\n",
       "      <td>7464000.0</td>\n",
       "      <td>7459000.0</td>\n",
       "      <td>7460000.0</td>\n",
       "      <td>4.706309</td>\n",
       "      <td>3.511643e+07</td>\n",
       "    </tr>\n",
       "    <tr>\n",
       "      <th>2018-10-15 22:37:00</th>\n",
       "      <td>7459000.0</td>\n",
       "      <td>7465000.0</td>\n",
       "      <td>7457000.0</td>\n",
       "      <td>7457000.0</td>\n",
       "      <td>9.961767</td>\n",
       "      <td>7.430318e+07</td>\n",
       "    </tr>\n",
       "    <tr>\n",
       "      <th>2018-10-15 22:38:00</th>\n",
       "      <td>7457000.0</td>\n",
       "      <td>7464000.0</td>\n",
       "      <td>7457000.0</td>\n",
       "      <td>7462000.0</td>\n",
       "      <td>1.454620</td>\n",
       "      <td>1.085506e+07</td>\n",
       "    </tr>\n",
       "    <tr>\n",
       "      <th>...</th>\n",
       "      <td>...</td>\n",
       "      <td>...</td>\n",
       "      <td>...</td>\n",
       "      <td>...</td>\n",
       "      <td>...</td>\n",
       "      <td>...</td>\n",
       "    </tr>\n",
       "    <tr>\n",
       "      <th>2024-10-10 20:14:00</th>\n",
       "      <td>82881000.0</td>\n",
       "      <td>82881000.0</td>\n",
       "      <td>82880000.0</td>\n",
       "      <td>82881000.0</td>\n",
       "      <td>0.239679</td>\n",
       "      <td>1.986479e+07</td>\n",
       "    </tr>\n",
       "    <tr>\n",
       "      <th>2024-10-10 20:15:00</th>\n",
       "      <td>82881000.0</td>\n",
       "      <td>82881000.0</td>\n",
       "      <td>82847000.0</td>\n",
       "      <td>82881000.0</td>\n",
       "      <td>0.402308</td>\n",
       "      <td>3.333924e+07</td>\n",
       "    </tr>\n",
       "    <tr>\n",
       "      <th>2024-10-10 20:16:00</th>\n",
       "      <td>82881000.0</td>\n",
       "      <td>82881000.0</td>\n",
       "      <td>82847000.0</td>\n",
       "      <td>82881000.0</td>\n",
       "      <td>0.331244</td>\n",
       "      <td>2.744975e+07</td>\n",
       "    </tr>\n",
       "    <tr>\n",
       "      <th>2024-10-10 20:17:00</th>\n",
       "      <td>82876000.0</td>\n",
       "      <td>82881000.0</td>\n",
       "      <td>82848000.0</td>\n",
       "      <td>82881000.0</td>\n",
       "      <td>0.163958</td>\n",
       "      <td>1.358785e+07</td>\n",
       "    </tr>\n",
       "    <tr>\n",
       "      <th>2024-10-10 20:18:00</th>\n",
       "      <td>82881000.0</td>\n",
       "      <td>82881000.0</td>\n",
       "      <td>82880000.0</td>\n",
       "      <td>82880000.0</td>\n",
       "      <td>0.810650</td>\n",
       "      <td>6.718737e+07</td>\n",
       "    </tr>\n",
       "  </tbody>\n",
       "</table>\n",
       "<p>3126000 rows × 6 columns</p>\n",
       "</div>"
      ],
      "text/plain": [
       "                           open        high         low       close    volume  \\\n",
       "2018-10-15 22:34:00   7465000.0   7469000.0   7464000.0   7467000.0  3.273223   \n",
       "2018-10-15 22:35:00   7467000.0   7467000.0   7460000.0   7460000.0  7.458447   \n",
       "2018-10-15 22:36:00   7462000.0   7464000.0   7459000.0   7460000.0  4.706309   \n",
       "2018-10-15 22:37:00   7459000.0   7465000.0   7457000.0   7457000.0  9.961767   \n",
       "2018-10-15 22:38:00   7457000.0   7464000.0   7457000.0   7462000.0  1.454620   \n",
       "...                         ...         ...         ...         ...       ...   \n",
       "2024-10-10 20:14:00  82881000.0  82881000.0  82880000.0  82881000.0  0.239679   \n",
       "2024-10-10 20:15:00  82881000.0  82881000.0  82847000.0  82881000.0  0.402308   \n",
       "2024-10-10 20:16:00  82881000.0  82881000.0  82847000.0  82881000.0  0.331244   \n",
       "2024-10-10 20:17:00  82876000.0  82881000.0  82848000.0  82881000.0  0.163958   \n",
       "2024-10-10 20:18:00  82881000.0  82881000.0  82880000.0  82880000.0  0.810650   \n",
       "\n",
       "                            value  \n",
       "2018-10-15 22:34:00  2.443834e+07  \n",
       "2018-10-15 22:35:00  5.565499e+07  \n",
       "2018-10-15 22:36:00  3.511643e+07  \n",
       "2018-10-15 22:37:00  7.430318e+07  \n",
       "2018-10-15 22:38:00  1.085506e+07  \n",
       "...                           ...  \n",
       "2024-10-10 20:14:00  1.986479e+07  \n",
       "2024-10-10 20:15:00  3.333924e+07  \n",
       "2024-10-10 20:16:00  2.744975e+07  \n",
       "2024-10-10 20:17:00  1.358785e+07  \n",
       "2024-10-10 20:18:00  6.718737e+07  \n",
       "\n",
       "[3126000 rows x 6 columns]"
      ]
     },
     "execution_count": 7,
     "metadata": {},
     "output_type": "execute_result"
    }
   ],
   "source": [
    "price_history"
   ]
  },
  {
   "cell_type": "code",
   "execution_count": 19,
   "metadata": {},
   "outputs": [],
   "source": [
    "ticker = 'KRW-ETH'\n",
    "to = '2024-10-11 03:44:00'"
   ]
  },
  {
   "cell_type": "code",
   "execution_count": 20,
   "metadata": {},
   "outputs": [],
   "source": [
    "price_history = pyupbit.get_ohlcv(ticker=ticker,interval=interval,to=to,count=count)"
   ]
  },
  {
   "cell_type": "code",
   "execution_count": 21,
   "metadata": {},
   "outputs": [],
   "source": [
    "ph = price_history.reset_index().rename(columns={'index':'timestamp'})\n",
    "ph.to_csv('from_pyupbit/ethereum.csv', index=False)"
   ]
  },
  {
   "cell_type": "code",
   "execution_count": 6,
   "metadata": {},
   "outputs": [],
   "source": [
    "ticker = 'KRW-SOL'\n",
    "to = '2024-10-11 03:13:00'"
   ]
  },
  {
   "cell_type": "code",
   "execution_count": 7,
   "metadata": {},
   "outputs": [],
   "source": [
    "price_history = pyupbit.get_ohlcv(ticker=ticker,interval=interval,to=to,count=count)"
   ]
  },
  {
   "cell_type": "code",
   "execution_count": 18,
   "metadata": {},
   "outputs": [],
   "source": [
    "ph = price_history.reset_index().rename(columns={'index':'timestamp'})\n",
    "ph.to_csv('from_pyupbit/solana.csv', index=False)"
   ]
  },
  {
   "cell_type": "code",
   "execution_count": 16,
   "metadata": {},
   "outputs": [
    {
     "data": {
      "text/html": [
       "<div>\n",
       "<style scoped>\n",
       "    .dataframe tbody tr th:only-of-type {\n",
       "        vertical-align: middle;\n",
       "    }\n",
       "\n",
       "    .dataframe tbody tr th {\n",
       "        vertical-align: top;\n",
       "    }\n",
       "\n",
       "    .dataframe thead th {\n",
       "        text-align: right;\n",
       "    }\n",
       "</style>\n",
       "<table border=\"1\" class=\"dataframe\">\n",
       "  <thead>\n",
       "    <tr style=\"text-align: right;\">\n",
       "      <th></th>\n",
       "      <th>open</th>\n",
       "      <th>high</th>\n",
       "      <th>low</th>\n",
       "      <th>close</th>\n",
       "      <th>volume</th>\n",
       "      <th>value</th>\n",
       "    </tr>\n",
       "  </thead>\n",
       "  <tbody>\n",
       "    <tr>\n",
       "      <th>2021-10-15 15:10:00</th>\n",
       "      <td>159700.0</td>\n",
       "      <td>209900.0</td>\n",
       "      <td>159700.0</td>\n",
       "      <td>208000.0</td>\n",
       "      <td>117356.537345</td>\n",
       "      <td>2.397389e+10</td>\n",
       "    </tr>\n",
       "    <tr>\n",
       "      <th>2021-10-15 15:11:00</th>\n",
       "      <td>209300.0</td>\n",
       "      <td>235300.0</td>\n",
       "      <td>207950.0</td>\n",
       "      <td>229950.0</td>\n",
       "      <td>147587.208273</td>\n",
       "      <td>3.249029e+10</td>\n",
       "    </tr>\n",
       "    <tr>\n",
       "      <th>2021-10-15 15:12:00</th>\n",
       "      <td>233600.0</td>\n",
       "      <td>246050.0</td>\n",
       "      <td>220050.0</td>\n",
       "      <td>230050.0</td>\n",
       "      <td>146786.335554</td>\n",
       "      <td>3.501196e+10</td>\n",
       "    </tr>\n",
       "    <tr>\n",
       "      <th>2021-10-15 15:13:00</th>\n",
       "      <td>220700.0</td>\n",
       "      <td>230000.0</td>\n",
       "      <td>219300.0</td>\n",
       "      <td>219700.0</td>\n",
       "      <td>92228.730424</td>\n",
       "      <td>2.035467e+10</td>\n",
       "    </tr>\n",
       "    <tr>\n",
       "      <th>2021-10-15 15:14:00</th>\n",
       "      <td>219800.0</td>\n",
       "      <td>226100.0</td>\n",
       "      <td>219550.0</td>\n",
       "      <td>225000.0</td>\n",
       "      <td>67159.027880</td>\n",
       "      <td>1.501052e+10</td>\n",
       "    </tr>\n",
       "    <tr>\n",
       "      <th>...</th>\n",
       "      <td>...</td>\n",
       "      <td>...</td>\n",
       "      <td>...</td>\n",
       "      <td>...</td>\n",
       "      <td>...</td>\n",
       "      <td>...</td>\n",
       "    </tr>\n",
       "    <tr>\n",
       "      <th>2024-10-11 03:09:00</th>\n",
       "      <td>186200.0</td>\n",
       "      <td>186200.0</td>\n",
       "      <td>185900.0</td>\n",
       "      <td>185900.0</td>\n",
       "      <td>113.028530</td>\n",
       "      <td>2.101988e+07</td>\n",
       "    </tr>\n",
       "    <tr>\n",
       "      <th>2024-10-11 03:10:00</th>\n",
       "      <td>185900.0</td>\n",
       "      <td>186650.0</td>\n",
       "      <td>185850.0</td>\n",
       "      <td>186400.0</td>\n",
       "      <td>824.662403</td>\n",
       "      <td>1.534545e+08</td>\n",
       "    </tr>\n",
       "    <tr>\n",
       "      <th>2024-10-11 03:11:00</th>\n",
       "      <td>186400.0</td>\n",
       "      <td>186400.0</td>\n",
       "      <td>186300.0</td>\n",
       "      <td>186350.0</td>\n",
       "      <td>171.788741</td>\n",
       "      <td>3.201785e+07</td>\n",
       "    </tr>\n",
       "    <tr>\n",
       "      <th>2024-10-11 03:12:00</th>\n",
       "      <td>186400.0</td>\n",
       "      <td>186400.0</td>\n",
       "      <td>185750.0</td>\n",
       "      <td>185750.0</td>\n",
       "      <td>315.306614</td>\n",
       "      <td>5.860840e+07</td>\n",
       "    </tr>\n",
       "    <tr>\n",
       "      <th>2024-10-11 03:13:00</th>\n",
       "      <td>185900.0</td>\n",
       "      <td>185900.0</td>\n",
       "      <td>185900.0</td>\n",
       "      <td>185900.0</td>\n",
       "      <td>76.670366</td>\n",
       "      <td>1.425302e+07</td>\n",
       "    </tr>\n",
       "  </tbody>\n",
       "</table>\n",
       "<p>1531900 rows × 6 columns</p>\n",
       "</div>"
      ],
      "text/plain": [
       "                         open      high       low     close         volume  \\\n",
       "2021-10-15 15:10:00  159700.0  209900.0  159700.0  208000.0  117356.537345   \n",
       "2021-10-15 15:11:00  209300.0  235300.0  207950.0  229950.0  147587.208273   \n",
       "2021-10-15 15:12:00  233600.0  246050.0  220050.0  230050.0  146786.335554   \n",
       "2021-10-15 15:13:00  220700.0  230000.0  219300.0  219700.0   92228.730424   \n",
       "2021-10-15 15:14:00  219800.0  226100.0  219550.0  225000.0   67159.027880   \n",
       "...                       ...       ...       ...       ...            ...   \n",
       "2024-10-11 03:09:00  186200.0  186200.0  185900.0  185900.0     113.028530   \n",
       "2024-10-11 03:10:00  185900.0  186650.0  185850.0  186400.0     824.662403   \n",
       "2024-10-11 03:11:00  186400.0  186400.0  186300.0  186350.0     171.788741   \n",
       "2024-10-11 03:12:00  186400.0  186400.0  185750.0  185750.0     315.306614   \n",
       "2024-10-11 03:13:00  185900.0  185900.0  185900.0  185900.0      76.670366   \n",
       "\n",
       "                            value  \n",
       "2021-10-15 15:10:00  2.397389e+10  \n",
       "2021-10-15 15:11:00  3.249029e+10  \n",
       "2021-10-15 15:12:00  3.501196e+10  \n",
       "2021-10-15 15:13:00  2.035467e+10  \n",
       "2021-10-15 15:14:00  1.501052e+10  \n",
       "...                           ...  \n",
       "2024-10-11 03:09:00  2.101988e+07  \n",
       "2024-10-11 03:10:00  1.534545e+08  \n",
       "2024-10-11 03:11:00  3.201785e+07  \n",
       "2024-10-11 03:12:00  5.860840e+07  \n",
       "2024-10-11 03:13:00  1.425302e+07  \n",
       "\n",
       "[1531900 rows x 6 columns]"
      ]
     },
     "execution_count": 16,
     "metadata": {},
     "output_type": "execute_result"
    }
   ],
   "source": [
    "price_history"
   ]
  },
  {
   "cell_type": "code",
   "execution_count": 1,
   "metadata": {},
   "outputs": [],
   "source": [
    "import pyupbit\n",
    "import pandas as pd\n",
    "import time"
   ]
  },
  {
   "cell_type": "code",
   "execution_count": 2,
   "metadata": {},
   "outputs": [],
   "source": [
    "codes = ['KRW-BTC', 'KRW-SXP', 'KRW-SUI', 'KRW-ARK', 'KRW-SHIB', 'KRW-UXLINK', 'KRW-XRP', 'KRW-SEI', 'KRW-HIFI']\n",
    "count = 60 * 24 * 365 * 3 # 3 years\n",
    "interval = 'minute1'\n",
    "to = time.strftime('%Y-%m-%d %H:%M:%S', time.localtime(time.time()))"
   ]
  },
  {
   "cell_type": "code",
   "execution_count": 3,
   "metadata": {},
   "outputs": [
    {
     "name": "stdout",
     "output_type": "stream",
     "text": [
      "KRW-BTC done\n",
      "KRW-ETH done\n",
      "KRW-SXP done\n",
      "KRW-SUI done\n",
      "KRW-ARK done\n",
      "KRW-SHIB done\n",
      "KRW-UXLINK done\n",
      "KRW-XRP done\n"
     ]
    },
    {
     "ename": "AttributeError",
     "evalue": "'NoneType' object has no attribute 'reset_index'",
     "output_type": "error",
     "traceback": [
      "\u001b[0;31m---------------------------------------------------------------------------\u001b[0m",
      "\u001b[0;31mAttributeError\u001b[0m                            Traceback (most recent call last)",
      "Cell \u001b[0;32mIn[3], line 3\u001b[0m\n\u001b[1;32m      1\u001b[0m \u001b[38;5;28;01mfor\u001b[39;00m code \u001b[38;5;129;01min\u001b[39;00m codes:\n\u001b[1;32m      2\u001b[0m     price_history \u001b[38;5;241m=\u001b[39m pyupbit\u001b[38;5;241m.\u001b[39mget_ohlcv(ticker\u001b[38;5;241m=\u001b[39mcode, interval\u001b[38;5;241m=\u001b[39minterval, to\u001b[38;5;241m=\u001b[39mto, count\u001b[38;5;241m=\u001b[39mcount)\n\u001b[0;32m----> 3\u001b[0m     \u001b[43mprice_history\u001b[49m\u001b[38;5;241;43m.\u001b[39;49m\u001b[43mreset_index\u001b[49m()\u001b[38;5;241m.\u001b[39mrename(columns\u001b[38;5;241m=\u001b[39m{\u001b[38;5;124m'\u001b[39m\u001b[38;5;124mindex\u001b[39m\u001b[38;5;124m'\u001b[39m:\u001b[38;5;124m'\u001b[39m\u001b[38;5;124mtimestamp\u001b[39m\u001b[38;5;124m'\u001b[39m})\u001b[38;5;241m.\u001b[39mto_csv(\u001b[38;5;124mf\u001b[39m\u001b[38;5;124m'\u001b[39m\u001b[38;5;124mfrom_pyupbit/\u001b[39m\u001b[38;5;132;01m{\u001b[39;00mcode\u001b[38;5;132;01m}\u001b[39;00m\u001b[38;5;124m.csv\u001b[39m\u001b[38;5;124m'\u001b[39m, index\u001b[38;5;241m=\u001b[39m\u001b[38;5;28;01mFalse\u001b[39;00m)\n\u001b[1;32m      4\u001b[0m     \u001b[38;5;28mprint\u001b[39m(\u001b[38;5;124mf\u001b[39m\u001b[38;5;124m'\u001b[39m\u001b[38;5;132;01m{\u001b[39;00mcode\u001b[38;5;132;01m}\u001b[39;00m\u001b[38;5;124m done\u001b[39m\u001b[38;5;124m'\u001b[39m)\n",
      "\u001b[0;31mAttributeError\u001b[0m: 'NoneType' object has no attribute 'reset_index'"
     ]
    }
   ],
   "source": [
    "for code in codes:\n",
    "    price_history = pyupbit.get_ohlcv(ticker=code, interval=interval, to=to, count=count)\n",
    "    price_history.reset_index().rename(columns={'index':'timestamp'}).to_csv(f'from_pyupbit/{code}.csv', index=False)\n",
    "    print(f'{code} done')"
   ]
  },
  {
   "cell_type": "code",
   "execution_count": 4,
   "metadata": {},
   "outputs": [
    {
     "name": "stdout",
     "output_type": "stream",
     "text": [
      "KRW-SEI done\n",
      "KRW-HIFI done\n"
     ]
    }
   ],
   "source": [
    "for code in ['KRW-SEI', 'KRW-HIFI']:\n",
    "    price_history = pyupbit.get_ohlcv(ticker=code, interval=interval, to=to, count=count)\n",
    "    price_history.reset_index().rename(columns={'index':'timestamp'}).to_csv(f'from_pyupbit/{code}.csv', index=False)\n",
    "    print(f'{code} done')"
   ]
  },
  {
   "cell_type": "code",
   "execution_count": null,
   "metadata": {},
   "outputs": [],
   "source": []
  }
 ],
 "metadata": {
  "kernelspec": {
   "display_name": "dl",
   "language": "python",
   "name": "python3"
  },
  "language_info": {
   "codemirror_mode": {
    "name": "ipython",
    "version": 3
   },
   "file_extension": ".py",
   "mimetype": "text/x-python",
   "name": "python",
   "nbconvert_exporter": "python",
   "pygments_lexer": "ipython3",
   "version": "3.10.0"
  }
 },
 "nbformat": 4,
 "nbformat_minor": 2
}
