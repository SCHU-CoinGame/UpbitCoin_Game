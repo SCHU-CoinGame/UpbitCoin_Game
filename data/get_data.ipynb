{
 "cells": [
  {
   "cell_type": "code",
   "execution_count": 1,
   "metadata": {},
   "outputs": [],
   "source": [
    "import boto3\n",
    "import pandas as pd\n",
    "import pyarrow.parquet as pq\n",
    "import io\n",
    "import os"
   ]
  },
  {
   "cell_type": "code",
   "execution_count": 2,
   "metadata": {},
   "outputs": [],
   "source": [
    "access_key = os.getenv('AWS_ACCESS_KEY_ID')\n",
    "secret_key = os.getenv('AWS_SECRET_ACCESS_KEY')"
   ]
  },
  {
   "cell_type": "code",
   "execution_count": 3,
   "metadata": {},
   "outputs": [],
   "source": [
    "# S3 클라이언트 생성 (환경변수에서 자격증명 자동으로 가져옴)\n",
    "s3 = boto3.client('s3', region_name='ap-northeast-2')"
   ]
  },
  {
   "cell_type": "code",
   "execution_count": 4,
   "metadata": {},
   "outputs": [],
   "source": [
    "bucket_name = 'aws-s3-bucket-fastcampus'\n",
    "prefix = 'dataLake_upbit/'  # Parquet 파일들이 저장된 경로"
   ]
  },
  {
   "cell_type": "code",
   "execution_count": 5,
   "metadata": {},
   "outputs": [],
   "source": [
    "# S3에서 지정된 경로에 있는 모든 파일 목록 가져오기\n",
    "response = s3.list_objects_v2(Bucket=bucket_name, Prefix=prefix)"
   ]
  },
  {
   "cell_type": "code",
   "execution_count": 6,
   "metadata": {},
   "outputs": [],
   "source": [
    "# 파일 목록에서 Parquet 파일들의 Key 추출\n",
    "parquet_files = [obj['Key'] for obj in response['Contents'] if obj['Key'].endswith('.parquet')]"
   ]
  },
  {
   "cell_type": "code",
   "execution_count": 7,
   "metadata": {},
   "outputs": [],
   "source": [
    "# 모든 Parquet 파일을 DataFrame으로 변환하고 하나로 병합\n",
    "dataframes = []\n",
    "for i, file_key in enumerate(parquet_files):\n",
    "    obj = s3.get_object(Bucket=bucket_name, Key=file_key)\n",
    "    data = obj['Body'].read()\n",
    "    \n",
    "    table = pq.read_table(io.BytesIO(data))\n",
    "    df = table.to_pandas()\n",
    "    dataframes.append(df)"
   ]
  },
  {
   "cell_type": "code",
   "execution_count": 8,
   "metadata": {},
   "outputs": [
    {
     "name": "stdout",
     "output_type": "stream",
     "text": [
      "      code trade_date trade_time  trade_timestamp  high_price   low_price  \\\n",
      "0  KRW-CTC   20241007     190853    1728328133932       588.5       557.1   \n",
      "1  KRW-CTC   20241007     190853    1728328133949       588.5       557.1   \n",
      "2  KRW-BTC   20241007     190854    1728328134487  86301000.0  84150000.0   \n",
      "3  KRW-GRS   20241007     190854    1728328134699       482.0       465.7   \n",
      "4  KRW-GRS   20241007     190854    1728328134699       482.0       465.7   \n",
      "\n",
      "   trade_price change  change_price  change_rate      timestamp  \n",
      "0        567.8   RISE           7.7     0.013748  1728328133965  \n",
      "1        567.8   RISE           7.7     0.013748  1728328133986  \n",
      "2   85099000.0   RISE      566000.0     0.006696  1728328134515  \n",
      "3        468.6   FALL          11.9     0.024766  1728328134720  \n",
      "4        468.4   FALL          12.1     0.025182  1728328134720  \n"
     ]
    }
   ],
   "source": [
    "combined_df = pd.concat(dataframes, ignore_index=True)\n",
    "print(combined_df.head())"
   ]
  },
  {
   "cell_type": "code",
   "execution_count": 9,
   "metadata": {},
   "outputs": [],
   "source": [
    "combined_df.to_csv('upbit_combined.csv', index=False)"
   ]
  },
  {
   "cell_type": "code",
   "execution_count": null,
   "metadata": {},
   "outputs": [],
   "source": []
  }
 ],
 "metadata": {
  "kernelspec": {
   "display_name": "dl",
   "language": "python",
   "name": "python3"
  },
  "language_info": {
   "codemirror_mode": {
    "name": "ipython",
    "version": 3
   },
   "file_extension": ".py",
   "mimetype": "text/x-python",
   "name": "python",
   "nbconvert_exporter": "python",
   "pygments_lexer": "ipython3",
   "version": "3.10.0"
  }
 },
 "nbformat": 4,
 "nbformat_minor": 2
}
