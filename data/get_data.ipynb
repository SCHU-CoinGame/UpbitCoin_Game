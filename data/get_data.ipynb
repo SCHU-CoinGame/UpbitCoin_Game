{
 "cells": [
  {
   "cell_type": "code",
   "execution_count": 1,
   "metadata": {},
   "outputs": [],
   "source": [
    "import pyupbit\n",
    "import pandas as pd\n",
    "import time"
   ]
  },
  {
   "cell_type": "code",
   "execution_count": 2,
   "metadata": {},
   "outputs": [],
   "source": [
    "codes = ['KRW-BTC', 'KRW-SXP', 'KRW-SUI', 'KRW-ARK', 'KRW-SHIB', 'KRW-UXLINK', 'KRW-XRP', 'KRW-SEI', 'KRW-HIFI']\n",
    "count = 60 * 24 * 365 * 2 # 2 years\n",
    "interval = 'minute1'\n",
    "to = time.strftime('%Y-%m-%d %H:%M:%S', time.localtime(time.time()))"
   ]
  },
  {
   "cell_type": "code",
   "execution_count": 3,
   "metadata": {},
   "outputs": [
    {
     "name": "stdout",
     "output_type": "stream",
     "text": [
      "KRW-BTC done\n",
      "KRW-SXP done\n",
      "KRW-SUI done\n",
      "KRW-ARK done\n",
      "KRW-SHIB done\n",
      "KRW-UXLINK done\n",
      "KRW-XRP done\n",
      "KRW-SEI done\n",
      "KRW-HIFI done\n"
     ]
    }
   ],
   "source": [
    "for code in codes:\n",
    "    price_history = pyupbit.get_ohlcv(ticker=code, interval=interval, to=to, count=count)\n",
    "    price_history.reset_index().rename(columns={'index':'timestamp'}).to_csv(f'from_pyupbit/{code}.csv', index=False)\n",
    "    print(f'{code} done')"
   ]
  },
  {
   "cell_type": "code",
   "execution_count": 2,
   "metadata": {},
   "outputs": [],
   "source": [
    "coins = ['KRW-ETH', 'KRW-DOGE', 'KRW-BIGTIME', 'KRW-SOL', 'KRW-SXP']\n",
    "count = 60 * 24 * 365 * 2 # 2 years\n",
    "interval = 'minute1'\n",
    "to = time.strftime('%Y-%m-%d %H:%M:%S', time.localtime(time.time()))"
   ]
  },
  {
   "cell_type": "code",
   "execution_count": 4,
   "metadata": {},
   "outputs": [
    {
     "name": "stdout",
     "output_type": "stream",
     "text": [
      "KRW-ETH done\n",
      "KRW-DOGE done\n",
      "KRW-BIGTIME done\n",
      "KRW-SOL done\n",
      "KRW-SXP done\n"
     ]
    }
   ],
   "source": [
    "for coin in coins:\n",
    "    price_history = pyupbit.get_ohlcv(ticker=coin, interval=interval, to=to, count=count)\n",
    "    price_history.reset_index().rename(columns={'index':'timestamp'}).to_csv(f'from_pyupbit/{coin}.csv', index=False)\n",
    "    print(f'{coin} done')"
   ]
  },
  {
   "cell_type": "code",
   "execution_count": 7,
   "metadata": {},
   "outputs": [
    {
     "data": {
      "text/html": [
       "<div>\n",
       "<style scoped>\n",
       "    .dataframe tbody tr th:only-of-type {\n",
       "        vertical-align: middle;\n",
       "    }\n",
       "\n",
       "    .dataframe tbody tr th {\n",
       "        vertical-align: top;\n",
       "    }\n",
       "\n",
       "    .dataframe thead th {\n",
       "        text-align: right;\n",
       "    }\n",
       "</style>\n",
       "<table border=\"1\" class=\"dataframe\">\n",
       "  <thead>\n",
       "    <tr style=\"text-align: right;\">\n",
       "      <th></th>\n",
       "      <th>open</th>\n",
       "      <th>high</th>\n",
       "      <th>low</th>\n",
       "      <th>close</th>\n",
       "      <th>volume</th>\n",
       "      <th>value</th>\n",
       "    </tr>\n",
       "  </thead>\n",
       "  <tbody>\n",
       "    <tr>\n",
       "      <th>open</th>\n",
       "      <td>1.000000</td>\n",
       "      <td>0.999994</td>\n",
       "      <td>0.999994</td>\n",
       "      <td>0.999992</td>\n",
       "      <td>0.018512</td>\n",
       "      <td>0.077340</td>\n",
       "    </tr>\n",
       "    <tr>\n",
       "      <th>high</th>\n",
       "      <td>0.999994</td>\n",
       "      <td>1.000000</td>\n",
       "      <td>0.999989</td>\n",
       "      <td>0.999995</td>\n",
       "      <td>0.019589</td>\n",
       "      <td>0.078446</td>\n",
       "    </tr>\n",
       "    <tr>\n",
       "      <th>low</th>\n",
       "      <td>0.999994</td>\n",
       "      <td>0.999989</td>\n",
       "      <td>1.000000</td>\n",
       "      <td>0.999994</td>\n",
       "      <td>0.017503</td>\n",
       "      <td>0.076302</td>\n",
       "    </tr>\n",
       "    <tr>\n",
       "      <th>close</th>\n",
       "      <td>0.999992</td>\n",
       "      <td>0.999995</td>\n",
       "      <td>0.999994</td>\n",
       "      <td>1.000000</td>\n",
       "      <td>0.018586</td>\n",
       "      <td>0.077412</td>\n",
       "    </tr>\n",
       "    <tr>\n",
       "      <th>volume</th>\n",
       "      <td>0.018512</td>\n",
       "      <td>0.019589</td>\n",
       "      <td>0.017503</td>\n",
       "      <td>0.018586</td>\n",
       "      <td>1.000000</td>\n",
       "      <td>0.954458</td>\n",
       "    </tr>\n",
       "    <tr>\n",
       "      <th>value</th>\n",
       "      <td>0.077340</td>\n",
       "      <td>0.078446</td>\n",
       "      <td>0.076302</td>\n",
       "      <td>0.077412</td>\n",
       "      <td>0.954458</td>\n",
       "      <td>1.000000</td>\n",
       "    </tr>\n",
       "  </tbody>\n",
       "</table>\n",
       "</div>"
      ],
      "text/plain": [
       "            open      high       low     close    volume     value\n",
       "open    1.000000  0.999994  0.999994  0.999992  0.018512  0.077340\n",
       "high    0.999994  1.000000  0.999989  0.999995  0.019589  0.078446\n",
       "low     0.999994  0.999989  1.000000  0.999994  0.017503  0.076302\n",
       "close   0.999992  0.999995  0.999994  1.000000  0.018586  0.077412\n",
       "volume  0.018512  0.019589  0.017503  0.018586  1.000000  0.954458\n",
       "value   0.077340  0.078446  0.076302  0.077412  0.954458  1.000000"
      ]
     },
     "execution_count": 7,
     "metadata": {},
     "output_type": "execute_result"
    }
   ],
   "source": [
    "price_history.corr()"
   ]
  },
  {
   "cell_type": "code",
   "execution_count": 18,
   "metadata": {},
   "outputs": [],
   "source": [
    "price_history['close_change'] = price_history['close'].diff()"
   ]
  },
  {
   "cell_type": "code",
   "execution_count": 19,
   "metadata": {},
   "outputs": [
    {
     "data": {
      "text/html": [
       "<div>\n",
       "<style scoped>\n",
       "    .dataframe tbody tr th:only-of-type {\n",
       "        vertical-align: middle;\n",
       "    }\n",
       "\n",
       "    .dataframe tbody tr th {\n",
       "        vertical-align: top;\n",
       "    }\n",
       "\n",
       "    .dataframe thead th {\n",
       "        text-align: right;\n",
       "    }\n",
       "</style>\n",
       "<table border=\"1\" class=\"dataframe\">\n",
       "  <thead>\n",
       "    <tr style=\"text-align: right;\">\n",
       "      <th></th>\n",
       "      <th>open</th>\n",
       "      <th>high</th>\n",
       "      <th>low</th>\n",
       "      <th>close</th>\n",
       "      <th>volume</th>\n",
       "      <th>value</th>\n",
       "      <th>close_change</th>\n",
       "    </tr>\n",
       "  </thead>\n",
       "  <tbody>\n",
       "    <tr>\n",
       "      <th>open</th>\n",
       "      <td>1.000000</td>\n",
       "      <td>0.999994</td>\n",
       "      <td>0.999994</td>\n",
       "      <td>0.999992</td>\n",
       "      <td>0.018512</td>\n",
       "      <td>0.077340</td>\n",
       "      <td>-0.001720</td>\n",
       "    </tr>\n",
       "    <tr>\n",
       "      <th>high</th>\n",
       "      <td>0.999994</td>\n",
       "      <td>1.000000</td>\n",
       "      <td>0.999989</td>\n",
       "      <td>0.999995</td>\n",
       "      <td>0.019589</td>\n",
       "      <td>0.078446</td>\n",
       "      <td>-0.000355</td>\n",
       "    </tr>\n",
       "    <tr>\n",
       "      <th>low</th>\n",
       "      <td>0.999994</td>\n",
       "      <td>0.999989</td>\n",
       "      <td>1.000000</td>\n",
       "      <td>0.999994</td>\n",
       "      <td>0.017503</td>\n",
       "      <td>0.076302</td>\n",
       "      <td>-0.000451</td>\n",
       "    </tr>\n",
       "    <tr>\n",
       "      <th>close</th>\n",
       "      <td>0.999992</td>\n",
       "      <td>0.999995</td>\n",
       "      <td>0.999994</td>\n",
       "      <td>1.000000</td>\n",
       "      <td>0.018586</td>\n",
       "      <td>0.077412</td>\n",
       "      <td>0.001292</td>\n",
       "    </tr>\n",
       "    <tr>\n",
       "      <th>volume</th>\n",
       "      <td>0.018512</td>\n",
       "      <td>0.019589</td>\n",
       "      <td>0.017503</td>\n",
       "      <td>0.018586</td>\n",
       "      <td>1.000000</td>\n",
       "      <td>0.954458</td>\n",
       "      <td>0.015228</td>\n",
       "    </tr>\n",
       "    <tr>\n",
       "      <th>value</th>\n",
       "      <td>0.077340</td>\n",
       "      <td>0.078446</td>\n",
       "      <td>0.076302</td>\n",
       "      <td>0.077412</td>\n",
       "      <td>0.954458</td>\n",
       "      <td>1.000000</td>\n",
       "      <td>0.015151</td>\n",
       "    </tr>\n",
       "    <tr>\n",
       "      <th>close_change</th>\n",
       "      <td>-0.001720</td>\n",
       "      <td>-0.000355</td>\n",
       "      <td>-0.000451</td>\n",
       "      <td>0.001292</td>\n",
       "      <td>0.015228</td>\n",
       "      <td>0.015151</td>\n",
       "      <td>1.000000</td>\n",
       "    </tr>\n",
       "  </tbody>\n",
       "</table>\n",
       "</div>"
      ],
      "text/plain": [
       "                  open      high       low     close    volume     value  \\\n",
       "open          1.000000  0.999994  0.999994  0.999992  0.018512  0.077340   \n",
       "high          0.999994  1.000000  0.999989  0.999995  0.019589  0.078446   \n",
       "low           0.999994  0.999989  1.000000  0.999994  0.017503  0.076302   \n",
       "close         0.999992  0.999995  0.999994  1.000000  0.018586  0.077412   \n",
       "volume        0.018512  0.019589  0.017503  0.018586  1.000000  0.954458   \n",
       "value         0.077340  0.078446  0.076302  0.077412  0.954458  1.000000   \n",
       "close_change -0.001720 -0.000355 -0.000451  0.001292  0.015228  0.015151   \n",
       "\n",
       "              close_change  \n",
       "open             -0.001720  \n",
       "high             -0.000355  \n",
       "low              -0.000451  \n",
       "close             0.001292  \n",
       "volume            0.015228  \n",
       "value             0.015151  \n",
       "close_change      1.000000  "
      ]
     },
     "execution_count": 19,
     "metadata": {},
     "output_type": "execute_result"
    }
   ],
   "source": [
    "price_history.corr()"
   ]
  },
  {
   "cell_type": "code",
   "execution_count": null,
   "metadata": {},
   "outputs": [],
   "source": []
  }
 ],
 "metadata": {
  "kernelspec": {
   "display_name": "Python 3",
   "language": "python",
   "name": "python3"
  },
  "language_info": {
   "codemirror_mode": {
    "name": "ipython",
    "version": 3
   },
   "file_extension": ".py",
   "mimetype": "text/x-python",
   "name": "python",
   "nbconvert_exporter": "python",
   "pygments_lexer": "ipython3",
   "version": "3.10.2"
  }
 },
 "nbformat": 4,
 "nbformat_minor": 2
}
