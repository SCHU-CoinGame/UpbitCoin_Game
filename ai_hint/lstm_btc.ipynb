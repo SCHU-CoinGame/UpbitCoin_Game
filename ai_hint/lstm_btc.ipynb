{
 "cells": [
  {
   "cell_type": "code",
   "execution_count": 1,
   "metadata": {},
   "outputs": [],
   "source": [
    "from tensorflow.keras.layers import LSTM, Dense\n",
    "from tensorflow.keras.models import Sequential\n",
    "from tensorflow.keras.callbacks import EarlyStopping\n",
    "\n",
    "import pandas as pd\n",
    "import numpy as np\n",
    "import matplotlib.pyplot as plt\n",
    "from matplotlib.dates import DateFormatter\n",
    "import joblib\n",
    "\n",
    "from sklearn.preprocessing import MinMaxScaler\n",
    "from sklearn.metrics import mean_squared_error"
   ]
  },
  {
   "cell_type": "code",
   "execution_count": 2,
   "metadata": {},
   "outputs": [],
   "source": [
    "seed = 42"
   ]
  },
  {
   "cell_type": "code",
   "execution_count": 3,
   "metadata": {},
   "outputs": [],
   "source": [
    "df = pd.read_csv('../data/from_pyupbit/KRW-BTC.csv')"
   ]
  },
  {
   "cell_type": "code",
   "execution_count": 4,
   "metadata": {},
   "outputs": [
    {
     "data": {
      "text/html": [
       "<div>\n",
       "<style scoped>\n",
       "    .dataframe tbody tr th:only-of-type {\n",
       "        vertical-align: middle;\n",
       "    }\n",
       "\n",
       "    .dataframe tbody tr th {\n",
       "        vertical-align: top;\n",
       "    }\n",
       "\n",
       "    .dataframe thead th {\n",
       "        text-align: right;\n",
       "    }\n",
       "</style>\n",
       "<table border=\"1\" class=\"dataframe\">\n",
       "  <thead>\n",
       "    <tr style=\"text-align: right;\">\n",
       "      <th></th>\n",
       "      <th>timestamp</th>\n",
       "      <th>open</th>\n",
       "      <th>high</th>\n",
       "      <th>low</th>\n",
       "      <th>close</th>\n",
       "      <th>volume</th>\n",
       "      <th>value</th>\n",
       "    </tr>\n",
       "  </thead>\n",
       "  <tbody>\n",
       "    <tr>\n",
       "      <th>0</th>\n",
       "      <td>2021-10-10 16:17:00</td>\n",
       "      <td>67982000.0</td>\n",
       "      <td>67995000.0</td>\n",
       "      <td>67907000.0</td>\n",
       "      <td>67983000.0</td>\n",
       "      <td>4.421744</td>\n",
       "      <td>3.005567e+08</td>\n",
       "    </tr>\n",
       "    <tr>\n",
       "      <th>1</th>\n",
       "      <td>2021-10-10 16:18:00</td>\n",
       "      <td>67983000.0</td>\n",
       "      <td>68000000.0</td>\n",
       "      <td>67953000.0</td>\n",
       "      <td>68000000.0</td>\n",
       "      <td>3.850292</td>\n",
       "      <td>2.618115e+08</td>\n",
       "    </tr>\n",
       "    <tr>\n",
       "      <th>2</th>\n",
       "      <td>2021-10-10 16:19:00</td>\n",
       "      <td>68000000.0</td>\n",
       "      <td>68010000.0</td>\n",
       "      <td>68000000.0</td>\n",
       "      <td>68007000.0</td>\n",
       "      <td>3.077483</td>\n",
       "      <td>2.092768e+08</td>\n",
       "    </tr>\n",
       "    <tr>\n",
       "      <th>3</th>\n",
       "      <td>2021-10-10 16:20:00</td>\n",
       "      <td>68007000.0</td>\n",
       "      <td>68007000.0</td>\n",
       "      <td>68000000.0</td>\n",
       "      <td>68003000.0</td>\n",
       "      <td>4.067062</td>\n",
       "      <td>2.765715e+08</td>\n",
       "    </tr>\n",
       "    <tr>\n",
       "      <th>4</th>\n",
       "      <td>2021-10-10 16:21:00</td>\n",
       "      <td>68003000.0</td>\n",
       "      <td>68004000.0</td>\n",
       "      <td>67888000.0</td>\n",
       "      <td>67888000.0</td>\n",
       "      <td>8.721608</td>\n",
       "      <td>5.929939e+08</td>\n",
       "    </tr>\n",
       "    <tr>\n",
       "      <th>...</th>\n",
       "      <td>...</td>\n",
       "      <td>...</td>\n",
       "      <td>...</td>\n",
       "      <td>...</td>\n",
       "      <td>...</td>\n",
       "      <td>...</td>\n",
       "      <td>...</td>\n",
       "    </tr>\n",
       "    <tr>\n",
       "      <th>1576795</th>\n",
       "      <td>2024-10-12 16:24:00</td>\n",
       "      <td>84592000.0</td>\n",
       "      <td>84593000.0</td>\n",
       "      <td>84592000.0</td>\n",
       "      <td>84593000.0</td>\n",
       "      <td>0.659041</td>\n",
       "      <td>5.575006e+07</td>\n",
       "    </tr>\n",
       "    <tr>\n",
       "      <th>1576796</th>\n",
       "      <td>2024-10-12 16:25:00</td>\n",
       "      <td>84593000.0</td>\n",
       "      <td>84593000.0</td>\n",
       "      <td>84587000.0</td>\n",
       "      <td>84593000.0</td>\n",
       "      <td>0.912152</td>\n",
       "      <td>7.716141e+07</td>\n",
       "    </tr>\n",
       "    <tr>\n",
       "      <th>1576797</th>\n",
       "      <td>2024-10-12 16:26:00</td>\n",
       "      <td>84593000.0</td>\n",
       "      <td>84599000.0</td>\n",
       "      <td>84589000.0</td>\n",
       "      <td>84599000.0</td>\n",
       "      <td>1.912721</td>\n",
       "      <td>1.618046e+08</td>\n",
       "    </tr>\n",
       "    <tr>\n",
       "      <th>1576798</th>\n",
       "      <td>2024-10-12 16:27:00</td>\n",
       "      <td>84599000.0</td>\n",
       "      <td>84620000.0</td>\n",
       "      <td>84595000.0</td>\n",
       "      <td>84620000.0</td>\n",
       "      <td>0.547881</td>\n",
       "      <td>4.635441e+07</td>\n",
       "    </tr>\n",
       "    <tr>\n",
       "      <th>1576799</th>\n",
       "      <td>2024-10-12 16:28:00</td>\n",
       "      <td>84623000.0</td>\n",
       "      <td>84623000.0</td>\n",
       "      <td>84619000.0</td>\n",
       "      <td>84623000.0</td>\n",
       "      <td>0.056857</td>\n",
       "      <td>4.811346e+06</td>\n",
       "    </tr>\n",
       "  </tbody>\n",
       "</table>\n",
       "<p>1576800 rows × 7 columns</p>\n",
       "</div>"
      ],
      "text/plain": [
       "                   timestamp        open        high         low       close  \\\n",
       "0        2021-10-10 16:17:00  67982000.0  67995000.0  67907000.0  67983000.0   \n",
       "1        2021-10-10 16:18:00  67983000.0  68000000.0  67953000.0  68000000.0   \n",
       "2        2021-10-10 16:19:00  68000000.0  68010000.0  68000000.0  68007000.0   \n",
       "3        2021-10-10 16:20:00  68007000.0  68007000.0  68000000.0  68003000.0   \n",
       "4        2021-10-10 16:21:00  68003000.0  68004000.0  67888000.0  67888000.0   \n",
       "...                      ...         ...         ...         ...         ...   \n",
       "1576795  2024-10-12 16:24:00  84592000.0  84593000.0  84592000.0  84593000.0   \n",
       "1576796  2024-10-12 16:25:00  84593000.0  84593000.0  84587000.0  84593000.0   \n",
       "1576797  2024-10-12 16:26:00  84593000.0  84599000.0  84589000.0  84599000.0   \n",
       "1576798  2024-10-12 16:27:00  84599000.0  84620000.0  84595000.0  84620000.0   \n",
       "1576799  2024-10-12 16:28:00  84623000.0  84623000.0  84619000.0  84623000.0   \n",
       "\n",
       "           volume         value  \n",
       "0        4.421744  3.005567e+08  \n",
       "1        3.850292  2.618115e+08  \n",
       "2        3.077483  2.092768e+08  \n",
       "3        4.067062  2.765715e+08  \n",
       "4        8.721608  5.929939e+08  \n",
       "...           ...           ...  \n",
       "1576795  0.659041  5.575006e+07  \n",
       "1576796  0.912152  7.716141e+07  \n",
       "1576797  1.912721  1.618046e+08  \n",
       "1576798  0.547881  4.635441e+07  \n",
       "1576799  0.056857  4.811346e+06  \n",
       "\n",
       "[1576800 rows x 7 columns]"
      ]
     },
     "execution_count": 4,
     "metadata": {},
     "output_type": "execute_result"
    }
   ],
   "source": [
    "df"
   ]
  },
  {
   "cell_type": "code",
   "execution_count": 5,
   "metadata": {},
   "outputs": [],
   "source": [
    "df['timestamp'] = pd.to_datetime(df['timestamp'])\n",
    "df.set_index('timestamp', inplace=True)"
   ]
  },
  {
   "cell_type": "code",
   "execution_count": 6,
   "metadata": {},
   "outputs": [
    {
     "data": {
      "text/html": [
       "<div>\n",
       "<style scoped>\n",
       "    .dataframe tbody tr th:only-of-type {\n",
       "        vertical-align: middle;\n",
       "    }\n",
       "\n",
       "    .dataframe tbody tr th {\n",
       "        vertical-align: top;\n",
       "    }\n",
       "\n",
       "    .dataframe thead th {\n",
       "        text-align: right;\n",
       "    }\n",
       "</style>\n",
       "<table border=\"1\" class=\"dataframe\">\n",
       "  <thead>\n",
       "    <tr style=\"text-align: right;\">\n",
       "      <th></th>\n",
       "      <th>open</th>\n",
       "      <th>high</th>\n",
       "      <th>low</th>\n",
       "      <th>close</th>\n",
       "      <th>volume</th>\n",
       "      <th>value</th>\n",
       "    </tr>\n",
       "    <tr>\n",
       "      <th>timestamp</th>\n",
       "      <th></th>\n",
       "      <th></th>\n",
       "      <th></th>\n",
       "      <th></th>\n",
       "      <th></th>\n",
       "      <th></th>\n",
       "    </tr>\n",
       "  </thead>\n",
       "  <tbody>\n",
       "    <tr>\n",
       "      <th>2021-10-10 16:17:00</th>\n",
       "      <td>67982000.0</td>\n",
       "      <td>67995000.0</td>\n",
       "      <td>67907000.0</td>\n",
       "      <td>67983000.0</td>\n",
       "      <td>4.421744</td>\n",
       "      <td>3.005567e+08</td>\n",
       "    </tr>\n",
       "    <tr>\n",
       "      <th>2021-10-10 16:18:00</th>\n",
       "      <td>67983000.0</td>\n",
       "      <td>68000000.0</td>\n",
       "      <td>67953000.0</td>\n",
       "      <td>68000000.0</td>\n",
       "      <td>3.850292</td>\n",
       "      <td>2.618115e+08</td>\n",
       "    </tr>\n",
       "    <tr>\n",
       "      <th>2021-10-10 16:19:00</th>\n",
       "      <td>68000000.0</td>\n",
       "      <td>68010000.0</td>\n",
       "      <td>68000000.0</td>\n",
       "      <td>68007000.0</td>\n",
       "      <td>3.077483</td>\n",
       "      <td>2.092768e+08</td>\n",
       "    </tr>\n",
       "    <tr>\n",
       "      <th>2021-10-10 16:20:00</th>\n",
       "      <td>68007000.0</td>\n",
       "      <td>68007000.0</td>\n",
       "      <td>68000000.0</td>\n",
       "      <td>68003000.0</td>\n",
       "      <td>4.067062</td>\n",
       "      <td>2.765715e+08</td>\n",
       "    </tr>\n",
       "    <tr>\n",
       "      <th>2021-10-10 16:21:00</th>\n",
       "      <td>68003000.0</td>\n",
       "      <td>68004000.0</td>\n",
       "      <td>67888000.0</td>\n",
       "      <td>67888000.0</td>\n",
       "      <td>8.721608</td>\n",
       "      <td>5.929939e+08</td>\n",
       "    </tr>\n",
       "    <tr>\n",
       "      <th>...</th>\n",
       "      <td>...</td>\n",
       "      <td>...</td>\n",
       "      <td>...</td>\n",
       "      <td>...</td>\n",
       "      <td>...</td>\n",
       "      <td>...</td>\n",
       "    </tr>\n",
       "    <tr>\n",
       "      <th>2024-10-12 16:24:00</th>\n",
       "      <td>84592000.0</td>\n",
       "      <td>84593000.0</td>\n",
       "      <td>84592000.0</td>\n",
       "      <td>84593000.0</td>\n",
       "      <td>0.659041</td>\n",
       "      <td>5.575006e+07</td>\n",
       "    </tr>\n",
       "    <tr>\n",
       "      <th>2024-10-12 16:25:00</th>\n",
       "      <td>84593000.0</td>\n",
       "      <td>84593000.0</td>\n",
       "      <td>84587000.0</td>\n",
       "      <td>84593000.0</td>\n",
       "      <td>0.912152</td>\n",
       "      <td>7.716141e+07</td>\n",
       "    </tr>\n",
       "    <tr>\n",
       "      <th>2024-10-12 16:26:00</th>\n",
       "      <td>84593000.0</td>\n",
       "      <td>84599000.0</td>\n",
       "      <td>84589000.0</td>\n",
       "      <td>84599000.0</td>\n",
       "      <td>1.912721</td>\n",
       "      <td>1.618046e+08</td>\n",
       "    </tr>\n",
       "    <tr>\n",
       "      <th>2024-10-12 16:27:00</th>\n",
       "      <td>84599000.0</td>\n",
       "      <td>84620000.0</td>\n",
       "      <td>84595000.0</td>\n",
       "      <td>84620000.0</td>\n",
       "      <td>0.547881</td>\n",
       "      <td>4.635441e+07</td>\n",
       "    </tr>\n",
       "    <tr>\n",
       "      <th>2024-10-12 16:28:00</th>\n",
       "      <td>84623000.0</td>\n",
       "      <td>84623000.0</td>\n",
       "      <td>84619000.0</td>\n",
       "      <td>84623000.0</td>\n",
       "      <td>0.056857</td>\n",
       "      <td>4.811346e+06</td>\n",
       "    </tr>\n",
       "  </tbody>\n",
       "</table>\n",
       "<p>1576800 rows × 6 columns</p>\n",
       "</div>"
      ],
      "text/plain": [
       "                           open        high         low       close    volume  \\\n",
       "timestamp                                                                       \n",
       "2021-10-10 16:17:00  67982000.0  67995000.0  67907000.0  67983000.0  4.421744   \n",
       "2021-10-10 16:18:00  67983000.0  68000000.0  67953000.0  68000000.0  3.850292   \n",
       "2021-10-10 16:19:00  68000000.0  68010000.0  68000000.0  68007000.0  3.077483   \n",
       "2021-10-10 16:20:00  68007000.0  68007000.0  68000000.0  68003000.0  4.067062   \n",
       "2021-10-10 16:21:00  68003000.0  68004000.0  67888000.0  67888000.0  8.721608   \n",
       "...                         ...         ...         ...         ...       ...   \n",
       "2024-10-12 16:24:00  84592000.0  84593000.0  84592000.0  84593000.0  0.659041   \n",
       "2024-10-12 16:25:00  84593000.0  84593000.0  84587000.0  84593000.0  0.912152   \n",
       "2024-10-12 16:26:00  84593000.0  84599000.0  84589000.0  84599000.0  1.912721   \n",
       "2024-10-12 16:27:00  84599000.0  84620000.0  84595000.0  84620000.0  0.547881   \n",
       "2024-10-12 16:28:00  84623000.0  84623000.0  84619000.0  84623000.0  0.056857   \n",
       "\n",
       "                            value  \n",
       "timestamp                          \n",
       "2021-10-10 16:17:00  3.005567e+08  \n",
       "2021-10-10 16:18:00  2.618115e+08  \n",
       "2021-10-10 16:19:00  2.092768e+08  \n",
       "2021-10-10 16:20:00  2.765715e+08  \n",
       "2021-10-10 16:21:00  5.929939e+08  \n",
       "...                           ...  \n",
       "2024-10-12 16:24:00  5.575006e+07  \n",
       "2024-10-12 16:25:00  7.716141e+07  \n",
       "2024-10-12 16:26:00  1.618046e+08  \n",
       "2024-10-12 16:27:00  4.635441e+07  \n",
       "2024-10-12 16:28:00  4.811346e+06  \n",
       "\n",
       "[1576800 rows x 6 columns]"
      ]
     },
     "execution_count": 6,
     "metadata": {},
     "output_type": "execute_result"
    }
   ],
   "source": [
    "df"
   ]
  },
  {
   "cell_type": "code",
   "execution_count": 7,
   "metadata": {},
   "outputs": [
    {
     "data": {
      "text/plain": [
       "['models/bitcoin_scaler.pkl']"
      ]
     },
     "execution_count": 7,
     "metadata": {},
     "output_type": "execute_result"
    }
   ],
   "source": [
    "scaler = MinMaxScaler(feature_range=(0, 1))\n",
    "scaled_data = scaler.fit_transform(df['close'].values.reshape(-1, 1))\n",
    "joblib.dump(scaler, 'models/KRW-BTC_scaler.pkl')"
   ]
  },
  {
   "cell_type": "code",
   "execution_count": 8,
   "metadata": {},
   "outputs": [],
   "source": [
    "timestep = 1"
   ]
  },
  {
   "cell_type": "code",
   "execution_count": 9,
   "metadata": {},
   "outputs": [],
   "source": [
    "X = []\n",
    "y = []\n",
    "for i in range(len(scaled_data) - timestep - 1):\n",
    "    X.append(scaled_data[i:(i + timestep), 0])\n",
    "    y.append(scaled_data[i + timestep, 0])"
   ]
  },
  {
   "cell_type": "code",
   "execution_count": 10,
   "metadata": {},
   "outputs": [],
   "source": [
    "X, y = np.array(X), np.array(y)"
   ]
  },
  {
   "cell_type": "code",
   "execution_count": 11,
   "metadata": {},
   "outputs": [],
   "source": [
    "train_size = int(len(X) * .8)\n",
    "X_train, X_test = X[:train_size], X[train_size:]\n",
    "y_train, y_test = y[:train_size], y[train_size:]"
   ]
  },
  {
   "cell_type": "code",
   "execution_count": 12,
   "metadata": {},
   "outputs": [],
   "source": [
    "train_dates = df.index[:train_size]\n",
    "test_dates = df.index[train_size:]"
   ]
  },
  {
   "cell_type": "code",
   "execution_count": 13,
   "metadata": {},
   "outputs": [],
   "source": [
    "X_train = X_train.reshape(X_train.shape[0], X_train.shape[1], 1)\n",
    "X_test = X_test.reshape(X_test.shape[0], X_test.shape[1], 1)"
   ]
  },
  {
   "cell_type": "code",
   "execution_count": 14,
   "metadata": {},
   "outputs": [],
   "source": [
    "model = Sequential()\n",
    "model.add(LSTM(50, return_sequences=True, input_shape=(timestep, 1)))\n",
    "model.add(LSTM(50, return_sequences=False))\n",
    "model.add(Dense(25))\n",
    "model.add(Dense(1))"
   ]
  },
  {
   "cell_type": "code",
   "execution_count": 15,
   "metadata": {},
   "outputs": [],
   "source": [
    "model.compile(optimizer='adam', loss='mean_squared_error')"
   ]
  },
  {
   "cell_type": "code",
   "execution_count": 16,
   "metadata": {},
   "outputs": [],
   "source": [
    "early_stop = EarlyStopping(monitor='val_loss', patience=10)"
   ]
  },
  {
   "cell_type": "code",
   "execution_count": 17,
   "metadata": {},
   "outputs": [
    {
     "name": "stdout",
     "output_type": "stream",
     "text": [
      "Epoch 1/20\n",
      "39420/39420 [==============================] - 331s 8ms/step - loss: 5.8463e-05 - val_loss: 2.3595e-06\n",
      "Epoch 2/20\n",
      "39420/39420 [==============================] - 397s 10ms/step - loss: 9.2433e-07 - val_loss: 5.7405e-06\n",
      "Epoch 3/20\n",
      "39420/39420 [==============================] - 425s 11ms/step - loss: 7.5381e-07 - val_loss: 2.2386e-06\n",
      "Epoch 4/20\n",
      "39420/39420 [==============================] - 426s 11ms/step - loss: 6.5751e-07 - val_loss: 5.9060e-07\n",
      "Epoch 5/20\n",
      "39420/39420 [==============================] - 429s 11ms/step - loss: 6.1214e-07 - val_loss: 1.8547e-06\n",
      "Epoch 6/20\n",
      "39420/39420 [==============================] - 428s 11ms/step - loss: 5.4875e-07 - val_loss: 1.9436e-06\n",
      "Epoch 7/20\n",
      "39420/39420 [==============================] - 443s 11ms/step - loss: 5.0752e-07 - val_loss: 1.2878e-06\n",
      "Epoch 8/20\n",
      "39420/39420 [==============================] - 426s 11ms/step - loss: 4.9579e-07 - val_loss: 1.1163e-06\n",
      "Epoch 9/20\n",
      "39420/39420 [==============================] - 398s 10ms/step - loss: 4.7879e-07 - val_loss: 2.5454e-06\n",
      "Epoch 10/20\n",
      "39420/39420 [==============================] - 412s 10ms/step - loss: 4.6726e-07 - val_loss: 2.3943e-06\n",
      "Epoch 11/20\n",
      "39420/39420 [==============================] - 404s 10ms/step - loss: 4.5807e-07 - val_loss: 2.6160e-06\n",
      "Epoch 12/20\n",
      "39420/39420 [==============================] - 407s 10ms/step - loss: 4.3883e-07 - val_loss: 1.7357e-06\n",
      "Epoch 13/20\n",
      "39420/39420 [==============================] - 399s 10ms/step - loss: 4.3729e-07 - val_loss: 7.3281e-07\n",
      "Epoch 14/20\n",
      "39420/39420 [==============================] - 388s 10ms/step - loss: 4.2043e-07 - val_loss: 2.1119e-06\n"
     ]
    },
    {
     "data": {
      "text/plain": [
       "<keras.callbacks.History at 0x27ae716f8e0>"
      ]
     },
     "execution_count": 17,
     "metadata": {},
     "output_type": "execute_result"
    }
   ],
   "source": [
    "model.fit(X_train, y_train, batch_size=32, epochs=20,\n",
    "          validation_data=(X_test, y_test), callbacks=[early_stop])"
   ]
  },
  {
   "cell_type": "code",
   "execution_count": 18,
   "metadata": {},
   "outputs": [],
   "source": [
    "model.save('models/lstm_KRW-BTC.h5')"
   ]
  },
  {
   "cell_type": "code",
   "execution_count": 19,
   "metadata": {},
   "outputs": [
    {
     "name": "stdout",
     "output_type": "stream",
     "text": [
      "39420/39420 [==============================] - 137s 3ms/step\n",
      "9855/9855 [==============================] - 33s 3ms/step\n"
     ]
    }
   ],
   "source": [
    "train_predict = model.predict(X_train)\n",
    "test_predict = model.predict(X_test)"
   ]
  },
  {
   "cell_type": "code",
   "execution_count": 20,
   "metadata": {},
   "outputs": [],
   "source": [
    "train_predict = scaler.inverse_transform(train_predict)\n",
    "test_predict = scaler.inverse_transform(test_predict)\n",
    "y_train = scaler.inverse_transform([y_train])\n",
    "y_test = scaler.inverse_transform([y_test])"
   ]
  },
  {
   "cell_type": "code",
   "execution_count": 21,
   "metadata": {},
   "outputs": [
    {
     "name": "stdout",
     "output_type": "stream",
     "text": [
      "Train RMSE: 49055.19\n",
      "Test RMSE: 122450.03\n"
     ]
    }
   ],
   "source": [
    "train_score = np.sqrt(mean_squared_error(y_train[0], train_predict[:, 0]))\n",
    "test_score = np.sqrt(mean_squared_error(y_test[0], test_predict[:, 0]))\n",
    "print(f'Train RMSE: {train_score:.2f}')\n",
    "print(f'Test RMSE: {test_score:.2f}')"
   ]
  },
  {
   "cell_type": "code",
   "execution_count": 22,
   "metadata": {},
   "outputs": [
    {
     "data": {
      "image/png": "[encoded data removed]",
      "text/plain": [
       "<Figure size 1440x720 with 1 Axes>"
      ]
     },
     "metadata": {
      "needs_background": "light"
     },
     "output_type": "display_data"
    }
   ],
   "source": [
    "plt.figure(figsize=(20, 10))\n",
    "plt.subplot(1, 1, 1)\n",
    "plt.plot(train_dates, y_train[0], label='Actual', color = 'Blue')\n",
    "plt.plot(train_dates, train_predict, label='Predicted', color = 'Red')\n",
    "plt.title('Train Data')\n",
    "plt.xlabel('Date')\n",
    "plt.ylabel('Price')\n",
    "plt.legend()\n",
    "plt.xticks(rotation=45)\n",
    "plt.gca().xaxis.set_major_formatter(DateFormatter('%Y'))"
   ]
  },
  {
   "cell_type": "code",
   "execution_count": null,
   "metadata": {},
   "outputs": [],
   "source": [
    "plt.subplot(1, 1, 1)\n",
    "plt.plot(test_dates[:-2], y_test[0], label='Actual', color = 'Blue')\n",
    "plt.plot(test_dates[:-2], test_predict, label='Predicted', color = 'Red')\n",
    "plt.title('Test Data')\n",
    "plt.xlabel('Date')\n",
    "plt.ylabel('Price')\n",
    "plt.legend()\n",
    "plt.xticks(rotation=45)\n",
    "plt.gca().xaxis.set_major_formatter(DateFormatter('%Y-%m'))\n",
    "\n",
    "plt.tight_layout()\n",
    "plt.show()"
   ]
  },
  {
   "cell_type": "code",
   "execution_count": 24,
   "metadata": {},
   "outputs": [
    {
     "name": "stdout",
     "output_type": "stream",
     "text": [
      "[[0.78192931]]\n"
     ]
    }
   ],
   "source": [
    "last_1_day = scaled_data[-timestep:]\n",
    "X_predict = last_1_day.reshape(1, timestep, 1)\n",
    "print(last_1_day)"
   ]
  },
  {
   "cell_type": "code",
   "execution_count": 25,
   "metadata": {},
   "outputs": [
    {
     "name": "stdout",
     "output_type": "stream",
     "text": [
      "1/1 [==============================] - 0s 12ms/step\n",
      "[[82900992.]]\n"
     ]
    }
   ],
   "source": [
    "pred = model.predict(X_predict)\n",
    "pred = scaler.inverse_transform(pred)\n",
    "print(pred)"
   ]
  },
  {
   "cell_type": "code",
   "execution_count": null,
   "metadata": {},
   "outputs": [],
   "source": []
  }
 ],
 "metadata": {
  "kernelspec": {
   "display_name": "Python 3",
   "language": "python",
   "name": "python3"
  },
  "language_info": {
   "codemirror_mode": {
    "name": "ipython",
    "version": 3
   },
   "file_extension": ".py",
   "mimetype": "text/x-python",
   "name": "python",
   "nbconvert_exporter": "python",
   "pygments_lexer": "ipython3",
   "version": "3.10.2"
  }
 },
 "nbformat": 4,
 "nbformat_minor": 2
}
