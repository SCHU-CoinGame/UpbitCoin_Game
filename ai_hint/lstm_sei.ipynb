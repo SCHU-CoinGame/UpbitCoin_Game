{
 "cells": [
  {
   "cell_type": "code",
   "execution_count": 1,
   "metadata": {},
   "outputs": [],
   "source": [
    "from tensorflow.keras.layers import LSTM, Dense\n",
    "from tensorflow.keras.models import Sequential\n",
    "from tensorflow.keras.callbacks import EarlyStopping\n",
    "\n",
    "import pandas as pd\n",
    "import numpy as np\n",
    "import matplotlib.pyplot as plt\n",
    "from matplotlib.dates import DateFormatter\n",
    "import joblib\n",
    "\n",
    "from sklearn.preprocessing import MinMaxScaler\n",
    "from sklearn.metrics import mean_squared_error"
   ]
  },
  {
   "cell_type": "code",
   "execution_count": 2,
   "metadata": {},
   "outputs": [],
   "source": [
    "seed = 42"
   ]
  },
  {
   "cell_type": "code",
   "execution_count": 3,
   "metadata": {},
   "outputs": [],
   "source": [
    "coin = 'KRW-SEI'"
   ]
  },
  {
   "cell_type": "code",
   "execution_count": 4,
   "metadata": {},
   "outputs": [],
   "source": [
    "df = pd.read_csv(f'../data/from_pyupbit/{coin}.csv')"
   ]
  },
  {
   "cell_type": "code",
   "execution_count": 5,
   "metadata": {},
   "outputs": [
    {
     "data": {
      "text/html": [
       "<div>\n",
       "<style scoped>\n",
       "    .dataframe tbody tr th:only-of-type {\n",
       "        vertical-align: middle;\n",
       "    }\n",
       "\n",
       "    .dataframe tbody tr th {\n",
       "        vertical-align: top;\n",
       "    }\n",
       "\n",
       "    .dataframe thead th {\n",
       "        text-align: right;\n",
       "    }\n",
       "</style>\n",
       "<table border=\"1\" class=\"dataframe\">\n",
       "  <thead>\n",
       "    <tr style=\"text-align: right;\">\n",
       "      <th></th>\n",
       "      <th>timestamp</th>\n",
       "      <th>open</th>\n",
       "      <th>high</th>\n",
       "      <th>low</th>\n",
       "      <th>close</th>\n",
       "      <th>volume</th>\n",
       "      <th>value</th>\n",
       "    </tr>\n",
       "  </thead>\n",
       "  <tbody>\n",
       "    <tr>\n",
       "      <th>0</th>\n",
       "      <td>2023-08-16 10:05:00</td>\n",
       "      <td>254.0</td>\n",
       "      <td>285.0</td>\n",
       "      <td>254.0</td>\n",
       "      <td>285.0</td>\n",
       "      <td>3.759116e+07</td>\n",
       "      <td>9.940495e+09</td>\n",
       "    </tr>\n",
       "    <tr>\n",
       "      <th>1</th>\n",
       "      <td>2023-08-16 10:06:00</td>\n",
       "      <td>284.0</td>\n",
       "      <td>318.0</td>\n",
       "      <td>282.0</td>\n",
       "      <td>294.0</td>\n",
       "      <td>2.711361e+07</td>\n",
       "      <td>8.230124e+09</td>\n",
       "    </tr>\n",
       "    <tr>\n",
       "      <th>2</th>\n",
       "      <td>2023-08-16 10:07:00</td>\n",
       "      <td>294.0</td>\n",
       "      <td>316.0</td>\n",
       "      <td>293.0</td>\n",
       "      <td>315.0</td>\n",
       "      <td>1.464424e+07</td>\n",
       "      <td>4.452651e+09</td>\n",
       "    </tr>\n",
       "    <tr>\n",
       "      <th>3</th>\n",
       "      <td>2023-08-16 10:08:00</td>\n",
       "      <td>316.0</td>\n",
       "      <td>324.0</td>\n",
       "      <td>314.0</td>\n",
       "      <td>324.0</td>\n",
       "      <td>1.805538e+07</td>\n",
       "      <td>5.779843e+09</td>\n",
       "    </tr>\n",
       "    <tr>\n",
       "      <th>4</th>\n",
       "      <td>2023-08-16 10:09:00</td>\n",
       "      <td>322.0</td>\n",
       "      <td>338.0</td>\n",
       "      <td>322.0</td>\n",
       "      <td>327.0</td>\n",
       "      <td>1.564268e+07</td>\n",
       "      <td>5.164133e+09</td>\n",
       "    </tr>\n",
       "    <tr>\n",
       "      <th>...</th>\n",
       "      <td>...</td>\n",
       "      <td>...</td>\n",
       "      <td>...</td>\n",
       "      <td>...</td>\n",
       "      <td>...</td>\n",
       "      <td>...</td>\n",
       "      <td>...</td>\n",
       "    </tr>\n",
       "    <tr>\n",
       "      <th>581650</th>\n",
       "      <td>2024-10-12 22:30:00</td>\n",
       "      <td>643.3</td>\n",
       "      <td>645.0</td>\n",
       "      <td>643.0</td>\n",
       "      <td>644.4</td>\n",
       "      <td>2.887644e+05</td>\n",
       "      <td>1.860721e+08</td>\n",
       "    </tr>\n",
       "    <tr>\n",
       "      <th>581651</th>\n",
       "      <td>2024-10-12 22:31:00</td>\n",
       "      <td>644.1</td>\n",
       "      <td>646.0</td>\n",
       "      <td>641.7</td>\n",
       "      <td>644.8</td>\n",
       "      <td>1.747488e+05</td>\n",
       "      <td>1.125094e+08</td>\n",
       "    </tr>\n",
       "    <tr>\n",
       "      <th>581652</th>\n",
       "      <td>2024-10-12 22:32:00</td>\n",
       "      <td>644.9</td>\n",
       "      <td>646.0</td>\n",
       "      <td>644.0</td>\n",
       "      <td>644.0</td>\n",
       "      <td>1.870079e+05</td>\n",
       "      <td>1.206430e+08</td>\n",
       "    </tr>\n",
       "    <tr>\n",
       "      <th>581653</th>\n",
       "      <td>2024-10-12 22:33:00</td>\n",
       "      <td>644.3</td>\n",
       "      <td>646.2</td>\n",
       "      <td>644.1</td>\n",
       "      <td>645.7</td>\n",
       "      <td>3.088597e+05</td>\n",
       "      <td>1.993958e+08</td>\n",
       "    </tr>\n",
       "    <tr>\n",
       "      <th>581654</th>\n",
       "      <td>2024-10-12 22:34:00</td>\n",
       "      <td>645.8</td>\n",
       "      <td>646.6</td>\n",
       "      <td>645.0</td>\n",
       "      <td>646.4</td>\n",
       "      <td>2.969477e+05</td>\n",
       "      <td>1.917854e+08</td>\n",
       "    </tr>\n",
       "  </tbody>\n",
       "</table>\n",
       "<p>581655 rows × 7 columns</p>\n",
       "</div>"
      ],
      "text/plain": [
       "                  timestamp   open   high    low  close        volume  \\\n",
       "0       2023-08-16 10:05:00  254.0  285.0  254.0  285.0  3.759116e+07   \n",
       "1       2023-08-16 10:06:00  284.0  318.0  282.0  294.0  2.711361e+07   \n",
       "2       2023-08-16 10:07:00  294.0  316.0  293.0  315.0  1.464424e+07   \n",
       "3       2023-08-16 10:08:00  316.0  324.0  314.0  324.0  1.805538e+07   \n",
       "4       2023-08-16 10:09:00  322.0  338.0  322.0  327.0  1.564268e+07   \n",
       "...                     ...    ...    ...    ...    ...           ...   \n",
       "581650  2024-10-12 22:30:00  643.3  645.0  643.0  644.4  2.887644e+05   \n",
       "581651  2024-10-12 22:31:00  644.1  646.0  641.7  644.8  1.747488e+05   \n",
       "581652  2024-10-12 22:32:00  644.9  646.0  644.0  644.0  1.870079e+05   \n",
       "581653  2024-10-12 22:33:00  644.3  646.2  644.1  645.7  3.088597e+05   \n",
       "581654  2024-10-12 22:34:00  645.8  646.6  645.0  646.4  2.969477e+05   \n",
       "\n",
       "               value  \n",
       "0       9.940495e+09  \n",
       "1       8.230124e+09  \n",
       "2       4.452651e+09  \n",
       "3       5.779843e+09  \n",
       "4       5.164133e+09  \n",
       "...              ...  \n",
       "581650  1.860721e+08  \n",
       "581651  1.125094e+08  \n",
       "581652  1.206430e+08  \n",
       "581653  1.993958e+08  \n",
       "581654  1.917854e+08  \n",
       "\n",
       "[581655 rows x 7 columns]"
      ]
     },
     "execution_count": 5,
     "metadata": {},
     "output_type": "execute_result"
    }
   ],
   "source": [
    "df"
   ]
  },
  {
   "cell_type": "code",
   "execution_count": 6,
   "metadata": {},
   "outputs": [],
   "source": [
    "df['timestamp'] = pd.to_datetime(df['timestamp'])\n",
    "df.set_index('timestamp', inplace=True)"
   ]
  },
  {
   "cell_type": "code",
   "execution_count": 7,
   "metadata": {},
   "outputs": [
    {
     "data": {
      "text/html": [
       "<div>\n",
       "<style scoped>\n",
       "    .dataframe tbody tr th:only-of-type {\n",
       "        vertical-align: middle;\n",
       "    }\n",
       "\n",
       "    .dataframe tbody tr th {\n",
       "        vertical-align: top;\n",
       "    }\n",
       "\n",
       "    .dataframe thead th {\n",
       "        text-align: right;\n",
       "    }\n",
       "</style>\n",
       "<table border=\"1\" class=\"dataframe\">\n",
       "  <thead>\n",
       "    <tr style=\"text-align: right;\">\n",
       "      <th></th>\n",
       "      <th>open</th>\n",
       "      <th>high</th>\n",
       "      <th>low</th>\n",
       "      <th>close</th>\n",
       "      <th>volume</th>\n",
       "      <th>value</th>\n",
       "    </tr>\n",
       "    <tr>\n",
       "      <th>timestamp</th>\n",
       "      <th></th>\n",
       "      <th></th>\n",
       "      <th></th>\n",
       "      <th></th>\n",
       "      <th></th>\n",
       "      <th></th>\n",
       "    </tr>\n",
       "  </thead>\n",
       "  <tbody>\n",
       "    <tr>\n",
       "      <th>2023-08-16 10:05:00</th>\n",
       "      <td>254.0</td>\n",
       "      <td>285.0</td>\n",
       "      <td>254.0</td>\n",
       "      <td>285.0</td>\n",
       "      <td>3.759116e+07</td>\n",
       "      <td>9.940495e+09</td>\n",
       "    </tr>\n",
       "    <tr>\n",
       "      <th>2023-08-16 10:06:00</th>\n",
       "      <td>284.0</td>\n",
       "      <td>318.0</td>\n",
       "      <td>282.0</td>\n",
       "      <td>294.0</td>\n",
       "      <td>2.711361e+07</td>\n",
       "      <td>8.230124e+09</td>\n",
       "    </tr>\n",
       "    <tr>\n",
       "      <th>2023-08-16 10:07:00</th>\n",
       "      <td>294.0</td>\n",
       "      <td>316.0</td>\n",
       "      <td>293.0</td>\n",
       "      <td>315.0</td>\n",
       "      <td>1.464424e+07</td>\n",
       "      <td>4.452651e+09</td>\n",
       "    </tr>\n",
       "    <tr>\n",
       "      <th>2023-08-16 10:08:00</th>\n",
       "      <td>316.0</td>\n",
       "      <td>324.0</td>\n",
       "      <td>314.0</td>\n",
       "      <td>324.0</td>\n",
       "      <td>1.805538e+07</td>\n",
       "      <td>5.779843e+09</td>\n",
       "    </tr>\n",
       "    <tr>\n",
       "      <th>2023-08-16 10:09:00</th>\n",
       "      <td>322.0</td>\n",
       "      <td>338.0</td>\n",
       "      <td>322.0</td>\n",
       "      <td>327.0</td>\n",
       "      <td>1.564268e+07</td>\n",
       "      <td>5.164133e+09</td>\n",
       "    </tr>\n",
       "    <tr>\n",
       "      <th>...</th>\n",
       "      <td>...</td>\n",
       "      <td>...</td>\n",
       "      <td>...</td>\n",
       "      <td>...</td>\n",
       "      <td>...</td>\n",
       "      <td>...</td>\n",
       "    </tr>\n",
       "    <tr>\n",
       "      <th>2024-10-12 22:30:00</th>\n",
       "      <td>643.3</td>\n",
       "      <td>645.0</td>\n",
       "      <td>643.0</td>\n",
       "      <td>644.4</td>\n",
       "      <td>2.887644e+05</td>\n",
       "      <td>1.860721e+08</td>\n",
       "    </tr>\n",
       "    <tr>\n",
       "      <th>2024-10-12 22:31:00</th>\n",
       "      <td>644.1</td>\n",
       "      <td>646.0</td>\n",
       "      <td>641.7</td>\n",
       "      <td>644.8</td>\n",
       "      <td>1.747488e+05</td>\n",
       "      <td>1.125094e+08</td>\n",
       "    </tr>\n",
       "    <tr>\n",
       "      <th>2024-10-12 22:32:00</th>\n",
       "      <td>644.9</td>\n",
       "      <td>646.0</td>\n",
       "      <td>644.0</td>\n",
       "      <td>644.0</td>\n",
       "      <td>1.870079e+05</td>\n",
       "      <td>1.206430e+08</td>\n",
       "    </tr>\n",
       "    <tr>\n",
       "      <th>2024-10-12 22:33:00</th>\n",
       "      <td>644.3</td>\n",
       "      <td>646.2</td>\n",
       "      <td>644.1</td>\n",
       "      <td>645.7</td>\n",
       "      <td>3.088597e+05</td>\n",
       "      <td>1.993958e+08</td>\n",
       "    </tr>\n",
       "    <tr>\n",
       "      <th>2024-10-12 22:34:00</th>\n",
       "      <td>645.8</td>\n",
       "      <td>646.6</td>\n",
       "      <td>645.0</td>\n",
       "      <td>646.4</td>\n",
       "      <td>2.969477e+05</td>\n",
       "      <td>1.917854e+08</td>\n",
       "    </tr>\n",
       "  </tbody>\n",
       "</table>\n",
       "<p>581655 rows × 6 columns</p>\n",
       "</div>"
      ],
      "text/plain": [
       "                      open   high    low  close        volume         value\n",
       "timestamp                                                                  \n",
       "2023-08-16 10:05:00  254.0  285.0  254.0  285.0  3.759116e+07  9.940495e+09\n",
       "2023-08-16 10:06:00  284.0  318.0  282.0  294.0  2.711361e+07  8.230124e+09\n",
       "2023-08-16 10:07:00  294.0  316.0  293.0  315.0  1.464424e+07  4.452651e+09\n",
       "2023-08-16 10:08:00  316.0  324.0  314.0  324.0  1.805538e+07  5.779843e+09\n",
       "2023-08-16 10:09:00  322.0  338.0  322.0  327.0  1.564268e+07  5.164133e+09\n",
       "...                    ...    ...    ...    ...           ...           ...\n",
       "2024-10-12 22:30:00  643.3  645.0  643.0  644.4  2.887644e+05  1.860721e+08\n",
       "2024-10-12 22:31:00  644.1  646.0  641.7  644.8  1.747488e+05  1.125094e+08\n",
       "2024-10-12 22:32:00  644.9  646.0  644.0  644.0  1.870079e+05  1.206430e+08\n",
       "2024-10-12 22:33:00  644.3  646.2  644.1  645.7  3.088597e+05  1.993958e+08\n",
       "2024-10-12 22:34:00  645.8  646.6  645.0  646.4  2.969477e+05  1.917854e+08\n",
       "\n",
       "[581655 rows x 6 columns]"
      ]
     },
     "execution_count": 7,
     "metadata": {},
     "output_type": "execute_result"
    }
   ],
   "source": [
    "df"
   ]
  },
  {
   "cell_type": "code",
   "execution_count": 8,
   "metadata": {},
   "outputs": [
    {
     "data": {
      "text/plain": [
       "['models/KRW-SEI_scaler.pkl']"
      ]
     },
     "execution_count": 8,
     "metadata": {},
     "output_type": "execute_result"
    }
   ],
   "source": [
    "scaler = MinMaxScaler(feature_range=(0, 1))\n",
    "scaled_data = scaler.fit_transform(df['close'].values.reshape(-1, 1))\n",
    "joblib.dump(scaler, f'models/{coin}_scaler.pkl')"
   ]
  },
  {
   "cell_type": "code",
   "execution_count": 9,
   "metadata": {},
   "outputs": [],
   "source": [
    "timestep = 1"
   ]
  },
  {
   "cell_type": "code",
   "execution_count": 10,
   "metadata": {},
   "outputs": [],
   "source": [
    "X = []\n",
    "y = []\n",
    "for i in range(len(scaled_data) - timestep - 1):\n",
    "    X.append(scaled_data[i:(i + timestep), 0])\n",
    "    y.append(scaled_data[i + timestep, 0])"
   ]
  },
  {
   "cell_type": "code",
   "execution_count": 11,
   "metadata": {},
   "outputs": [],
   "source": [
    "X, y = np.array(X), np.array(y)"
   ]
  },
  {
   "cell_type": "code",
   "execution_count": 12,
   "metadata": {},
   "outputs": [],
   "source": [
    "train_size = int(len(X) * .8)\n",
    "X_train, X_test = X[:train_size], X[train_size:]\n",
    "y_train, y_test = y[:train_size], y[train_size:]"
   ]
  },
  {
   "cell_type": "code",
   "execution_count": 13,
   "metadata": {},
   "outputs": [],
   "source": [
    "train_dates = df.index[:train_size]\n",
    "test_dates = df.index[train_size:]"
   ]
  },
  {
   "cell_type": "code",
   "execution_count": 14,
   "metadata": {},
   "outputs": [],
   "source": [
    "X_train = X_train.reshape(X_train.shape[0], X_train.shape[1], 1)\n",
    "X_test = X_test.reshape(X_test.shape[0], X_test.shape[1], 1)"
   ]
  },
  {
   "cell_type": "code",
   "execution_count": 15,
   "metadata": {},
   "outputs": [],
   "source": [
    "model = Sequential()\n",
    "model.add(LSTM(50, return_sequences=True, input_shape=(timestep, 1)))\n",
    "model.add(LSTM(50, return_sequences=False))\n",
    "model.add(Dense(25))\n",
    "model.add(Dense(1))"
   ]
  },
  {
   "cell_type": "code",
   "execution_count": 16,
   "metadata": {},
   "outputs": [],
   "source": [
    "model.compile(optimizer='adam', loss='mean_squared_error')"
   ]
  },
  {
   "cell_type": "code",
   "execution_count": 17,
   "metadata": {},
   "outputs": [],
   "source": [
    "early_stop = EarlyStopping(monitor='val_loss', patience=10)"
   ]
  },
  {
   "cell_type": "code",
   "execution_count": 18,
   "metadata": {},
   "outputs": [
    {
     "name": "stdout",
     "output_type": "stream",
     "text": [
      "Epoch 1/20\n",
      "14542/14542 [==============================] - 143s 10ms/step - loss: 2.5771e-04 - val_loss: 3.8901e-06\n",
      "Epoch 2/20\n",
      "14542/14542 [==============================] - 170s 12ms/step - loss: 3.2794e-06 - val_loss: 5.1581e-06\n",
      "Epoch 3/20\n",
      "14542/14542 [==============================] - 162s 11ms/step - loss: 3.1483e-06 - val_loss: 4.0436e-07\n",
      "Epoch 4/20\n",
      "14542/14542 [==============================] - 162s 11ms/step - loss: 3.0089e-06 - val_loss: 1.0690e-06\n",
      "Epoch 5/20\n",
      "14542/14542 [==============================] - 157s 11ms/step - loss: 2.8126e-06 - val_loss: 1.4703e-06\n",
      "Epoch 6/20\n",
      "14542/14542 [==============================] - 162s 11ms/step - loss: 2.7217e-06 - val_loss: 2.1158e-06\n",
      "Epoch 7/20\n",
      "14542/14542 [==============================] - 166s 11ms/step - loss: 2.6065e-06 - val_loss: 5.2118e-07\n",
      "Epoch 8/20\n",
      "14542/14542 [==============================] - 164s 11ms/step - loss: 2.5078e-06 - val_loss: 1.3128e-06\n",
      "Epoch 9/20\n",
      "14542/14542 [==============================] - 160s 11ms/step - loss: 2.4802e-06 - val_loss: 5.4171e-07\n",
      "Epoch 10/20\n",
      "14542/14542 [==============================] - 157s 11ms/step - loss: 2.3962e-06 - val_loss: 1.8667e-06\n",
      "Epoch 11/20\n",
      "14542/14542 [==============================] - 157s 11ms/step - loss: 2.3283e-06 - val_loss: 1.5770e-06\n",
      "Epoch 12/20\n",
      "14542/14542 [==============================] - 159s 11ms/step - loss: 2.3059e-06 - val_loss: 2.4348e-06\n",
      "Epoch 13/20\n",
      "14542/14542 [==============================] - 162s 11ms/step - loss: 2.3191e-06 - val_loss: 4.8485e-07\n"
     ]
    },
    {
     "data": {
      "text/plain": [
       "<keras.callbacks.History at 0x1a0f8723190>"
      ]
     },
     "execution_count": 18,
     "metadata": {},
     "output_type": "execute_result"
    }
   ],
   "source": [
    "model.fit(X_train, y_train, batch_size=32, epochs=20,\n",
    "          validation_data=(X_test, y_test), callbacks=[early_stop])"
   ]
  },
  {
   "cell_type": "code",
   "execution_count": 19,
   "metadata": {},
   "outputs": [],
   "source": [
    "model.save(f'models/lstm_{coin}.h5')"
   ]
  },
  {
   "cell_type": "code",
   "execution_count": 20,
   "metadata": {},
   "outputs": [
    {
     "name": "stdout",
     "output_type": "stream",
     "text": [
      "14542/14542 [==============================] - 51s 3ms/step\n",
      "3636/3636 [==============================] - 11s 3ms/step\n"
     ]
    }
   ],
   "source": [
    "train_predict = model.predict(X_train)\n",
    "test_predict = model.predict(X_test)"
   ]
  },
  {
   "cell_type": "code",
   "execution_count": 21,
   "metadata": {},
   "outputs": [],
   "source": [
    "train_predict = scaler.inverse_transform(train_predict)\n",
    "test_predict = scaler.inverse_transform(test_predict)\n",
    "y_train = scaler.inverse_transform([y_train])\n",
    "y_test = scaler.inverse_transform([y_test])"
   ]
  },
  {
   "cell_type": "code",
   "execution_count": 22,
   "metadata": {},
   "outputs": [
    {
     "data": {
      "text/plain": [
       "array([[550.4137 ],\n",
       "       [550.4137 ],\n",
       "       [550.71423],\n",
       "       ...,\n",
       "       [645.2841 ],\n",
       "       [645.68494],\n",
       "       [644.88336]], dtype=float32)"
      ]
     },
     "execution_count": 22,
     "metadata": {},
     "output_type": "execute_result"
    }
   ],
   "source": [
    "test_predict"
   ]
  },
  {
   "cell_type": "code",
   "execution_count": 23,
   "metadata": {},
   "outputs": [
    {
     "data": {
      "text/plain": [
       "array([[549.7, 550. , 550. , ..., 644.8, 644. , 645.7]])"
      ]
     },
     "execution_count": 23,
     "metadata": {},
     "output_type": "execute_result"
    }
   ],
   "source": [
    "y_test"
   ]
  },
  {
   "cell_type": "code",
   "execution_count": 24,
   "metadata": {},
   "outputs": [
    {
     "name": "stdout",
     "output_type": "stream",
     "text": [
      "Train RMSE: 2.23\n",
      "Test RMSE: 1.06\n"
     ]
    }
   ],
   "source": [
    "train_score = np.sqrt(mean_squared_error(y_train[0], train_predict[:, 0]))\n",
    "test_score = np.sqrt(mean_squared_error(y_test[0], test_predict[:, 0]))\n",
    "print(f'Train RMSE: {train_score:.2f}')\n",
    "print(f'Test RMSE: {test_score:.2f}')"
   ]
  },
  {
   "cell_type": "code",
   "execution_count": 25,
   "metadata": {},
   "outputs": [
    {
     "data": {
      "image/png": "[encoded data removed]",
      "text/plain": [
       "<Figure size 1440x720 with 1 Axes>"
      ]
     },
     "metadata": {
      "needs_background": "light"
     },
     "output_type": "display_data"
    }
   ],
   "source": [
    "plt.figure(figsize=(20, 10))\n",
    "plt.subplot(1, 1, 1)\n",
    "plt.plot(train_dates, y_train[0], label='Actual', color = 'Blue')\n",
    "plt.plot(train_dates, train_predict, label='Predicted', color = 'Red')\n",
    "plt.title('Train Data')\n",
    "plt.xlabel('Date')\n",
    "plt.ylabel('Price')\n",
    "plt.legend()\n",
    "plt.xticks(rotation=45)\n",
    "plt.gca().xaxis.set_major_formatter(DateFormatter('%Y'))"
   ]
  },
  {
   "cell_type": "code",
   "execution_count": 26,
   "metadata": {},
   "outputs": [
    {
     "data": {
      "image/png": "[encoded data removed]",
      "text/plain": [
       "<Figure size 432x288 with 1 Axes>"
      ]
     },
     "metadata": {
      "needs_background": "light"
     },
     "output_type": "display_data"
    }
   ],
   "source": [
    "plt.subplot(1, 1, 1)\n",
    "plt.plot(test_dates[:-2], y_test[0], label='Actual', color = 'Blue')\n",
    "plt.plot(test_dates[:-2], test_predict, label='Predicted', color = 'Red')\n",
    "plt.title('Test Data')\n",
    "plt.xlabel('Date')\n",
    "plt.ylabel('Price')\n",
    "plt.legend()\n",
    "plt.xticks(rotation=45)\n",
    "plt.gca().xaxis.set_major_formatter(DateFormatter('%Y-%m'))\n",
    "\n",
    "plt.tight_layout()\n",
    "plt.show()"
   ]
  },
  {
   "cell_type": "code",
   "execution_count": 27,
   "metadata": {},
   "outputs": [
    {
     "name": "stdout",
     "output_type": "stream",
     "text": [
      "[[0.33929041]]\n"
     ]
    }
   ],
   "source": [
    "last_1_day = scaled_data[-timestep:]\n",
    "X_predict = last_1_day.reshape(1, timestep, 1)\n",
    "print(last_1_day)"
   ]
  },
  {
   "cell_type": "code",
   "execution_count": 28,
   "metadata": {},
   "outputs": [
    {
     "name": "stdout",
     "output_type": "stream",
     "text": [
      "1/1 [==============================] - 0s 14ms/step\n",
      "[[647.2882]]\n"
     ]
    }
   ],
   "source": [
    "pred = model.predict(X_predict)\n",
    "pred = scaler.inverse_transform(pred)\n",
    "print(pred)"
   ]
  },
  {
   "cell_type": "code",
   "execution_count": 29,
   "metadata": {},
   "outputs": [
    {
     "name": "stdout",
     "output_type": "stream",
     "text": [
      "1/1 [==============================] - 0s 14ms/step\n",
      "1/1 [==============================] - 0s 13ms/step\n",
      "1/1 [==============================] - 0s 13ms/step\n",
      "1/1 [==============================] - 0s 13ms/step\n",
      "1/1 [==============================] - 0s 13ms/step\n",
      "1/1 [==============================] - 0s 13ms/step\n",
      "1/1 [==============================] - 0s 13ms/step\n",
      "1/1 [==============================] - 0s 13ms/step\n",
      "1/1 [==============================] - 0s 13ms/step\n",
      "1/1 [==============================] - 0s 12ms/step\n",
      "1/1 [==============================] - 0s 13ms/step\n",
      "1/1 [==============================] - 0s 13ms/step\n",
      "1/1 [==============================] - 0s 12ms/step\n",
      "1/1 [==============================] - 0s 13ms/step\n",
      "1/1 [==============================] - 0s 13ms/step\n",
      "1/1 [==============================] - 0s 13ms/step\n",
      "1/1 [==============================] - 0s 12ms/step\n",
      "1/1 [==============================] - 0s 12ms/step\n",
      "1/1 [==============================] - 0s 12ms/step\n",
      "1/1 [==============================] - 0s 13ms/step\n",
      "1/1 [==============================] - 0s 18ms/step\n",
      "1/1 [==============================] - 0s 12ms/step\n",
      "1/1 [==============================] - 0s 13ms/step\n",
      "1/1 [==============================] - 0s 13ms/step\n",
      "1/1 [==============================] - 0s 12ms/step\n",
      "1/1 [==============================] - 0s 13ms/step\n",
      "1/1 [==============================] - 0s 13ms/step\n",
      "1/1 [==============================] - 0s 13ms/step\n",
      "1/1 [==============================] - 0s 13ms/step\n",
      "1/1 [==============================] - 2s 2s/step\n"
     ]
    }
   ],
   "source": [
    "preds = []\n",
    "for i in range(30):\n",
    "    pred = model.predict(X_predict)\n",
    "    preds.append(scaler.inverse_transform(pred)[0][0])\n",
    "    pred = pred.reshape(1, 1, 1)\n",
    "    X_predict = np.append(X_predict[:, 1:, :], pred, axis=1).reshape(1, timestep, 1)"
   ]
  },
  {
   "cell_type": "code",
   "execution_count": 30,
   "metadata": {},
   "outputs": [
    {
     "data": {
      "text/plain": [
       "[647.2882,\n",
       " 648.17816,\n",
       " 649.0699,\n",
       " 649.96356,\n",
       " 650.8591,\n",
       " 651.75635,\n",
       " 652.65546,\n",
       " 653.55646,\n",
       " 654.45935,\n",
       " 655.36414,\n",
       " 656.27075,\n",
       " 657.1793,\n",
       " 658.0897,\n",
       " 659.0021,\n",
       " 659.9164,\n",
       " 660.8325,\n",
       " 661.7507,\n",
       " 662.6707,\n",
       " 663.5928,\n",
       " 664.51685,\n",
       " 665.4428,\n",
       " 666.3708,\n",
       " 667.3007,\n",
       " 668.23267,\n",
       " 669.1667,\n",
       " 670.1027,\n",
       " 671.0408,\n",
       " 671.9809,\n",
       " 672.923,\n",
       " 673.8672]"
      ]
     },
     "execution_count": 30,
     "metadata": {},
     "output_type": "execute_result"
    }
   ],
   "source": [
    "preds"
   ]
  },
  {
   "cell_type": "code",
   "execution_count": null,
   "metadata": {},
   "outputs": [],
   "source": []
  }
 ],
 "metadata": {
  "kernelspec": {
   "display_name": "Python 3",
   "language": "python",
   "name": "python3"
  },
  "language_info": {
   "codemirror_mode": {
    "name": "ipython",
    "version": 3
   },
   "file_extension": ".py",
   "mimetype": "text/x-python",
   "name": "python",
   "nbconvert_exporter": "python",
   "pygments_lexer": "ipython3",
   "version": "3.10.2"
  }
 },
 "nbformat": 4,
 "nbformat_minor": 2
}
