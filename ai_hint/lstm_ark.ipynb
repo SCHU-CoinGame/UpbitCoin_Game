{
 "cells": [
  {
   "cell_type": "code",
   "execution_count": 1,
   "metadata": {},
   "outputs": [],
   "source": [
    "from tensorflow.keras.layers import LSTM, Dense\n",
    "from tensorflow.keras.models import Sequential\n",
    "from tensorflow.keras.callbacks import EarlyStopping\n",
    "\n",
    "import pandas as pd\n",
    "import numpy as np\n",
    "import matplotlib.pyplot as plt\n",
    "from matplotlib.dates import DateFormatter\n",
    "import joblib\n",
    "\n",
    "from sklearn.preprocessing import MinMaxScaler\n",
    "from sklearn.metrics import mean_squared_error"
   ]
  },
  {
   "cell_type": "code",
   "execution_count": 2,
   "metadata": {},
   "outputs": [],
   "source": [
    "seed = 42"
   ]
  },
  {
   "cell_type": "code",
   "execution_count": 3,
   "metadata": {},
   "outputs": [],
   "source": [
    "coin = 'KRW-ARK'"
   ]
  },
  {
   "cell_type": "code",
   "execution_count": 4,
   "metadata": {},
   "outputs": [],
   "source": [
    "df = pd.read_csv(f'../data/from_pyupbit/{coin}.csv')"
   ]
  },
  {
   "cell_type": "code",
   "execution_count": 5,
   "metadata": {},
   "outputs": [
    {
     "data": {
      "text/html": [
       "<div>\n",
       "<style scoped>\n",
       "    .dataframe tbody tr th:only-of-type {\n",
       "        vertical-align: middle;\n",
       "    }\n",
       "\n",
       "    .dataframe tbody tr th {\n",
       "        vertical-align: top;\n",
       "    }\n",
       "\n",
       "    .dataframe thead th {\n",
       "        text-align: right;\n",
       "    }\n",
       "</style>\n",
       "<table border=\"1\" class=\"dataframe\">\n",
       "  <thead>\n",
       "    <tr style=\"text-align: right;\">\n",
       "      <th></th>\n",
       "      <th>timestamp</th>\n",
       "      <th>open</th>\n",
       "      <th>high</th>\n",
       "      <th>low</th>\n",
       "      <th>close</th>\n",
       "      <th>volume</th>\n",
       "      <th>value</th>\n",
       "    </tr>\n",
       "  </thead>\n",
       "  <tbody>\n",
       "    <tr>\n",
       "      <th>0</th>\n",
       "      <td>2020-08-22 11:27:00</td>\n",
       "      <td>558.0</td>\n",
       "      <td>558.0</td>\n",
       "      <td>558.0</td>\n",
       "      <td>558.0</td>\n",
       "      <td>98.000000</td>\n",
       "      <td>5.468400e+04</td>\n",
       "    </tr>\n",
       "    <tr>\n",
       "      <th>1</th>\n",
       "      <td>2020-08-22 11:28:00</td>\n",
       "      <td>560.0</td>\n",
       "      <td>560.0</td>\n",
       "      <td>560.0</td>\n",
       "      <td>560.0</td>\n",
       "      <td>29.374300</td>\n",
       "      <td>1.644961e+04</td>\n",
       "    </tr>\n",
       "    <tr>\n",
       "      <th>2</th>\n",
       "      <td>2020-08-22 11:29:00</td>\n",
       "      <td>561.0</td>\n",
       "      <td>561.0</td>\n",
       "      <td>560.0</td>\n",
       "      <td>561.0</td>\n",
       "      <td>1351.474971</td>\n",
       "      <td>7.581088e+05</td>\n",
       "    </tr>\n",
       "    <tr>\n",
       "      <th>3</th>\n",
       "      <td>2020-08-22 11:30:00</td>\n",
       "      <td>561.0</td>\n",
       "      <td>561.0</td>\n",
       "      <td>561.0</td>\n",
       "      <td>561.0</td>\n",
       "      <td>9.074733</td>\n",
       "      <td>5.090925e+03</td>\n",
       "    </tr>\n",
       "    <tr>\n",
       "      <th>4</th>\n",
       "      <td>2020-08-22 11:40:00</td>\n",
       "      <td>561.0</td>\n",
       "      <td>561.0</td>\n",
       "      <td>560.0</td>\n",
       "      <td>560.0</td>\n",
       "      <td>95.126560</td>\n",
       "      <td>5.336000e+04</td>\n",
       "    </tr>\n",
       "    <tr>\n",
       "      <th>...</th>\n",
       "      <td>...</td>\n",
       "      <td>...</td>\n",
       "      <td>...</td>\n",
       "      <td>...</td>\n",
       "      <td>...</td>\n",
       "      <td>...</td>\n",
       "      <td>...</td>\n",
       "    </tr>\n",
       "    <tr>\n",
       "      <th>1576795</th>\n",
       "      <td>2024-10-12 20:08:00</td>\n",
       "      <td>660.1</td>\n",
       "      <td>661.5</td>\n",
       "      <td>660.1</td>\n",
       "      <td>661.5</td>\n",
       "      <td>43947.008730</td>\n",
       "      <td>2.903625e+07</td>\n",
       "    </tr>\n",
       "    <tr>\n",
       "      <th>1576796</th>\n",
       "      <td>2024-10-12 20:09:00</td>\n",
       "      <td>661.5</td>\n",
       "      <td>661.5</td>\n",
       "      <td>660.1</td>\n",
       "      <td>660.8</td>\n",
       "      <td>102755.667870</td>\n",
       "      <td>6.787026e+07</td>\n",
       "    </tr>\n",
       "    <tr>\n",
       "      <th>1576797</th>\n",
       "      <td>2024-10-12 20:10:00</td>\n",
       "      <td>660.8</td>\n",
       "      <td>660.8</td>\n",
       "      <td>660.3</td>\n",
       "      <td>660.7</td>\n",
       "      <td>19605.391412</td>\n",
       "      <td>1.295274e+07</td>\n",
       "    </tr>\n",
       "    <tr>\n",
       "      <th>1576798</th>\n",
       "      <td>2024-10-12 20:11:00</td>\n",
       "      <td>660.7</td>\n",
       "      <td>660.7</td>\n",
       "      <td>659.4</td>\n",
       "      <td>660.3</td>\n",
       "      <td>33766.902404</td>\n",
       "      <td>2.228660e+07</td>\n",
       "    </tr>\n",
       "    <tr>\n",
       "      <th>1576799</th>\n",
       "      <td>2024-10-12 20:12:00</td>\n",
       "      <td>659.4</td>\n",
       "      <td>659.7</td>\n",
       "      <td>659.1</td>\n",
       "      <td>659.6</td>\n",
       "      <td>24328.372242</td>\n",
       "      <td>1.604177e+07</td>\n",
       "    </tr>\n",
       "  </tbody>\n",
       "</table>\n",
       "<p>1576800 rows × 7 columns</p>\n",
       "</div>"
      ],
      "text/plain": [
       "                   timestamp   open   high    low  close         volume  \\\n",
       "0        2020-08-22 11:27:00  558.0  558.0  558.0  558.0      98.000000   \n",
       "1        2020-08-22 11:28:00  560.0  560.0  560.0  560.0      29.374300   \n",
       "2        2020-08-22 11:29:00  561.0  561.0  560.0  561.0    1351.474971   \n",
       "3        2020-08-22 11:30:00  561.0  561.0  561.0  561.0       9.074733   \n",
       "4        2020-08-22 11:40:00  561.0  561.0  560.0  560.0      95.126560   \n",
       "...                      ...    ...    ...    ...    ...            ...   \n",
       "1576795  2024-10-12 20:08:00  660.1  661.5  660.1  661.5   43947.008730   \n",
       "1576796  2024-10-12 20:09:00  661.5  661.5  660.1  660.8  102755.667870   \n",
       "1576797  2024-10-12 20:10:00  660.8  660.8  660.3  660.7   19605.391412   \n",
       "1576798  2024-10-12 20:11:00  660.7  660.7  659.4  660.3   33766.902404   \n",
       "1576799  2024-10-12 20:12:00  659.4  659.7  659.1  659.6   24328.372242   \n",
       "\n",
       "                value  \n",
       "0        5.468400e+04  \n",
       "1        1.644961e+04  \n",
       "2        7.581088e+05  \n",
       "3        5.090925e+03  \n",
       "4        5.336000e+04  \n",
       "...               ...  \n",
       "1576795  2.903625e+07  \n",
       "1576796  6.787026e+07  \n",
       "1576797  1.295274e+07  \n",
       "1576798  2.228660e+07  \n",
       "1576799  1.604177e+07  \n",
       "\n",
       "[1576800 rows x 7 columns]"
      ]
     },
     "execution_count": 5,
     "metadata": {},
     "output_type": "execute_result"
    }
   ],
   "source": [
    "df"
   ]
  },
  {
   "cell_type": "code",
   "execution_count": 6,
   "metadata": {},
   "outputs": [],
   "source": [
    "df['timestamp'] = pd.to_datetime(df['timestamp'])\n",
    "df.set_index('timestamp', inplace=True)"
   ]
  },
  {
   "cell_type": "code",
   "execution_count": 7,
   "metadata": {},
   "outputs": [
    {
     "data": {
      "text/html": [
       "<div>\n",
       "<style scoped>\n",
       "    .dataframe tbody tr th:only-of-type {\n",
       "        vertical-align: middle;\n",
       "    }\n",
       "\n",
       "    .dataframe tbody tr th {\n",
       "        vertical-align: top;\n",
       "    }\n",
       "\n",
       "    .dataframe thead th {\n",
       "        text-align: right;\n",
       "    }\n",
       "</style>\n",
       "<table border=\"1\" class=\"dataframe\">\n",
       "  <thead>\n",
       "    <tr style=\"text-align: right;\">\n",
       "      <th></th>\n",
       "      <th>open</th>\n",
       "      <th>high</th>\n",
       "      <th>low</th>\n",
       "      <th>close</th>\n",
       "      <th>volume</th>\n",
       "      <th>value</th>\n",
       "    </tr>\n",
       "    <tr>\n",
       "      <th>timestamp</th>\n",
       "      <th></th>\n",
       "      <th></th>\n",
       "      <th></th>\n",
       "      <th></th>\n",
       "      <th></th>\n",
       "      <th></th>\n",
       "    </tr>\n",
       "  </thead>\n",
       "  <tbody>\n",
       "    <tr>\n",
       "      <th>2020-08-22 11:27:00</th>\n",
       "      <td>558.0</td>\n",
       "      <td>558.0</td>\n",
       "      <td>558.0</td>\n",
       "      <td>558.0</td>\n",
       "      <td>98.000000</td>\n",
       "      <td>5.468400e+04</td>\n",
       "    </tr>\n",
       "    <tr>\n",
       "      <th>2020-08-22 11:28:00</th>\n",
       "      <td>560.0</td>\n",
       "      <td>560.0</td>\n",
       "      <td>560.0</td>\n",
       "      <td>560.0</td>\n",
       "      <td>29.374300</td>\n",
       "      <td>1.644961e+04</td>\n",
       "    </tr>\n",
       "    <tr>\n",
       "      <th>2020-08-22 11:29:00</th>\n",
       "      <td>561.0</td>\n",
       "      <td>561.0</td>\n",
       "      <td>560.0</td>\n",
       "      <td>561.0</td>\n",
       "      <td>1351.474971</td>\n",
       "      <td>7.581088e+05</td>\n",
       "    </tr>\n",
       "    <tr>\n",
       "      <th>2020-08-22 11:30:00</th>\n",
       "      <td>561.0</td>\n",
       "      <td>561.0</td>\n",
       "      <td>561.0</td>\n",
       "      <td>561.0</td>\n",
       "      <td>9.074733</td>\n",
       "      <td>5.090925e+03</td>\n",
       "    </tr>\n",
       "    <tr>\n",
       "      <th>2020-08-22 11:40:00</th>\n",
       "      <td>561.0</td>\n",
       "      <td>561.0</td>\n",
       "      <td>560.0</td>\n",
       "      <td>560.0</td>\n",
       "      <td>95.126560</td>\n",
       "      <td>5.336000e+04</td>\n",
       "    </tr>\n",
       "    <tr>\n",
       "      <th>...</th>\n",
       "      <td>...</td>\n",
       "      <td>...</td>\n",
       "      <td>...</td>\n",
       "      <td>...</td>\n",
       "      <td>...</td>\n",
       "      <td>...</td>\n",
       "    </tr>\n",
       "    <tr>\n",
       "      <th>2024-10-12 20:08:00</th>\n",
       "      <td>660.1</td>\n",
       "      <td>661.5</td>\n",
       "      <td>660.1</td>\n",
       "      <td>661.5</td>\n",
       "      <td>43947.008730</td>\n",
       "      <td>2.903625e+07</td>\n",
       "    </tr>\n",
       "    <tr>\n",
       "      <th>2024-10-12 20:09:00</th>\n",
       "      <td>661.5</td>\n",
       "      <td>661.5</td>\n",
       "      <td>660.1</td>\n",
       "      <td>660.8</td>\n",
       "      <td>102755.667870</td>\n",
       "      <td>6.787026e+07</td>\n",
       "    </tr>\n",
       "    <tr>\n",
       "      <th>2024-10-12 20:10:00</th>\n",
       "      <td>660.8</td>\n",
       "      <td>660.8</td>\n",
       "      <td>660.3</td>\n",
       "      <td>660.7</td>\n",
       "      <td>19605.391412</td>\n",
       "      <td>1.295274e+07</td>\n",
       "    </tr>\n",
       "    <tr>\n",
       "      <th>2024-10-12 20:11:00</th>\n",
       "      <td>660.7</td>\n",
       "      <td>660.7</td>\n",
       "      <td>659.4</td>\n",
       "      <td>660.3</td>\n",
       "      <td>33766.902404</td>\n",
       "      <td>2.228660e+07</td>\n",
       "    </tr>\n",
       "    <tr>\n",
       "      <th>2024-10-12 20:12:00</th>\n",
       "      <td>659.4</td>\n",
       "      <td>659.7</td>\n",
       "      <td>659.1</td>\n",
       "      <td>659.6</td>\n",
       "      <td>24328.372242</td>\n",
       "      <td>1.604177e+07</td>\n",
       "    </tr>\n",
       "  </tbody>\n",
       "</table>\n",
       "<p>1576800 rows × 6 columns</p>\n",
       "</div>"
      ],
      "text/plain": [
       "                      open   high    low  close         volume         value\n",
       "timestamp                                                                   \n",
       "2020-08-22 11:27:00  558.0  558.0  558.0  558.0      98.000000  5.468400e+04\n",
       "2020-08-22 11:28:00  560.0  560.0  560.0  560.0      29.374300  1.644961e+04\n",
       "2020-08-22 11:29:00  561.0  561.0  560.0  561.0    1351.474971  7.581088e+05\n",
       "2020-08-22 11:30:00  561.0  561.0  561.0  561.0       9.074733  5.090925e+03\n",
       "2020-08-22 11:40:00  561.0  561.0  560.0  560.0      95.126560  5.336000e+04\n",
       "...                    ...    ...    ...    ...            ...           ...\n",
       "2024-10-12 20:08:00  660.1  661.5  660.1  661.5   43947.008730  2.903625e+07\n",
       "2024-10-12 20:09:00  661.5  661.5  660.1  660.8  102755.667870  6.787026e+07\n",
       "2024-10-12 20:10:00  660.8  660.8  660.3  660.7   19605.391412  1.295274e+07\n",
       "2024-10-12 20:11:00  660.7  660.7  659.4  660.3   33766.902404  2.228660e+07\n",
       "2024-10-12 20:12:00  659.4  659.7  659.1  659.6   24328.372242  1.604177e+07\n",
       "\n",
       "[1576800 rows x 6 columns]"
      ]
     },
     "execution_count": 7,
     "metadata": {},
     "output_type": "execute_result"
    }
   ],
   "source": [
    "df"
   ]
  },
  {
   "cell_type": "code",
   "execution_count": 8,
   "metadata": {},
   "outputs": [
    {
     "data": {
      "text/plain": [
       "['models/KRW-ARK_scaler.pkl']"
      ]
     },
     "execution_count": 8,
     "metadata": {},
     "output_type": "execute_result"
    }
   ],
   "source": [
    "scaler = MinMaxScaler(feature_range=(0, 1))\n",
    "scaled_data = scaler.fit_transform(df['close'].values.reshape(-1, 1))\n",
    "joblib.dump(scaler, f'models/{coin}_scaler.pkl')"
   ]
  },
  {
   "cell_type": "code",
   "execution_count": 9,
   "metadata": {},
   "outputs": [],
   "source": [
    "timestep = 1"
   ]
  },
  {
   "cell_type": "code",
   "execution_count": 10,
   "metadata": {},
   "outputs": [],
   "source": [
    "X = []\n",
    "y = []\n",
    "for i in range(len(scaled_data) - timestep - 1):\n",
    "    X.append(scaled_data[i:(i + timestep), 0])\n",
    "    y.append(scaled_data[i + timestep, 0])"
   ]
  },
  {
   "cell_type": "code",
   "execution_count": 11,
   "metadata": {},
   "outputs": [],
   "source": [
    "X, y = np.array(X), np.array(y)"
   ]
  },
  {
   "cell_type": "code",
   "execution_count": 12,
   "metadata": {},
   "outputs": [],
   "source": [
    "train_size = int(len(X) * .8)\n",
    "X_train, X_test = X[:train_size], X[train_size:]\n",
    "y_train, y_test = y[:train_size], y[train_size:]"
   ]
  },
  {
   "cell_type": "code",
   "execution_count": 13,
   "metadata": {},
   "outputs": [],
   "source": [
    "train_dates = df.index[:train_size]\n",
    "test_dates = df.index[train_size:]"
   ]
  },
  {
   "cell_type": "code",
   "execution_count": 14,
   "metadata": {},
   "outputs": [],
   "source": [
    "X_train = X_train.reshape(X_train.shape[0], X_train.shape[1], 1)\n",
    "X_test = X_test.reshape(X_test.shape[0], X_test.shape[1], 1)"
   ]
  },
  {
   "cell_type": "code",
   "execution_count": 15,
   "metadata": {},
   "outputs": [
    {
     "name": "stdout",
     "output_type": "stream",
     "text": [
      "(1261438, 1, 1) (1261438,)\n"
     ]
    }
   ],
   "source": [
    "print(X_train.shape, y_train.shape)"
   ]
  },
  {
   "cell_type": "code",
   "execution_count": 16,
   "metadata": {},
   "outputs": [],
   "source": [
    "model = Sequential()\n",
    "model.add(LSTM(50, return_sequences=True, input_shape=(timestep, 1)))\n",
    "model.add(LSTM(50, return_sequences=False))\n",
    "model.add(Dense(25))\n",
    "model.add(Dense(1))"
   ]
  },
  {
   "cell_type": "code",
   "execution_count": 17,
   "metadata": {},
   "outputs": [],
   "source": [
    "model.compile(optimizer='adam', loss='mean_squared_error')"
   ]
  },
  {
   "cell_type": "code",
   "execution_count": 18,
   "metadata": {},
   "outputs": [],
   "source": [
    "early_stop = EarlyStopping(monitor='val_loss', patience=10)"
   ]
  },
  {
   "cell_type": "code",
   "execution_count": 19,
   "metadata": {},
   "outputs": [
    {
     "name": "stdout",
     "output_type": "stream",
     "text": [
      "Epoch 1/20\n",
      "39420/39420 [==============================] - 190s 5ms/step - loss: 2.3089e-05 - val_loss: 5.8593e-07\n",
      "Epoch 2/20\n",
      "39420/39420 [==============================] - 187s 5ms/step - loss: 2.1267e-06 - val_loss: 1.4859e-06\n",
      "Epoch 3/20\n",
      "39420/39420 [==============================] - 172s 4ms/step - loss: 1.8974e-06 - val_loss: 1.7378e-07\n",
      "Epoch 4/20\n",
      "39420/39420 [==============================] - 231s 6ms/step - loss: 1.7435e-06 - val_loss: 3.4594e-07\n",
      "Epoch 5/20\n",
      "39420/39420 [==============================] - 199s 5ms/step - loss: 1.6819e-06 - val_loss: 5.1462e-07\n",
      "Epoch 6/20\n",
      "39420/39420 [==============================] - 195s 5ms/step - loss: 1.6064e-06 - val_loss: 1.6486e-07\n",
      "Epoch 7/20\n",
      "39420/39420 [==============================] - 195s 5ms/step - loss: 1.5482e-06 - val_loss: 1.4302e-07\n",
      "Epoch 8/20\n",
      "39420/39420 [==============================] - 191s 5ms/step - loss: 1.5185e-06 - val_loss: 1.5073e-07\n",
      "Epoch 9/20\n",
      "39420/39420 [==============================] - 190s 5ms/step - loss: 1.5002e-06 - val_loss: 1.1403e-06\n",
      "Epoch 10/20\n",
      "39420/39420 [==============================] - 194s 5ms/step - loss: 1.4558e-06 - val_loss: 1.9335e-07\n",
      "Epoch 11/20\n",
      "39420/39420 [==============================] - 192s 5ms/step - loss: 1.4188e-06 - val_loss: 1.5622e-07\n",
      "Epoch 12/20\n",
      "39420/39420 [==============================] - 168s 4ms/step - loss: 1.4152e-06 - val_loss: 2.1745e-07\n",
      "Epoch 13/20\n",
      "39420/39420 [==============================] - 169s 4ms/step - loss: 1.3751e-06 - val_loss: 1.5575e-07\n",
      "Epoch 14/20\n",
      "39420/39420 [==============================] - 170s 4ms/step - loss: 1.3765e-06 - val_loss: 2.4942e-07\n",
      "Epoch 15/20\n",
      "39420/39420 [==============================] - 170s 4ms/step - loss: 1.3474e-06 - val_loss: 1.4584e-07\n",
      "Epoch 16/20\n",
      "39420/39420 [==============================] - 174s 4ms/step - loss: 1.3405e-06 - val_loss: 4.0268e-07\n",
      "Epoch 17/20\n",
      "39420/39420 [==============================] - 172s 4ms/step - loss: 1.3415e-06 - val_loss: 2.6582e-07\n"
     ]
    },
    {
     "data": {
      "text/plain": [
       "<keras.callbacks.History at 0x21c47daf8e0>"
      ]
     },
     "execution_count": 19,
     "metadata": {},
     "output_type": "execute_result"
    }
   ],
   "source": [
    "model.fit(X_train, y_train, batch_size=32, epochs=20,\n",
    "          validation_data=(X_test, y_test), callbacks=[early_stop])"
   ]
  },
  {
   "cell_type": "code",
   "execution_count": 20,
   "metadata": {},
   "outputs": [],
   "source": [
    "model.save(f'models/lstm_{coin}.h5')"
   ]
  },
  {
   "cell_type": "code",
   "execution_count": 21,
   "metadata": {},
   "outputs": [
    {
     "name": "stdout",
     "output_type": "stream",
     "text": [
      "39420/39420 [==============================] - 54s 1ms/step\n",
      "9855/9855 [==============================] - 14s 1ms/step\n"
     ]
    }
   ],
   "source": [
    "train_predict = model.predict(X_train)\n",
    "test_predict = model.predict(X_test)"
   ]
  },
  {
   "cell_type": "code",
   "execution_count": 22,
   "metadata": {},
   "outputs": [],
   "source": [
    "train_predict = scaler.inverse_transform(train_predict)\n",
    "test_predict = scaler.inverse_transform(test_predict)\n",
    "y_train = scaler.inverse_transform([y_train])\n",
    "y_test = scaler.inverse_transform([y_test])"
   ]
  },
  {
   "cell_type": "code",
   "execution_count": 23,
   "metadata": {},
   "outputs": [
    {
     "name": "stdout",
     "output_type": "stream",
     "text": [
      "Train RMSE: 6.37\n",
      "Test RMSE: 3.07\n"
     ]
    }
   ],
   "source": [
    "train_score = np.sqrt(mean_squared_error(y_train[0], train_predict[:, 0]))\n",
    "test_score = np.sqrt(mean_squared_error(y_test[0], test_predict[:, 0]))\n",
    "print(f'Train RMSE: {train_score:.2f}')\n",
    "print(f'Test RMSE: {test_score:.2f}')"
   ]
  },
  {
   "cell_type": "code",
   "execution_count": 24,
   "metadata": {},
   "outputs": [
    {
     "name": "stdout",
     "output_type": "stream",
     "text": [
      "[[0.06495296]]\n"
     ]
    }
   ],
   "source": [
    "last_1_day = scaled_data[-timestep:]\n",
    "X_predict = last_1_day.reshape(1, timestep, 1)\n",
    "print(last_1_day)"
   ]
  },
  {
   "cell_type": "code",
   "execution_count": 25,
   "metadata": {},
   "outputs": [
    {
     "name": "stdout",
     "output_type": "stream",
     "text": [
      "1/1 [==============================] - 0s 14ms/step\n",
      "[[657.81744]]\n"
     ]
    }
   ],
   "source": [
    "pred = model.predict(X_predict)\n",
    "pred = scaler.inverse_transform(pred)\n",
    "print(pred)"
   ]
  },
  {
   "cell_type": "code",
   "execution_count": 26,
   "metadata": {},
   "outputs": [
    {
     "name": "stdout",
     "output_type": "stream",
     "text": [
      "1/1 [==============================] - 0s 14ms/step\n",
      "1/1 [==============================] - 0s 14ms/step\n",
      "1/1 [==============================] - 0s 13ms/step\n",
      "1/1 [==============================] - 0s 13ms/step\n",
      "1/1 [==============================] - 0s 14ms/step\n",
      "1/1 [==============================] - 0s 14ms/step\n",
      "1/1 [==============================] - 0s 14ms/step\n",
      "1/1 [==============================] - 0s 13ms/step\n",
      "1/1 [==============================] - 0s 13ms/step\n",
      "1/1 [==============================] - 0s 13ms/step\n",
      "1/1 [==============================] - 0s 13ms/step\n",
      "1/1 [==============================] - 0s 14ms/step\n",
      "1/1 [==============================] - 0s 13ms/step\n",
      "1/1 [==============================] - 0s 14ms/step\n",
      "1/1 [==============================] - 0s 13ms/step\n",
      "1/1 [==============================] - 0s 13ms/step\n",
      "1/1 [==============================] - 0s 13ms/step\n",
      "1/1 [==============================] - 0s 14ms/step\n",
      "1/1 [==============================] - 0s 13ms/step\n",
      "1/1 [==============================] - 0s 13ms/step\n",
      "1/1 [==============================] - 0s 14ms/step\n",
      "1/1 [==============================] - 0s 13ms/step\n",
      "1/1 [==============================] - 0s 13ms/step\n",
      "1/1 [==============================] - 0s 13ms/step\n",
      "1/1 [==============================] - 0s 13ms/step\n",
      "1/1 [==============================] - 0s 13ms/step\n",
      "1/1 [==============================] - 0s 13ms/step\n",
      "1/1 [==============================] - 0s 13ms/step\n",
      "1/1 [==============================] - 0s 13ms/step\n",
      "1/1 [==============================] - 0s 13ms/step\n"
     ]
    }
   ],
   "source": [
    "preds = []\n",
    "for i in range(30):\n",
    "    pred = model.predict(X_predict)\n",
    "    preds.append(scaler.inverse_transform(pred)[0][0])\n",
    "    pred = pred.reshape(1, 1, 1)\n",
    "    X_predict = np.append(X_predict[:, 1:, :], pred, axis=1).reshape(1, timestep, 1)"
   ]
  },
  {
   "cell_type": "code",
   "execution_count": 27,
   "metadata": {},
   "outputs": [
    {
     "data": {
      "text/plain": [
       "[657.81744,\n",
       " 656.04114,\n",
       " 654.27106,\n",
       " 652.5071,\n",
       " 650.7494,\n",
       " 648.998,\n",
       " 647.2528,\n",
       " 645.5139,\n",
       " 643.7813,\n",
       " 642.05505,\n",
       " 640.3352,\n",
       " 638.62177,\n",
       " 636.9147,\n",
       " 635.214,\n",
       " 633.5198,\n",
       " 631.832,\n",
       " 630.1507,\n",
       " 628.47595,\n",
       " 626.80774,\n",
       " 625.1461,\n",
       " 623.491,\n",
       " 621.8425,\n",
       " 620.2006,\n",
       " 618.56537,\n",
       " 616.9367,\n",
       " 615.3147,\n",
       " 613.69934,\n",
       " 612.09064,\n",
       " 610.4887,\n",
       " 608.8935]"
      ]
     },
     "execution_count": 27,
     "metadata": {},
     "output_type": "execute_result"
    }
   ],
   "source": [
    "preds"
   ]
  },
  {
   "cell_type": "code",
   "execution_count": null,
   "metadata": {},
   "outputs": [],
   "source": []
  }
 ],
 "metadata": {
  "kernelspec": {
   "display_name": "Python 3",
   "language": "python",
   "name": "python3"
  },
  "language_info": {
   "codemirror_mode": {
    "name": "ipython",
    "version": 3
   },
   "file_extension": ".py",
   "mimetype": "text/x-python",
   "name": "python",
   "nbconvert_exporter": "python",
   "pygments_lexer": "ipython3",
   "version": "3.10.2"
  }
 },
 "nbformat": 4,
 "nbformat_minor": 2
}
