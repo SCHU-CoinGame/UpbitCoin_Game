{
 "cells": [
  {
   "cell_type": "code",
   "execution_count": 1,
   "metadata": {},
   "outputs": [],
   "source": [
    "from tensorflow.keras.layers import LSTM, Dense\n",
    "from tensorflow.keras.models import Sequential\n",
    "from tensorflow.keras.callbacks import EarlyStopping\n",
    "\n",
    "import pandas as pd\n",
    "import numpy as np\n",
    "import matplotlib.pyplot as plt\n",
    "from matplotlib.dates import DateFormatter\n",
    "import joblib\n",
    "\n",
    "from sklearn.preprocessing import MinMaxScaler\n",
    "from sklearn.metrics import mean_squared_error"
   ]
  },
  {
   "cell_type": "code",
   "execution_count": 2,
   "metadata": {},
   "outputs": [],
   "source": [
    "seed = 42"
   ]
  },
  {
   "cell_type": "code",
   "execution_count": 3,
   "metadata": {},
   "outputs": [],
   "source": [
    "coin = 'KRW-UXLINK'"
   ]
  },
  {
   "cell_type": "code",
   "execution_count": 4,
   "metadata": {},
   "outputs": [],
   "source": [
    "df = pd.read_csv(f'../data/from_pyupbit/{coin}.csv')"
   ]
  },
  {
   "cell_type": "code",
   "execution_count": 5,
   "metadata": {},
   "outputs": [
    {
     "data": {
      "text/html": [
       "<div>\n",
       "<style scoped>\n",
       "    .dataframe tbody tr th:only-of-type {\n",
       "        vertical-align: middle;\n",
       "    }\n",
       "\n",
       "    .dataframe tbody tr th {\n",
       "        vertical-align: top;\n",
       "    }\n",
       "\n",
       "    .dataframe thead th {\n",
       "        text-align: right;\n",
       "    }\n",
       "</style>\n",
       "<table border=\"1\" class=\"dataframe\">\n",
       "  <thead>\n",
       "    <tr style=\"text-align: right;\">\n",
       "      <th></th>\n",
       "      <th>timestamp</th>\n",
       "      <th>open</th>\n",
       "      <th>high</th>\n",
       "      <th>low</th>\n",
       "      <th>close</th>\n",
       "      <th>volume</th>\n",
       "      <th>value</th>\n",
       "    </tr>\n",
       "  </thead>\n",
       "  <tbody>\n",
       "    <tr>\n",
       "      <th>0</th>\n",
       "      <td>2024-09-03 22:05:00</td>\n",
       "      <td>200.0</td>\n",
       "      <td>499.0</td>\n",
       "      <td>200.0</td>\n",
       "      <td>390.0</td>\n",
       "      <td>3.339987e+07</td>\n",
       "      <td>1.492218e+10</td>\n",
       "    </tr>\n",
       "    <tr>\n",
       "      <th>1</th>\n",
       "      <td>2024-09-03 22:06:00</td>\n",
       "      <td>390.0</td>\n",
       "      <td>395.5</td>\n",
       "      <td>349.5</td>\n",
       "      <td>350.0</td>\n",
       "      <td>2.215647e+07</td>\n",
       "      <td>8.109357e+09</td>\n",
       "    </tr>\n",
       "    <tr>\n",
       "      <th>2</th>\n",
       "      <td>2024-09-03 22:07:00</td>\n",
       "      <td>349.8</td>\n",
       "      <td>366.0</td>\n",
       "      <td>344.2</td>\n",
       "      <td>361.0</td>\n",
       "      <td>1.029749e+07</td>\n",
       "      <td>3.709872e+09</td>\n",
       "    </tr>\n",
       "    <tr>\n",
       "      <th>3</th>\n",
       "      <td>2024-09-03 22:08:00</td>\n",
       "      <td>361.0</td>\n",
       "      <td>376.5</td>\n",
       "      <td>361.0</td>\n",
       "      <td>372.4</td>\n",
       "      <td>8.869899e+06</td>\n",
       "      <td>3.288303e+09</td>\n",
       "    </tr>\n",
       "    <tr>\n",
       "      <th>4</th>\n",
       "      <td>2024-09-03 22:09:00</td>\n",
       "      <td>372.4</td>\n",
       "      <td>376.8</td>\n",
       "      <td>368.8</td>\n",
       "      <td>368.9</td>\n",
       "      <td>6.204757e+06</td>\n",
       "      <td>2.316654e+09</td>\n",
       "    </tr>\n",
       "    <tr>\n",
       "      <th>...</th>\n",
       "      <td>...</td>\n",
       "      <td>...</td>\n",
       "      <td>...</td>\n",
       "      <td>...</td>\n",
       "      <td>...</td>\n",
       "      <td>...</td>\n",
       "      <td>...</td>\n",
       "    </tr>\n",
       "    <tr>\n",
       "      <th>55244</th>\n",
       "      <td>2024-10-12 21:06:00</td>\n",
       "      <td>737.5</td>\n",
       "      <td>738.8</td>\n",
       "      <td>737.4</td>\n",
       "      <td>738.8</td>\n",
       "      <td>1.832447e+04</td>\n",
       "      <td>1.351471e+07</td>\n",
       "    </tr>\n",
       "    <tr>\n",
       "      <th>55245</th>\n",
       "      <td>2024-10-12 21:07:00</td>\n",
       "      <td>738.4</td>\n",
       "      <td>740.5</td>\n",
       "      <td>738.4</td>\n",
       "      <td>739.6</td>\n",
       "      <td>1.084755e+04</td>\n",
       "      <td>8.023372e+06</td>\n",
       "    </tr>\n",
       "    <tr>\n",
       "      <th>55246</th>\n",
       "      <td>2024-10-12 21:08:00</td>\n",
       "      <td>740.4</td>\n",
       "      <td>740.5</td>\n",
       "      <td>739.5</td>\n",
       "      <td>739.9</td>\n",
       "      <td>2.903907e+04</td>\n",
       "      <td>2.148139e+07</td>\n",
       "    </tr>\n",
       "    <tr>\n",
       "      <th>55247</th>\n",
       "      <td>2024-10-12 21:09:00</td>\n",
       "      <td>739.9</td>\n",
       "      <td>740.7</td>\n",
       "      <td>739.9</td>\n",
       "      <td>740.0</td>\n",
       "      <td>5.953868e+03</td>\n",
       "      <td>4.407777e+06</td>\n",
       "    </tr>\n",
       "    <tr>\n",
       "      <th>55248</th>\n",
       "      <td>2024-10-12 21:10:00</td>\n",
       "      <td>740.7</td>\n",
       "      <td>740.7</td>\n",
       "      <td>740.7</td>\n",
       "      <td>740.7</td>\n",
       "      <td>1.000000e+01</td>\n",
       "      <td>7.407000e+03</td>\n",
       "    </tr>\n",
       "  </tbody>\n",
       "</table>\n",
       "<p>55249 rows × 7 columns</p>\n",
       "</div>"
      ],
      "text/plain": [
       "                 timestamp   open   high    low  close        volume  \\\n",
       "0      2024-09-03 22:05:00  200.0  499.0  200.0  390.0  3.339987e+07   \n",
       "1      2024-09-03 22:06:00  390.0  395.5  349.5  350.0  2.215647e+07   \n",
       "2      2024-09-03 22:07:00  349.8  366.0  344.2  361.0  1.029749e+07   \n",
       "3      2024-09-03 22:08:00  361.0  376.5  361.0  372.4  8.869899e+06   \n",
       "4      2024-09-03 22:09:00  372.4  376.8  368.8  368.9  6.204757e+06   \n",
       "...                    ...    ...    ...    ...    ...           ...   \n",
       "55244  2024-10-12 21:06:00  737.5  738.8  737.4  738.8  1.832447e+04   \n",
       "55245  2024-10-12 21:07:00  738.4  740.5  738.4  739.6  1.084755e+04   \n",
       "55246  2024-10-12 21:08:00  740.4  740.5  739.5  739.9  2.903907e+04   \n",
       "55247  2024-10-12 21:09:00  739.9  740.7  739.9  740.0  5.953868e+03   \n",
       "55248  2024-10-12 21:10:00  740.7  740.7  740.7  740.7  1.000000e+01   \n",
       "\n",
       "              value  \n",
       "0      1.492218e+10  \n",
       "1      8.109357e+09  \n",
       "2      3.709872e+09  \n",
       "3      3.288303e+09  \n",
       "4      2.316654e+09  \n",
       "...             ...  \n",
       "55244  1.351471e+07  \n",
       "55245  8.023372e+06  \n",
       "55246  2.148139e+07  \n",
       "55247  4.407777e+06  \n",
       "55248  7.407000e+03  \n",
       "\n",
       "[55249 rows x 7 columns]"
      ]
     },
     "execution_count": 5,
     "metadata": {},
     "output_type": "execute_result"
    }
   ],
   "source": [
    "df"
   ]
  },
  {
   "cell_type": "code",
   "execution_count": 6,
   "metadata": {},
   "outputs": [],
   "source": [
    "df['timestamp'] = pd.to_datetime(df['timestamp'])\n",
    "df.set_index('timestamp', inplace=True)"
   ]
  },
  {
   "cell_type": "code",
   "execution_count": 7,
   "metadata": {},
   "outputs": [
    {
     "data": {
      "text/html": [
       "<div>\n",
       "<style scoped>\n",
       "    .dataframe tbody tr th:only-of-type {\n",
       "        vertical-align: middle;\n",
       "    }\n",
       "\n",
       "    .dataframe tbody tr th {\n",
       "        vertical-align: top;\n",
       "    }\n",
       "\n",
       "    .dataframe thead th {\n",
       "        text-align: right;\n",
       "    }\n",
       "</style>\n",
       "<table border=\"1\" class=\"dataframe\">\n",
       "  <thead>\n",
       "    <tr style=\"text-align: right;\">\n",
       "      <th></th>\n",
       "      <th>open</th>\n",
       "      <th>high</th>\n",
       "      <th>low</th>\n",
       "      <th>close</th>\n",
       "      <th>volume</th>\n",
       "      <th>value</th>\n",
       "    </tr>\n",
       "    <tr>\n",
       "      <th>timestamp</th>\n",
       "      <th></th>\n",
       "      <th></th>\n",
       "      <th></th>\n",
       "      <th></th>\n",
       "      <th></th>\n",
       "      <th></th>\n",
       "    </tr>\n",
       "  </thead>\n",
       "  <tbody>\n",
       "    <tr>\n",
       "      <th>2024-09-03 22:05:00</th>\n",
       "      <td>200.0</td>\n",
       "      <td>499.0</td>\n",
       "      <td>200.0</td>\n",
       "      <td>390.0</td>\n",
       "      <td>3.339987e+07</td>\n",
       "      <td>1.492218e+10</td>\n",
       "    </tr>\n",
       "    <tr>\n",
       "      <th>2024-09-03 22:06:00</th>\n",
       "      <td>390.0</td>\n",
       "      <td>395.5</td>\n",
       "      <td>349.5</td>\n",
       "      <td>350.0</td>\n",
       "      <td>2.215647e+07</td>\n",
       "      <td>8.109357e+09</td>\n",
       "    </tr>\n",
       "    <tr>\n",
       "      <th>2024-09-03 22:07:00</th>\n",
       "      <td>349.8</td>\n",
       "      <td>366.0</td>\n",
       "      <td>344.2</td>\n",
       "      <td>361.0</td>\n",
       "      <td>1.029749e+07</td>\n",
       "      <td>3.709872e+09</td>\n",
       "    </tr>\n",
       "    <tr>\n",
       "      <th>2024-09-03 22:08:00</th>\n",
       "      <td>361.0</td>\n",
       "      <td>376.5</td>\n",
       "      <td>361.0</td>\n",
       "      <td>372.4</td>\n",
       "      <td>8.869899e+06</td>\n",
       "      <td>3.288303e+09</td>\n",
       "    </tr>\n",
       "    <tr>\n",
       "      <th>2024-09-03 22:09:00</th>\n",
       "      <td>372.4</td>\n",
       "      <td>376.8</td>\n",
       "      <td>368.8</td>\n",
       "      <td>368.9</td>\n",
       "      <td>6.204757e+06</td>\n",
       "      <td>2.316654e+09</td>\n",
       "    </tr>\n",
       "    <tr>\n",
       "      <th>...</th>\n",
       "      <td>...</td>\n",
       "      <td>...</td>\n",
       "      <td>...</td>\n",
       "      <td>...</td>\n",
       "      <td>...</td>\n",
       "      <td>...</td>\n",
       "    </tr>\n",
       "    <tr>\n",
       "      <th>2024-10-12 21:06:00</th>\n",
       "      <td>737.5</td>\n",
       "      <td>738.8</td>\n",
       "      <td>737.4</td>\n",
       "      <td>738.8</td>\n",
       "      <td>1.832447e+04</td>\n",
       "      <td>1.351471e+07</td>\n",
       "    </tr>\n",
       "    <tr>\n",
       "      <th>2024-10-12 21:07:00</th>\n",
       "      <td>738.4</td>\n",
       "      <td>740.5</td>\n",
       "      <td>738.4</td>\n",
       "      <td>739.6</td>\n",
       "      <td>1.084755e+04</td>\n",
       "      <td>8.023372e+06</td>\n",
       "    </tr>\n",
       "    <tr>\n",
       "      <th>2024-10-12 21:08:00</th>\n",
       "      <td>740.4</td>\n",
       "      <td>740.5</td>\n",
       "      <td>739.5</td>\n",
       "      <td>739.9</td>\n",
       "      <td>2.903907e+04</td>\n",
       "      <td>2.148139e+07</td>\n",
       "    </tr>\n",
       "    <tr>\n",
       "      <th>2024-10-12 21:09:00</th>\n",
       "      <td>739.9</td>\n",
       "      <td>740.7</td>\n",
       "      <td>739.9</td>\n",
       "      <td>740.0</td>\n",
       "      <td>5.953868e+03</td>\n",
       "      <td>4.407777e+06</td>\n",
       "    </tr>\n",
       "    <tr>\n",
       "      <th>2024-10-12 21:10:00</th>\n",
       "      <td>740.7</td>\n",
       "      <td>740.7</td>\n",
       "      <td>740.7</td>\n",
       "      <td>740.7</td>\n",
       "      <td>1.000000e+01</td>\n",
       "      <td>7.407000e+03</td>\n",
       "    </tr>\n",
       "  </tbody>\n",
       "</table>\n",
       "<p>55249 rows × 6 columns</p>\n",
       "</div>"
      ],
      "text/plain": [
       "                      open   high    low  close        volume         value\n",
       "timestamp                                                                  \n",
       "2024-09-03 22:05:00  200.0  499.0  200.0  390.0  3.339987e+07  1.492218e+10\n",
       "2024-09-03 22:06:00  390.0  395.5  349.5  350.0  2.215647e+07  8.109357e+09\n",
       "2024-09-03 22:07:00  349.8  366.0  344.2  361.0  1.029749e+07  3.709872e+09\n",
       "2024-09-03 22:08:00  361.0  376.5  361.0  372.4  8.869899e+06  3.288303e+09\n",
       "2024-09-03 22:09:00  372.4  376.8  368.8  368.9  6.204757e+06  2.316654e+09\n",
       "...                    ...    ...    ...    ...           ...           ...\n",
       "2024-10-12 21:06:00  737.5  738.8  737.4  738.8  1.832447e+04  1.351471e+07\n",
       "2024-10-12 21:07:00  738.4  740.5  738.4  739.6  1.084755e+04  8.023372e+06\n",
       "2024-10-12 21:08:00  740.4  740.5  739.5  739.9  2.903907e+04  2.148139e+07\n",
       "2024-10-12 21:09:00  739.9  740.7  739.9  740.0  5.953868e+03  4.407777e+06\n",
       "2024-10-12 21:10:00  740.7  740.7  740.7  740.7  1.000000e+01  7.407000e+03\n",
       "\n",
       "[55249 rows x 6 columns]"
      ]
     },
     "execution_count": 7,
     "metadata": {},
     "output_type": "execute_result"
    }
   ],
   "source": [
    "df"
   ]
  },
  {
   "cell_type": "code",
   "execution_count": 8,
   "metadata": {},
   "outputs": [
    {
     "data": {
      "text/plain": [
       "['models/KRW-UXLINK_scaler.pkl']"
      ]
     },
     "execution_count": 8,
     "metadata": {},
     "output_type": "execute_result"
    }
   ],
   "source": [
    "scaler = MinMaxScaler(feature_range=(0, 1))\n",
    "scaled_data = scaler.fit_transform(df['close'].values.reshape(-1, 1))\n",
    "joblib.dump(scaler, f'models/{coin}_scaler.pkl')"
   ]
  },
  {
   "cell_type": "code",
   "execution_count": 9,
   "metadata": {},
   "outputs": [],
   "source": [
    "timestep = 1"
   ]
  },
  {
   "cell_type": "code",
   "execution_count": 10,
   "metadata": {},
   "outputs": [],
   "source": [
    "X = []\n",
    "y = []\n",
    "for i in range(len(scaled_data) - timestep - 1):\n",
    "    X.append(scaled_data[i:(i + timestep), 0])\n",
    "    y.append(scaled_data[i + timestep, 0])"
   ]
  },
  {
   "cell_type": "code",
   "execution_count": 11,
   "metadata": {},
   "outputs": [],
   "source": [
    "X, y = np.array(X), np.array(y)"
   ]
  },
  {
   "cell_type": "code",
   "execution_count": 12,
   "metadata": {},
   "outputs": [],
   "source": [
    "train_size = int(len(X) * .8)\n",
    "X_train, X_test = X[:train_size], X[train_size:]\n",
    "y_train, y_test = y[:train_size], y[train_size:]"
   ]
  },
  {
   "cell_type": "code",
   "execution_count": 13,
   "metadata": {},
   "outputs": [],
   "source": [
    "train_dates = df.index[:train_size]\n",
    "test_dates = df.index[train_size:]"
   ]
  },
  {
   "cell_type": "code",
   "execution_count": 14,
   "metadata": {},
   "outputs": [],
   "source": [
    "X_train = X_train.reshape(X_train.shape[0], X_train.shape[1], 1)\n",
    "X_test = X_test.reshape(X_test.shape[0], X_test.shape[1], 1)"
   ]
  },
  {
   "cell_type": "code",
   "execution_count": 15,
   "metadata": {},
   "outputs": [],
   "source": [
    "model = Sequential()\n",
    "model.add(LSTM(50, return_sequences=True, input_shape=(timestep, 1)))\n",
    "model.add(LSTM(50, return_sequences=False))\n",
    "model.add(Dense(25))\n",
    "model.add(Dense(1))"
   ]
  },
  {
   "cell_type": "code",
   "execution_count": 16,
   "metadata": {},
   "outputs": [],
   "source": [
    "model.compile(optimizer='adam', loss='mean_squared_error')"
   ]
  },
  {
   "cell_type": "code",
   "execution_count": 17,
   "metadata": {},
   "outputs": [],
   "source": [
    "early_stop = EarlyStopping(monitor='val_loss', patience=10)"
   ]
  },
  {
   "cell_type": "code",
   "execution_count": 18,
   "metadata": {},
   "outputs": [
    {
     "name": "stdout",
     "output_type": "stream",
     "text": [
      "Epoch 1/20\n",
      "1382/1382 [==============================] - 9s 5ms/step - loss: 0.0066 - val_loss: 3.6228e-06\n",
      "Epoch 2/20\n",
      "1382/1382 [==============================] - 6s 4ms/step - loss: 8.7828e-06 - val_loss: 4.2918e-06\n",
      "Epoch 3/20\n",
      "1382/1382 [==============================] - 6s 4ms/step - loss: 1.0023e-05 - val_loss: 1.4812e-05\n",
      "Epoch 4/20\n",
      "1382/1382 [==============================] - 6s 4ms/step - loss: 1.1489e-05 - val_loss: 4.7970e-06\n",
      "Epoch 5/20\n",
      "1382/1382 [==============================] - 6s 5ms/step - loss: 1.2401e-05 - val_loss: 3.4572e-06\n",
      "Epoch 6/20\n",
      "1382/1382 [==============================] - 12s 9ms/step - loss: 1.3147e-05 - val_loss: 1.5499e-05\n",
      "Epoch 7/20\n",
      "1382/1382 [==============================] - 14s 10ms/step - loss: 1.2752e-05 - val_loss: 4.0459e-06\n",
      "Epoch 8/20\n",
      "1382/1382 [==============================] - 14s 10ms/step - loss: 1.3013e-05 - val_loss: 1.9194e-05\n",
      "Epoch 9/20\n",
      "1382/1382 [==============================] - 14s 10ms/step - loss: 1.3886e-05 - val_loss: 5.1954e-06\n",
      "Epoch 10/20\n",
      "1382/1382 [==============================] - 16s 11ms/step - loss: 1.4239e-05 - val_loss: 1.3903e-05\n",
      "Epoch 11/20\n",
      "1382/1382 [==============================] - 16s 11ms/step - loss: 1.3053e-05 - val_loss: 2.0194e-05\n",
      "Epoch 12/20\n",
      "1382/1382 [==============================] - 14s 10ms/step - loss: 1.2208e-05 - val_loss: 4.2899e-06\n",
      "Epoch 13/20\n",
      "1382/1382 [==============================] - 15s 11ms/step - loss: 1.3161e-05 - val_loss: 7.8678e-05\n",
      "Epoch 14/20\n",
      "1382/1382 [==============================] - 14s 10ms/step - loss: 1.3534e-05 - val_loss: 6.6418e-06\n",
      "Epoch 15/20\n",
      "1382/1382 [==============================] - 16s 11ms/step - loss: 1.2546e-05 - val_loss: 8.5197e-06\n"
     ]
    },
    {
     "data": {
      "text/plain": [
       "<keras.callbacks.History at 0x23b16fdfee0>"
      ]
     },
     "execution_count": 18,
     "metadata": {},
     "output_type": "execute_result"
    }
   ],
   "source": [
    "model.fit(X_train, y_train, batch_size=32, epochs=20,\n",
    "          validation_data=(X_test, y_test), callbacks=[early_stop])"
   ]
  },
  {
   "cell_type": "code",
   "execution_count": 19,
   "metadata": {},
   "outputs": [],
   "source": [
    "model.save(f'models/lstm_{coin}.h5')"
   ]
  },
  {
   "cell_type": "code",
   "execution_count": 20,
   "metadata": {},
   "outputs": [
    {
     "name": "stdout",
     "output_type": "stream",
     "text": [
      "1382/1382 [==============================] - 6s 3ms/step\n",
      "346/346 [==============================] - 1s 1ms/step\n"
     ]
    }
   ],
   "source": [
    "train_predict = model.predict(X_train)\n",
    "test_predict = model.predict(X_test)"
   ]
  },
  {
   "cell_type": "code",
   "execution_count": 21,
   "metadata": {},
   "outputs": [],
   "source": [
    "train_predict = scaler.inverse_transform(train_predict)\n",
    "test_predict = scaler.inverse_transform(test_predict)\n",
    "y_train = scaler.inverse_transform([y_train])\n",
    "y_test = scaler.inverse_transform([y_test])"
   ]
  },
  {
   "cell_type": "code",
   "execution_count": 22,
   "metadata": {},
   "outputs": [
    {
     "data": {
      "text/plain": [
       "array([[767.94073],\n",
       "       [767.94073],\n",
       "       [765.85016],\n",
       "       ...,\n",
       "       [737.17194],\n",
       "       [737.9687 ],\n",
       "       [738.2675 ]], dtype=float32)"
      ]
     },
     "execution_count": 22,
     "metadata": {},
     "output_type": "execute_result"
    }
   ],
   "source": [
    "test_predict"
   ]
  },
  {
   "cell_type": "code",
   "execution_count": 23,
   "metadata": {},
   "outputs": [
    {
     "data": {
      "text/plain": [
       "array([[769.7, 767.6, 767.8, ..., 739.6, 739.9, 740. ]])"
      ]
     },
     "execution_count": 23,
     "metadata": {},
     "output_type": "execute_result"
    }
   ],
   "source": [
    "y_test"
   ]
  },
  {
   "cell_type": "code",
   "execution_count": 24,
   "metadata": {},
   "outputs": [
    {
     "name": "stdout",
     "output_type": "stream",
     "text": [
      "Train RMSE: 2.64\n",
      "Test RMSE: 2.20\n"
     ]
    }
   ],
   "source": [
    "train_score = np.sqrt(mean_squared_error(y_train[0], train_predict[:, 0]))\n",
    "test_score = np.sqrt(mean_squared_error(y_test[0], test_predict[:, 0]))\n",
    "print(f'Train RMSE: {train_score:.2f}')\n",
    "print(f'Test RMSE: {test_score:.2f}')"
   ]
  },
  {
   "cell_type": "code",
   "execution_count": 25,
   "metadata": {},
   "outputs": [
    {
     "data": {
      "image/png": "[encoded data removed]",
      "text/plain": [
       "<Figure size 1440x720 with 1 Axes>"
      ]
     },
     "metadata": {
      "needs_background": "light"
     },
     "output_type": "display_data"
    }
   ],
   "source": [
    "plt.figure(figsize=(20, 10))\n",
    "plt.subplot(1, 1, 1)\n",
    "plt.plot(train_dates, y_train[0], label='Actual', color = 'Blue')\n",
    "plt.plot(train_dates, train_predict, label='Predicted', color = 'Red')\n",
    "plt.title('Train Data')\n",
    "plt.xlabel('Date')\n",
    "plt.ylabel('Price')\n",
    "plt.legend()\n",
    "plt.xticks(rotation=45)\n",
    "plt.gca().xaxis.set_major_formatter(DateFormatter('%Y'))"
   ]
  },
  {
   "cell_type": "code",
   "execution_count": 26,
   "metadata": {},
   "outputs": [
    {
     "data": {
      "image/png": "[encoded data removed]",
      "text/plain": [
       "<Figure size 432x288 with 1 Axes>"
      ]
     },
     "metadata": {
      "needs_background": "light"
     },
     "output_type": "display_data"
    }
   ],
   "source": [
    "plt.subplot(1, 1, 1)\n",
    "plt.plot(test_dates[:-2], y_test[0], label='Actual', color = 'Blue')\n",
    "plt.plot(test_dates[:-2], test_predict, label='Predicted', color = 'Red')\n",
    "plt.title('Test Data')\n",
    "plt.xlabel('Date')\n",
    "plt.ylabel('Price')\n",
    "plt.legend()\n",
    "plt.xticks(rotation=45)\n",
    "plt.gca().xaxis.set_major_formatter(DateFormatter('%Y-%m'))\n",
    "\n",
    "plt.tight_layout()\n",
    "plt.show()"
   ]
  },
  {
   "cell_type": "code",
   "execution_count": 27,
   "metadata": {},
   "outputs": [
    {
     "name": "stdout",
     "output_type": "stream",
     "text": [
      "[[0.66184088]]\n"
     ]
    }
   ],
   "source": [
    "last_1_day = scaled_data[-timestep:]\n",
    "X_predict = last_1_day.reshape(1, timestep, 1)\n",
    "print(last_1_day)"
   ]
  },
  {
   "cell_type": "code",
   "execution_count": 28,
   "metadata": {},
   "outputs": [
    {
     "name": "stdout",
     "output_type": "stream",
     "text": [
      "1/1 [==============================] - 0s 13ms/step\n",
      "[[739.06433]]\n"
     ]
    }
   ],
   "source": [
    "pred = model.predict(X_predict)\n",
    "pred = scaler.inverse_transform(pred)\n",
    "print(pred)"
   ]
  },
  {
   "cell_type": "code",
   "execution_count": 29,
   "metadata": {},
   "outputs": [
    {
     "name": "stdout",
     "output_type": "stream",
     "text": [
      "1/1 [==============================] - 0s 12ms/step\n",
      "1/1 [==============================] - 0s 13ms/step\n",
      "1/1 [==============================] - 0s 13ms/step\n",
      "1/1 [==============================] - 0s 14ms/step\n",
      "1/1 [==============================] - 0s 13ms/step\n",
      "1/1 [==============================] - 0s 13ms/step\n",
      "1/1 [==============================] - 0s 15ms/step\n",
      "1/1 [==============================] - 0s 14ms/step\n",
      "1/1 [==============================] - 0s 14ms/step\n",
      "1/1 [==============================] - 0s 15ms/step\n",
      "1/1 [==============================] - 0s 14ms/step\n",
      "1/1 [==============================] - 0s 23ms/step\n",
      "1/1 [==============================] - 0s 18ms/step\n",
      "1/1 [==============================] - 0s 19ms/step\n",
      "1/1 [==============================] - 0s 31ms/step\n",
      "1/1 [==============================] - 0s 27ms/step\n",
      "1/1 [==============================] - 0s 16ms/step\n",
      "1/1 [==============================] - 0s 14ms/step\n",
      "1/1 [==============================] - 0s 13ms/step\n",
      "1/1 [==============================] - 0s 43ms/step\n",
      "1/1 [==============================] - 0s 23ms/step\n",
      "1/1 [==============================] - 0s 15ms/step\n",
      "1/1 [==============================] - 0s 13ms/step\n",
      "1/1 [==============================] - 0s 13ms/step\n",
      "1/1 [==============================] - 0s 13ms/step\n",
      "1/1 [==============================] - 0s 12ms/step\n",
      "1/1 [==============================] - 0s 13ms/step\n",
      "1/1 [==============================] - 0s 14ms/step\n",
      "1/1 [==============================] - 0s 14ms/step\n",
      "1/1 [==============================] - 0s 13ms/step\n"
     ]
    }
   ],
   "source": [
    "preds = []\n",
    "for i in range(30):\n",
    "    pred = model.predict(X_predict)\n",
    "    preds.append(scaler.inverse_transform(pred)[0][0])\n",
    "    pred = pred.reshape(1, 1, 1)\n",
    "    X_predict = np.append(X_predict[:, 1:, :], pred, axis=1).reshape(1, timestep, 1)"
   ]
  },
  {
   "cell_type": "code",
   "execution_count": 30,
   "metadata": {},
   "outputs": [
    {
     "data": {
      "text/plain": [
       "[739.06433,\n",
       " 737.4352,\n",
       " 735.8125,\n",
       " 734.1962,\n",
       " 732.58624,\n",
       " 730.9825,\n",
       " 729.3848,\n",
       " 727.79333,\n",
       " 726.2079,\n",
       " 724.62836,\n",
       " 723.05475,\n",
       " 721.487,\n",
       " 719.92505,\n",
       " 718.3688,\n",
       " 716.81824,\n",
       " 715.2732,\n",
       " 713.73376,\n",
       " 712.1998,\n",
       " 710.6712,\n",
       " 709.148,\n",
       " 707.6302,\n",
       " 706.1176,\n",
       " 704.61017,\n",
       " 703.108,\n",
       " 701.61084,\n",
       " 700.1187,\n",
       " 698.63165,\n",
       " 697.1495,\n",
       " 695.67224,\n",
       " 694.1999]"
      ]
     },
     "execution_count": 30,
     "metadata": {},
     "output_type": "execute_result"
    }
   ],
   "source": [
    "preds"
   ]
  },
  {
   "cell_type": "code",
   "execution_count": null,
   "metadata": {},
   "outputs": [],
   "source": []
  }
 ],
 "metadata": {
  "kernelspec": {
   "display_name": "Python 3",
   "language": "python",
   "name": "python3"
  },
  "language_info": {
   "codemirror_mode": {
    "name": "ipython",
    "version": 3
   },
   "file_extension": ".py",
   "mimetype": "text/x-python",
   "name": "python",
   "nbconvert_exporter": "python",
   "pygments_lexer": "ipython3",
   "version": "3.10.2"
  }
 },
 "nbformat": 4,
 "nbformat_minor": 2
}
