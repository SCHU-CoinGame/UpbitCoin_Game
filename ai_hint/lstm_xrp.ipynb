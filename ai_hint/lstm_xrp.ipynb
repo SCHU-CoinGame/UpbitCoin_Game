{
 "cells": [
  {
   "cell_type": "code",
   "execution_count": 1,
   "metadata": {},
   "outputs": [],
   "source": [
    "from tensorflow.keras.layers import LSTM, Dense\n",
    "from tensorflow.keras.models import Sequential\n",
    "from tensorflow.keras.callbacks import EarlyStopping\n",
    "\n",
    "import pandas as pd\n",
    "import numpy as np\n",
    "import matplotlib.pyplot as plt\n",
    "from matplotlib.dates import DateFormatter\n",
    "import joblib\n",
    "\n",
    "from sklearn.preprocessing import MinMaxScaler\n",
    "from sklearn.metrics import mean_squared_error"
   ]
  },
  {
   "cell_type": "code",
   "execution_count": 2,
   "metadata": {},
   "outputs": [],
   "source": [
    "seed = 42"
   ]
  },
  {
   "cell_type": "code",
   "execution_count": 3,
   "metadata": {},
   "outputs": [],
   "source": [
    "coin = 'KRW-XRP'"
   ]
  },
  {
   "cell_type": "code",
   "execution_count": 4,
   "metadata": {},
   "outputs": [],
   "source": [
    "df = pd.read_csv(f'../data/from_pyupbit/{coin}.csv')"
   ]
  },
  {
   "cell_type": "code",
   "execution_count": 5,
   "metadata": {},
   "outputs": [
    {
     "data": {
      "text/html": [
       "<div>\n",
       "<style scoped>\n",
       "    .dataframe tbody tr th:only-of-type {\n",
       "        vertical-align: middle;\n",
       "    }\n",
       "\n",
       "    .dataframe tbody tr th {\n",
       "        vertical-align: top;\n",
       "    }\n",
       "\n",
       "    .dataframe thead th {\n",
       "        text-align: right;\n",
       "    }\n",
       "</style>\n",
       "<table border=\"1\" class=\"dataframe\">\n",
       "  <thead>\n",
       "    <tr style=\"text-align: right;\">\n",
       "      <th></th>\n",
       "      <th>timestamp</th>\n",
       "      <th>open</th>\n",
       "      <th>high</th>\n",
       "      <th>low</th>\n",
       "      <th>close</th>\n",
       "      <th>volume</th>\n",
       "      <th>value</th>\n",
       "    </tr>\n",
       "  </thead>\n",
       "  <tbody>\n",
       "    <tr>\n",
       "      <th>0</th>\n",
       "      <td>2021-10-10 18:06:00</td>\n",
       "      <td>1470.0</td>\n",
       "      <td>1475.0</td>\n",
       "      <td>1470.0</td>\n",
       "      <td>1475.0</td>\n",
       "      <td>110563.445140</td>\n",
       "      <td>1.626721e+08</td>\n",
       "    </tr>\n",
       "    <tr>\n",
       "      <th>1</th>\n",
       "      <td>2021-10-10 18:07:00</td>\n",
       "      <td>1475.0</td>\n",
       "      <td>1475.0</td>\n",
       "      <td>1470.0</td>\n",
       "      <td>1470.0</td>\n",
       "      <td>360092.163153</td>\n",
       "      <td>5.293728e+08</td>\n",
       "    </tr>\n",
       "    <tr>\n",
       "      <th>2</th>\n",
       "      <td>2021-10-10 18:08:00</td>\n",
       "      <td>1470.0</td>\n",
       "      <td>1470.0</td>\n",
       "      <td>1465.0</td>\n",
       "      <td>1470.0</td>\n",
       "      <td>43811.266082</td>\n",
       "      <td>6.429402e+07</td>\n",
       "    </tr>\n",
       "    <tr>\n",
       "      <th>3</th>\n",
       "      <td>2021-10-10 18:09:00</td>\n",
       "      <td>1470.0</td>\n",
       "      <td>1470.0</td>\n",
       "      <td>1465.0</td>\n",
       "      <td>1465.0</td>\n",
       "      <td>155319.977788</td>\n",
       "      <td>2.276242e+08</td>\n",
       "    </tr>\n",
       "    <tr>\n",
       "      <th>4</th>\n",
       "      <td>2021-10-10 18:10:00</td>\n",
       "      <td>1465.0</td>\n",
       "      <td>1470.0</td>\n",
       "      <td>1465.0</td>\n",
       "      <td>1465.0</td>\n",
       "      <td>213592.423806</td>\n",
       "      <td>3.130284e+08</td>\n",
       "    </tr>\n",
       "    <tr>\n",
       "      <th>...</th>\n",
       "      <td>...</td>\n",
       "      <td>...</td>\n",
       "      <td>...</td>\n",
       "      <td>...</td>\n",
       "      <td>...</td>\n",
       "      <td>...</td>\n",
       "      <td>...</td>\n",
       "    </tr>\n",
       "    <tr>\n",
       "      <th>1576795</th>\n",
       "      <td>2024-10-12 21:09:00</td>\n",
       "      <td>727.2</td>\n",
       "      <td>727.3</td>\n",
       "      <td>727.1</td>\n",
       "      <td>727.2</td>\n",
       "      <td>22987.224447</td>\n",
       "      <td>1.671676e+07</td>\n",
       "    </tr>\n",
       "    <tr>\n",
       "      <th>1576796</th>\n",
       "      <td>2024-10-12 21:10:00</td>\n",
       "      <td>727.2</td>\n",
       "      <td>728.3</td>\n",
       "      <td>727.1</td>\n",
       "      <td>727.2</td>\n",
       "      <td>82760.592301</td>\n",
       "      <td>6.022854e+07</td>\n",
       "    </tr>\n",
       "    <tr>\n",
       "      <th>1576797</th>\n",
       "      <td>2024-10-12 21:11:00</td>\n",
       "      <td>727.2</td>\n",
       "      <td>728.0</td>\n",
       "      <td>727.1</td>\n",
       "      <td>727.2</td>\n",
       "      <td>47655.604030</td>\n",
       "      <td>3.465902e+07</td>\n",
       "    </tr>\n",
       "    <tr>\n",
       "      <th>1576798</th>\n",
       "      <td>2024-10-12 21:12:00</td>\n",
       "      <td>727.2</td>\n",
       "      <td>728.1</td>\n",
       "      <td>727.2</td>\n",
       "      <td>728.0</td>\n",
       "      <td>42141.058456</td>\n",
       "      <td>3.067595e+07</td>\n",
       "    </tr>\n",
       "    <tr>\n",
       "      <th>1576799</th>\n",
       "      <td>2024-10-12 21:13:00</td>\n",
       "      <td>728.0</td>\n",
       "      <td>728.0</td>\n",
       "      <td>727.9</td>\n",
       "      <td>727.9</td>\n",
       "      <td>1878.652442</td>\n",
       "      <td>1.367602e+06</td>\n",
       "    </tr>\n",
       "  </tbody>\n",
       "</table>\n",
       "<p>1576800 rows × 7 columns</p>\n",
       "</div>"
      ],
      "text/plain": [
       "                   timestamp    open    high     low   close         volume  \\\n",
       "0        2021-10-10 18:06:00  1470.0  1475.0  1470.0  1475.0  110563.445140   \n",
       "1        2021-10-10 18:07:00  1475.0  1475.0  1470.0  1470.0  360092.163153   \n",
       "2        2021-10-10 18:08:00  1470.0  1470.0  1465.0  1470.0   43811.266082   \n",
       "3        2021-10-10 18:09:00  1470.0  1470.0  1465.0  1465.0  155319.977788   \n",
       "4        2021-10-10 18:10:00  1465.0  1470.0  1465.0  1465.0  213592.423806   \n",
       "...                      ...     ...     ...     ...     ...            ...   \n",
       "1576795  2024-10-12 21:09:00   727.2   727.3   727.1   727.2   22987.224447   \n",
       "1576796  2024-10-12 21:10:00   727.2   728.3   727.1   727.2   82760.592301   \n",
       "1576797  2024-10-12 21:11:00   727.2   728.0   727.1   727.2   47655.604030   \n",
       "1576798  2024-10-12 21:12:00   727.2   728.1   727.2   728.0   42141.058456   \n",
       "1576799  2024-10-12 21:13:00   728.0   728.0   727.9   727.9    1878.652442   \n",
       "\n",
       "                value  \n",
       "0        1.626721e+08  \n",
       "1        5.293728e+08  \n",
       "2        6.429402e+07  \n",
       "3        2.276242e+08  \n",
       "4        3.130284e+08  \n",
       "...               ...  \n",
       "1576795  1.671676e+07  \n",
       "1576796  6.022854e+07  \n",
       "1576797  3.465902e+07  \n",
       "1576798  3.067595e+07  \n",
       "1576799  1.367602e+06  \n",
       "\n",
       "[1576800 rows x 7 columns]"
      ]
     },
     "execution_count": 5,
     "metadata": {},
     "output_type": "execute_result"
    }
   ],
   "source": [
    "df"
   ]
  },
  {
   "cell_type": "code",
   "execution_count": 6,
   "metadata": {},
   "outputs": [],
   "source": [
    "df['timestamp'] = pd.to_datetime(df['timestamp'])\n",
    "df.set_index('timestamp', inplace=True)"
   ]
  },
  {
   "cell_type": "code",
   "execution_count": 7,
   "metadata": {},
   "outputs": [
    {
     "data": {
      "text/html": [
       "<div>\n",
       "<style scoped>\n",
       "    .dataframe tbody tr th:only-of-type {\n",
       "        vertical-align: middle;\n",
       "    }\n",
       "\n",
       "    .dataframe tbody tr th {\n",
       "        vertical-align: top;\n",
       "    }\n",
       "\n",
       "    .dataframe thead th {\n",
       "        text-align: right;\n",
       "    }\n",
       "</style>\n",
       "<table border=\"1\" class=\"dataframe\">\n",
       "  <thead>\n",
       "    <tr style=\"text-align: right;\">\n",
       "      <th></th>\n",
       "      <th>open</th>\n",
       "      <th>high</th>\n",
       "      <th>low</th>\n",
       "      <th>close</th>\n",
       "      <th>volume</th>\n",
       "      <th>value</th>\n",
       "    </tr>\n",
       "    <tr>\n",
       "      <th>timestamp</th>\n",
       "      <th></th>\n",
       "      <th></th>\n",
       "      <th></th>\n",
       "      <th></th>\n",
       "      <th></th>\n",
       "      <th></th>\n",
       "    </tr>\n",
       "  </thead>\n",
       "  <tbody>\n",
       "    <tr>\n",
       "      <th>2021-10-10 18:06:00</th>\n",
       "      <td>1470.0</td>\n",
       "      <td>1475.0</td>\n",
       "      <td>1470.0</td>\n",
       "      <td>1475.0</td>\n",
       "      <td>110563.445140</td>\n",
       "      <td>1.626721e+08</td>\n",
       "    </tr>\n",
       "    <tr>\n",
       "      <th>2021-10-10 18:07:00</th>\n",
       "      <td>1475.0</td>\n",
       "      <td>1475.0</td>\n",
       "      <td>1470.0</td>\n",
       "      <td>1470.0</td>\n",
       "      <td>360092.163153</td>\n",
       "      <td>5.293728e+08</td>\n",
       "    </tr>\n",
       "    <tr>\n",
       "      <th>2021-10-10 18:08:00</th>\n",
       "      <td>1470.0</td>\n",
       "      <td>1470.0</td>\n",
       "      <td>1465.0</td>\n",
       "      <td>1470.0</td>\n",
       "      <td>43811.266082</td>\n",
       "      <td>6.429402e+07</td>\n",
       "    </tr>\n",
       "    <tr>\n",
       "      <th>2021-10-10 18:09:00</th>\n",
       "      <td>1470.0</td>\n",
       "      <td>1470.0</td>\n",
       "      <td>1465.0</td>\n",
       "      <td>1465.0</td>\n",
       "      <td>155319.977788</td>\n",
       "      <td>2.276242e+08</td>\n",
       "    </tr>\n",
       "    <tr>\n",
       "      <th>2021-10-10 18:10:00</th>\n",
       "      <td>1465.0</td>\n",
       "      <td>1470.0</td>\n",
       "      <td>1465.0</td>\n",
       "      <td>1465.0</td>\n",
       "      <td>213592.423806</td>\n",
       "      <td>3.130284e+08</td>\n",
       "    </tr>\n",
       "    <tr>\n",
       "      <th>...</th>\n",
       "      <td>...</td>\n",
       "      <td>...</td>\n",
       "      <td>...</td>\n",
       "      <td>...</td>\n",
       "      <td>...</td>\n",
       "      <td>...</td>\n",
       "    </tr>\n",
       "    <tr>\n",
       "      <th>2024-10-12 21:09:00</th>\n",
       "      <td>727.2</td>\n",
       "      <td>727.3</td>\n",
       "      <td>727.1</td>\n",
       "      <td>727.2</td>\n",
       "      <td>22987.224447</td>\n",
       "      <td>1.671676e+07</td>\n",
       "    </tr>\n",
       "    <tr>\n",
       "      <th>2024-10-12 21:10:00</th>\n",
       "      <td>727.2</td>\n",
       "      <td>728.3</td>\n",
       "      <td>727.1</td>\n",
       "      <td>727.2</td>\n",
       "      <td>82760.592301</td>\n",
       "      <td>6.022854e+07</td>\n",
       "    </tr>\n",
       "    <tr>\n",
       "      <th>2024-10-12 21:11:00</th>\n",
       "      <td>727.2</td>\n",
       "      <td>728.0</td>\n",
       "      <td>727.1</td>\n",
       "      <td>727.2</td>\n",
       "      <td>47655.604030</td>\n",
       "      <td>3.465902e+07</td>\n",
       "    </tr>\n",
       "    <tr>\n",
       "      <th>2024-10-12 21:12:00</th>\n",
       "      <td>727.2</td>\n",
       "      <td>728.1</td>\n",
       "      <td>727.2</td>\n",
       "      <td>728.0</td>\n",
       "      <td>42141.058456</td>\n",
       "      <td>3.067595e+07</td>\n",
       "    </tr>\n",
       "    <tr>\n",
       "      <th>2024-10-12 21:13:00</th>\n",
       "      <td>728.0</td>\n",
       "      <td>728.0</td>\n",
       "      <td>727.9</td>\n",
       "      <td>727.9</td>\n",
       "      <td>1878.652442</td>\n",
       "      <td>1.367602e+06</td>\n",
       "    </tr>\n",
       "  </tbody>\n",
       "</table>\n",
       "<p>1576800 rows × 6 columns</p>\n",
       "</div>"
      ],
      "text/plain": [
       "                       open    high     low   close         volume  \\\n",
       "timestamp                                                            \n",
       "2021-10-10 18:06:00  1470.0  1475.0  1470.0  1475.0  110563.445140   \n",
       "2021-10-10 18:07:00  1475.0  1475.0  1470.0  1470.0  360092.163153   \n",
       "2021-10-10 18:08:00  1470.0  1470.0  1465.0  1470.0   43811.266082   \n",
       "2021-10-10 18:09:00  1470.0  1470.0  1465.0  1465.0  155319.977788   \n",
       "2021-10-10 18:10:00  1465.0  1470.0  1465.0  1465.0  213592.423806   \n",
       "...                     ...     ...     ...     ...            ...   \n",
       "2024-10-12 21:09:00   727.2   727.3   727.1   727.2   22987.224447   \n",
       "2024-10-12 21:10:00   727.2   728.3   727.1   727.2   82760.592301   \n",
       "2024-10-12 21:11:00   727.2   728.0   727.1   727.2   47655.604030   \n",
       "2024-10-12 21:12:00   727.2   728.1   727.2   728.0   42141.058456   \n",
       "2024-10-12 21:13:00   728.0   728.0   727.9   727.9    1878.652442   \n",
       "\n",
       "                            value  \n",
       "timestamp                          \n",
       "2021-10-10 18:06:00  1.626721e+08  \n",
       "2021-10-10 18:07:00  5.293728e+08  \n",
       "2021-10-10 18:08:00  6.429402e+07  \n",
       "2021-10-10 18:09:00  2.276242e+08  \n",
       "2021-10-10 18:10:00  3.130284e+08  \n",
       "...                           ...  \n",
       "2024-10-12 21:09:00  1.671676e+07  \n",
       "2024-10-12 21:10:00  6.022854e+07  \n",
       "2024-10-12 21:11:00  3.465902e+07  \n",
       "2024-10-12 21:12:00  3.067595e+07  \n",
       "2024-10-12 21:13:00  1.367602e+06  \n",
       "\n",
       "[1576800 rows x 6 columns]"
      ]
     },
     "execution_count": 7,
     "metadata": {},
     "output_type": "execute_result"
    }
   ],
   "source": [
    "df"
   ]
  },
  {
   "cell_type": "code",
   "execution_count": 8,
   "metadata": {},
   "outputs": [
    {
     "data": {
      "text/plain": [
       "['models/KRW-XRP_scaler.pkl']"
      ]
     },
     "execution_count": 8,
     "metadata": {},
     "output_type": "execute_result"
    }
   ],
   "source": [
    "scaler = MinMaxScaler(feature_range=(0, 1))\n",
    "scaled_data = scaler.fit_transform(df['close'].values.reshape(-1, 1))\n",
    "joblib.dump(scaler, f'models/{coin}_scaler.pkl')"
   ]
  },
  {
   "cell_type": "code",
   "execution_count": 9,
   "metadata": {},
   "outputs": [],
   "source": [
    "timestep = 1"
   ]
  },
  {
   "cell_type": "code",
   "execution_count": 10,
   "metadata": {},
   "outputs": [],
   "source": [
    "X = []\n",
    "y = []\n",
    "for i in range(len(scaled_data) - timestep - 1):\n",
    "    X.append(scaled_data[i:(i + timestep), 0])\n",
    "    y.append(scaled_data[i + timestep, 0])"
   ]
  },
  {
   "cell_type": "code",
   "execution_count": 11,
   "metadata": {},
   "outputs": [],
   "source": [
    "X, y = np.array(X), np.array(y)"
   ]
  },
  {
   "cell_type": "code",
   "execution_count": 12,
   "metadata": {},
   "outputs": [],
   "source": [
    "train_size = int(len(X) * .8)\n",
    "X_train, X_test = X[:train_size], X[train_size:]\n",
    "y_train, y_test = y[:train_size], y[train_size:]"
   ]
  },
  {
   "cell_type": "code",
   "execution_count": 13,
   "metadata": {},
   "outputs": [],
   "source": [
    "train_dates = df.index[:train_size]\n",
    "test_dates = df.index[train_size:]"
   ]
  },
  {
   "cell_type": "code",
   "execution_count": 14,
   "metadata": {},
   "outputs": [],
   "source": [
    "X_train = X_train.reshape(X_train.shape[0], X_train.shape[1], 1)\n",
    "X_test = X_test.reshape(X_test.shape[0], X_test.shape[1], 1)"
   ]
  },
  {
   "cell_type": "code",
   "execution_count": 15,
   "metadata": {},
   "outputs": [],
   "source": [
    "model = Sequential()\n",
    "model.add(LSTM(50, return_sequences=True, input_shape=(timestep, 1)))\n",
    "model.add(LSTM(50, return_sequences=False))\n",
    "model.add(Dense(25))\n",
    "model.add(Dense(1))"
   ]
  },
  {
   "cell_type": "code",
   "execution_count": 16,
   "metadata": {},
   "outputs": [],
   "source": [
    "model.compile(optimizer='adam', loss='mean_squared_error')"
   ]
  },
  {
   "cell_type": "code",
   "execution_count": 17,
   "metadata": {},
   "outputs": [],
   "source": [
    "early_stop = EarlyStopping(monitor='val_loss', patience=10)"
   ]
  },
  {
   "cell_type": "code",
   "execution_count": 18,
   "metadata": {},
   "outputs": [
    {
     "name": "stdout",
     "output_type": "stream",
     "text": [
      "Epoch 1/20\n",
      "39420/39420 [==============================] - 268s 7ms/step - loss: 6.7583e-05 - val_loss: 1.2073e-06\n",
      "Epoch 2/20\n",
      "39420/39420 [==============================] - 182s 5ms/step - loss: 3.3757e-06 - val_loss: 1.3474e-06\n",
      "Epoch 3/20\n",
      "39420/39420 [==============================] - 177s 4ms/step - loss: 3.0482e-06 - val_loss: 5.4440e-07\n",
      "Epoch 4/20\n",
      "39420/39420 [==============================] - 182s 5ms/step - loss: 2.8863e-06 - val_loss: 7.6395e-07\n",
      "Epoch 5/20\n",
      "39420/39420 [==============================] - 179s 5ms/step - loss: 2.7470e-06 - val_loss: 2.3124e-06\n",
      "Epoch 6/20\n",
      "39420/39420 [==============================] - 177s 4ms/step - loss: 2.6411e-06 - val_loss: 5.5032e-07\n",
      "Epoch 7/20\n",
      "39420/39420 [==============================] - 182s 5ms/step - loss: 2.5695e-06 - val_loss: 4.6156e-07\n",
      "Epoch 8/20\n",
      "39420/39420 [==============================] - 181s 5ms/step - loss: 2.4965e-06 - val_loss: 6.8866e-07\n",
      "Epoch 9/20\n",
      "39420/39420 [==============================] - 180s 5ms/step - loss: 2.4704e-06 - val_loss: 4.7243e-07\n",
      "Epoch 10/20\n",
      "39420/39420 [==============================] - 179s 5ms/step - loss: 2.4080e-06 - val_loss: 4.4037e-07\n",
      "Epoch 11/20\n",
      "39420/39420 [==============================] - 174s 4ms/step - loss: 2.3927e-06 - val_loss: 1.2415e-06\n",
      "Epoch 12/20\n",
      "39420/39420 [==============================] - 170s 4ms/step - loss: 2.3556e-06 - val_loss: 1.6510e-06\n",
      "Epoch 13/20\n",
      "39420/39420 [==============================] - 173s 4ms/step - loss: 2.2903e-06 - val_loss: 5.0851e-07\n",
      "Epoch 14/20\n",
      "39420/39420 [==============================] - 176s 4ms/step - loss: 2.2971e-06 - val_loss: 7.4220e-07\n",
      "Epoch 15/20\n",
      "39420/39420 [==============================] - 184s 5ms/step - loss: 2.2656e-06 - val_loss: 7.0173e-07\n",
      "Epoch 16/20\n",
      "39420/39420 [==============================] - 182s 5ms/step - loss: 2.2491e-06 - val_loss: 1.4433e-06\n",
      "Epoch 17/20\n",
      "39420/39420 [==============================] - 178s 5ms/step - loss: 2.2209e-06 - val_loss: 8.8435e-07\n",
      "Epoch 18/20\n",
      "39420/39420 [==============================] - 172s 4ms/step - loss: 2.2309e-06 - val_loss: 1.7846e-06\n",
      "Epoch 19/20\n",
      "39420/39420 [==============================] - 174s 4ms/step - loss: 2.1981e-06 - val_loss: 4.5087e-07\n",
      "Epoch 20/20\n",
      "39420/39420 [==============================] - 181s 5ms/step - loss: 2.1771e-06 - val_loss: 6.1140e-07\n"
     ]
    },
    {
     "data": {
      "text/plain": [
       "<keras.callbacks.History at 0x2d226a53190>"
      ]
     },
     "execution_count": 18,
     "metadata": {},
     "output_type": "execute_result"
    }
   ],
   "source": [
    "model.fit(X_train, y_train, batch_size=32, epochs=20,\n",
    "          validation_data=(X_test, y_test), callbacks=[early_stop])"
   ]
  },
  {
   "cell_type": "code",
   "execution_count": 19,
   "metadata": {},
   "outputs": [],
   "source": [
    "model.save(f'models/lstm_{coin}.h5')"
   ]
  },
  {
   "cell_type": "code",
   "execution_count": 20,
   "metadata": {},
   "outputs": [
    {
     "name": "stdout",
     "output_type": "stream",
     "text": [
      "39420/39420 [==============================] - 57s 1ms/step\n",
      "9855/9855 [==============================] - 15s 2ms/step\n"
     ]
    }
   ],
   "source": [
    "train_predict = model.predict(X_train)\n",
    "test_predict = model.predict(X_test)"
   ]
  },
  {
   "cell_type": "code",
   "execution_count": 21,
   "metadata": {},
   "outputs": [],
   "source": [
    "train_predict = scaler.inverse_transform(train_predict)\n",
    "test_predict = scaler.inverse_transform(test_predict)\n",
    "y_train = scaler.inverse_transform([y_train])\n",
    "y_test = scaler.inverse_transform([y_test])"
   ]
  },
  {
   "cell_type": "code",
   "execution_count": 22,
   "metadata": {},
   "outputs": [
    {
     "data": {
      "text/plain": [
       "array([[860.8987 ],\n",
       "       [861.09937],\n",
       "       [860.5978 ],\n",
       "       ...,\n",
       "       [726.5977 ],\n",
       "       [726.5977 ],\n",
       "       [726.5977 ]], dtype=float32)"
      ]
     },
     "execution_count": 22,
     "metadata": {},
     "output_type": "execute_result"
    }
   ],
   "source": [
    "test_predict"
   ]
  },
  {
   "cell_type": "code",
   "execution_count": 23,
   "metadata": {},
   "outputs": [
    {
     "data": {
      "text/plain": [
       "array([[861.1, 860.6, 859. , ..., 727.2, 727.2, 728. ]])"
      ]
     },
     "execution_count": 23,
     "metadata": {},
     "output_type": "execute_result"
    }
   ],
   "source": [
    "y_test"
   ]
  },
  {
   "cell_type": "code",
   "execution_count": 24,
   "metadata": {},
   "outputs": [
    {
     "name": "stdout",
     "output_type": "stream",
     "text": [
      "Train RMSE: 1.83\n",
      "Test RMSE: 0.95\n"
     ]
    }
   ],
   "source": [
    "train_score = np.sqrt(mean_squared_error(y_train[0], train_predict[:, 0]))\n",
    "test_score = np.sqrt(mean_squared_error(y_test[0], test_predict[:, 0]))\n",
    "print(f'Train RMSE: {train_score:.2f}')\n",
    "print(f'Test RMSE: {test_score:.2f}')"
   ]
  },
  {
   "cell_type": "code",
   "execution_count": 25,
   "metadata": {},
   "outputs": [
    {
     "data": {
      "image/png": "[encoded data removed]",
      "text/plain": [
       "<Figure size 1440x720 with 1 Axes>"
      ]
     },
     "metadata": {
      "needs_background": "light"
     },
     "output_type": "display_data"
    }
   ],
   "source": [
    "plt.figure(figsize=(20, 10))\n",
    "plt.subplot(1, 1, 1)\n",
    "plt.plot(train_dates, y_train[0], label='Actual', color = 'Blue')\n",
    "plt.plot(train_dates, train_predict, label='Predicted', color = 'Red')\n",
    "plt.title('Train Data')\n",
    "plt.xlabel('Date')\n",
    "plt.ylabel('Price')\n",
    "plt.legend()\n",
    "plt.xticks(rotation=45)\n",
    "plt.gca().xaxis.set_major_formatter(DateFormatter('%Y'))"
   ]
  },
  {
   "cell_type": "code",
   "execution_count": 26,
   "metadata": {},
   "outputs": [
    {
     "data": {
      "image/png": "[encoded data removed]",
      "text/plain": [
       "<Figure size 432x288 with 1 Axes>"
      ]
     },
     "metadata": {
      "needs_background": "light"
     },
     "output_type": "display_data"
    }
   ],
   "source": [
    "plt.subplot(1, 1, 1)\n",
    "plt.plot(test_dates[:-2], y_test[0], label='Actual', color = 'Blue')\n",
    "plt.plot(test_dates[:-2], test_predict, label='Predicted', color = 'Red')\n",
    "plt.title('Test Data')\n",
    "plt.xlabel('Date')\n",
    "plt.ylabel('Price')\n",
    "plt.legend()\n",
    "plt.xticks(rotation=45)\n",
    "plt.gca().xaxis.set_major_formatter(DateFormatter('%Y-%m'))\n",
    "\n",
    "plt.tight_layout()\n",
    "plt.show()"
   ]
  },
  {
   "cell_type": "code",
   "execution_count": 27,
   "metadata": {},
   "outputs": [
    {
     "name": "stdout",
     "output_type": "stream",
     "text": [
      "[[0.28106557]]\n"
     ]
    }
   ],
   "source": [
    "last_1_day = scaled_data[-timestep:]\n",
    "X_predict = last_1_day.reshape(1, timestep, 1)\n",
    "print(last_1_day)"
   ]
  },
  {
   "cell_type": "code",
   "execution_count": 28,
   "metadata": {},
   "outputs": [
    {
     "name": "stdout",
     "output_type": "stream",
     "text": [
      "1/1 [==============================] - 0s 13ms/step\n",
      "[[727.3014]]\n"
     ]
    }
   ],
   "source": [
    "pred = model.predict(X_predict)\n",
    "pred = scaler.inverse_transform(pred)\n",
    "print(pred)"
   ]
  },
  {
   "cell_type": "code",
   "execution_count": 29,
   "metadata": {},
   "outputs": [
    {
     "name": "stdout",
     "output_type": "stream",
     "text": [
      "1/1 [==============================] - 0s 14ms/step\n",
      "1/1 [==============================] - 0s 14ms/step\n",
      "1/1 [==============================] - 0s 13ms/step\n",
      "1/1 [==============================] - 0s 14ms/step\n",
      "1/1 [==============================] - 0s 13ms/step\n",
      "1/1 [==============================] - 0s 13ms/step\n",
      "1/1 [==============================] - 0s 15ms/step\n",
      "1/1 [==============================] - 0s 14ms/step\n",
      "1/1 [==============================] - 0s 13ms/step\n",
      "1/1 [==============================] - 0s 13ms/step\n",
      "1/1 [==============================] - 0s 14ms/step\n",
      "1/1 [==============================] - 0s 13ms/step\n",
      "1/1 [==============================] - 0s 12ms/step\n",
      "1/1 [==============================] - 0s 14ms/step\n",
      "1/1 [==============================] - 0s 13ms/step\n",
      "1/1 [==============================] - 0s 14ms/step\n",
      "1/1 [==============================] - 0s 14ms/step\n",
      "1/1 [==============================] - 0s 13ms/step\n",
      "1/1 [==============================] - 0s 13ms/step\n",
      "1/1 [==============================] - 0s 13ms/step\n",
      "1/1 [==============================] - 0s 13ms/step\n",
      "1/1 [==============================] - 0s 13ms/step\n",
      "1/1 [==============================] - 0s 13ms/step\n",
      "1/1 [==============================] - 0s 14ms/step\n",
      "1/1 [==============================] - 0s 13ms/step\n",
      "1/1 [==============================] - 0s 14ms/step\n",
      "1/1 [==============================] - 0s 13ms/step\n",
      "1/1 [==============================] - 0s 14ms/step\n",
      "1/1 [==============================] - 0s 13ms/step\n",
      "1/1 [==============================] - 0s 13ms/step\n"
     ]
    }
   ],
   "source": [
    "preds = []\n",
    "for i in range(30):\n",
    "    pred = model.predict(X_predict)\n",
    "    preds.append(scaler.inverse_transform(pred)[0][0])\n",
    "    pred = pred.reshape(1, 1, 1)\n",
    "    X_predict = np.append(X_predict[:, 1:, :], pred, axis=1).reshape(1, timestep, 1)"
   ]
  },
  {
   "cell_type": "code",
   "execution_count": 30,
   "metadata": {},
   "outputs": [
    {
     "data": {
      "text/plain": [
       "[727.3014,\n",
       " 726.6996,\n",
       " 726.0946,\n",
       " 725.4865,\n",
       " 724.87524,\n",
       " 724.26074,\n",
       " 723.64307,\n",
       " 723.0222,\n",
       " 722.3981,\n",
       " 721.7707,\n",
       " 721.14,\n",
       " 720.50604,\n",
       " 719.86884,\n",
       " 719.2283,\n",
       " 718.58435,\n",
       " 717.93713,\n",
       " 717.28656,\n",
       " 716.6325,\n",
       " 715.97516,\n",
       " 715.3144,\n",
       " 714.65015,\n",
       " 713.98254,\n",
       " 713.31146,\n",
       " 712.63684,\n",
       " 711.9588,\n",
       " 711.2773,\n",
       " 710.5922,\n",
       " 709.9037,\n",
       " 709.21155,\n",
       " 708.5159]"
      ]
     },
     "execution_count": 30,
     "metadata": {},
     "output_type": "execute_result"
    }
   ],
   "source": [
    "preds"
   ]
  },
  {
   "cell_type": "code",
   "execution_count": null,
   "metadata": {},
   "outputs": [],
   "source": []
  }
 ],
 "metadata": {
  "kernelspec": {
   "display_name": "Python 3",
   "language": "python",
   "name": "python3"
  },
  "language_info": {
   "codemirror_mode": {
    "name": "ipython",
    "version": 3
   },
   "file_extension": ".py",
   "mimetype": "text/x-python",
   "name": "python",
   "nbconvert_exporter": "python",
   "pygments_lexer": "ipython3",
   "version": "3.10.2"
  }
 },
 "nbformat": 4,
 "nbformat_minor": 2
}
