{
 "cells": [
  {
   "cell_type": "code",
   "execution_count": 1,
   "metadata": {},
   "outputs": [],
   "source": [
    "from tensorflow.keras.layers import LSTM, Dense\n",
    "from tensorflow.keras.models import Sequential\n",
    "from tensorflow.keras.callbacks import EarlyStopping\n",
    "\n",
    "import pandas as pd\n",
    "import numpy as np\n",
    "import matplotlib.pyplot as plt\n",
    "from matplotlib.dates import DateFormatter\n",
    "import joblib\n",
    "\n",
    "from sklearn.preprocessing import MinMaxScaler\n",
    "from sklearn.metrics import mean_squared_error"
   ]
  },
  {
   "cell_type": "code",
   "execution_count": 2,
   "metadata": {},
   "outputs": [],
   "source": [
    "seed = 42"
   ]
  },
  {
   "cell_type": "code",
   "execution_count": 3,
   "metadata": {},
   "outputs": [],
   "source": [
    "coin = 'KRW-SUI'"
   ]
  },
  {
   "cell_type": "code",
   "execution_count": 4,
   "metadata": {},
   "outputs": [],
   "source": [
    "df = pd.read_csv(f'../data/from_pyupbit/{coin}.csv')"
   ]
  },
  {
   "cell_type": "code",
   "execution_count": 5,
   "metadata": {},
   "outputs": [
    {
     "data": {
      "text/html": [
       "<div>\n",
       "<style scoped>\n",
       "    .dataframe tbody tr th:only-of-type {\n",
       "        vertical-align: middle;\n",
       "    }\n",
       "\n",
       "    .dataframe tbody tr th {\n",
       "        vertical-align: top;\n",
       "    }\n",
       "\n",
       "    .dataframe thead th {\n",
       "        text-align: right;\n",
       "    }\n",
       "</style>\n",
       "<table border=\"1\" class=\"dataframe\">\n",
       "  <thead>\n",
       "    <tr style=\"text-align: right;\">\n",
       "      <th></th>\n",
       "      <th>timestamp</th>\n",
       "      <th>open</th>\n",
       "      <th>high</th>\n",
       "      <th>low</th>\n",
       "      <th>close</th>\n",
       "      <th>volume</th>\n",
       "      <th>value</th>\n",
       "    </tr>\n",
       "  </thead>\n",
       "  <tbody>\n",
       "    <tr>\n",
       "      <th>0</th>\n",
       "      <td>2023-05-04 09:05:00</td>\n",
       "      <td>1825.0</td>\n",
       "      <td>2015.0</td>\n",
       "      <td>1820.0</td>\n",
       "      <td>1975.0</td>\n",
       "      <td>1.313930e+07</td>\n",
       "      <td>2.590944e+10</td>\n",
       "    </tr>\n",
       "    <tr>\n",
       "      <th>1</th>\n",
       "      <td>2023-05-04 09:06:00</td>\n",
       "      <td>1970.0</td>\n",
       "      <td>1985.0</td>\n",
       "      <td>1960.0</td>\n",
       "      <td>1965.0</td>\n",
       "      <td>4.593641e+06</td>\n",
       "      <td>9.063733e+09</td>\n",
       "    </tr>\n",
       "    <tr>\n",
       "      <th>2</th>\n",
       "      <td>2023-05-04 09:07:00</td>\n",
       "      <td>1970.0</td>\n",
       "      <td>1990.0</td>\n",
       "      <td>1965.0</td>\n",
       "      <td>1990.0</td>\n",
       "      <td>2.737682e+06</td>\n",
       "      <td>5.413675e+09</td>\n",
       "    </tr>\n",
       "    <tr>\n",
       "      <th>3</th>\n",
       "      <td>2023-05-04 09:08:00</td>\n",
       "      <td>1985.0</td>\n",
       "      <td>1995.0</td>\n",
       "      <td>1970.0</td>\n",
       "      <td>1975.0</td>\n",
       "      <td>2.330906e+06</td>\n",
       "      <td>4.621071e+09</td>\n",
       "    </tr>\n",
       "    <tr>\n",
       "      <th>4</th>\n",
       "      <td>2023-05-04 09:09:00</td>\n",
       "      <td>1975.0</td>\n",
       "      <td>1980.0</td>\n",
       "      <td>1950.0</td>\n",
       "      <td>1960.0</td>\n",
       "      <td>2.320489e+06</td>\n",
       "      <td>4.555203e+09</td>\n",
       "    </tr>\n",
       "    <tr>\n",
       "      <th>...</th>\n",
       "      <td>...</td>\n",
       "      <td>...</td>\n",
       "      <td>...</td>\n",
       "      <td>...</td>\n",
       "      <td>...</td>\n",
       "      <td>...</td>\n",
       "      <td>...</td>\n",
       "    </tr>\n",
       "    <tr>\n",
       "      <th>701770</th>\n",
       "      <td>2024-10-12 19:41:00</td>\n",
       "      <td>2809.0</td>\n",
       "      <td>2812.0</td>\n",
       "      <td>2809.0</td>\n",
       "      <td>2810.0</td>\n",
       "      <td>6.448054e+04</td>\n",
       "      <td>1.811826e+08</td>\n",
       "    </tr>\n",
       "    <tr>\n",
       "      <th>701771</th>\n",
       "      <td>2024-10-12 19:42:00</td>\n",
       "      <td>2809.0</td>\n",
       "      <td>2815.0</td>\n",
       "      <td>2809.0</td>\n",
       "      <td>2812.0</td>\n",
       "      <td>4.873846e+04</td>\n",
       "      <td>1.370615e+08</td>\n",
       "    </tr>\n",
       "    <tr>\n",
       "      <th>701772</th>\n",
       "      <td>2024-10-12 19:43:00</td>\n",
       "      <td>2812.0</td>\n",
       "      <td>2814.0</td>\n",
       "      <td>2811.0</td>\n",
       "      <td>2814.0</td>\n",
       "      <td>6.543037e+04</td>\n",
       "      <td>1.839865e+08</td>\n",
       "    </tr>\n",
       "    <tr>\n",
       "      <th>701773</th>\n",
       "      <td>2024-10-12 19:44:00</td>\n",
       "      <td>2814.0</td>\n",
       "      <td>2815.0</td>\n",
       "      <td>2812.0</td>\n",
       "      <td>2815.0</td>\n",
       "      <td>2.284715e+04</td>\n",
       "      <td>6.429445e+07</td>\n",
       "    </tr>\n",
       "    <tr>\n",
       "      <th>701774</th>\n",
       "      <td>2024-10-12 19:45:00</td>\n",
       "      <td>2815.0</td>\n",
       "      <td>2816.0</td>\n",
       "      <td>2813.0</td>\n",
       "      <td>2815.0</td>\n",
       "      <td>4.033904e+03</td>\n",
       "      <td>1.135573e+07</td>\n",
       "    </tr>\n",
       "  </tbody>\n",
       "</table>\n",
       "<p>701775 rows × 7 columns</p>\n",
       "</div>"
      ],
      "text/plain": [
       "                  timestamp    open    high     low   close        volume  \\\n",
       "0       2023-05-04 09:05:00  1825.0  2015.0  1820.0  1975.0  1.313930e+07   \n",
       "1       2023-05-04 09:06:00  1970.0  1985.0  1960.0  1965.0  4.593641e+06   \n",
       "2       2023-05-04 09:07:00  1970.0  1990.0  1965.0  1990.0  2.737682e+06   \n",
       "3       2023-05-04 09:08:00  1985.0  1995.0  1970.0  1975.0  2.330906e+06   \n",
       "4       2023-05-04 09:09:00  1975.0  1980.0  1950.0  1960.0  2.320489e+06   \n",
       "...                     ...     ...     ...     ...     ...           ...   \n",
       "701770  2024-10-12 19:41:00  2809.0  2812.0  2809.0  2810.0  6.448054e+04   \n",
       "701771  2024-10-12 19:42:00  2809.0  2815.0  2809.0  2812.0  4.873846e+04   \n",
       "701772  2024-10-12 19:43:00  2812.0  2814.0  2811.0  2814.0  6.543037e+04   \n",
       "701773  2024-10-12 19:44:00  2814.0  2815.0  2812.0  2815.0  2.284715e+04   \n",
       "701774  2024-10-12 19:45:00  2815.0  2816.0  2813.0  2815.0  4.033904e+03   \n",
       "\n",
       "               value  \n",
       "0       2.590944e+10  \n",
       "1       9.063733e+09  \n",
       "2       5.413675e+09  \n",
       "3       4.621071e+09  \n",
       "4       4.555203e+09  \n",
       "...              ...  \n",
       "701770  1.811826e+08  \n",
       "701771  1.370615e+08  \n",
       "701772  1.839865e+08  \n",
       "701773  6.429445e+07  \n",
       "701774  1.135573e+07  \n",
       "\n",
       "[701775 rows x 7 columns]"
      ]
     },
     "execution_count": 5,
     "metadata": {},
     "output_type": "execute_result"
    }
   ],
   "source": [
    "df"
   ]
  },
  {
   "cell_type": "code",
   "execution_count": 6,
   "metadata": {},
   "outputs": [],
   "source": [
    "df['timestamp'] = pd.to_datetime(df['timestamp'])\n",
    "df.set_index('timestamp', inplace=True)"
   ]
  },
  {
   "cell_type": "code",
   "execution_count": 7,
   "metadata": {},
   "outputs": [
    {
     "data": {
      "text/html": [
       "<div>\n",
       "<style scoped>\n",
       "    .dataframe tbody tr th:only-of-type {\n",
       "        vertical-align: middle;\n",
       "    }\n",
       "\n",
       "    .dataframe tbody tr th {\n",
       "        vertical-align: top;\n",
       "    }\n",
       "\n",
       "    .dataframe thead th {\n",
       "        text-align: right;\n",
       "    }\n",
       "</style>\n",
       "<table border=\"1\" class=\"dataframe\">\n",
       "  <thead>\n",
       "    <tr style=\"text-align: right;\">\n",
       "      <th></th>\n",
       "      <th>open</th>\n",
       "      <th>high</th>\n",
       "      <th>low</th>\n",
       "      <th>close</th>\n",
       "      <th>volume</th>\n",
       "      <th>value</th>\n",
       "    </tr>\n",
       "    <tr>\n",
       "      <th>timestamp</th>\n",
       "      <th></th>\n",
       "      <th></th>\n",
       "      <th></th>\n",
       "      <th></th>\n",
       "      <th></th>\n",
       "      <th></th>\n",
       "    </tr>\n",
       "  </thead>\n",
       "  <tbody>\n",
       "    <tr>\n",
       "      <th>2023-05-04 09:05:00</th>\n",
       "      <td>1825.0</td>\n",
       "      <td>2015.0</td>\n",
       "      <td>1820.0</td>\n",
       "      <td>1975.0</td>\n",
       "      <td>1.313930e+07</td>\n",
       "      <td>2.590944e+10</td>\n",
       "    </tr>\n",
       "    <tr>\n",
       "      <th>2023-05-04 09:06:00</th>\n",
       "      <td>1970.0</td>\n",
       "      <td>1985.0</td>\n",
       "      <td>1960.0</td>\n",
       "      <td>1965.0</td>\n",
       "      <td>4.593641e+06</td>\n",
       "      <td>9.063733e+09</td>\n",
       "    </tr>\n",
       "    <tr>\n",
       "      <th>2023-05-04 09:07:00</th>\n",
       "      <td>1970.0</td>\n",
       "      <td>1990.0</td>\n",
       "      <td>1965.0</td>\n",
       "      <td>1990.0</td>\n",
       "      <td>2.737682e+06</td>\n",
       "      <td>5.413675e+09</td>\n",
       "    </tr>\n",
       "    <tr>\n",
       "      <th>2023-05-04 09:08:00</th>\n",
       "      <td>1985.0</td>\n",
       "      <td>1995.0</td>\n",
       "      <td>1970.0</td>\n",
       "      <td>1975.0</td>\n",
       "      <td>2.330906e+06</td>\n",
       "      <td>4.621071e+09</td>\n",
       "    </tr>\n",
       "    <tr>\n",
       "      <th>2023-05-04 09:09:00</th>\n",
       "      <td>1975.0</td>\n",
       "      <td>1980.0</td>\n",
       "      <td>1950.0</td>\n",
       "      <td>1960.0</td>\n",
       "      <td>2.320489e+06</td>\n",
       "      <td>4.555203e+09</td>\n",
       "    </tr>\n",
       "    <tr>\n",
       "      <th>...</th>\n",
       "      <td>...</td>\n",
       "      <td>...</td>\n",
       "      <td>...</td>\n",
       "      <td>...</td>\n",
       "      <td>...</td>\n",
       "      <td>...</td>\n",
       "    </tr>\n",
       "    <tr>\n",
       "      <th>2024-10-12 19:41:00</th>\n",
       "      <td>2809.0</td>\n",
       "      <td>2812.0</td>\n",
       "      <td>2809.0</td>\n",
       "      <td>2810.0</td>\n",
       "      <td>6.448054e+04</td>\n",
       "      <td>1.811826e+08</td>\n",
       "    </tr>\n",
       "    <tr>\n",
       "      <th>2024-10-12 19:42:00</th>\n",
       "      <td>2809.0</td>\n",
       "      <td>2815.0</td>\n",
       "      <td>2809.0</td>\n",
       "      <td>2812.0</td>\n",
       "      <td>4.873846e+04</td>\n",
       "      <td>1.370615e+08</td>\n",
       "    </tr>\n",
       "    <tr>\n",
       "      <th>2024-10-12 19:43:00</th>\n",
       "      <td>2812.0</td>\n",
       "      <td>2814.0</td>\n",
       "      <td>2811.0</td>\n",
       "      <td>2814.0</td>\n",
       "      <td>6.543037e+04</td>\n",
       "      <td>1.839865e+08</td>\n",
       "    </tr>\n",
       "    <tr>\n",
       "      <th>2024-10-12 19:44:00</th>\n",
       "      <td>2814.0</td>\n",
       "      <td>2815.0</td>\n",
       "      <td>2812.0</td>\n",
       "      <td>2815.0</td>\n",
       "      <td>2.284715e+04</td>\n",
       "      <td>6.429445e+07</td>\n",
       "    </tr>\n",
       "    <tr>\n",
       "      <th>2024-10-12 19:45:00</th>\n",
       "      <td>2815.0</td>\n",
       "      <td>2816.0</td>\n",
       "      <td>2813.0</td>\n",
       "      <td>2815.0</td>\n",
       "      <td>4.033904e+03</td>\n",
       "      <td>1.135573e+07</td>\n",
       "    </tr>\n",
       "  </tbody>\n",
       "</table>\n",
       "<p>701775 rows × 6 columns</p>\n",
       "</div>"
      ],
      "text/plain": [
       "                       open    high     low   close        volume  \\\n",
       "timestamp                                                           \n",
       "2023-05-04 09:05:00  1825.0  2015.0  1820.0  1975.0  1.313930e+07   \n",
       "2023-05-04 09:06:00  1970.0  1985.0  1960.0  1965.0  4.593641e+06   \n",
       "2023-05-04 09:07:00  1970.0  1990.0  1965.0  1990.0  2.737682e+06   \n",
       "2023-05-04 09:08:00  1985.0  1995.0  1970.0  1975.0  2.330906e+06   \n",
       "2023-05-04 09:09:00  1975.0  1980.0  1950.0  1960.0  2.320489e+06   \n",
       "...                     ...     ...     ...     ...           ...   \n",
       "2024-10-12 19:41:00  2809.0  2812.0  2809.0  2810.0  6.448054e+04   \n",
       "2024-10-12 19:42:00  2809.0  2815.0  2809.0  2812.0  4.873846e+04   \n",
       "2024-10-12 19:43:00  2812.0  2814.0  2811.0  2814.0  6.543037e+04   \n",
       "2024-10-12 19:44:00  2814.0  2815.0  2812.0  2815.0  2.284715e+04   \n",
       "2024-10-12 19:45:00  2815.0  2816.0  2813.0  2815.0  4.033904e+03   \n",
       "\n",
       "                            value  \n",
       "timestamp                          \n",
       "2023-05-04 09:05:00  2.590944e+10  \n",
       "2023-05-04 09:06:00  9.063733e+09  \n",
       "2023-05-04 09:07:00  5.413675e+09  \n",
       "2023-05-04 09:08:00  4.621071e+09  \n",
       "2023-05-04 09:09:00  4.555203e+09  \n",
       "...                           ...  \n",
       "2024-10-12 19:41:00  1.811826e+08  \n",
       "2024-10-12 19:42:00  1.370615e+08  \n",
       "2024-10-12 19:43:00  1.839865e+08  \n",
       "2024-10-12 19:44:00  6.429445e+07  \n",
       "2024-10-12 19:45:00  1.135573e+07  \n",
       "\n",
       "[701775 rows x 6 columns]"
      ]
     },
     "execution_count": 7,
     "metadata": {},
     "output_type": "execute_result"
    }
   ],
   "source": [
    "df"
   ]
  },
  {
   "cell_type": "code",
   "execution_count": 8,
   "metadata": {},
   "outputs": [
    {
     "data": {
      "text/plain": [
       "['models/KRW-SUI_scaler.pkl']"
      ]
     },
     "execution_count": 8,
     "metadata": {},
     "output_type": "execute_result"
    }
   ],
   "source": [
    "scaler = MinMaxScaler(feature_range=(0, 1))\n",
    "scaled_data = scaler.fit_transform(df['close'].values.reshape(-1, 1))\n",
    "joblib.dump(scaler, f'models/{coin}_scaler.pkl')"
   ]
  },
  {
   "cell_type": "code",
   "execution_count": 9,
   "metadata": {},
   "outputs": [],
   "source": [
    "timestep = 1"
   ]
  },
  {
   "cell_type": "code",
   "execution_count": 10,
   "metadata": {},
   "outputs": [],
   "source": [
    "X = []\n",
    "y = []\n",
    "for i in range(len(scaled_data) - timestep - 1):\n",
    "    X.append(scaled_data[i:(i + timestep), 0])\n",
    "    y.append(scaled_data[i + timestep, 0])"
   ]
  },
  {
   "cell_type": "code",
   "execution_count": 11,
   "metadata": {},
   "outputs": [],
   "source": [
    "X, y = np.array(X), np.array(y)"
   ]
  },
  {
   "cell_type": "code",
   "execution_count": 12,
   "metadata": {},
   "outputs": [],
   "source": [
    "train_size = int(len(X) * .8)\n",
    "X_train, X_test = X[:train_size], X[train_size:]\n",
    "y_train, y_test = y[:train_size], y[train_size:]"
   ]
  },
  {
   "cell_type": "code",
   "execution_count": 13,
   "metadata": {},
   "outputs": [],
   "source": [
    "train_dates = df.index[:train_size]\n",
    "test_dates = df.index[train_size:]"
   ]
  },
  {
   "cell_type": "code",
   "execution_count": 14,
   "metadata": {},
   "outputs": [],
   "source": [
    "X_train = X_train.reshape(X_train.shape[0], X_train.shape[1], 1)\n",
    "X_test = X_test.reshape(X_test.shape[0], X_test.shape[1], 1)"
   ]
  },
  {
   "cell_type": "code",
   "execution_count": 15,
   "metadata": {},
   "outputs": [],
   "source": [
    "model = Sequential()\n",
    "model.add(LSTM(50, return_sequences=True, input_shape=(timestep, 1)))\n",
    "model.add(LSTM(50, return_sequences=False))\n",
    "model.add(Dense(25))\n",
    "model.add(Dense(1))"
   ]
  },
  {
   "cell_type": "code",
   "execution_count": 16,
   "metadata": {},
   "outputs": [],
   "source": [
    "model.compile(optimizer='adam', loss='mean_squared_error')"
   ]
  },
  {
   "cell_type": "code",
   "execution_count": 17,
   "metadata": {},
   "outputs": [],
   "source": [
    "early_stop = EarlyStopping(monitor='val_loss', patience=10)"
   ]
  },
  {
   "cell_type": "code",
   "execution_count": 18,
   "metadata": {},
   "outputs": [
    {
     "name": "stdout",
     "output_type": "stream",
     "text": [
      "Epoch 1/20\n",
      "17545/17545 [==============================] - 88s 5ms/step - loss: 1.9266e-04 - val_loss: 1.3273e-06\n",
      "Epoch 2/20\n",
      "17545/17545 [==============================] - 106s 6ms/step - loss: 2.8710e-06 - val_loss: 8.7977e-06\n",
      "Epoch 3/20\n",
      "17545/17545 [==============================] - 80s 5ms/step - loss: 2.7183e-06 - val_loss: 3.6510e-06\n",
      "Epoch 4/20\n",
      "17545/17545 [==============================] - 80s 5ms/step - loss: 2.4904e-06 - val_loss: 1.8532e-06\n",
      "Epoch 5/20\n",
      "17545/17545 [==============================] - 85s 5ms/step - loss: 2.4336e-06 - val_loss: 2.0682e-06\n",
      "Epoch 6/20\n",
      "17545/17545 [==============================] - 85s 5ms/step - loss: 2.3369e-06 - val_loss: 1.7790e-06\n",
      "Epoch 7/20\n",
      "17545/17545 [==============================] - 81s 5ms/step - loss: 2.1863e-06 - val_loss: 2.2316e-06\n",
      "Epoch 8/20\n",
      "17545/17545 [==============================] - 88s 5ms/step - loss: 2.1447e-06 - val_loss: 1.7339e-06\n",
      "Epoch 9/20\n",
      "17545/17545 [==============================] - 83s 5ms/step - loss: 2.1549e-06 - val_loss: 5.4173e-06\n",
      "Epoch 10/20\n",
      "17545/17545 [==============================] - 81s 5ms/step - loss: 2.0250e-06 - val_loss: 2.6702e-05\n",
      "Epoch 11/20\n",
      "17545/17545 [==============================] - 83s 5ms/step - loss: 2.0214e-06 - val_loss: 2.5076e-06\n"
     ]
    },
    {
     "data": {
      "text/plain": [
       "<keras.callbacks.History at 0x26ac496f8e0>"
      ]
     },
     "execution_count": 18,
     "metadata": {},
     "output_type": "execute_result"
    }
   ],
   "source": [
    "model.fit(X_train, y_train, batch_size=32, epochs=20,\n",
    "          validation_data=(X_test, y_test), callbacks=[early_stop])"
   ]
  },
  {
   "cell_type": "code",
   "execution_count": 19,
   "metadata": {},
   "outputs": [],
   "source": [
    "model.save(f'models/lstm_{coin}.h5')"
   ]
  },
  {
   "cell_type": "code",
   "execution_count": 20,
   "metadata": {},
   "outputs": [
    {
     "name": "stdout",
     "output_type": "stream",
     "text": [
      "17545/17545 [==============================] - 28s 2ms/step\n",
      "4387/4387 [==============================] - 7s 2ms/step\n"
     ]
    }
   ],
   "source": [
    "train_predict = model.predict(X_train)\n",
    "test_predict = model.predict(X_test)"
   ]
  },
  {
   "cell_type": "code",
   "execution_count": 21,
   "metadata": {},
   "outputs": [],
   "source": [
    "train_predict = scaler.inverse_transform(train_predict)\n",
    "test_predict = scaler.inverse_transform(test_predict)\n",
    "y_train = scaler.inverse_transform([y_train])\n",
    "y_test = scaler.inverse_transform([y_test])"
   ]
  },
  {
   "cell_type": "code",
   "execution_count": 22,
   "metadata": {},
   "outputs": [
    {
     "data": {
      "text/plain": [
       "array([[1198.7217],\n",
       "       [1197.7267],\n",
       "       [1200.7118],\n",
       "       ...,\n",
       "       [2801.858 ],\n",
       "       [2803.8438],\n",
       "       [2805.8289]], dtype=float32)"
      ]
     },
     "execution_count": 22,
     "metadata": {},
     "output_type": "execute_result"
    }
   ],
   "source": [
    "test_predict"
   ]
  },
  {
   "cell_type": "code",
   "execution_count": 23,
   "metadata": {},
   "outputs": [
    {
     "data": {
      "text/plain": [
       "array([[1198., 1201., 1193., ..., 2812., 2814., 2815.]])"
      ]
     },
     "execution_count": 23,
     "metadata": {},
     "output_type": "execute_result"
    }
   ],
   "source": [
    "y_test"
   ]
  },
  {
   "cell_type": "code",
   "execution_count": 24,
   "metadata": {},
   "outputs": [
    {
     "name": "stdout",
     "output_type": "stream",
     "text": [
      "Train RMSE: 4.27\n",
      "Test RMSE: 4.28\n"
     ]
    }
   ],
   "source": [
    "train_score = np.sqrt(mean_squared_error(y_train[0], train_predict[:, 0]))\n",
    "test_score = np.sqrt(mean_squared_error(y_test[0], test_predict[:, 0]))\n",
    "print(f'Train RMSE: {train_score:.2f}')\n",
    "print(f'Test RMSE: {test_score:.2f}')"
   ]
  },
  {
   "cell_type": "code",
   "execution_count": 25,
   "metadata": {},
   "outputs": [
    {
     "name": "stdout",
     "output_type": "stream",
     "text": [
      "[[0.85825315]]\n"
     ]
    }
   ],
   "source": [
    "last_1_day = scaled_data[-timestep:]\n",
    "X_predict = last_1_day.reshape(1, timestep, 1)\n",
    "print(last_1_day)"
   ]
  },
  {
   "cell_type": "code",
   "execution_count": 26,
   "metadata": {},
   "outputs": [
    {
     "name": "stdout",
     "output_type": "stream",
     "text": [
      "1/1 [==============================] - 0s 14ms/step\n",
      "[[2806.8213]]\n"
     ]
    }
   ],
   "source": [
    "pred = model.predict(X_predict)\n",
    "pred = scaler.inverse_transform(pred)\n",
    "print(pred)"
   ]
  },
  {
   "cell_type": "code",
   "execution_count": 27,
   "metadata": {},
   "outputs": [
    {
     "name": "stdout",
     "output_type": "stream",
     "text": [
      "1/1 [==============================] - 0s 14ms/step\n",
      "1/1 [==============================] - 0s 14ms/step\n",
      "1/1 [==============================] - 0s 14ms/step\n",
      "1/1 [==============================] - 0s 13ms/step\n",
      "1/1 [==============================] - 0s 13ms/step\n",
      "1/1 [==============================] - 0s 13ms/step\n",
      "1/1 [==============================] - 0s 15ms/step\n",
      "1/1 [==============================] - 0s 13ms/step\n",
      "1/1 [==============================] - 0s 13ms/step\n",
      "1/1 [==============================] - 0s 13ms/step\n",
      "1/1 [==============================] - 0s 13ms/step\n",
      "1/1 [==============================] - 0s 13ms/step\n",
      "1/1 [==============================] - 0s 12ms/step\n",
      "1/1 [==============================] - 0s 13ms/step\n",
      "1/1 [==============================] - 0s 13ms/step\n",
      "1/1 [==============================] - 0s 13ms/step\n",
      "1/1 [==============================] - 0s 14ms/step\n",
      "1/1 [==============================] - 0s 13ms/step\n",
      "1/1 [==============================] - 0s 14ms/step\n",
      "1/1 [==============================] - 0s 13ms/step\n",
      "1/1 [==============================] - 0s 14ms/step\n",
      "1/1 [==============================] - 0s 13ms/step\n",
      "1/1 [==============================] - 0s 19ms/step\n",
      "1/1 [==============================] - 0s 15ms/step\n",
      "1/1 [==============================] - 0s 13ms/step\n",
      "1/1 [==============================] - 0s 14ms/step\n",
      "1/1 [==============================] - 0s 14ms/step\n",
      "1/1 [==============================] - 0s 14ms/step\n",
      "1/1 [==============================] - 0s 14ms/step\n",
      "1/1 [==============================] - 0s 13ms/step\n"
     ]
    }
   ],
   "source": [
    "preds = []\n",
    "for i in range(30):\n",
    "    pred = model.predict(X_predict)\n",
    "    preds.append(scaler.inverse_transform(pred)[0][0])\n",
    "    pred = pred.reshape(1, 1, 1)\n",
    "    X_predict = np.append(X_predict[:, 1:, :], pred, axis=1).reshape(1, timestep, 1)"
   ]
  },
  {
   "cell_type": "code",
   "execution_count": 28,
   "metadata": {},
   "outputs": [
    {
     "data": {
      "text/plain": [
       "[2806.8213,\n",
       " 2798.7021,\n",
       " 2790.6416,\n",
       " 2782.6377,\n",
       " 2774.6887,\n",
       " 2766.7935,\n",
       " 2758.9502,\n",
       " 2751.1575,\n",
       " 2743.4146,\n",
       " 2735.7195,\n",
       " 2728.071,\n",
       " 2720.4688,\n",
       " 2712.9114,\n",
       " 2705.3972,\n",
       " 2697.9255,\n",
       " 2690.4956,\n",
       " 2683.1062,\n",
       " 2675.7563,\n",
       " 2668.4453,\n",
       " 2661.1724,\n",
       " 2653.9363,\n",
       " 2646.7366,\n",
       " 2639.5728,\n",
       " 2632.443,\n",
       " 2625.348,\n",
       " 2618.2861,\n",
       " 2611.2576,\n",
       " 2604.261,\n",
       " 2597.2961,\n",
       " 2590.3625]"
      ]
     },
     "execution_count": 28,
     "metadata": {},
     "output_type": "execute_result"
    }
   ],
   "source": [
    "preds"
   ]
  },
  {
   "cell_type": "code",
   "execution_count": null,
   "metadata": {},
   "outputs": [],
   "source": []
  }
 ],
 "metadata": {
  "kernelspec": {
   "display_name": "Python 3",
   "language": "python",
   "name": "python3"
  },
  "language_info": {
   "codemirror_mode": {
    "name": "ipython",
    "version": 3
   },
   "file_extension": ".py",
   "mimetype": "text/x-python",
   "name": "python",
   "nbconvert_exporter": "python",
   "pygments_lexer": "ipython3",
   "version": "3.10.2"
  }
 },
 "nbformat": 4,
 "nbformat_minor": 2
}
