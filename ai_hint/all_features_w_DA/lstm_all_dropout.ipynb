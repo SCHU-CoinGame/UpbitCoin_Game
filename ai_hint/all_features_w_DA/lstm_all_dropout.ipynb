{
 "cells": [
  {
   "cell_type": "code",
   "execution_count": 1,
   "metadata": {},
   "outputs": [],
   "source": [
    "import tensorflow as tf\n",
    "from tensorflow.keras.layers import LSTM, Dense, Attention, Input\n",
    "from tensorflow.keras.models import Sequential, Model\n",
    "from tensorflow.keras.callbacks import EarlyStopping\n",
    "from tensorflow.keras import backend as K\n",
    "\n",
    "import pandas as pd\n",
    "import numpy as np\n",
    "import matplotlib.pyplot as plt\n",
    "from matplotlib.dates import DateFormatter\n",
    "import joblib\n",
    "import datetime\n",
    "import os\n",
    "\n",
    "from sklearn.preprocessing import MinMaxScaler\n",
    "from sklearn.metrics import mean_squared_error\n",
    "\n",
    "import pyupbit"
   ]
  },
  {
   "cell_type": "code",
   "execution_count": 2,
   "metadata": {},
   "outputs": [],
   "source": [
    "coins = ['KRW-BTC', 'KRW-ETH', 'KRW-DOGE', 'KRW-BIGTIME', 'KRW-SUI', 'KRW-UXLINK', 'KRW-SOL', 'KRW-XRP', 'KRW-SXP']"
   ]
  },
  {
   "cell_type": "code",
   "execution_count": 3,
   "metadata": {},
   "outputs": [
    {
     "data": {
      "text/plain": [
       "9"
      ]
     },
     "execution_count": 3,
     "metadata": {},
     "output_type": "execute_result"
    }
   ],
   "source": [
    "len(coins)"
   ]
  },
  {
   "cell_type": "code",
   "execution_count": 4,
   "metadata": {},
   "outputs": [],
   "source": [
    "interval = 'minute1'\n",
    "count = 60 * 24 * 365 * 2"
   ]
  },
  {
   "cell_type": "code",
   "execution_count": 5,
   "metadata": {},
   "outputs": [],
   "source": [
    "timestep = 1\n",
    "window_size = 5\n",
    "col_list = ['open', 'high', 'low', 'volatility', 'avg_change_rate', \n",
    "            'percentage_change', 'close_change', 'close']\n",
    "n_features = len(col_list)"
   ]
  },
  {
   "cell_type": "code",
   "execution_count": 6,
   "metadata": {},
   "outputs": [],
   "source": [
    "def inverse_transform_predictions(preds, scaler, label_idx=-1):\n",
    "    dummy = np.zeros((len(preds), scaler.n_features_in_))\n",
    "    dummy[:, label_idx] = preds[:, 0]\n",
    "    return scaler.inverse_transform(dummy)[:, label_idx]"
   ]
  },
  {
   "cell_type": "code",
   "execution_count": 7,
   "metadata": {},
   "outputs": [],
   "source": [
    "def get_percentage(future, past):\n",
    "    return (future - past) / past * 100"
   ]
  },
  {
   "cell_type": "code",
   "execution_count": 13,
   "metadata": {},
   "outputs": [],
   "source": [
    "def directional_accuracy(y_true, y_pred):\n",
    "    delta_y_true = y_true[1:] - y_true[:-1]\n",
    "    delta_y_pred = y_pred[1:] - y_pred[:-1]\n",
    "    \n",
    "    directional_accuracy = tf.reduce_mean(tf.cast(tf.equal(tf.sign(delta_y_true), tf.sign(delta_y_pred)), tf.float32))\n",
    "    \n",
    "    return directional_accuracy"
   ]
  },
  {
   "cell_type": "code",
   "execution_count": 9,
   "metadata": {},
   "outputs": [],
   "source": [
    "input_data = Input(shape=(timestep, n_features))\n",
    "lstm1 = LSTM(50, return_sequences=True)(input_data)\n",
    "lstm2 = LSTM(50, return_sequences=False, dropout=0.2)(lstm1)\n",
    "attention = Attention()([lstm2, lstm1])\n",
    "dense1 = Dense(25)(attention)\n",
    "output = Dense(1)(dense1)"
   ]
  },
  {
   "cell_type": "code",
   "execution_count": 10,
   "metadata": {},
   "outputs": [
    {
     "name": "stdout",
     "output_type": "stream",
     "text": [
      "Model: \"model\"\n",
      "__________________________________________________________________________________________________\n",
      " Layer (type)                   Output Shape         Param #     Connected to                     \n",
      "==================================================================================================\n",
      " input_1 (InputLayer)           [(None, 1, 8)]       0           []                               \n",
      "                                                                                                  \n",
      " lstm (LSTM)                    (None, 1, 50)        11800       ['input_1[0][0]']                \n",
      "                                                                                                  \n",
      " lstm_1 (LSTM)                  (None, 50)           20200       ['lstm[0][0]']                   \n",
      "                                                                                                  \n",
      " attention (Attention)          (None, None, 50)     0           ['lstm_1[0][0]',                 \n",
      "                                                                  'lstm[0][0]']                   \n",
      "                                                                                                  \n",
      " dense (Dense)                  (None, None, 25)     1275        ['attention[0][0]']              \n",
      "                                                                                                  \n",
      " dense_1 (Dense)                (None, None, 1)      26          ['dense[0][0]']                  \n",
      "                                                                                                  \n",
      "==================================================================================================\n",
      "Total params: 33,301\n",
      "Trainable params: 33,301\n",
      "Non-trainable params: 0\n",
      "__________________________________________________________________________________________________\n"
     ]
    }
   ],
   "source": [
    "model = Model(inputs=input_data, outputs=output)\n",
    "model.summary()"
   ]
  },
  {
   "cell_type": "code",
   "execution_count": 11,
   "metadata": {},
   "outputs": [],
   "source": [
    "data_dir = '../../data/from_pyupbit/dropout_attention'\n",
    "model_dir = 'models/dropout_attention'\n",
    "result_dir = 'results/dropout_attention'"
   ]
  },
  {
   "cell_type": "code",
   "execution_count": null,
   "metadata": {},
   "outputs": [
    {
     "name": "stdout",
     "output_type": "stream",
     "text": [
      "KRW-BTC data loaded\n",
      "KRW-BTC train start\n"
     ]
    }
   ],
   "source": [
    "for ticker in coins:\n",
    "    if not os.path.exists(os.path.join(data_dir, f'{ticker}.csv')):\n",
    "        df = pyupbit.get_ohlcv(ticker, interval=interval, count=count)\n",
    "        df.reset_index().rename(columns={'index':'timestamp'})\n",
    "        df.to_csv(os.path.join(data_dir, f'{ticker}.csv'), index=False)\n",
    "    \n",
    "    df = pd.read_csv(os.path.join(data_dir, f'{ticker}.csv'))\n",
    "    \n",
    "    df['timestamp'] = pd.to_datetime(df['timestamp'])\n",
    "    \n",
    "    df_0859 = df[df['timestamp'].dt.time == pd.to_datetime('08:59:00').time()].copy()\n",
    "    df_0859 = df_0859.rename(columns={'close': 'close_0859'})\n",
    "    df['date'] = df['timestamp'].dt.date\n",
    "    df_0859['date'] = df_0859['timestamp'].dt.date\n",
    "    df = pd.merge(df, df_0859[['date', 'close_0859']], on='date', how='left')  # 원본 df와 'coin' 열과 'date' 열을 기준으로 merge\n",
    "    df['change_yesterday'] = get_percentage(df['close'], df['close_0859'])  # 전일대비\n",
    "    \n",
    "    df['close_change'] = df['close'].diff().fillna(0)\n",
    "    \n",
    "    df.set_index('timestamp', inplace=True)\n",
    "    \n",
    "    closes_values = df['close'].values\n",
    "    df['percentage_change'] = get_percentage(df['close'], df['close'].shift(1))\n",
    "    df['volatility'] = df['percentage_change'].rolling(window=5).std()\n",
    "    df['avg_change_rate'] = df['percentage_change'].rolling(window=5).mean()\n",
    "    df['volume_change'] = get_percentage(df['volume'], df['volume'].shift(1))\n",
    "    # TODO: price_change\n",
    "    \n",
    "    df = df[col_list]\n",
    "    \n",
    "    print(f'{ticker} data loaded')\n",
    "    \n",
    "    scaler = MinMaxScaler(feature_range=(0, 1))\n",
    "    \n",
    "    scaled_data = scaler.fit_transform(df)\n",
    "    joblib.dump(scaler, os.path.join(model_dir, f'{ticker}_scaler.pkl'))\n",
    "    \n",
    "    X = []\n",
    "    y = []\n",
    "    for i in range(len(scaled_data) - timestep):\n",
    "        X.append(scaled_data[i:(i + timestep), :])\n",
    "        y.append(scaled_data[i + timestep, -1])\n",
    "    \n",
    "    X, y = np.array(X), np.array(y)\n",
    "    \n",
    "    train_size = int(len(df) * .8)\n",
    "    X_train, X_val = X[:train_size], X[train_size:] # n_samples, timestep, n_features\n",
    "    y_train, y_val = y[:train_size], y[train_size:]\n",
    "    \n",
    "    train_dates = df.index[:train_size]\n",
    "    val_dates = df.index[train_size:]\n",
    "    \n",
    "    model.compile(optimizer='adam', loss='mean_squared_error',\n",
    "                  metrics=['mean_squared_error', directional_accuracy])\n",
    "    \n",
    "    early_stop = EarlyStopping(monitor='loss', patience=10)\n",
    "    \n",
    "    print(f'{ticker} train start')\n",
    "    \n",
    "    model.fit(X_train, y_train, batch_size=32, epochs=20,\n",
    "          validation_data=(X_val, y_val), callbacks=[early_stop], verbose=0)\n",
    "    model.save(os.path.join(model_dir, f'lstm_{ticker}.h5'))\n",
    "    \n",
    "    train_predict = model.predict(X_train)\n",
    "    val_predict = model.predict(X_val)\n",
    "    \n",
    "    train_score = np.sqrt(mean_squared_error(y_train, train_predict))\n",
    "    val_score = np.sqrt(mean_squared_error(y_val, val_predict))\n",
    "    print(f'{ticker} Train RMSE: {train_score:.6f} Validation RMSE: {val_score:.6f}')\n",
    "    \n",
    "    train_predict_original = inverse_transform_predictions(train_predict, scaler)\n",
    "    val_predict_original = inverse_transform_predictions(val_predict, scaler)\n",
    "    y_train_original = inverse_transform_predictions(y_train.reshape(-1, 1), scaler)\n",
    "    y_val_original = inverse_transform_predictions(y_val.reshape(-1, 1), scaler)\n",
    "    \n",
    "    plt.figure(figsize=(20, 10))\n",
    "    plt.subplot(1, 1, 1)\n",
    "    plt.plot(train_dates, y_train_original, label='Actual', color = 'Blue')\n",
    "    plt.plot(train_dates, train_predict_original, label='Predicted', color = 'Red')\n",
    "    plt.title(f'{ticker} Train Data')\n",
    "    plt.xlabel('Date')\n",
    "    plt.ylabel('Price')\n",
    "    plt.legend()\n",
    "    plt.xticks(rotation=45)\n",
    "    plt.gca().xaxis.set_major_formatter(DateFormatter('%Y'))\n",
    "    plt.savefig(os.path.join(result_dir, f'{ticker}_train.png'))\n",
    "    \n",
    "    plt.subplot(1, 1, 1)\n",
    "    plt.plot(val_dates[:-1], y_val_original, label='Actual', color = 'Blue')\n",
    "    plt.plot(val_dates[:-1], val_predict_original, label='Predicted', color = 'Red')\n",
    "    plt.title(f'{ticker} Validation Data')\n",
    "    plt.xlabel('Date')\n",
    "    plt.ylabel('Price')\n",
    "    plt.legend()\n",
    "    plt.xticks(rotation=45)\n",
    "    plt.gca().xaxis.set_major_formatter(DateFormatter('%Y-%m'))\n",
    "\n",
    "    plt.tight_layout()\n",
    "    plt.savefig(os.path.join(result_dir, f'{ticker}_val.png'))\n",
    "    \n",
    "    last_1_day = scaled_data[-timestep:]\n",
    "    X_test = last_1_day[-1, :].reshape(1, timestep, n_features)\n",
    "    pred = model.predict(X_test)\n",
    "    pred = inverse_transform_predictions(pred, scaler)\n",
    "    print(f'{ticker} Actual {scaler.inverse_transform(last_1_day)[-1, -1]:.6f} Pred {pred[0]:.6f}')\n",
    "    print('.')"
   ]
  },
  {
   "cell_type": "code",
   "execution_count": null,
   "metadata": {},
   "outputs": [],
   "source": []
  }
 ],
 "metadata": {
  "kernelspec": {
   "display_name": "Python 3",
   "language": "python",
   "name": "python3"
  },
  "language_info": {
   "codemirror_mode": {
    "name": "ipython",
    "version": 3
   },
   "file_extension": ".py",
   "mimetype": "text/x-python",
   "name": "python",
   "nbconvert_exporter": "python",
   "pygments_lexer": "ipython3",
   "version": "3.10.2"
  }
 },
 "nbformat": 4,
 "nbformat_minor": 2
}
