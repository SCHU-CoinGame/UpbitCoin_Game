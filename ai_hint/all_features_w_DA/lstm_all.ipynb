{
 "cells": [
  {
   "cell_type": "code",
   "execution_count": 1,
   "metadata": {},
   "outputs": [],
   "source": [
    "from tensorflow.keras.layers import LSTM, Dense, Lambda\n",
    "from tensorflow.keras.models import Sequential\n",
    "from tensorflow.keras.callbacks import EarlyStopping\n",
    "\n",
    "import pandas as pd\n",
    "import numpy as np\n",
    "import matplotlib.pyplot as plt\n",
    "from matplotlib.dates import DateFormatter\n",
    "import joblib\n",
    "import datetime\n",
    "import os\n",
    "\n",
    "from sklearn.preprocessing import MinMaxScaler\n",
    "from sklearn.metrics import mean_squared_error\n",
    "\n",
    "import pyupbit"
   ]
  },
  {
   "cell_type": "code",
   "execution_count": 2,
   "metadata": {},
   "outputs": [],
   "source": [
    "coins = ['KRW-BTC', 'KRW-ETH', 'KRW-DOGE', 'KRW-BIGTIME', 'KRW-SUI', 'KRW-UXLINK', 'KRW-SOL', 'KRW-XRP', 'KRW-SXP']"
   ]
  },
  {
   "cell_type": "code",
   "execution_count": 3,
   "metadata": {},
   "outputs": [
    {
     "data": {
      "text/plain": [
       "9"
      ]
     },
     "execution_count": 3,
     "metadata": {},
     "output_type": "execute_result"
    }
   ],
   "source": [
    "len(coins)"
   ]
  },
  {
   "cell_type": "code",
   "execution_count": 4,
   "metadata": {},
   "outputs": [],
   "source": [
    "interval = 'minute1'\n",
    "count = 60 * 24 * 365 * 2"
   ]
  },
  {
   "cell_type": "code",
   "execution_count": 5,
   "metadata": {},
   "outputs": [],
   "source": [
    "timestep = 1\n",
    "window_size = 5\n",
    "col_list = ['open', 'high', 'low', 'volume', 'value', 'close_change', 'volatility',\n",
    "            'avg_change_rate', 'price_change', 'volume_change', 'change_yesterday', 'close']\n",
    "n_features = len(col_list)"
   ]
  },
  {
   "cell_type": "code",
   "execution_count": 6,
   "metadata": {},
   "outputs": [],
   "source": [
    "def inverse_transform_predictions(preds, scaler, label_idx=-1):\n",
    "    dummy = np.zeros((len(preds), scaler.n_features_in_))\n",
    "    dummy[:, label_idx] = preds[:, 0]\n",
    "    return scaler.inverse_transform(dummy)[:, label_idx]"
   ]
  },
  {
   "cell_type": "code",
   "execution_count": 7,
   "metadata": {},
   "outputs": [],
   "source": [
    "def get_percentage(future, past):\n",
    "    return (future - past) / past * 100"
   ]
  },
  {
   "cell_type": "code",
   "execution_count": 8,
   "metadata": {},
   "outputs": [],
   "source": [
    "model = Sequential()\n",
    "model.add(LSTM(50, return_sequences=True, input_shape=(timestep, n_features)))\n",
    "model.add(LSTM(50, return_sequences=False))\n",
    "model.add(Dense(25))\n",
    "model.add(Dense(1))"
   ]
  },
  {
   "cell_type": "code",
   "execution_count": 10,
   "metadata": {},
   "outputs": [
    {
     "ename": "KeyboardInterrupt",
     "evalue": "",
     "output_type": "error",
     "traceback": [
      "\u001b[1;31m---------------------------------------------------------------------------\u001b[0m",
      "\u001b[1;31mKeyboardInterrupt\u001b[0m                         Traceback (most recent call last)",
      "Input \u001b[1;32mIn [10]\u001b[0m, in \u001b[0;36m<module>\u001b[1;34m\u001b[0m\n\u001b[0;32m     25\u001b[0m volume_change \u001b[38;5;241m=\u001b[39m get_percentage(recent_volumes[\u001b[38;5;241m-\u001b[39m\u001b[38;5;241m1\u001b[39m], recent_volumes[\u001b[38;5;241m0\u001b[39m])\n\u001b[0;32m     26\u001b[0m avg_change_rate \u001b[38;5;241m=\u001b[39m \u001b[38;5;28msum\u001b[39m(percentage_changes) \u001b[38;5;241m/\u001b[39m \u001b[38;5;28mlen\u001b[39m(percentage_changes)\n\u001b[1;32m---> 28\u001b[0m df\u001b[38;5;241m.\u001b[39mloc[i \u001b[38;5;241m+\u001b[39m window_size \u001b[38;5;241m-\u001b[39m \u001b[38;5;241m1\u001b[39m, \u001b[38;5;124m'\u001b[39m\u001b[38;5;124mvolatility\u001b[39m\u001b[38;5;124m'\u001b[39m] \u001b[38;5;241m=\u001b[39m volatility\n\u001b[0;32m     29\u001b[0m df\u001b[38;5;241m.\u001b[39mloc[i \u001b[38;5;241m+\u001b[39m window_size \u001b[38;5;241m-\u001b[39m \u001b[38;5;241m1\u001b[39m, \u001b[38;5;124m'\u001b[39m\u001b[38;5;124mprice_change\u001b[39m\u001b[38;5;124m'\u001b[39m] \u001b[38;5;241m=\u001b[39m price_change\n\u001b[0;32m     30\u001b[0m df\u001b[38;5;241m.\u001b[39mloc[i \u001b[38;5;241m+\u001b[39m window_size \u001b[38;5;241m-\u001b[39m \u001b[38;5;241m1\u001b[39m, \u001b[38;5;124m'\u001b[39m\u001b[38;5;124mvolume_change\u001b[39m\u001b[38;5;124m'\u001b[39m] \u001b[38;5;241m=\u001b[39m volume_change\n",
      "File \u001b[1;32mc:\\Users\\pomat\\AppData\\Local\\Programs\\Python\\Python310\\lib\\site-packages\\pandas\\core\\indexing.py:716\u001b[0m, in \u001b[0;36m_LocationIndexer.__setitem__\u001b[1;34m(self, key, value)\u001b[0m\n\u001b[0;32m    713\u001b[0m \u001b[38;5;28mself\u001b[39m\u001b[38;5;241m.\u001b[39m_has_valid_setitem_indexer(key)\n\u001b[0;32m    715\u001b[0m iloc \u001b[38;5;241m=\u001b[39m \u001b[38;5;28mself\u001b[39m \u001b[38;5;28;01mif\u001b[39;00m \u001b[38;5;28mself\u001b[39m\u001b[38;5;241m.\u001b[39mname \u001b[38;5;241m==\u001b[39m \u001b[38;5;124m\"\u001b[39m\u001b[38;5;124miloc\u001b[39m\u001b[38;5;124m\"\u001b[39m \u001b[38;5;28;01melse\u001b[39;00m \u001b[38;5;28mself\u001b[39m\u001b[38;5;241m.\u001b[39mobj\u001b[38;5;241m.\u001b[39miloc\n\u001b[1;32m--> 716\u001b[0m \u001b[43miloc\u001b[49m\u001b[38;5;241;43m.\u001b[39;49m\u001b[43m_setitem_with_indexer\u001b[49m\u001b[43m(\u001b[49m\u001b[43mindexer\u001b[49m\u001b[43m,\u001b[49m\u001b[43m \u001b[49m\u001b[43mvalue\u001b[49m\u001b[43m,\u001b[49m\u001b[43m \u001b[49m\u001b[38;5;28;43mself\u001b[39;49m\u001b[38;5;241;43m.\u001b[39;49m\u001b[43mname\u001b[49m\u001b[43m)\u001b[49m\n",
      "File \u001b[1;32mc:\\Users\\pomat\\AppData\\Local\\Programs\\Python\\Python310\\lib\\site-packages\\pandas\\core\\indexing.py:1656\u001b[0m, in \u001b[0;36m_iLocIndexer._setitem_with_indexer\u001b[1;34m(self, indexer, value, name)\u001b[0m\n\u001b[0;32m   1651\u001b[0m \u001b[38;5;66;03m# reindex the axis\u001b[39;00m\n\u001b[0;32m   1652\u001b[0m \u001b[38;5;66;03m# make sure to clear the cache because we are\u001b[39;00m\n\u001b[0;32m   1653\u001b[0m \u001b[38;5;66;03m# just replacing the block manager here\u001b[39;00m\n\u001b[0;32m   1654\u001b[0m \u001b[38;5;66;03m# so the object is the same\u001b[39;00m\n\u001b[0;32m   1655\u001b[0m index \u001b[38;5;241m=\u001b[39m \u001b[38;5;28mself\u001b[39m\u001b[38;5;241m.\u001b[39mobj\u001b[38;5;241m.\u001b[39m_get_axis(i)\n\u001b[1;32m-> 1656\u001b[0m labels \u001b[38;5;241m=\u001b[39m \u001b[43mindex\u001b[49m\u001b[38;5;241;43m.\u001b[39;49m\u001b[43minsert\u001b[49m\u001b[43m(\u001b[49m\u001b[38;5;28;43mlen\u001b[39;49m\u001b[43m(\u001b[49m\u001b[43mindex\u001b[49m\u001b[43m)\u001b[49m\u001b[43m,\u001b[49m\u001b[43m \u001b[49m\u001b[43mkey\u001b[49m\u001b[43m)\u001b[49m\n\u001b[0;32m   1658\u001b[0m \u001b[38;5;66;03m# We are expanding the Series/DataFrame values to match\u001b[39;00m\n\u001b[0;32m   1659\u001b[0m \u001b[38;5;66;03m#  the length of thenew index `labels`.  GH#40096 ensure\u001b[39;00m\n\u001b[0;32m   1660\u001b[0m \u001b[38;5;66;03m#  this is valid even if the index has duplicates.\u001b[39;00m\n\u001b[0;32m   1661\u001b[0m taker \u001b[38;5;241m=\u001b[39m np\u001b[38;5;241m.\u001b[39marange(\u001b[38;5;28mlen\u001b[39m(index) \u001b[38;5;241m+\u001b[39m \u001b[38;5;241m1\u001b[39m, dtype\u001b[38;5;241m=\u001b[39mnp\u001b[38;5;241m.\u001b[39mintp)\n",
      "File \u001b[1;32mc:\\Users\\pomat\\AppData\\Local\\Programs\\Python\\Python310\\lib\\site-packages\\pandas\\core\\indexes\\base.py:6613\u001b[0m, in \u001b[0;36mIndex.insert\u001b[1;34m(self, loc, item)\u001b[0m\n\u001b[0;32m   6609\u001b[0m     new_values[loc] \u001b[38;5;241m=\u001b[39m item\n\u001b[0;32m   6611\u001b[0m \u001b[38;5;66;03m# Use self._constructor instead of Index to retain NumericIndex GH#43921\u001b[39;00m\n\u001b[0;32m   6612\u001b[0m \u001b[38;5;66;03m# TODO(2.0) can use Index instead of self._constructor\u001b[39;00m\n\u001b[1;32m-> 6613\u001b[0m \u001b[38;5;28;01mreturn\u001b[39;00m \u001b[38;5;28;43mself\u001b[39;49m\u001b[38;5;241;43m.\u001b[39;49m\u001b[43m_constructor\u001b[49m\u001b[38;5;241;43m.\u001b[39;49m\u001b[43m_with_infer\u001b[49m\u001b[43m(\u001b[49m\u001b[43mnew_values\u001b[49m\u001b[43m,\u001b[49m\u001b[43m \u001b[49m\u001b[43mname\u001b[49m\u001b[38;5;241;43m=\u001b[39;49m\u001b[38;5;28;43mself\u001b[39;49m\u001b[38;5;241;43m.\u001b[39;49m\u001b[43mname\u001b[49m\u001b[43m)\u001b[49m\n",
      "File \u001b[1;32mc:\\Users\\pomat\\AppData\\Local\\Programs\\Python\\Python310\\lib\\site-packages\\pandas\\core\\indexes\\base.py:680\u001b[0m, in \u001b[0;36mIndex._with_infer\u001b[1;34m(cls, *args, **kwargs)\u001b[0m\n\u001b[0;32m    678\u001b[0m \u001b[38;5;28;01mwith\u001b[39;00m warnings\u001b[38;5;241m.\u001b[39mcatch_warnings():\n\u001b[0;32m    679\u001b[0m     warnings\u001b[38;5;241m.\u001b[39mfilterwarnings(\u001b[38;5;124m\"\u001b[39m\u001b[38;5;124mignore\u001b[39m\u001b[38;5;124m\"\u001b[39m, \u001b[38;5;124m\"\u001b[39m\u001b[38;5;124m.*the Index constructor\u001b[39m\u001b[38;5;124m\"\u001b[39m, \u001b[38;5;167;01mFutureWarning\u001b[39;00m)\n\u001b[1;32m--> 680\u001b[0m     result \u001b[38;5;241m=\u001b[39m \u001b[38;5;28mcls\u001b[39m(\u001b[38;5;241m*\u001b[39margs, \u001b[38;5;241m*\u001b[39m\u001b[38;5;241m*\u001b[39mkwargs)\n\u001b[0;32m    682\u001b[0m \u001b[38;5;28;01mif\u001b[39;00m result\u001b[38;5;241m.\u001b[39mdtype \u001b[38;5;241m==\u001b[39m _dtype_obj \u001b[38;5;129;01mand\u001b[39;00m \u001b[38;5;129;01mnot\u001b[39;00m result\u001b[38;5;241m.\u001b[39m_is_multi:\n\u001b[0;32m    683\u001b[0m     \u001b[38;5;66;03m# error: Argument 1 to \"maybe_convert_objects\" has incompatible type\u001b[39;00m\n\u001b[0;32m    684\u001b[0m     \u001b[38;5;66;03m# \"Union[ExtensionArray, ndarray[Any, Any]]\"; expected\u001b[39;00m\n\u001b[0;32m    685\u001b[0m     \u001b[38;5;66;03m# \"ndarray[Any, Any]\"\u001b[39;00m\n\u001b[0;32m    686\u001b[0m     values \u001b[38;5;241m=\u001b[39m lib\u001b[38;5;241m.\u001b[39mmaybe_convert_objects(result\u001b[38;5;241m.\u001b[39m_values)  \u001b[38;5;66;03m# type: ignore[arg-type]\u001b[39;00m\n",
      "File \u001b[1;32mc:\\Users\\pomat\\AppData\\Local\\Programs\\Python\\Python310\\lib\\site-packages\\pandas\\core\\indexes\\base.py:494\u001b[0m, in \u001b[0;36mIndex.__new__\u001b[1;34m(cls, data, dtype, copy, name, tupleize_cols, **kwargs)\u001b[0m\n\u001b[0;32m    491\u001b[0m arr \u001b[38;5;241m=\u001b[39m com\u001b[38;5;241m.\u001b[39masarray_tuplesafe(data, dtype\u001b[38;5;241m=\u001b[39m_dtype_obj)\n\u001b[0;32m    493\u001b[0m \u001b[38;5;28;01mif\u001b[39;00m dtype \u001b[38;5;129;01mis\u001b[39;00m \u001b[38;5;28;01mNone\u001b[39;00m:\n\u001b[1;32m--> 494\u001b[0m     arr \u001b[38;5;241m=\u001b[39m \u001b[43m_maybe_cast_data_without_dtype\u001b[49m\u001b[43m(\u001b[49m\n\u001b[0;32m    495\u001b[0m \u001b[43m        \u001b[49m\u001b[43marr\u001b[49m\u001b[43m,\u001b[49m\u001b[43m \u001b[49m\u001b[43mcast_numeric_deprecated\u001b[49m\u001b[38;5;241;43m=\u001b[39;49m\u001b[38;5;28;43;01mTrue\u001b[39;49;00m\n\u001b[0;32m    496\u001b[0m \u001b[43m    \u001b[49m\u001b[43m)\u001b[49m\n\u001b[0;32m    497\u001b[0m     dtype \u001b[38;5;241m=\u001b[39m arr\u001b[38;5;241m.\u001b[39mdtype\n\u001b[0;32m    499\u001b[0m     \u001b[38;5;28;01mif\u001b[39;00m kwargs:\n",
      "File \u001b[1;32mc:\\Users\\pomat\\AppData\\Local\\Programs\\Python\\Python310\\lib\\site-packages\\pandas\\core\\indexes\\base.py:7132\u001b[0m, in \u001b[0;36m_maybe_cast_data_without_dtype\u001b[1;34m(subarr, cast_numeric_deprecated)\u001b[0m\n\u001b[0;32m   7109\u001b[0m \u001b[38;5;124;03m\"\"\"\u001b[39;00m\n\u001b[0;32m   7110\u001b[0m \u001b[38;5;124;03mIf we have an arraylike input but no passed dtype, try to infer\u001b[39;00m\n\u001b[0;32m   7111\u001b[0m \u001b[38;5;124;03ma supported dtype.\u001b[39;00m\n\u001b[1;32m   (...)\u001b[0m\n\u001b[0;32m   7121\u001b[0m \u001b[38;5;124;03mnp.ndarray or ExtensionArray\u001b[39;00m\n\u001b[0;32m   7122\u001b[0m \u001b[38;5;124;03m\"\"\"\u001b[39;00m\n\u001b[0;32m   7124\u001b[0m result \u001b[38;5;241m=\u001b[39m lib\u001b[38;5;241m.\u001b[39mmaybe_convert_objects(\n\u001b[0;32m   7125\u001b[0m     subarr,\n\u001b[0;32m   7126\u001b[0m     convert_datetime\u001b[38;5;241m=\u001b[39m\u001b[38;5;28;01mTrue\u001b[39;00m,\n\u001b[1;32m   (...)\u001b[0m\n\u001b[0;32m   7130\u001b[0m     dtype_if_all_nat\u001b[38;5;241m=\u001b[39mnp\u001b[38;5;241m.\u001b[39mdtype(\u001b[38;5;124m\"\u001b[39m\u001b[38;5;124mdatetime64[ns]\u001b[39m\u001b[38;5;124m\"\u001b[39m),\n\u001b[0;32m   7131\u001b[0m )\n\u001b[1;32m-> 7132\u001b[0m \u001b[38;5;28;01mif\u001b[39;00m \u001b[43mresult\u001b[49m\u001b[38;5;241;43m.\u001b[39;49m\u001b[43mdtype\u001b[49m\u001b[38;5;241;43m.\u001b[39;49m\u001b[43mkind\u001b[49m\u001b[43m \u001b[49m\u001b[38;5;129;43;01min\u001b[39;49;00m\u001b[43m \u001b[49m\u001b[43m[\u001b[49m\u001b[38;5;124;43m\"\u001b[39;49m\u001b[38;5;124;43mi\u001b[39;49m\u001b[38;5;124;43m\"\u001b[39;49m\u001b[43m,\u001b[49m\u001b[43m \u001b[49m\u001b[38;5;124;43m\"\u001b[39;49m\u001b[38;5;124;43mu\u001b[39;49m\u001b[38;5;124;43m\"\u001b[39;49m\u001b[43m,\u001b[49m\u001b[43m \u001b[49m\u001b[38;5;124;43m\"\u001b[39;49m\u001b[38;5;124;43mf\u001b[39;49m\u001b[38;5;124;43m\"\u001b[39;49m\u001b[43m]\u001b[49m:\n\u001b[0;32m   7133\u001b[0m     \u001b[38;5;28;01mif\u001b[39;00m \u001b[38;5;129;01mnot\u001b[39;00m cast_numeric_deprecated:\n\u001b[0;32m   7134\u001b[0m         \u001b[38;5;66;03m# i.e. we started with a list, not an ndarray[object]\u001b[39;00m\n\u001b[0;32m   7135\u001b[0m         \u001b[38;5;28;01mreturn\u001b[39;00m result\n",
      "\u001b[1;31mKeyboardInterrupt\u001b[0m: "
     ]
    }
   ],
   "source": [
    "for ticker in coins:\n",
    "    df = pd.read_csv(f'../../data/from_pyupbit/{ticker}.csv')\n",
    "    \n",
    "    df['timestamp'] = pd.to_datetime(df['timestamp'])\n",
    "    \n",
    "    df_0859 = df[df['timestamp'].dt.time == pd.to_datetime('08:59:00').time()].copy()\n",
    "    df_0859 = df_0859.rename(columns={'close': 'close_0859'})\n",
    "    df['date'] = df['timestamp'].dt.date\n",
    "    df_0859['date'] = df_0859['timestamp'].dt.date\n",
    "    df = pd.merge(df, df_0859[['date', 'close_0859']], on='date', how='left')  # 원본 df와 'coin' 열과 'date' 열을 기준으로 merge\n",
    "    df['change_yesterday'] = get_percentage(df['close'], df['close_0859'])  # 전일대비\n",
    "    \n",
    "    df['close_change'] = df['close'].diff().fillna(0)\n",
    "    \n",
    "    df.set_index('timestamp', inplace=True)\n",
    "    \n",
    "    closes_values = df['close'].values\n",
    "    df['percentage_change'] = get_percentage(df['close'], df['close'].shift(1))\n",
    "    df['volatility'] = df['percentage_change'].rolling(window=5).std()\n",
    "    df['avg_change_rate'] = df['percentage_change'].rolling(window=5).mean()\n",
    "    df['volume_change'] = get_percentage(df['volume'], df['volume'].shift(1))\n",
    "    # TODO: price_change\n",
    "    \n",
    "    df = df[col_list]\n",
    "    \n",
    "    print(f'{ticker} data loaded')\n",
    "    \n",
    "    scaler = MinMaxScaler(feature_range=(0, 1))\n",
    "    \n",
    "    scaled_data = scaler.fit_transform(df)\n",
    "    joblib.dump(scaler, f'models/{ticker}_scaler.pkl')\n",
    "    \n",
    "    X = []\n",
    "    y = []\n",
    "    for i in range(len(scaled_data) - timestep):\n",
    "        X.append(scaled_data[i:(i + timestep), :])\n",
    "        y.append(scaled_data[i + timestep, -1])\n",
    "    \n",
    "    X, y = np.array(X), np.array(y)\n",
    "    \n",
    "    train_size = int(len(df) * .8)\n",
    "    X_train, X_val = X[:train_size], X[train_size:] # n_samples, timestep, n_features\n",
    "    y_train, y_val = y[:train_size], y[train_size:]\n",
    "    \n",
    "    train_dates = df.index[:train_size]\n",
    "    val_dates = df.index[train_size:]\n",
    "    \n",
    "    model.compile(optimizer='adam', loss='mean_squared_error')\n",
    "    \n",
    "    early_stop = EarlyStopping(monitor='loss', patience=10)\n",
    "    \n",
    "    print(f'{ticker} train start')\n",
    "    \n",
    "    model.fit(X_train, y_train, batch_size=32, epochs=20,\n",
    "          validation_data=(X_val, y_val), callbacks=[early_stop], verbose=0)\n",
    "    model.save(f'models/lstm_{ticker}.h5')\n",
    "    \n",
    "    train_predict = model.predict(X_train)\n",
    "    val_predict = model.predict(X_val)\n",
    "    \n",
    "    train_score = np.sqrt(mean_squared_error(y_train, train_predict))\n",
    "    val_score = np.sqrt(mean_squared_error(y_val, val_predict))\n",
    "    print(f'{ticker} Train RMSE: {train_score:.6f} Validation RMSE: {val_score:.6f}')\n",
    "    \n",
    "    train_predict_original = inverse_transform_predictions(train_predict, scaler)\n",
    "    val_predict_original = inverse_transform_predictions(val_predict, scaler)\n",
    "    y_train_original = inverse_transform_predictions(y_train.reshape(-1, 1), scaler)\n",
    "    y_val_original = inverse_transform_predictions(y_val.reshape(-1, 1), scaler)\n",
    "    \n",
    "    plt.figure(figsize=(20, 10))\n",
    "    plt.subplot(1, 1, 1)\n",
    "    plt.plot(train_dates, y_train_original, label='Actual', color = 'Blue')\n",
    "    plt.plot(train_dates, train_predict_original, label='Predicted', color = 'Red')\n",
    "    plt.title(f'{ticker} Train Data')\n",
    "    plt.xlabel('Date')\n",
    "    plt.ylabel('Price')\n",
    "    plt.legend()\n",
    "    plt.xticks(rotation=45)\n",
    "    plt.gca().xaxis.set_major_formatter(DateFormatter('%Y'))\n",
    "    plt.savefig(f'results/{ticker}_train.png')\n",
    "    \n",
    "    plt.subplot(1, 1, 1)\n",
    "    plt.plot(val_dates[:-1], y_val_original, label='Actual', color = 'Blue')\n",
    "    plt.plot(val_dates[:-1], val_predict_original, label='Predicted', color = 'Red')\n",
    "    plt.title(f'{ticker} Validation Data')\n",
    "    plt.xlabel('Date')\n",
    "    plt.ylabel('Price')\n",
    "    plt.legend()\n",
    "    plt.xticks(rotation=45)\n",
    "    plt.gca().xaxis.set_major_formatter(DateFormatter('%Y-%m'))\n",
    "\n",
    "    plt.tight_layout()\n",
    "    plt.savefig(f'results/{ticker}_val.png')\n",
    "    \n",
    "    last_1_day = scaled_data[-timestep:]\n",
    "    X_test = last_1_day[-1, :].reshape(1, timestep, n_features)\n",
    "    pred = model.predict(X_test)\n",
    "    pred = inverse_transform_predictions(pred, scaler)\n",
    "    print(f'{ticker} Actual {scaler.inverse_transform(last_1_day)[-1, -1]:.6f} Pred {pred[0]:.6f}')\n",
    "    print('.')"
   ]
  },
  {
   "cell_type": "code",
   "execution_count": null,
   "metadata": {},
   "outputs": [],
   "source": []
  }
 ],
 "metadata": {
  "kernelspec": {
   "display_name": "Python 3",
   "language": "python",
   "name": "python3"
  },
  "language_info": {
   "codemirror_mode": {
    "name": "ipython",
    "version": 3
   },
   "file_extension": ".py",
   "mimetype": "text/x-python",
   "name": "python",
   "nbconvert_exporter": "python",
   "pygments_lexer": "ipython3",
   "version": "3.10.2"
  }
 },
 "nbformat": 4,
 "nbformat_minor": 2
}
