{
 "cells": [
  {
   "cell_type": "code",
   "execution_count": 1,
   "metadata": {},
   "outputs": [],
   "source": [
    "from tensorflow.keras.layers import LSTM, Dense\n",
    "from tensorflow.keras.models import Sequential\n",
    "from tensorflow.keras.callbacks import EarlyStopping\n",
    "\n",
    "import pandas as pd\n",
    "import numpy as np\n",
    "import matplotlib.pyplot as plt\n",
    "from matplotlib.dates import DateFormatter\n",
    "import joblib\n",
    "\n",
    "from sklearn.preprocessing import MinMaxScaler\n",
    "from sklearn.metrics import mean_squared_error"
   ]
  },
  {
   "cell_type": "code",
   "execution_count": 2,
   "metadata": {},
   "outputs": [],
   "source": [
    "seed = 42"
   ]
  },
  {
   "cell_type": "code",
   "execution_count": 3,
   "metadata": {},
   "outputs": [],
   "source": [
    "coin = 'KRW-SHIB'"
   ]
  },
  {
   "cell_type": "code",
   "execution_count": 4,
   "metadata": {},
   "outputs": [],
   "source": [
    "df = pd.read_csv(f'../data/from_pyupbit/{coin}.csv')"
   ]
  },
  {
   "cell_type": "code",
   "execution_count": 5,
   "metadata": {},
   "outputs": [
    {
     "data": {
      "text/html": [
       "<div>\n",
       "<style scoped>\n",
       "    .dataframe tbody tr th:only-of-type {\n",
       "        vertical-align: middle;\n",
       "    }\n",
       "\n",
       "    .dataframe tbody tr th {\n",
       "        vertical-align: top;\n",
       "    }\n",
       "\n",
       "    .dataframe thead th {\n",
       "        text-align: right;\n",
       "    }\n",
       "</style>\n",
       "<table border=\"1\" class=\"dataframe\">\n",
       "  <thead>\n",
       "    <tr style=\"text-align: right;\">\n",
       "      <th></th>\n",
       "      <th>timestamp</th>\n",
       "      <th>open</th>\n",
       "      <th>high</th>\n",
       "      <th>low</th>\n",
       "      <th>close</th>\n",
       "      <th>volume</th>\n",
       "      <th>value</th>\n",
       "    </tr>\n",
       "  </thead>\n",
       "  <tbody>\n",
       "    <tr>\n",
       "      <th>0</th>\n",
       "      <td>2023-01-18 16:05:00</td>\n",
       "      <td>0.01170</td>\n",
       "      <td>0.01600</td>\n",
       "      <td>0.01170</td>\n",
       "      <td>0.01580</td>\n",
       "      <td>1.594726e+12</td>\n",
       "      <td>2.499604e+10</td>\n",
       "    </tr>\n",
       "    <tr>\n",
       "      <th>1</th>\n",
       "      <td>2023-01-18 16:06:00</td>\n",
       "      <td>0.01580</td>\n",
       "      <td>0.01600</td>\n",
       "      <td>0.01550</td>\n",
       "      <td>0.01590</td>\n",
       "      <td>5.132315e+11</td>\n",
       "      <td>8.057362e+09</td>\n",
       "    </tr>\n",
       "    <tr>\n",
       "      <th>2</th>\n",
       "      <td>2023-01-18 16:07:00</td>\n",
       "      <td>0.01590</td>\n",
       "      <td>0.01590</td>\n",
       "      <td>0.01500</td>\n",
       "      <td>0.01540</td>\n",
       "      <td>4.836250e+11</td>\n",
       "      <td>7.472660e+09</td>\n",
       "    </tr>\n",
       "    <tr>\n",
       "      <th>3</th>\n",
       "      <td>2023-01-18 16:08:00</td>\n",
       "      <td>0.01550</td>\n",
       "      <td>0.01570</td>\n",
       "      <td>0.01530</td>\n",
       "      <td>0.01540</td>\n",
       "      <td>1.975731e+11</td>\n",
       "      <td>3.064142e+09</td>\n",
       "    </tr>\n",
       "    <tr>\n",
       "      <th>4</th>\n",
       "      <td>2023-01-18 16:09:00</td>\n",
       "      <td>0.01540</td>\n",
       "      <td>0.01560</td>\n",
       "      <td>0.01530</td>\n",
       "      <td>0.01560</td>\n",
       "      <td>2.032322e+11</td>\n",
       "      <td>3.155019e+09</td>\n",
       "    </tr>\n",
       "    <tr>\n",
       "      <th>...</th>\n",
       "      <td>...</td>\n",
       "      <td>...</td>\n",
       "      <td>...</td>\n",
       "      <td>...</td>\n",
       "      <td>...</td>\n",
       "      <td>...</td>\n",
       "      <td>...</td>\n",
       "    </tr>\n",
       "    <tr>\n",
       "      <th>751369</th>\n",
       "      <td>2024-10-12 20:38:00</td>\n",
       "      <td>0.02425</td>\n",
       "      <td>0.02426</td>\n",
       "      <td>0.02422</td>\n",
       "      <td>0.02422</td>\n",
       "      <td>6.611752e+09</td>\n",
       "      <td>1.602638e+08</td>\n",
       "    </tr>\n",
       "    <tr>\n",
       "      <th>751370</th>\n",
       "      <td>2024-10-12 20:39:00</td>\n",
       "      <td>0.02421</td>\n",
       "      <td>0.02422</td>\n",
       "      <td>0.02414</td>\n",
       "      <td>0.02422</td>\n",
       "      <td>1.863207e+10</td>\n",
       "      <td>4.506074e+08</td>\n",
       "    </tr>\n",
       "    <tr>\n",
       "      <th>751371</th>\n",
       "      <td>2024-10-12 20:40:00</td>\n",
       "      <td>0.02421</td>\n",
       "      <td>0.02421</td>\n",
       "      <td>0.02416</td>\n",
       "      <td>0.02417</td>\n",
       "      <td>2.853888e+09</td>\n",
       "      <td>6.904104e+07</td>\n",
       "    </tr>\n",
       "    <tr>\n",
       "      <th>751372</th>\n",
       "      <td>2024-10-12 20:41:00</td>\n",
       "      <td>0.02417</td>\n",
       "      <td>0.02421</td>\n",
       "      <td>0.02417</td>\n",
       "      <td>0.02421</td>\n",
       "      <td>3.873812e+09</td>\n",
       "      <td>9.374738e+07</td>\n",
       "    </tr>\n",
       "    <tr>\n",
       "      <th>751373</th>\n",
       "      <td>2024-10-12 20:42:00</td>\n",
       "      <td>0.02419</td>\n",
       "      <td>0.02421</td>\n",
       "      <td>0.02416</td>\n",
       "      <td>0.02416</td>\n",
       "      <td>3.094909e+09</td>\n",
       "      <td>7.484497e+07</td>\n",
       "    </tr>\n",
       "  </tbody>\n",
       "</table>\n",
       "<p>751374 rows × 7 columns</p>\n",
       "</div>"
      ],
      "text/plain": [
       "                  timestamp     open     high      low    close        volume  \\\n",
       "0       2023-01-18 16:05:00  0.01170  0.01600  0.01170  0.01580  1.594726e+12   \n",
       "1       2023-01-18 16:06:00  0.01580  0.01600  0.01550  0.01590  5.132315e+11   \n",
       "2       2023-01-18 16:07:00  0.01590  0.01590  0.01500  0.01540  4.836250e+11   \n",
       "3       2023-01-18 16:08:00  0.01550  0.01570  0.01530  0.01540  1.975731e+11   \n",
       "4       2023-01-18 16:09:00  0.01540  0.01560  0.01530  0.01560  2.032322e+11   \n",
       "...                     ...      ...      ...      ...      ...           ...   \n",
       "751369  2024-10-12 20:38:00  0.02425  0.02426  0.02422  0.02422  6.611752e+09   \n",
       "751370  2024-10-12 20:39:00  0.02421  0.02422  0.02414  0.02422  1.863207e+10   \n",
       "751371  2024-10-12 20:40:00  0.02421  0.02421  0.02416  0.02417  2.853888e+09   \n",
       "751372  2024-10-12 20:41:00  0.02417  0.02421  0.02417  0.02421  3.873812e+09   \n",
       "751373  2024-10-12 20:42:00  0.02419  0.02421  0.02416  0.02416  3.094909e+09   \n",
       "\n",
       "               value  \n",
       "0       2.499604e+10  \n",
       "1       8.057362e+09  \n",
       "2       7.472660e+09  \n",
       "3       3.064142e+09  \n",
       "4       3.155019e+09  \n",
       "...              ...  \n",
       "751369  1.602638e+08  \n",
       "751370  4.506074e+08  \n",
       "751371  6.904104e+07  \n",
       "751372  9.374738e+07  \n",
       "751373  7.484497e+07  \n",
       "\n",
       "[751374 rows x 7 columns]"
      ]
     },
     "execution_count": 5,
     "metadata": {},
     "output_type": "execute_result"
    }
   ],
   "source": [
    "df"
   ]
  },
  {
   "cell_type": "code",
   "execution_count": 6,
   "metadata": {},
   "outputs": [],
   "source": [
    "df['timestamp'] = pd.to_datetime(df['timestamp'])\n",
    "df.set_index('timestamp', inplace=True)"
   ]
  },
  {
   "cell_type": "code",
   "execution_count": 7,
   "metadata": {},
   "outputs": [
    {
     "data": {
      "text/html": [
       "<div>\n",
       "<style scoped>\n",
       "    .dataframe tbody tr th:only-of-type {\n",
       "        vertical-align: middle;\n",
       "    }\n",
       "\n",
       "    .dataframe tbody tr th {\n",
       "        vertical-align: top;\n",
       "    }\n",
       "\n",
       "    .dataframe thead th {\n",
       "        text-align: right;\n",
       "    }\n",
       "</style>\n",
       "<table border=\"1\" class=\"dataframe\">\n",
       "  <thead>\n",
       "    <tr style=\"text-align: right;\">\n",
       "      <th></th>\n",
       "      <th>open</th>\n",
       "      <th>high</th>\n",
       "      <th>low</th>\n",
       "      <th>close</th>\n",
       "      <th>volume</th>\n",
       "      <th>value</th>\n",
       "    </tr>\n",
       "    <tr>\n",
       "      <th>timestamp</th>\n",
       "      <th></th>\n",
       "      <th></th>\n",
       "      <th></th>\n",
       "      <th></th>\n",
       "      <th></th>\n",
       "      <th></th>\n",
       "    </tr>\n",
       "  </thead>\n",
       "  <tbody>\n",
       "    <tr>\n",
       "      <th>2023-01-18 16:05:00</th>\n",
       "      <td>0.01170</td>\n",
       "      <td>0.01600</td>\n",
       "      <td>0.01170</td>\n",
       "      <td>0.01580</td>\n",
       "      <td>1.594726e+12</td>\n",
       "      <td>2.499604e+10</td>\n",
       "    </tr>\n",
       "    <tr>\n",
       "      <th>2023-01-18 16:06:00</th>\n",
       "      <td>0.01580</td>\n",
       "      <td>0.01600</td>\n",
       "      <td>0.01550</td>\n",
       "      <td>0.01590</td>\n",
       "      <td>5.132315e+11</td>\n",
       "      <td>8.057362e+09</td>\n",
       "    </tr>\n",
       "    <tr>\n",
       "      <th>2023-01-18 16:07:00</th>\n",
       "      <td>0.01590</td>\n",
       "      <td>0.01590</td>\n",
       "      <td>0.01500</td>\n",
       "      <td>0.01540</td>\n",
       "      <td>4.836250e+11</td>\n",
       "      <td>7.472660e+09</td>\n",
       "    </tr>\n",
       "    <tr>\n",
       "      <th>2023-01-18 16:08:00</th>\n",
       "      <td>0.01550</td>\n",
       "      <td>0.01570</td>\n",
       "      <td>0.01530</td>\n",
       "      <td>0.01540</td>\n",
       "      <td>1.975731e+11</td>\n",
       "      <td>3.064142e+09</td>\n",
       "    </tr>\n",
       "    <tr>\n",
       "      <th>2023-01-18 16:09:00</th>\n",
       "      <td>0.01540</td>\n",
       "      <td>0.01560</td>\n",
       "      <td>0.01530</td>\n",
       "      <td>0.01560</td>\n",
       "      <td>2.032322e+11</td>\n",
       "      <td>3.155019e+09</td>\n",
       "    </tr>\n",
       "    <tr>\n",
       "      <th>...</th>\n",
       "      <td>...</td>\n",
       "      <td>...</td>\n",
       "      <td>...</td>\n",
       "      <td>...</td>\n",
       "      <td>...</td>\n",
       "      <td>...</td>\n",
       "    </tr>\n",
       "    <tr>\n",
       "      <th>2024-10-12 20:38:00</th>\n",
       "      <td>0.02425</td>\n",
       "      <td>0.02426</td>\n",
       "      <td>0.02422</td>\n",
       "      <td>0.02422</td>\n",
       "      <td>6.611752e+09</td>\n",
       "      <td>1.602638e+08</td>\n",
       "    </tr>\n",
       "    <tr>\n",
       "      <th>2024-10-12 20:39:00</th>\n",
       "      <td>0.02421</td>\n",
       "      <td>0.02422</td>\n",
       "      <td>0.02414</td>\n",
       "      <td>0.02422</td>\n",
       "      <td>1.863207e+10</td>\n",
       "      <td>4.506074e+08</td>\n",
       "    </tr>\n",
       "    <tr>\n",
       "      <th>2024-10-12 20:40:00</th>\n",
       "      <td>0.02421</td>\n",
       "      <td>0.02421</td>\n",
       "      <td>0.02416</td>\n",
       "      <td>0.02417</td>\n",
       "      <td>2.853888e+09</td>\n",
       "      <td>6.904104e+07</td>\n",
       "    </tr>\n",
       "    <tr>\n",
       "      <th>2024-10-12 20:41:00</th>\n",
       "      <td>0.02417</td>\n",
       "      <td>0.02421</td>\n",
       "      <td>0.02417</td>\n",
       "      <td>0.02421</td>\n",
       "      <td>3.873812e+09</td>\n",
       "      <td>9.374738e+07</td>\n",
       "    </tr>\n",
       "    <tr>\n",
       "      <th>2024-10-12 20:42:00</th>\n",
       "      <td>0.02419</td>\n",
       "      <td>0.02421</td>\n",
       "      <td>0.02416</td>\n",
       "      <td>0.02416</td>\n",
       "      <td>3.094909e+09</td>\n",
       "      <td>7.484497e+07</td>\n",
       "    </tr>\n",
       "  </tbody>\n",
       "</table>\n",
       "<p>751374 rows × 6 columns</p>\n",
       "</div>"
      ],
      "text/plain": [
       "                        open     high      low    close        volume  \\\n",
       "timestamp                                                               \n",
       "2023-01-18 16:05:00  0.01170  0.01600  0.01170  0.01580  1.594726e+12   \n",
       "2023-01-18 16:06:00  0.01580  0.01600  0.01550  0.01590  5.132315e+11   \n",
       "2023-01-18 16:07:00  0.01590  0.01590  0.01500  0.01540  4.836250e+11   \n",
       "2023-01-18 16:08:00  0.01550  0.01570  0.01530  0.01540  1.975731e+11   \n",
       "2023-01-18 16:09:00  0.01540  0.01560  0.01530  0.01560  2.032322e+11   \n",
       "...                      ...      ...      ...      ...           ...   \n",
       "2024-10-12 20:38:00  0.02425  0.02426  0.02422  0.02422  6.611752e+09   \n",
       "2024-10-12 20:39:00  0.02421  0.02422  0.02414  0.02422  1.863207e+10   \n",
       "2024-10-12 20:40:00  0.02421  0.02421  0.02416  0.02417  2.853888e+09   \n",
       "2024-10-12 20:41:00  0.02417  0.02421  0.02417  0.02421  3.873812e+09   \n",
       "2024-10-12 20:42:00  0.02419  0.02421  0.02416  0.02416  3.094909e+09   \n",
       "\n",
       "                            value  \n",
       "timestamp                          \n",
       "2023-01-18 16:05:00  2.499604e+10  \n",
       "2023-01-18 16:06:00  8.057362e+09  \n",
       "2023-01-18 16:07:00  7.472660e+09  \n",
       "2023-01-18 16:08:00  3.064142e+09  \n",
       "2023-01-18 16:09:00  3.155019e+09  \n",
       "...                           ...  \n",
       "2024-10-12 20:38:00  1.602638e+08  \n",
       "2024-10-12 20:39:00  4.506074e+08  \n",
       "2024-10-12 20:40:00  6.904104e+07  \n",
       "2024-10-12 20:41:00  9.374738e+07  \n",
       "2024-10-12 20:42:00  7.484497e+07  \n",
       "\n",
       "[751374 rows x 6 columns]"
      ]
     },
     "execution_count": 7,
     "metadata": {},
     "output_type": "execute_result"
    }
   ],
   "source": [
    "df"
   ]
  },
  {
   "cell_type": "code",
   "execution_count": 8,
   "metadata": {},
   "outputs": [
    {
     "data": {
      "text/plain": [
       "['models/KRW-SHIB_scaler.pkl']"
      ]
     },
     "execution_count": 8,
     "metadata": {},
     "output_type": "execute_result"
    }
   ],
   "source": [
    "scaler = MinMaxScaler(feature_range=(0, 1))\n",
    "scaled_data = scaler.fit_transform(df['close'].values.reshape(-1, 1))\n",
    "joblib.dump(scaler, f'models/{coin}_scaler.pkl')"
   ]
  },
  {
   "cell_type": "code",
   "execution_count": 9,
   "metadata": {},
   "outputs": [],
   "source": [
    "timestep = 1"
   ]
  },
  {
   "cell_type": "code",
   "execution_count": 10,
   "metadata": {},
   "outputs": [],
   "source": [
    "X = []\n",
    "y = []\n",
    "for i in range(len(scaled_data) - timestep - 1):\n",
    "    X.append(scaled_data[i:(i + timestep), 0])\n",
    "    y.append(scaled_data[i + timestep, 0])"
   ]
  },
  {
   "cell_type": "code",
   "execution_count": 11,
   "metadata": {},
   "outputs": [],
   "source": [
    "X, y = np.array(X), np.array(y)"
   ]
  },
  {
   "cell_type": "code",
   "execution_count": 12,
   "metadata": {},
   "outputs": [],
   "source": [
    "train_size = int(len(X) * .8)\n",
    "X_train, X_test = X[:train_size], X[train_size:]\n",
    "y_train, y_test = y[:train_size], y[train_size:]"
   ]
  },
  {
   "cell_type": "code",
   "execution_count": 13,
   "metadata": {},
   "outputs": [],
   "source": [
    "train_dates = df.index[:train_size]\n",
    "test_dates = df.index[train_size:]"
   ]
  },
  {
   "cell_type": "code",
   "execution_count": 14,
   "metadata": {},
   "outputs": [],
   "source": [
    "X_train = X_train.reshape(X_train.shape[0], X_train.shape[1], 1)\n",
    "X_test = X_test.reshape(X_test.shape[0], X_test.shape[1], 1)"
   ]
  },
  {
   "cell_type": "code",
   "execution_count": 15,
   "metadata": {},
   "outputs": [],
   "source": [
    "model = Sequential()\n",
    "model.add(LSTM(50, return_sequences=True, input_shape=(timestep, 1)))\n",
    "model.add(LSTM(50, return_sequences=False))\n",
    "model.add(Dense(25))\n",
    "model.add(Dense(1))"
   ]
  },
  {
   "cell_type": "code",
   "execution_count": 16,
   "metadata": {},
   "outputs": [],
   "source": [
    "model.compile(optimizer='adam', loss='mean_squared_error')"
   ]
  },
  {
   "cell_type": "code",
   "execution_count": 17,
   "metadata": {},
   "outputs": [],
   "source": [
    "early_stop = EarlyStopping(monitor='val_loss', patience=10)"
   ]
  },
  {
   "cell_type": "code",
   "execution_count": 18,
   "metadata": {},
   "outputs": [
    {
     "name": "stdout",
     "output_type": "stream",
     "text": [
      "Epoch 1/20\n",
      "18785/18785 [==============================] - 262s 14ms/step - loss: 1.1548e-04 - val_loss: 1.6055e-06\n",
      "Epoch 2/20\n",
      "18785/18785 [==============================] - 257s 14ms/step - loss: 3.3108e-06 - val_loss: 6.3090e-07\n",
      "Epoch 3/20\n",
      "18785/18785 [==============================] - 255s 14ms/step - loss: 3.0140e-06 - val_loss: 6.8231e-07\n",
      "Epoch 4/20\n",
      "18785/18785 [==============================] - 241s 13ms/step - loss: 2.8322e-06 - val_loss: 3.2034e-06\n",
      "Epoch 5/20\n",
      "18785/18785 [==============================] - 98s 5ms/step - loss: 2.7292e-06 - val_loss: 2.8674e-07\n",
      "Epoch 6/20\n",
      "18785/18785 [==============================] - 100s 5ms/step - loss: 2.6537e-06 - val_loss: 2.4139e-06\n",
      "Epoch 7/20\n",
      "18785/18785 [==============================] - 97s 5ms/step - loss: 2.5575e-06 - val_loss: 1.8468e-06\n",
      "Epoch 8/20\n",
      "18785/18785 [==============================] - 96s 5ms/step - loss: 2.4766e-06 - val_loss: 2.8996e-07\n",
      "Epoch 9/20\n",
      "18785/18785 [==============================] - 94s 5ms/step - loss: 2.4284e-06 - val_loss: 3.7345e-07\n",
      "Epoch 10/20\n",
      "18785/18785 [==============================] - 104s 6ms/step - loss: 2.3878e-06 - val_loss: 2.7985e-07\n",
      "Epoch 11/20\n",
      "18785/18785 [==============================] - 100s 5ms/step - loss: 2.3578e-06 - val_loss: 2.7090e-07\n",
      "Epoch 12/20\n",
      "18785/18785 [==============================] - 89s 5ms/step - loss: 2.3162e-06 - val_loss: 5.1316e-07\n",
      "Epoch 13/20\n",
      "18785/18785 [==============================] - 84s 4ms/step - loss: 2.2474e-06 - val_loss: 9.7803e-07\n",
      "Epoch 14/20\n",
      "18785/18785 [==============================] - 84s 4ms/step - loss: 2.2526e-06 - val_loss: 2.9798e-06\n",
      "Epoch 15/20\n",
      "18785/18785 [==============================] - 81s 4ms/step - loss: 2.2152e-06 - val_loss: 3.4502e-07\n",
      "Epoch 16/20\n",
      "18785/18785 [==============================] - 84s 4ms/step - loss: 2.1817e-06 - val_loss: 5.3803e-07\n",
      "Epoch 17/20\n",
      "18785/18785 [==============================] - 82s 4ms/step - loss: 2.1902e-06 - val_loss: 6.7536e-07\n",
      "Epoch 18/20\n",
      "18785/18785 [==============================] - 91s 5ms/step - loss: 2.1782e-06 - val_loss: 2.6346e-06\n",
      "Epoch 19/20\n",
      "18785/18785 [==============================] - 102s 5ms/step - loss: 2.1122e-06 - val_loss: 7.7591e-07\n",
      "Epoch 20/20\n",
      "18785/18785 [==============================] - 102s 5ms/step - loss: 2.1056e-06 - val_loss: 5.6279e-07\n"
     ]
    },
    {
     "data": {
      "text/plain": [
       "<keras.callbacks.History at 0x2c3a5af38e0>"
      ]
     },
     "execution_count": 18,
     "metadata": {},
     "output_type": "execute_result"
    }
   ],
   "source": [
    "model.fit(X_train, y_train, batch_size=32, epochs=20,\n",
    "          validation_data=(X_test, y_test), callbacks=[early_stop])"
   ]
  },
  {
   "cell_type": "code",
   "execution_count": 19,
   "metadata": {},
   "outputs": [],
   "source": [
    "model.save(f'models/lstm_{coin}.h5')"
   ]
  },
  {
   "cell_type": "code",
   "execution_count": 20,
   "metadata": {},
   "outputs": [
    {
     "name": "stdout",
     "output_type": "stream",
     "text": [
      "18785/18785 [==============================] - 33s 2ms/step\n",
      "4697/4697 [==============================] - 8s 2ms/step\n"
     ]
    }
   ],
   "source": [
    "train_predict = model.predict(X_train)\n",
    "test_predict = model.predict(X_test)"
   ]
  },
  {
   "cell_type": "code",
   "execution_count": 21,
   "metadata": {},
   "outputs": [],
   "source": [
    "train_predict = scaler.inverse_transform(train_predict)\n",
    "test_predict = scaler.inverse_transform(test_predict)\n",
    "y_train = scaler.inverse_transform([y_train])\n",
    "y_test = scaler.inverse_transform([y_test])"
   ]
  },
  {
   "cell_type": "code",
   "execution_count": 22,
   "metadata": {},
   "outputs": [
    {
     "data": {
      "text/plain": [
       "array([[0.02400039],\n",
       "       [0.02400039],\n",
       "       [0.0239904 ],\n",
       "       ...,\n",
       "       [0.02419021],\n",
       "       [0.02419021],\n",
       "       [0.02414026]], dtype=float32)"
      ]
     },
     "execution_count": 22,
     "metadata": {},
     "output_type": "execute_result"
    }
   ],
   "source": [
    "test_predict"
   ]
  },
  {
   "cell_type": "code",
   "execution_count": 23,
   "metadata": {},
   "outputs": [
    {
     "data": {
      "text/plain": [
       "array([[0.02403, 0.02402, 0.02403, ..., 0.02422, 0.02417, 0.02421]])"
      ]
     },
     "execution_count": 23,
     "metadata": {},
     "output_type": "execute_result"
    }
   ],
   "source": [
    "y_test"
   ]
  },
  {
   "cell_type": "code",
   "execution_count": 24,
   "metadata": {},
   "outputs": [
    {
     "name": "stdout",
     "output_type": "stream",
     "text": [
      "Train RMSE: 0.000078\n",
      "Test RMSE: 0.000042\n"
     ]
    }
   ],
   "source": [
    "train_score = np.sqrt(mean_squared_error(y_train[0], train_predict[:, 0]))\n",
    "test_score = np.sqrt(mean_squared_error(y_test[0], test_predict[:, 0]))\n",
    "print(f'Train RMSE: {train_score:.6f}')\n",
    "print(f'Test RMSE: {test_score:.6f}')"
   ]
  },
  {
   "cell_type": "code",
   "execution_count": 25,
   "metadata": {},
   "outputs": [
    {
     "data": {
      "image/png": "[encoded data removed]",
      "text/plain": [
       "<Figure size 1440x720 with 1 Axes>"
      ]
     },
     "metadata": {
      "needs_background": "light"
     },
     "output_type": "display_data"
    }
   ],
   "source": [
    "plt.figure(figsize=(20, 10))\n",
    "plt.subplot(1, 1, 1)\n",
    "plt.plot(train_dates, y_train[0], label='Actual', color = 'Blue')\n",
    "plt.plot(train_dates, train_predict, label='Predicted', color = 'Red')\n",
    "plt.title('Train Data')\n",
    "plt.xlabel('Date')\n",
    "plt.ylabel('Price')\n",
    "plt.legend()\n",
    "plt.xticks(rotation=45)\n",
    "plt.gca().xaxis.set_major_formatter(DateFormatter('%Y'))"
   ]
  },
  {
   "cell_type": "code",
   "execution_count": 26,
   "metadata": {},
   "outputs": [
    {
     "data": {
      "image/png": "[encoded data removed]",
      "text/plain": [
       "<Figure size 432x288 with 1 Axes>"
      ]
     },
     "metadata": {
      "needs_background": "light"
     },
     "output_type": "display_data"
    }
   ],
   "source": [
    "plt.subplot(1, 1, 1)\n",
    "plt.plot(test_dates[:-2], y_test[0], label='Actual', color = 'Blue')\n",
    "plt.plot(test_dates[:-2], test_predict, label='Predicted', color = 'Red')\n",
    "plt.title('Test Data')\n",
    "plt.xlabel('Date')\n",
    "plt.ylabel('Price')\n",
    "plt.legend()\n",
    "plt.xticks(rotation=45)\n",
    "plt.gca().xaxis.set_major_formatter(DateFormatter('%Y-%m'))\n",
    "\n",
    "plt.tight_layout()\n",
    "plt.show()"
   ]
  },
  {
   "cell_type": "code",
   "execution_count": 27,
   "metadata": {},
   "outputs": [
    {
     "name": "stdout",
     "output_type": "stream",
     "text": [
      "[[0.28932384]]\n"
     ]
    }
   ],
   "source": [
    "last_1_day = scaled_data[-timestep:]\n",
    "X_predict = last_1_day.reshape(1, timestep, 1)\n",
    "print(last_1_day)"
   ]
  },
  {
   "cell_type": "code",
   "execution_count": 28,
   "metadata": {},
   "outputs": [
    {
     "name": "stdout",
     "output_type": "stream",
     "text": [
      "1/1 [==============================] - 0s 21ms/step\n",
      "[[0.02413027]]\n"
     ]
    }
   ],
   "source": [
    "pred = model.predict(X_predict)\n",
    "pred = scaler.inverse_transform(pred)\n",
    "print(pred)"
   ]
  },
  {
   "cell_type": "code",
   "execution_count": 29,
   "metadata": {},
   "outputs": [
    {
     "name": "stdout",
     "output_type": "stream",
     "text": [
      "1/1 [==============================] - 0s 17ms/step\n",
      "1/1 [==============================] - 0s 13ms/step\n",
      "1/1 [==============================] - 0s 13ms/step\n",
      "1/1 [==============================] - 0s 13ms/step\n",
      "1/1 [==============================] - 0s 14ms/step\n",
      "1/1 [==============================] - 0s 14ms/step\n",
      "1/1 [==============================] - 0s 16ms/step\n",
      "1/1 [==============================] - 0s 15ms/step\n",
      "1/1 [==============================] - 0s 16ms/step\n",
      "1/1 [==============================] - 0s 16ms/step\n",
      "1/1 [==============================] - 0s 14ms/step\n",
      "1/1 [==============================] - 0s 14ms/step\n",
      "1/1 [==============================] - 0s 15ms/step\n",
      "1/1 [==============================] - 0s 13ms/step\n",
      "1/1 [==============================] - 0s 16ms/step\n",
      "1/1 [==============================] - 0s 13ms/step\n",
      "1/1 [==============================] - 0s 15ms/step\n",
      "1/1 [==============================] - 0s 13ms/step\n",
      "1/1 [==============================] - 0s 14ms/step\n",
      "1/1 [==============================] - 0s 14ms/step\n",
      "1/1 [==============================] - 0s 15ms/step\n",
      "1/1 [==============================] - 0s 13ms/step\n",
      "1/1 [==============================] - 0s 14ms/step\n",
      "1/1 [==============================] - 0s 14ms/step\n",
      "1/1 [==============================] - 0s 15ms/step\n",
      "1/1 [==============================] - 0s 14ms/step\n",
      "1/1 [==============================] - 0s 14ms/step\n",
      "1/1 [==============================] - 0s 14ms/step\n",
      "1/1 [==============================] - 0s 14ms/step\n",
      "1/1 [==============================] - 0s 15ms/step\n"
     ]
    }
   ],
   "source": [
    "preds = []\n",
    "for i in range(30):\n",
    "    pred = model.predict(X_predict)\n",
    "    preds.append(scaler.inverse_transform(pred)[0][0])\n",
    "    pred = pred.reshape(1, 1, 1)\n",
    "    X_predict = np.append(X_predict[:, 1:, :], pred, axis=1).reshape(1, timestep, 1)"
   ]
  },
  {
   "cell_type": "code",
   "execution_count": 30,
   "metadata": {},
   "outputs": [
    {
     "data": {
      "text/plain": [
       "[0.024130272,\n",
       " 0.024100572,\n",
       " 0.0240709,\n",
       " 0.024041254,\n",
       " 0.024011636,\n",
       " 0.023982042,\n",
       " 0.023952475,\n",
       " 0.023922931,\n",
       " 0.023893416,\n",
       " 0.023863921,\n",
       " 0.02383445,\n",
       " 0.023805004,\n",
       " 0.023775578,\n",
       " 0.023746176,\n",
       " 0.023716794,\n",
       " 0.023687437,\n",
       " 0.0236581,\n",
       " 0.023628782,\n",
       " 0.023599485,\n",
       " 0.023570208,\n",
       " 0.023540951,\n",
       " 0.023511712,\n",
       " 0.02348249,\n",
       " 0.023453288,\n",
       " 0.023424102,\n",
       " 0.023394935,\n",
       " 0.02336578,\n",
       " 0.023336645,\n",
       " 0.023307525,\n",
       " 0.02327842]"
      ]
     },
     "execution_count": 30,
     "metadata": {},
     "output_type": "execute_result"
    }
   ],
   "source": [
    "preds"
   ]
  },
  {
   "cell_type": "code",
   "execution_count": null,
   "metadata": {},
   "outputs": [],
   "source": []
  }
 ],
 "metadata": {
  "kernelspec": {
   "display_name": "Python 3",
   "language": "python",
   "name": "python3"
  },
  "language_info": {
   "codemirror_mode": {
    "name": "ipython",
    "version": 3
   },
   "file_extension": ".py",
   "mimetype": "text/x-python",
   "name": "python",
   "nbconvert_exporter": "python",
   "pygments_lexer": "ipython3",
   "version": "3.10.2"
  }
 },
 "nbformat": 4,
 "nbformat_minor": 2
}
