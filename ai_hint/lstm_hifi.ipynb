{
 "cells": [
  {
   "cell_type": "code",
   "execution_count": 1,
   "metadata": {},
   "outputs": [],
   "source": [
    "from tensorflow.keras.layers import LSTM, Dense\n",
    "from tensorflow.keras.models import Sequential\n",
    "from tensorflow.keras.callbacks import EarlyStopping\n",
    "\n",
    "import pandas as pd\n",
    "import numpy as np\n",
    "import matplotlib.pyplot as plt\n",
    "from matplotlib.dates import DateFormatter\n",
    "import joblib\n",
    "\n",
    "from sklearn.preprocessing import MinMaxScaler\n",
    "from sklearn.metrics import mean_squared_error"
   ]
  },
  {
   "cell_type": "code",
   "execution_count": 2,
   "metadata": {},
   "outputs": [],
   "source": [
    "seed = 42"
   ]
  },
  {
   "cell_type": "code",
   "execution_count": 3,
   "metadata": {},
   "outputs": [],
   "source": [
    "coin = 'KRW-HIFI'"
   ]
  },
  {
   "cell_type": "code",
   "execution_count": 4,
   "metadata": {},
   "outputs": [],
   "source": [
    "df = pd.read_csv(f'../data/from_pyupbit/{coin}.csv')"
   ]
  },
  {
   "cell_type": "code",
   "execution_count": 5,
   "metadata": {},
   "outputs": [
    {
     "data": {
      "text/html": [
       "<div>\n",
       "<style scoped>\n",
       "    .dataframe tbody tr th:only-of-type {\n",
       "        vertical-align: middle;\n",
       "    }\n",
       "\n",
       "    .dataframe tbody tr th {\n",
       "        vertical-align: top;\n",
       "    }\n",
       "\n",
       "    .dataframe thead th {\n",
       "        text-align: right;\n",
       "    }\n",
       "</style>\n",
       "<table border=\"1\" class=\"dataframe\">\n",
       "  <thead>\n",
       "    <tr style=\"text-align: right;\">\n",
       "      <th></th>\n",
       "      <th>timestamp</th>\n",
       "      <th>open</th>\n",
       "      <th>high</th>\n",
       "      <th>low</th>\n",
       "      <th>close</th>\n",
       "      <th>volume</th>\n",
       "      <th>value</th>\n",
       "    </tr>\n",
       "  </thead>\n",
       "  <tbody>\n",
       "    <tr>\n",
       "      <th>0</th>\n",
       "      <td>2023-05-04 09:05:00</td>\n",
       "      <td>1825.0</td>\n",
       "      <td>2015.0</td>\n",
       "      <td>1820.0</td>\n",
       "      <td>1975.0</td>\n",
       "      <td>1.313930e+07</td>\n",
       "      <td>2.590944e+10</td>\n",
       "    </tr>\n",
       "    <tr>\n",
       "      <th>1</th>\n",
       "      <td>2023-05-04 09:06:00</td>\n",
       "      <td>1970.0</td>\n",
       "      <td>1985.0</td>\n",
       "      <td>1960.0</td>\n",
       "      <td>1965.0</td>\n",
       "      <td>4.593641e+06</td>\n",
       "      <td>9.063733e+09</td>\n",
       "    </tr>\n",
       "    <tr>\n",
       "      <th>2</th>\n",
       "      <td>2023-05-04 09:07:00</td>\n",
       "      <td>1970.0</td>\n",
       "      <td>1990.0</td>\n",
       "      <td>1965.0</td>\n",
       "      <td>1990.0</td>\n",
       "      <td>2.737682e+06</td>\n",
       "      <td>5.413675e+09</td>\n",
       "    </tr>\n",
       "    <tr>\n",
       "      <th>3</th>\n",
       "      <td>2023-05-04 09:08:00</td>\n",
       "      <td>1985.0</td>\n",
       "      <td>1995.0</td>\n",
       "      <td>1970.0</td>\n",
       "      <td>1975.0</td>\n",
       "      <td>2.330906e+06</td>\n",
       "      <td>4.621071e+09</td>\n",
       "    </tr>\n",
       "    <tr>\n",
       "      <th>4</th>\n",
       "      <td>2023-05-04 09:09:00</td>\n",
       "      <td>1975.0</td>\n",
       "      <td>1980.0</td>\n",
       "      <td>1950.0</td>\n",
       "      <td>1960.0</td>\n",
       "      <td>2.320489e+06</td>\n",
       "      <td>4.555203e+09</td>\n",
       "    </tr>\n",
       "    <tr>\n",
       "      <th>...</th>\n",
       "      <td>...</td>\n",
       "      <td>...</td>\n",
       "      <td>...</td>\n",
       "      <td>...</td>\n",
       "      <td>...</td>\n",
       "      <td>...</td>\n",
       "      <td>...</td>\n",
       "    </tr>\n",
       "    <tr>\n",
       "      <th>701770</th>\n",
       "      <td>2024-10-12 19:41:00</td>\n",
       "      <td>2809.0</td>\n",
       "      <td>2812.0</td>\n",
       "      <td>2809.0</td>\n",
       "      <td>2810.0</td>\n",
       "      <td>6.448054e+04</td>\n",
       "      <td>1.811826e+08</td>\n",
       "    </tr>\n",
       "    <tr>\n",
       "      <th>701771</th>\n",
       "      <td>2024-10-12 19:42:00</td>\n",
       "      <td>2809.0</td>\n",
       "      <td>2815.0</td>\n",
       "      <td>2809.0</td>\n",
       "      <td>2812.0</td>\n",
       "      <td>4.873846e+04</td>\n",
       "      <td>1.370615e+08</td>\n",
       "    </tr>\n",
       "    <tr>\n",
       "      <th>701772</th>\n",
       "      <td>2024-10-12 19:43:00</td>\n",
       "      <td>2812.0</td>\n",
       "      <td>2814.0</td>\n",
       "      <td>2811.0</td>\n",
       "      <td>2814.0</td>\n",
       "      <td>6.543037e+04</td>\n",
       "      <td>1.839865e+08</td>\n",
       "    </tr>\n",
       "    <tr>\n",
       "      <th>701773</th>\n",
       "      <td>2024-10-12 19:44:00</td>\n",
       "      <td>2814.0</td>\n",
       "      <td>2815.0</td>\n",
       "      <td>2812.0</td>\n",
       "      <td>2815.0</td>\n",
       "      <td>2.284715e+04</td>\n",
       "      <td>6.429445e+07</td>\n",
       "    </tr>\n",
       "    <tr>\n",
       "      <th>701774</th>\n",
       "      <td>2024-10-12 19:45:00</td>\n",
       "      <td>2815.0</td>\n",
       "      <td>2816.0</td>\n",
       "      <td>2813.0</td>\n",
       "      <td>2815.0</td>\n",
       "      <td>4.033904e+03</td>\n",
       "      <td>1.135573e+07</td>\n",
       "    </tr>\n",
       "  </tbody>\n",
       "</table>\n",
       "<p>701775 rows × 7 columns</p>\n",
       "</div>"
      ],
      "text/plain": [
       "                  timestamp    open    high     low   close        volume  \\\n",
       "0       2023-05-04 09:05:00  1825.0  2015.0  1820.0  1975.0  1.313930e+07   \n",
       "1       2023-05-04 09:06:00  1970.0  1985.0  1960.0  1965.0  4.593641e+06   \n",
       "2       2023-05-04 09:07:00  1970.0  1990.0  1965.0  1990.0  2.737682e+06   \n",
       "3       2023-05-04 09:08:00  1985.0  1995.0  1970.0  1975.0  2.330906e+06   \n",
       "4       2023-05-04 09:09:00  1975.0  1980.0  1950.0  1960.0  2.320489e+06   \n",
       "...                     ...     ...     ...     ...     ...           ...   \n",
       "701770  2024-10-12 19:41:00  2809.0  2812.0  2809.0  2810.0  6.448054e+04   \n",
       "701771  2024-10-12 19:42:00  2809.0  2815.0  2809.0  2812.0  4.873846e+04   \n",
       "701772  2024-10-12 19:43:00  2812.0  2814.0  2811.0  2814.0  6.543037e+04   \n",
       "701773  2024-10-12 19:44:00  2814.0  2815.0  2812.0  2815.0  2.284715e+04   \n",
       "701774  2024-10-12 19:45:00  2815.0  2816.0  2813.0  2815.0  4.033904e+03   \n",
       "\n",
       "               value  \n",
       "0       2.590944e+10  \n",
       "1       9.063733e+09  \n",
       "2       5.413675e+09  \n",
       "3       4.621071e+09  \n",
       "4       4.555203e+09  \n",
       "...              ...  \n",
       "701770  1.811826e+08  \n",
       "701771  1.370615e+08  \n",
       "701772  1.839865e+08  \n",
       "701773  6.429445e+07  \n",
       "701774  1.135573e+07  \n",
       "\n",
       "[701775 rows x 7 columns]"
      ]
     },
     "execution_count": 5,
     "metadata": {},
     "output_type": "execute_result"
    }
   ],
   "source": [
    "df"
   ]
  },
  {
   "cell_type": "code",
   "execution_count": 6,
   "metadata": {},
   "outputs": [],
   "source": [
    "df['timestamp'] = pd.to_datetime(df['timestamp'])\n",
    "df.set_index('timestamp', inplace=True)"
   ]
  },
  {
   "cell_type": "code",
   "execution_count": 7,
   "metadata": {},
   "outputs": [
    {
     "data": {
      "text/html": [
       "<div>\n",
       "<style scoped>\n",
       "    .dataframe tbody tr th:only-of-type {\n",
       "        vertical-align: middle;\n",
       "    }\n",
       "\n",
       "    .dataframe tbody tr th {\n",
       "        vertical-align: top;\n",
       "    }\n",
       "\n",
       "    .dataframe thead th {\n",
       "        text-align: right;\n",
       "    }\n",
       "</style>\n",
       "<table border=\"1\" class=\"dataframe\">\n",
       "  <thead>\n",
       "    <tr style=\"text-align: right;\">\n",
       "      <th></th>\n",
       "      <th>open</th>\n",
       "      <th>high</th>\n",
       "      <th>low</th>\n",
       "      <th>close</th>\n",
       "      <th>volume</th>\n",
       "      <th>value</th>\n",
       "    </tr>\n",
       "    <tr>\n",
       "      <th>timestamp</th>\n",
       "      <th></th>\n",
       "      <th></th>\n",
       "      <th></th>\n",
       "      <th></th>\n",
       "      <th></th>\n",
       "      <th></th>\n",
       "    </tr>\n",
       "  </thead>\n",
       "  <tbody>\n",
       "    <tr>\n",
       "      <th>2023-05-04 09:05:00</th>\n",
       "      <td>1825.0</td>\n",
       "      <td>2015.0</td>\n",
       "      <td>1820.0</td>\n",
       "      <td>1975.0</td>\n",
       "      <td>1.313930e+07</td>\n",
       "      <td>2.590944e+10</td>\n",
       "    </tr>\n",
       "    <tr>\n",
       "      <th>2023-05-04 09:06:00</th>\n",
       "      <td>1970.0</td>\n",
       "      <td>1985.0</td>\n",
       "      <td>1960.0</td>\n",
       "      <td>1965.0</td>\n",
       "      <td>4.593641e+06</td>\n",
       "      <td>9.063733e+09</td>\n",
       "    </tr>\n",
       "    <tr>\n",
       "      <th>2023-05-04 09:07:00</th>\n",
       "      <td>1970.0</td>\n",
       "      <td>1990.0</td>\n",
       "      <td>1965.0</td>\n",
       "      <td>1990.0</td>\n",
       "      <td>2.737682e+06</td>\n",
       "      <td>5.413675e+09</td>\n",
       "    </tr>\n",
       "    <tr>\n",
       "      <th>2023-05-04 09:08:00</th>\n",
       "      <td>1985.0</td>\n",
       "      <td>1995.0</td>\n",
       "      <td>1970.0</td>\n",
       "      <td>1975.0</td>\n",
       "      <td>2.330906e+06</td>\n",
       "      <td>4.621071e+09</td>\n",
       "    </tr>\n",
       "    <tr>\n",
       "      <th>2023-05-04 09:09:00</th>\n",
       "      <td>1975.0</td>\n",
       "      <td>1980.0</td>\n",
       "      <td>1950.0</td>\n",
       "      <td>1960.0</td>\n",
       "      <td>2.320489e+06</td>\n",
       "      <td>4.555203e+09</td>\n",
       "    </tr>\n",
       "    <tr>\n",
       "      <th>...</th>\n",
       "      <td>...</td>\n",
       "      <td>...</td>\n",
       "      <td>...</td>\n",
       "      <td>...</td>\n",
       "      <td>...</td>\n",
       "      <td>...</td>\n",
       "    </tr>\n",
       "    <tr>\n",
       "      <th>2024-10-12 19:41:00</th>\n",
       "      <td>2809.0</td>\n",
       "      <td>2812.0</td>\n",
       "      <td>2809.0</td>\n",
       "      <td>2810.0</td>\n",
       "      <td>6.448054e+04</td>\n",
       "      <td>1.811826e+08</td>\n",
       "    </tr>\n",
       "    <tr>\n",
       "      <th>2024-10-12 19:42:00</th>\n",
       "      <td>2809.0</td>\n",
       "      <td>2815.0</td>\n",
       "      <td>2809.0</td>\n",
       "      <td>2812.0</td>\n",
       "      <td>4.873846e+04</td>\n",
       "      <td>1.370615e+08</td>\n",
       "    </tr>\n",
       "    <tr>\n",
       "      <th>2024-10-12 19:43:00</th>\n",
       "      <td>2812.0</td>\n",
       "      <td>2814.0</td>\n",
       "      <td>2811.0</td>\n",
       "      <td>2814.0</td>\n",
       "      <td>6.543037e+04</td>\n",
       "      <td>1.839865e+08</td>\n",
       "    </tr>\n",
       "    <tr>\n",
       "      <th>2024-10-12 19:44:00</th>\n",
       "      <td>2814.0</td>\n",
       "      <td>2815.0</td>\n",
       "      <td>2812.0</td>\n",
       "      <td>2815.0</td>\n",
       "      <td>2.284715e+04</td>\n",
       "      <td>6.429445e+07</td>\n",
       "    </tr>\n",
       "    <tr>\n",
       "      <th>2024-10-12 19:45:00</th>\n",
       "      <td>2815.0</td>\n",
       "      <td>2816.0</td>\n",
       "      <td>2813.0</td>\n",
       "      <td>2815.0</td>\n",
       "      <td>4.033904e+03</td>\n",
       "      <td>1.135573e+07</td>\n",
       "    </tr>\n",
       "  </tbody>\n",
       "</table>\n",
       "<p>701775 rows × 6 columns</p>\n",
       "</div>"
      ],
      "text/plain": [
       "                       open    high     low   close        volume  \\\n",
       "timestamp                                                           \n",
       "2023-05-04 09:05:00  1825.0  2015.0  1820.0  1975.0  1.313930e+07   \n",
       "2023-05-04 09:06:00  1970.0  1985.0  1960.0  1965.0  4.593641e+06   \n",
       "2023-05-04 09:07:00  1970.0  1990.0  1965.0  1990.0  2.737682e+06   \n",
       "2023-05-04 09:08:00  1985.0  1995.0  1970.0  1975.0  2.330906e+06   \n",
       "2023-05-04 09:09:00  1975.0  1980.0  1950.0  1960.0  2.320489e+06   \n",
       "...                     ...     ...     ...     ...           ...   \n",
       "2024-10-12 19:41:00  2809.0  2812.0  2809.0  2810.0  6.448054e+04   \n",
       "2024-10-12 19:42:00  2809.0  2815.0  2809.0  2812.0  4.873846e+04   \n",
       "2024-10-12 19:43:00  2812.0  2814.0  2811.0  2814.0  6.543037e+04   \n",
       "2024-10-12 19:44:00  2814.0  2815.0  2812.0  2815.0  2.284715e+04   \n",
       "2024-10-12 19:45:00  2815.0  2816.0  2813.0  2815.0  4.033904e+03   \n",
       "\n",
       "                            value  \n",
       "timestamp                          \n",
       "2023-05-04 09:05:00  2.590944e+10  \n",
       "2023-05-04 09:06:00  9.063733e+09  \n",
       "2023-05-04 09:07:00  5.413675e+09  \n",
       "2023-05-04 09:08:00  4.621071e+09  \n",
       "2023-05-04 09:09:00  4.555203e+09  \n",
       "...                           ...  \n",
       "2024-10-12 19:41:00  1.811826e+08  \n",
       "2024-10-12 19:42:00  1.370615e+08  \n",
       "2024-10-12 19:43:00  1.839865e+08  \n",
       "2024-10-12 19:44:00  6.429445e+07  \n",
       "2024-10-12 19:45:00  1.135573e+07  \n",
       "\n",
       "[701775 rows x 6 columns]"
      ]
     },
     "execution_count": 7,
     "metadata": {},
     "output_type": "execute_result"
    }
   ],
   "source": [
    "df"
   ]
  },
  {
   "cell_type": "code",
   "execution_count": 8,
   "metadata": {},
   "outputs": [
    {
     "data": {
      "text/plain": [
       "['models/KRW-SUI_scaler.pkl']"
      ]
     },
     "execution_count": 8,
     "metadata": {},
     "output_type": "execute_result"
    }
   ],
   "source": [
    "scaler = MinMaxScaler(feature_range=(0, 1))\n",
    "scaled_data = scaler.fit_transform(df['close'].values.reshape(-1, 1))\n",
    "joblib.dump(scaler, f'models/{coin}_scaler.pkl')"
   ]
  },
  {
   "cell_type": "code",
   "execution_count": 9,
   "metadata": {},
   "outputs": [],
   "source": [
    "timestep = 1"
   ]
  },
  {
   "cell_type": "code",
   "execution_count": 10,
   "metadata": {},
   "outputs": [],
   "source": [
    "X = []\n",
    "y = []\n",
    "for i in range(len(scaled_data) - timestep - 1):\n",
    "    X.append(scaled_data[i:(i + timestep), 0])\n",
    "    y.append(scaled_data[i + timestep, 0])"
   ]
  },
  {
   "cell_type": "code",
   "execution_count": 11,
   "metadata": {},
   "outputs": [],
   "source": [
    "X, y = np.array(X), np.array(y)"
   ]
  },
  {
   "cell_type": "code",
   "execution_count": 12,
   "metadata": {},
   "outputs": [],
   "source": [
    "train_size = int(len(X) * .8)\n",
    "X_train, X_test = X[:train_size], X[train_size:]\n",
    "y_train, y_test = y[:train_size], y[train_size:]"
   ]
  },
  {
   "cell_type": "code",
   "execution_count": 13,
   "metadata": {},
   "outputs": [],
   "source": [
    "train_dates = df.index[:train_size]\n",
    "test_dates = df.index[train_size:]"
   ]
  },
  {
   "cell_type": "code",
   "execution_count": 14,
   "metadata": {},
   "outputs": [],
   "source": [
    "X_train = X_train.reshape(X_train.shape[0], X_train.shape[1], 1)\n",
    "X_test = X_test.reshape(X_test.shape[0], X_test.shape[1], 1)"
   ]
  },
  {
   "cell_type": "code",
   "execution_count": 15,
   "metadata": {},
   "outputs": [],
   "source": [
    "model = Sequential()\n",
    "model.add(LSTM(50, return_sequences=True, input_shape=(timestep, 1)))\n",
    "model.add(LSTM(50, return_sequences=False))\n",
    "model.add(Dense(25))\n",
    "model.add(Dense(1))"
   ]
  },
  {
   "cell_type": "code",
   "execution_count": 16,
   "metadata": {},
   "outputs": [],
   "source": [
    "model.compile(optimizer='adam', loss='mean_squared_error')"
   ]
  },
  {
   "cell_type": "code",
   "execution_count": 17,
   "metadata": {},
   "outputs": [],
   "source": [
    "early_stop = EarlyStopping(monitor='val_loss', patience=10)"
   ]
  },
  {
   "cell_type": "code",
   "execution_count": 18,
   "metadata": {},
   "outputs": [
    {
     "name": "stdout",
     "output_type": "stream",
     "text": [
      "Epoch 1/20\n",
      "17545/17545 [==============================] - 33s 2ms/step - loss: 1.9694e-04 - val_loss: 6.2195e-06\n",
      "Epoch 2/20\n",
      "17545/17545 [==============================] - 30s 2ms/step - loss: 2.8081e-06 - val_loss: 2.8985e-06\n",
      "Epoch 3/20\n",
      "17545/17545 [==============================] - 30s 2ms/step - loss: 2.6589e-06 - val_loss: 1.5846e-06\n",
      "Epoch 4/20\n",
      "17545/17545 [==============================] - 30s 2ms/step - loss: 2.5291e-06 - val_loss: 5.3438e-06\n",
      "Epoch 5/20\n",
      "17545/17545 [==============================] - 30s 2ms/step - loss: 2.4588e-06 - val_loss: 4.1157e-06\n",
      "Epoch 6/20\n",
      "17545/17545 [==============================] - 30s 2ms/step - loss: 2.3477e-06 - val_loss: 5.9268e-06\n",
      "Epoch 7/20\n",
      "17545/17545 [==============================] - 31s 2ms/step - loss: 2.2713e-06 - val_loss: 4.7038e-06\n",
      "Epoch 8/20\n",
      "17545/17545 [==============================] - 31s 2ms/step - loss: 2.2030e-06 - val_loss: 2.7350e-06\n",
      "Epoch 9/20\n",
      "17545/17545 [==============================] - 30s 2ms/step - loss: 2.1708e-06 - val_loss: 2.7118e-06\n",
      "Epoch 10/20\n",
      "17545/17545 [==============================] - 31s 2ms/step - loss: 2.1132e-06 - val_loss: 1.8240e-06\n",
      "Epoch 11/20\n",
      "17545/17545 [==============================] - 31s 2ms/step - loss: 2.0276e-06 - val_loss: 2.6659e-06\n",
      "Epoch 12/20\n",
      "17545/17545 [==============================] - 31s 2ms/step - loss: 2.0163e-06 - val_loss: 1.3510e-06\n",
      "Epoch 13/20\n",
      "17545/17545 [==============================] - 31s 2ms/step - loss: 1.9752e-06 - val_loss: 5.4169e-06\n",
      "Epoch 14/20\n",
      "17545/17545 [==============================] - 31s 2ms/step - loss: 1.9129e-06 - val_loss: 4.2764e-06\n",
      "Epoch 15/20\n",
      "17545/17545 [==============================] - 31s 2ms/step - loss: 1.9367e-06 - val_loss: 6.4963e-06\n",
      "Epoch 16/20\n",
      "17545/17545 [==============================] - 31s 2ms/step - loss: 1.8899e-06 - val_loss: 4.2043e-06\n",
      "Epoch 17/20\n",
      "17545/17545 [==============================] - 31s 2ms/step - loss: 1.8555e-06 - val_loss: 1.4452e-06\n",
      "Epoch 18/20\n",
      "17545/17545 [==============================] - 31s 2ms/step - loss: 1.8296e-06 - val_loss: 2.9671e-06\n",
      "Epoch 19/20\n",
      "17545/17545 [==============================] - 31s 2ms/step - loss: 1.8167e-06 - val_loss: 2.2983e-06\n",
      "Epoch 20/20\n",
      "17545/17545 [==============================] - 31s 2ms/step - loss: 1.7870e-06 - val_loss: 1.2858e-06\n"
     ]
    },
    {
     "data": {
      "text/plain": [
       "<keras.src.callbacks.History at 0x2d8c83e50>"
      ]
     },
     "execution_count": 18,
     "metadata": {},
     "output_type": "execute_result"
    }
   ],
   "source": [
    "model.fit(X_train, y_train, batch_size=32, epochs=20,\n",
    "          validation_data=(X_test, y_test), callbacks=[early_stop])"
   ]
  },
  {
   "cell_type": "code",
   "execution_count": 19,
   "metadata": {},
   "outputs": [
    {
     "name": "stderr",
     "output_type": "stream",
     "text": [
      "/Users/sun/anaconda3/envs/dl/lib/python3.10/site-packages/keras/src/engine/training.py:3079: UserWarning: You are saving your model as an HDF5 file via `model.save()`. This file format is considered legacy. We recommend using instead the native Keras format, e.g. `model.save('my_model.keras')`.\n",
      "  saving_api.save_model(\n"
     ]
    }
   ],
   "source": [
    "model.save(f'models/lstm_{coin}.h5')"
   ]
  },
  {
   "cell_type": "code",
   "execution_count": 20,
   "metadata": {},
   "outputs": [
    {
     "name": "stdout",
     "output_type": "stream",
     "text": [
      "17545/17545 [==============================] - 11s 616us/step\n",
      "4387/4387 [==============================] - 3s 590us/step\n"
     ]
    }
   ],
   "source": [
    "train_predict = model.predict(X_train)\n",
    "test_predict = model.predict(X_test)"
   ]
  },
  {
   "cell_type": "code",
   "execution_count": 21,
   "metadata": {},
   "outputs": [],
   "source": [
    "train_predict = scaler.inverse_transform(train_predict)\n",
    "test_predict = scaler.inverse_transform(test_predict)\n",
    "y_train = scaler.inverse_transform([y_train])\n",
    "y_test = scaler.inverse_transform([y_test])"
   ]
  },
  {
   "cell_type": "code",
   "execution_count": 43,
   "metadata": {},
   "outputs": [
    {
     "data": {
      "text/plain": [
       "array([[1199.3491],\n",
       "       [1198.3492],\n",
       "       [1201.349 ],\n",
       "       ...,\n",
       "       [2809.4136],\n",
       "       [2811.4019],\n",
       "       [2813.39  ]], dtype=float32)"
      ]
     },
     "execution_count": 43,
     "metadata": {},
     "output_type": "execute_result"
    }
   ],
   "source": [
    "test_predict"
   ]
  },
  {
   "cell_type": "code",
   "execution_count": 44,
   "metadata": {},
   "outputs": [
    {
     "data": {
      "text/plain": [
       "array([[1198., 1201., 1193., ..., 2812., 2814., 2815.]])"
      ]
     },
     "execution_count": 44,
     "metadata": {},
     "output_type": "execute_result"
    }
   ],
   "source": [
    "y_test"
   ]
  },
  {
   "cell_type": "code",
   "execution_count": 22,
   "metadata": {},
   "outputs": [
    {
     "name": "stdout",
     "output_type": "stream",
     "text": [
      "Train RMSE: 2.85\n",
      "Test RMSE: 3.06\n"
     ]
    }
   ],
   "source": [
    "train_score = np.sqrt(mean_squared_error(y_train[0], train_predict[:, 0]))\n",
    "test_score = np.sqrt(mean_squared_error(y_test[0], test_predict[:, 0]))\n",
    "print(f'Train RMSE: {train_score:.2f}')\n",
    "print(f'Test RMSE: {test_score:.2f}')"
   ]
  },
  {
   "cell_type": "code",
   "execution_count": 40,
   "metadata": {},
   "outputs": [
    {
     "name": "stdout",
     "output_type": "stream",
     "text": [
      "[[0.85825315]]\n"
     ]
    }
   ],
   "source": [
    "last_1_day = scaled_data[-timestep:]\n",
    "X_predict = last_1_day.reshape(1, timestep, 1)\n",
    "print(last_1_day)"
   ]
  },
  {
   "cell_type": "code",
   "execution_count": 30,
   "metadata": {},
   "outputs": [
    {
     "name": "stdout",
     "output_type": "stream",
     "text": [
      "1/1 [==============================] - 0s 14ms/step\n",
      "[[2814.3838]]\n"
     ]
    }
   ],
   "source": [
    "pred = model.predict(X_predict)\n",
    "pred = scaler.inverse_transform(pred)\n",
    "print(pred)"
   ]
  },
  {
   "cell_type": "code",
   "execution_count": 45,
   "metadata": {},
   "outputs": [
    {
     "name": "stdout",
     "output_type": "stream",
     "text": [
      "1/1 [==============================] - 0s 13ms/step\n",
      "1/1 [==============================] - 0s 14ms/step\n",
      "1/1 [==============================] - 0s 12ms/step\n",
      "1/1 [==============================] - 0s 12ms/step\n",
      "1/1 [==============================] - 0s 14ms/step\n",
      "1/1 [==============================] - 0s 13ms/step\n",
      "1/1 [==============================] - 0s 12ms/step\n",
      "1/1 [==============================] - 0s 12ms/step\n",
      "1/1 [==============================] - 0s 12ms/step\n",
      "1/1 [==============================] - 0s 12ms/step\n",
      "1/1 [==============================] - 0s 12ms/step\n",
      "1/1 [==============================] - 0s 12ms/step\n",
      "1/1 [==============================] - 0s 13ms/step\n",
      "1/1 [==============================] - 0s 12ms/step\n",
      "1/1 [==============================] - 0s 12ms/step\n",
      "1/1 [==============================] - 0s 13ms/step\n",
      "1/1 [==============================] - 0s 12ms/step\n",
      "1/1 [==============================] - 0s 12ms/step\n",
      "1/1 [==============================] - 0s 13ms/step\n",
      "1/1 [==============================] - 0s 12ms/step\n",
      "1/1 [==============================] - 0s 12ms/step\n",
      "1/1 [==============================] - 0s 12ms/step\n",
      "1/1 [==============================] - 0s 12ms/step\n",
      "1/1 [==============================] - 0s 13ms/step\n",
      "1/1 [==============================] - 0s 12ms/step\n",
      "1/1 [==============================] - 0s 13ms/step\n",
      "1/1 [==============================] - 0s 12ms/step\n",
      "1/1 [==============================] - 0s 13ms/step\n",
      "1/1 [==============================] - 0s 12ms/step\n",
      "1/1 [==============================] - 0s 12ms/step\n"
     ]
    }
   ],
   "source": [
    "preds = []\n",
    "for i in range(30):\n",
    "    pred = model.predict(X_predict)\n",
    "    preds.append(scaler.inverse_transform(pred)[0][0])\n",
    "    pred = pred.reshape(1, 1, 1)\n",
    "    X_predict = np.append(X_predict[:, 1:, :], pred, axis=1).reshape(1, timestep, 1)"
   ]
  },
  {
   "cell_type": "code",
   "execution_count": 46,
   "metadata": {},
   "outputs": [
    {
     "data": {
      "text/plain": [
       "[2814.3838,\n",
       " 2813.7712,\n",
       " 2813.1624,\n",
       " 2812.5571,\n",
       " 2811.9556,\n",
       " 2811.3574,\n",
       " 2810.7632,\n",
       " 2810.1724,\n",
       " 2809.5847,\n",
       " 2809.0012,\n",
       " 2808.4207,\n",
       " 2807.8438,\n",
       " 2807.2703,\n",
       " 2806.6997,\n",
       " 2806.1328,\n",
       " 2805.569,\n",
       " 2805.009,\n",
       " 2804.452,\n",
       " 2803.8982,\n",
       " 2803.3472,\n",
       " 2802.7993,\n",
       " 2802.2551,\n",
       " 2801.714,\n",
       " 2801.1758,\n",
       " 2800.6406,\n",
       " 2800.1086,\n",
       " 2799.579,\n",
       " 2799.0527,\n",
       " 2798.5293,\n",
       " 2798.0088]"
      ]
     },
     "execution_count": 46,
     "metadata": {},
     "output_type": "execute_result"
    }
   ],
   "source": [
    "preds"
   ]
  },
  {
   "cell_type": "code",
   "execution_count": null,
   "metadata": {},
   "outputs": [],
   "source": []
  }
 ],
 "metadata": {
  "kernelspec": {
   "display_name": "dl",
   "language": "python",
   "name": "python3"
  },
  "language_info": {
   "codemirror_mode": {
    "name": "ipython",
    "version": 3
   },
   "file_extension": ".py",
   "mimetype": "text/x-python",
   "name": "python",
   "nbconvert_exporter": "python",
   "pygments_lexer": "ipython3",
   "version": "3.10.0"
  }
 },
 "nbformat": 4,
 "nbformat_minor": 2
}
