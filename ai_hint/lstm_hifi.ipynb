{
 "cells": [
  {
   "cell_type": "code",
   "execution_count": 1,
   "metadata": {},
   "outputs": [],
   "source": [
    "from tensorflow.keras.layers import LSTM, Dense\n",
    "from tensorflow.keras.models import Sequential\n",
    "from tensorflow.keras.callbacks import EarlyStopping\n",
    "\n",
    "import pandas as pd\n",
    "import numpy as np\n",
    "import matplotlib.pyplot as plt\n",
    "from matplotlib.dates import DateFormatter\n",
    "import joblib\n",
    "\n",
    "from sklearn.preprocessing import MinMaxScaler\n",
    "from sklearn.metrics import mean_squared_error"
   ]
  },
  {
   "cell_type": "code",
   "execution_count": 2,
   "metadata": {},
   "outputs": [],
   "source": [
    "seed = 42"
   ]
  },
  {
   "cell_type": "code",
   "execution_count": 3,
   "metadata": {},
   "outputs": [],
   "source": [
    "coin = 'KRW-HIFI'"
   ]
  },
  {
   "cell_type": "code",
   "execution_count": 4,
   "metadata": {},
   "outputs": [],
   "source": [
    "df = pd.read_csv(f'../data/from_pyupbit/{coin}.csv')"
   ]
  },
  {
   "cell_type": "code",
   "execution_count": 5,
   "metadata": {},
   "outputs": [
    {
     "data": {
      "text/html": [
       "<div>\n",
       "<style scoped>\n",
       "    .dataframe tbody tr th:only-of-type {\n",
       "        vertical-align: middle;\n",
       "    }\n",
       "\n",
       "    .dataframe tbody tr th {\n",
       "        vertical-align: top;\n",
       "    }\n",
       "\n",
       "    .dataframe thead th {\n",
       "        text-align: right;\n",
       "    }\n",
       "</style>\n",
       "<table border=\"1\" class=\"dataframe\">\n",
       "  <thead>\n",
       "    <tr style=\"text-align: right;\">\n",
       "      <th></th>\n",
       "      <th>timestamp</th>\n",
       "      <th>open</th>\n",
       "      <th>high</th>\n",
       "      <th>low</th>\n",
       "      <th>close</th>\n",
       "      <th>volume</th>\n",
       "      <th>value</th>\n",
       "    </tr>\n",
       "  </thead>\n",
       "  <tbody>\n",
       "    <tr>\n",
       "      <th>0</th>\n",
       "      <td>2020-12-10 01:57:00</td>\n",
       "      <td>254.0</td>\n",
       "      <td>255.0</td>\n",
       "      <td>254.0</td>\n",
       "      <td>255.0</td>\n",
       "      <td>3873.036000</td>\n",
       "      <td>9.874796e+05</td>\n",
       "    </tr>\n",
       "    <tr>\n",
       "      <th>1</th>\n",
       "      <td>2020-12-10 02:11:00</td>\n",
       "      <td>255.0</td>\n",
       "      <td>255.0</td>\n",
       "      <td>255.0</td>\n",
       "      <td>255.0</td>\n",
       "      <td>218.823529</td>\n",
       "      <td>5.580000e+04</td>\n",
       "    </tr>\n",
       "    <tr>\n",
       "      <th>2</th>\n",
       "      <td>2020-12-10 02:13:00</td>\n",
       "      <td>255.0</td>\n",
       "      <td>255.0</td>\n",
       "      <td>255.0</td>\n",
       "      <td>255.0</td>\n",
       "      <td>37.679200</td>\n",
       "      <td>9.608196e+03</td>\n",
       "    </tr>\n",
       "    <tr>\n",
       "      <th>3</th>\n",
       "      <td>2020-12-10 02:15:00</td>\n",
       "      <td>255.0</td>\n",
       "      <td>255.0</td>\n",
       "      <td>255.0</td>\n",
       "      <td>255.0</td>\n",
       "      <td>120.180791</td>\n",
       "      <td>3.064610e+04</td>\n",
       "    </tr>\n",
       "    <tr>\n",
       "      <th>4</th>\n",
       "      <td>2020-12-10 02:19:00</td>\n",
       "      <td>256.0</td>\n",
       "      <td>256.0</td>\n",
       "      <td>256.0</td>\n",
       "      <td>256.0</td>\n",
       "      <td>39.062500</td>\n",
       "      <td>1.000000e+04</td>\n",
       "    </tr>\n",
       "    <tr>\n",
       "      <th>...</th>\n",
       "      <td>...</td>\n",
       "      <td>...</td>\n",
       "      <td>...</td>\n",
       "      <td>...</td>\n",
       "      <td>...</td>\n",
       "      <td>...</td>\n",
       "      <td>...</td>\n",
       "    </tr>\n",
       "    <tr>\n",
       "      <th>1576795</th>\n",
       "      <td>2024-10-12 22:58:00</td>\n",
       "      <td>714.4</td>\n",
       "      <td>716.2</td>\n",
       "      <td>714.4</td>\n",
       "      <td>715.0</td>\n",
       "      <td>2590.098116</td>\n",
       "      <td>1.850538e+06</td>\n",
       "    </tr>\n",
       "    <tr>\n",
       "      <th>1576796</th>\n",
       "      <td>2024-10-12 22:59:00</td>\n",
       "      <td>714.5</td>\n",
       "      <td>714.5</td>\n",
       "      <td>714.3</td>\n",
       "      <td>714.3</td>\n",
       "      <td>10993.691322</td>\n",
       "      <td>7.854553e+06</td>\n",
       "    </tr>\n",
       "    <tr>\n",
       "      <th>1576797</th>\n",
       "      <td>2024-10-12 23:00:00</td>\n",
       "      <td>714.3</td>\n",
       "      <td>714.5</td>\n",
       "      <td>713.6</td>\n",
       "      <td>714.5</td>\n",
       "      <td>17747.861990</td>\n",
       "      <td>1.267516e+07</td>\n",
       "    </tr>\n",
       "    <tr>\n",
       "      <th>1576798</th>\n",
       "      <td>2024-10-12 23:01:00</td>\n",
       "      <td>716.1</td>\n",
       "      <td>717.5</td>\n",
       "      <td>716.1</td>\n",
       "      <td>717.5</td>\n",
       "      <td>44247.438822</td>\n",
       "      <td>3.172240e+07</td>\n",
       "    </tr>\n",
       "    <tr>\n",
       "      <th>1576799</th>\n",
       "      <td>2024-10-12 23:02:00</td>\n",
       "      <td>717.5</td>\n",
       "      <td>717.5</td>\n",
       "      <td>717.5</td>\n",
       "      <td>717.5</td>\n",
       "      <td>13.937282</td>\n",
       "      <td>1.000000e+04</td>\n",
       "    </tr>\n",
       "  </tbody>\n",
       "</table>\n",
       "<p>1576800 rows × 7 columns</p>\n",
       "</div>"
      ],
      "text/plain": [
       "                   timestamp   open   high    low  close        volume  \\\n",
       "0        2020-12-10 01:57:00  254.0  255.0  254.0  255.0   3873.036000   \n",
       "1        2020-12-10 02:11:00  255.0  255.0  255.0  255.0    218.823529   \n",
       "2        2020-12-10 02:13:00  255.0  255.0  255.0  255.0     37.679200   \n",
       "3        2020-12-10 02:15:00  255.0  255.0  255.0  255.0    120.180791   \n",
       "4        2020-12-10 02:19:00  256.0  256.0  256.0  256.0     39.062500   \n",
       "...                      ...    ...    ...    ...    ...           ...   \n",
       "1576795  2024-10-12 22:58:00  714.4  716.2  714.4  715.0   2590.098116   \n",
       "1576796  2024-10-12 22:59:00  714.5  714.5  714.3  714.3  10993.691322   \n",
       "1576797  2024-10-12 23:00:00  714.3  714.5  713.6  714.5  17747.861990   \n",
       "1576798  2024-10-12 23:01:00  716.1  717.5  716.1  717.5  44247.438822   \n",
       "1576799  2024-10-12 23:02:00  717.5  717.5  717.5  717.5     13.937282   \n",
       "\n",
       "                value  \n",
       "0        9.874796e+05  \n",
       "1        5.580000e+04  \n",
       "2        9.608196e+03  \n",
       "3        3.064610e+04  \n",
       "4        1.000000e+04  \n",
       "...               ...  \n",
       "1576795  1.850538e+06  \n",
       "1576796  7.854553e+06  \n",
       "1576797  1.267516e+07  \n",
       "1576798  3.172240e+07  \n",
       "1576799  1.000000e+04  \n",
       "\n",
       "[1576800 rows x 7 columns]"
      ]
     },
     "execution_count": 5,
     "metadata": {},
     "output_type": "execute_result"
    }
   ],
   "source": [
    "df"
   ]
  },
  {
   "cell_type": "code",
   "execution_count": 6,
   "metadata": {},
   "outputs": [],
   "source": [
    "df['timestamp'] = pd.to_datetime(df['timestamp'])\n",
    "df.set_index('timestamp', inplace=True)"
   ]
  },
  {
   "cell_type": "code",
   "execution_count": 7,
   "metadata": {},
   "outputs": [
    {
     "data": {
      "text/html": [
       "<div>\n",
       "<style scoped>\n",
       "    .dataframe tbody tr th:only-of-type {\n",
       "        vertical-align: middle;\n",
       "    }\n",
       "\n",
       "    .dataframe tbody tr th {\n",
       "        vertical-align: top;\n",
       "    }\n",
       "\n",
       "    .dataframe thead th {\n",
       "        text-align: right;\n",
       "    }\n",
       "</style>\n",
       "<table border=\"1\" class=\"dataframe\">\n",
       "  <thead>\n",
       "    <tr style=\"text-align: right;\">\n",
       "      <th></th>\n",
       "      <th>open</th>\n",
       "      <th>high</th>\n",
       "      <th>low</th>\n",
       "      <th>close</th>\n",
       "      <th>volume</th>\n",
       "      <th>value</th>\n",
       "    </tr>\n",
       "    <tr>\n",
       "      <th>timestamp</th>\n",
       "      <th></th>\n",
       "      <th></th>\n",
       "      <th></th>\n",
       "      <th></th>\n",
       "      <th></th>\n",
       "      <th></th>\n",
       "    </tr>\n",
       "  </thead>\n",
       "  <tbody>\n",
       "    <tr>\n",
       "      <th>2020-12-10 01:57:00</th>\n",
       "      <td>254.0</td>\n",
       "      <td>255.0</td>\n",
       "      <td>254.0</td>\n",
       "      <td>255.0</td>\n",
       "      <td>3873.036000</td>\n",
       "      <td>9.874796e+05</td>\n",
       "    </tr>\n",
       "    <tr>\n",
       "      <th>2020-12-10 02:11:00</th>\n",
       "      <td>255.0</td>\n",
       "      <td>255.0</td>\n",
       "      <td>255.0</td>\n",
       "      <td>255.0</td>\n",
       "      <td>218.823529</td>\n",
       "      <td>5.580000e+04</td>\n",
       "    </tr>\n",
       "    <tr>\n",
       "      <th>2020-12-10 02:13:00</th>\n",
       "      <td>255.0</td>\n",
       "      <td>255.0</td>\n",
       "      <td>255.0</td>\n",
       "      <td>255.0</td>\n",
       "      <td>37.679200</td>\n",
       "      <td>9.608196e+03</td>\n",
       "    </tr>\n",
       "    <tr>\n",
       "      <th>2020-12-10 02:15:00</th>\n",
       "      <td>255.0</td>\n",
       "      <td>255.0</td>\n",
       "      <td>255.0</td>\n",
       "      <td>255.0</td>\n",
       "      <td>120.180791</td>\n",
       "      <td>3.064610e+04</td>\n",
       "    </tr>\n",
       "    <tr>\n",
       "      <th>2020-12-10 02:19:00</th>\n",
       "      <td>256.0</td>\n",
       "      <td>256.0</td>\n",
       "      <td>256.0</td>\n",
       "      <td>256.0</td>\n",
       "      <td>39.062500</td>\n",
       "      <td>1.000000e+04</td>\n",
       "    </tr>\n",
       "    <tr>\n",
       "      <th>...</th>\n",
       "      <td>...</td>\n",
       "      <td>...</td>\n",
       "      <td>...</td>\n",
       "      <td>...</td>\n",
       "      <td>...</td>\n",
       "      <td>...</td>\n",
       "    </tr>\n",
       "    <tr>\n",
       "      <th>2024-10-12 22:58:00</th>\n",
       "      <td>714.4</td>\n",
       "      <td>716.2</td>\n",
       "      <td>714.4</td>\n",
       "      <td>715.0</td>\n",
       "      <td>2590.098116</td>\n",
       "      <td>1.850538e+06</td>\n",
       "    </tr>\n",
       "    <tr>\n",
       "      <th>2024-10-12 22:59:00</th>\n",
       "      <td>714.5</td>\n",
       "      <td>714.5</td>\n",
       "      <td>714.3</td>\n",
       "      <td>714.3</td>\n",
       "      <td>10993.691322</td>\n",
       "      <td>7.854553e+06</td>\n",
       "    </tr>\n",
       "    <tr>\n",
       "      <th>2024-10-12 23:00:00</th>\n",
       "      <td>714.3</td>\n",
       "      <td>714.5</td>\n",
       "      <td>713.6</td>\n",
       "      <td>714.5</td>\n",
       "      <td>17747.861990</td>\n",
       "      <td>1.267516e+07</td>\n",
       "    </tr>\n",
       "    <tr>\n",
       "      <th>2024-10-12 23:01:00</th>\n",
       "      <td>716.1</td>\n",
       "      <td>717.5</td>\n",
       "      <td>716.1</td>\n",
       "      <td>717.5</td>\n",
       "      <td>44247.438822</td>\n",
       "      <td>3.172240e+07</td>\n",
       "    </tr>\n",
       "    <tr>\n",
       "      <th>2024-10-12 23:02:00</th>\n",
       "      <td>717.5</td>\n",
       "      <td>717.5</td>\n",
       "      <td>717.5</td>\n",
       "      <td>717.5</td>\n",
       "      <td>13.937282</td>\n",
       "      <td>1.000000e+04</td>\n",
       "    </tr>\n",
       "  </tbody>\n",
       "</table>\n",
       "<p>1576800 rows × 6 columns</p>\n",
       "</div>"
      ],
      "text/plain": [
       "                      open   high    low  close        volume         value\n",
       "timestamp                                                                  \n",
       "2020-12-10 01:57:00  254.0  255.0  254.0  255.0   3873.036000  9.874796e+05\n",
       "2020-12-10 02:11:00  255.0  255.0  255.0  255.0    218.823529  5.580000e+04\n",
       "2020-12-10 02:13:00  255.0  255.0  255.0  255.0     37.679200  9.608196e+03\n",
       "2020-12-10 02:15:00  255.0  255.0  255.0  255.0    120.180791  3.064610e+04\n",
       "2020-12-10 02:19:00  256.0  256.0  256.0  256.0     39.062500  1.000000e+04\n",
       "...                    ...    ...    ...    ...           ...           ...\n",
       "2024-10-12 22:58:00  714.4  716.2  714.4  715.0   2590.098116  1.850538e+06\n",
       "2024-10-12 22:59:00  714.5  714.5  714.3  714.3  10993.691322  7.854553e+06\n",
       "2024-10-12 23:00:00  714.3  714.5  713.6  714.5  17747.861990  1.267516e+07\n",
       "2024-10-12 23:01:00  716.1  717.5  716.1  717.5  44247.438822  3.172240e+07\n",
       "2024-10-12 23:02:00  717.5  717.5  717.5  717.5     13.937282  1.000000e+04\n",
       "\n",
       "[1576800 rows x 6 columns]"
      ]
     },
     "execution_count": 7,
     "metadata": {},
     "output_type": "execute_result"
    }
   ],
   "source": [
    "df"
   ]
  },
  {
   "cell_type": "code",
   "execution_count": 8,
   "metadata": {},
   "outputs": [
    {
     "data": {
      "text/plain": [
       "['models/KRW-HIFI_scaler.pkl']"
      ]
     },
     "execution_count": 8,
     "metadata": {},
     "output_type": "execute_result"
    }
   ],
   "source": [
    "scaler = MinMaxScaler(feature_range=(0, 1))\n",
    "scaled_data = scaler.fit_transform(df['close'].values.reshape(-1, 1))\n",
    "joblib.dump(scaler, f'models/{coin}_scaler.pkl')"
   ]
  },
  {
   "cell_type": "code",
   "execution_count": 9,
   "metadata": {},
   "outputs": [],
   "source": [
    "timestep = 1"
   ]
  },
  {
   "cell_type": "code",
   "execution_count": 10,
   "metadata": {},
   "outputs": [],
   "source": [
    "X = []\n",
    "y = []\n",
    "for i in range(len(scaled_data) - timestep - 1):\n",
    "    X.append(scaled_data[i:(i + timestep), 0])\n",
    "    y.append(scaled_data[i + timestep, 0])"
   ]
  },
  {
   "cell_type": "code",
   "execution_count": 11,
   "metadata": {},
   "outputs": [],
   "source": [
    "X, y = np.array(X), np.array(y)"
   ]
  },
  {
   "cell_type": "code",
   "execution_count": 12,
   "metadata": {},
   "outputs": [],
   "source": [
    "train_size = int(len(X) * .8)\n",
    "X_train, X_test = X[:train_size], X[train_size:]\n",
    "y_train, y_test = y[:train_size], y[train_size:]"
   ]
  },
  {
   "cell_type": "code",
   "execution_count": 13,
   "metadata": {},
   "outputs": [],
   "source": [
    "train_dates = df.index[:train_size]\n",
    "test_dates = df.index[train_size:]"
   ]
  },
  {
   "cell_type": "code",
   "execution_count": 14,
   "metadata": {},
   "outputs": [],
   "source": [
    "X_train = X_train.reshape(X_train.shape[0], X_train.shape[1], 1)\n",
    "X_test = X_test.reshape(X_test.shape[0], X_test.shape[1], 1)"
   ]
  },
  {
   "cell_type": "code",
   "execution_count": 15,
   "metadata": {},
   "outputs": [],
   "source": [
    "model = Sequential()\n",
    "model.add(LSTM(50, return_sequences=True, input_shape=(timestep, 1)))\n",
    "model.add(LSTM(50, return_sequences=False))\n",
    "model.add(Dense(25))\n",
    "model.add(Dense(1))"
   ]
  },
  {
   "cell_type": "code",
   "execution_count": 16,
   "metadata": {},
   "outputs": [],
   "source": [
    "model.compile(optimizer='adam', loss='mean_squared_error')"
   ]
  },
  {
   "cell_type": "code",
   "execution_count": 17,
   "metadata": {},
   "outputs": [],
   "source": [
    "early_stop = EarlyStopping(monitor='val_loss', patience=10)"
   ]
  },
  {
   "cell_type": "code",
   "execution_count": 18,
   "metadata": {},
   "outputs": [
    {
     "name": "stdout",
     "output_type": "stream",
     "text": [
      "Epoch 1/20\n",
      "39420/39420 [==============================] - 646s 16ms/step - loss: 3.5923e-05 - val_loss: 3.4991e-07\n",
      "Epoch 2/20\n",
      "39420/39420 [==============================] - 620s 16ms/step - loss: 3.4937e-06 - val_loss: 1.4474e-06\n",
      "Epoch 3/20\n",
      "39420/39420 [==============================] - 602s 15ms/step - loss: 3.1716e-06 - val_loss: 2.5773e-06\n",
      "Epoch 4/20\n",
      "39420/39420 [==============================] - 602s 15ms/step - loss: 3.0591e-06 - val_loss: 1.4537e-06\n",
      "Epoch 5/20\n",
      "39420/39420 [==============================] - 623s 16ms/step - loss: 2.9440e-06 - val_loss: 4.6375e-07\n",
      "Epoch 6/20\n",
      "39420/39420 [==============================] - 612s 16ms/step - loss: 2.8382e-06 - val_loss: 1.1842e-06\n",
      "Epoch 7/20\n",
      "39420/39420 [==============================] - 628s 16ms/step - loss: 2.8203e-06 - val_loss: 3.2298e-06\n",
      "Epoch 8/20\n",
      "39420/39420 [==============================] - 616s 16ms/step - loss: 2.7576e-06 - val_loss: 5.6934e-07\n",
      "Epoch 9/20\n",
      "39420/39420 [==============================] - 617s 16ms/step - loss: 2.7140e-06 - val_loss: 4.9747e-07\n",
      "Epoch 10/20\n",
      "39420/39420 [==============================] - 627s 16ms/step - loss: 2.6968e-06 - val_loss: 7.2448e-07\n",
      "Epoch 11/20\n",
      "39420/39420 [==============================] - 631s 16ms/step - loss: 2.6472e-06 - val_loss: 3.6953e-07\n"
     ]
    },
    {
     "data": {
      "text/plain": [
       "<keras.callbacks.History at 0x243bb7eb970>"
      ]
     },
     "execution_count": 18,
     "metadata": {},
     "output_type": "execute_result"
    }
   ],
   "source": [
    "model.fit(X_train, y_train, batch_size=32, epochs=20,\n",
    "          validation_data=(X_test, y_test), callbacks=[early_stop])"
   ]
  },
  {
   "cell_type": "code",
   "execution_count": 19,
   "metadata": {},
   "outputs": [],
   "source": [
    "model.save(f'models/lstm_{coin}.h5')"
   ]
  },
  {
   "cell_type": "code",
   "execution_count": 20,
   "metadata": {},
   "outputs": [
    {
     "name": "stdout",
     "output_type": "stream",
     "text": [
      "39420/39420 [==============================] - 199s 5ms/step\n",
      "9855/9855 [==============================] - 48s 5ms/step\n"
     ]
    }
   ],
   "source": [
    "train_predict = model.predict(X_train)\n",
    "test_predict = model.predict(X_test)"
   ]
  },
  {
   "cell_type": "code",
   "execution_count": 21,
   "metadata": {},
   "outputs": [],
   "source": [
    "train_predict = scaler.inverse_transform(train_predict)\n",
    "test_predict = scaler.inverse_transform(test_predict)\n",
    "y_train = scaler.inverse_transform([y_train])\n",
    "y_test = scaler.inverse_transform([y_test])"
   ]
  },
  {
   "cell_type": "code",
   "execution_count": 22,
   "metadata": {},
   "outputs": [
    {
     "data": {
      "text/plain": [
       "array([[983.9609],\n",
       "       [983.9609],\n",
       "       [983.9609],\n",
       "       ...,\n",
       "       [715.5604],\n",
       "       [714.8598],\n",
       "       [715.06  ]], dtype=float32)"
      ]
     },
     "execution_count": 22,
     "metadata": {},
     "output_type": "execute_result"
    }
   ],
   "source": [
    "test_predict"
   ]
  },
  {
   "cell_type": "code",
   "execution_count": 23,
   "metadata": {},
   "outputs": [
    {
     "data": {
      "text/plain": [
       "array([[983. , 983. , 984. , ..., 714.3, 714.5, 717.5]])"
      ]
     },
     "execution_count": 23,
     "metadata": {},
     "output_type": "execute_result"
    }
   ],
   "source": [
    "y_test"
   ]
  },
  {
   "cell_type": "code",
   "execution_count": 24,
   "metadata": {},
   "outputs": [
    {
     "name": "stdout",
     "output_type": "stream",
     "text": [
      "Train RMSE: 5.62\n",
      "Test RMSE: 2.49\n"
     ]
    }
   ],
   "source": [
    "train_score = np.sqrt(mean_squared_error(y_train[0], train_predict[:, 0]))\n",
    "test_score = np.sqrt(mean_squared_error(y_test[0], test_predict[:, 0]))\n",
    "print(f'Train RMSE: {train_score:.2f}')\n",
    "print(f'Test RMSE: {test_score:.2f}')"
   ]
  },
  {
   "cell_type": "code",
   "execution_count": 25,
   "metadata": {},
   "outputs": [
    {
     "data": {
      "image/png": "[encoded data removed]",
      "text/plain": [
       "<Figure size 1440x720 with 1 Axes>"
      ]
     },
     "metadata": {
      "needs_background": "light"
     },
     "output_type": "display_data"
    }
   ],
   "source": [
    "plt.figure(figsize=(20, 10))\n",
    "plt.subplot(1, 1, 1)\n",
    "plt.plot(train_dates, y_train[0], label='Actual', color = 'Blue')\n",
    "plt.plot(train_dates, train_predict, label='Predicted', color = 'Red')\n",
    "plt.title('Train Data')\n",
    "plt.xlabel('Date')\n",
    "plt.ylabel('Price')\n",
    "plt.legend()\n",
    "plt.xticks(rotation=45)\n",
    "plt.gca().xaxis.set_major_formatter(DateFormatter('%Y'))"
   ]
  },
  {
   "cell_type": "code",
   "execution_count": 27,
   "metadata": {},
   "outputs": [
    {
     "data": {
      "image/png": "[encoded data removed]",
      "text/plain": [
       "<Figure size 432x288 with 1 Axes>"
      ]
     },
     "metadata": {
      "needs_background": "light"
     },
     "output_type": "display_data"
    }
   ],
   "source": [
    "plt.subplot(1, 1, 1)\n",
    "plt.plot(test_dates[:-2], y_test[0], label='Actual', color = 'Blue')\n",
    "plt.plot(test_dates[:-2], test_predict, label='Predicted', color = 'Red')\n",
    "plt.title('Test Data')\n",
    "plt.xlabel('Date')\n",
    "plt.ylabel('Price')\n",
    "plt.legend()\n",
    "plt.xticks(rotation=45)\n",
    "plt.gca().xaxis.set_major_formatter(DateFormatter('%Y-%m'))\n",
    "\n",
    "plt.tight_layout()\n",
    "plt.show()"
   ]
  },
  {
   "cell_type": "code",
   "execution_count": 28,
   "metadata": {},
   "outputs": [
    {
     "name": "stdout",
     "output_type": "stream",
     "text": [
      "[[0.11983875]]\n"
     ]
    }
   ],
   "source": [
    "last_1_day = scaled_data[-timestep:]\n",
    "X_predict = last_1_day.reshape(1, timestep, 1)\n",
    "print(last_1_day)"
   ]
  },
  {
   "cell_type": "code",
   "execution_count": 29,
   "metadata": {},
   "outputs": [
    {
     "name": "stdout",
     "output_type": "stream",
     "text": [
      "1/1 [==============================] - 0s 14ms/step\n",
      "[[718.0625]]\n"
     ]
    }
   ],
   "source": [
    "pred = model.predict(X_predict)\n",
    "pred = scaler.inverse_transform(pred)\n",
    "print(pred)"
   ]
  },
  {
   "cell_type": "code",
   "execution_count": 30,
   "metadata": {},
   "outputs": [
    {
     "name": "stdout",
     "output_type": "stream",
     "text": [
      "1/1 [==============================] - ETA: 0s"
     ]
    },
    {
     "name": "stdout",
     "output_type": "stream",
     "text": [
      "1/1 [==============================] - 0s 14ms/step\n",
      "1/1 [==============================] - 0s 14ms/step\n",
      "1/1 [==============================] - 0s 14ms/step\n",
      "1/1 [==============================] - 0s 14ms/step\n",
      "1/1 [==============================] - 0s 13ms/step\n",
      "1/1 [==============================] - 0s 13ms/step\n",
      "1/1 [==============================] - 0s 13ms/step\n",
      "1/1 [==============================] - 0s 13ms/step\n",
      "1/1 [==============================] - 0s 14ms/step\n",
      "1/1 [==============================] - 0s 13ms/step\n",
      "1/1 [==============================] - 0s 13ms/step\n",
      "1/1 [==============================] - 0s 14ms/step\n",
      "1/1 [==============================] - 0s 14ms/step\n",
      "1/1 [==============================] - 0s 14ms/step\n",
      "1/1 [==============================] - 0s 13ms/step\n",
      "1/1 [==============================] - 0s 14ms/step\n",
      "1/1 [==============================] - 0s 13ms/step\n",
      "1/1 [==============================] - 0s 14ms/step\n",
      "1/1 [==============================] - 0s 13ms/step\n",
      "1/1 [==============================] - 0s 13ms/step\n",
      "1/1 [==============================] - 0s 12ms/step\n",
      "1/1 [==============================] - 0s 14ms/step\n",
      "1/1 [==============================] - 0s 13ms/step\n",
      "1/1 [==============================] - 0s 12ms/step\n",
      "1/1 [==============================] - 0s 14ms/step\n",
      "1/1 [==============================] - 0s 16ms/step\n",
      "1/1 [==============================] - 0s 15ms/step\n",
      "1/1 [==============================] - 0s 13ms/step\n",
      "1/1 [==============================] - 0s 13ms/step\n",
      "1/1 [==============================] - 0s 14ms/step\n"
     ]
    }
   ],
   "source": [
    "preds = []\n",
    "for i in range(30):\n",
    "    pred = model.predict(X_predict)\n",
    "    preds.append(scaler.inverse_transform(pred)[0][0])\n",
    "    pred = pred.reshape(1, 1, 1)\n",
    "    X_predict = np.append(X_predict[:, 1:, :], pred, axis=1).reshape(1, timestep, 1)"
   ]
  },
  {
   "cell_type": "code",
   "execution_count": 31,
   "metadata": {},
   "outputs": [
    {
     "data": {
      "text/plain": [
       "[718.0625,\n",
       " 718.6254,\n",
       " 719.1889,\n",
       " 719.75287,\n",
       " 720.3173,\n",
       " 720.88226,\n",
       " 721.4477,\n",
       " 722.0136,\n",
       " 722.5801,\n",
       " 723.147,\n",
       " 723.7144,\n",
       " 724.28235,\n",
       " 724.85077,\n",
       " 725.41974,\n",
       " 725.9892,\n",
       " 726.5592,\n",
       " 727.1297,\n",
       " 727.70074,\n",
       " 728.2723,\n",
       " 728.84436,\n",
       " 729.41705,\n",
       " 729.9902,\n",
       " 730.56384,\n",
       " 731.13806,\n",
       " 731.7128,\n",
       " 732.28815,\n",
       " 732.864,\n",
       " 733.4404,\n",
       " 734.0174,\n",
       " 734.5949]"
      ]
     },
     "execution_count": 31,
     "metadata": {},
     "output_type": "execute_result"
    }
   ],
   "source": [
    "preds"
   ]
  },
  {
   "cell_type": "code",
   "execution_count": null,
   "metadata": {},
   "outputs": [],
   "source": []
  }
 ],
 "metadata": {
  "kernelspec": {
   "display_name": "Python 3",
   "language": "python",
   "name": "python3"
  },
  "language_info": {
   "codemirror_mode": {
    "name": "ipython",
    "version": 3
   },
   "file_extension": ".py",
   "mimetype": "text/x-python",
   "name": "python",
   "nbconvert_exporter": "python",
   "pygments_lexer": "ipython3",
   "version": "3.10.2"
  }
 },
 "nbformat": 4,
 "nbformat_minor": 2
}
