{
 "cells": [
  {
   "cell_type": "code",
   "execution_count": null,
   "metadata": {},
   "outputs": [],
   "source": [
    "from tensorflow.keras.layers import LSTM, Dense\n",
    "from tensorflow.keras.models import Sequential\n",
    "from tensorflow.keras.callbacks import EarlyStopping\n",
    "\n",
    "import pandas as pd\n",
    "import numpy as np\n",
    "import matplotlib.pyplot as plt\n",
    "from matplotlib.dates import DateFormatter\n",
    "import joblib\n",
    "\n",
    "from sklearn.preprocessing import MinMaxScaler\n",
    "from sklearn.metrics import mean_squared_error"
   ]
  },
  {
   "cell_type": "code",
   "execution_count": 2,
   "metadata": {},
   "outputs": [],
   "source": [
    "seed = 42"
   ]
  },
  {
   "cell_type": "code",
   "execution_count": 3,
   "metadata": {},
   "outputs": [],
   "source": [
    "coin = 'KRW-SXP'"
   ]
  },
  {
   "cell_type": "code",
   "execution_count": 4,
   "metadata": {},
   "outputs": [],
   "source": [
    "df = pd.read_csv(f'../data/from_pyupbit/{coin}.csv')"
   ]
  },
  {
   "cell_type": "code",
   "execution_count": 5,
   "metadata": {},
   "outputs": [
    {
     "data": {
      "text/html": [
       "<div>\n",
       "<style scoped>\n",
       "    .dataframe tbody tr th:only-of-type {\n",
       "        vertical-align: middle;\n",
       "    }\n",
       "\n",
       "    .dataframe tbody tr th {\n",
       "        vertical-align: top;\n",
       "    }\n",
       "\n",
       "    .dataframe thead th {\n",
       "        text-align: right;\n",
       "    }\n",
       "</style>\n",
       "<table border=\"1\" class=\"dataframe\">\n",
       "  <thead>\n",
       "    <tr style=\"text-align: right;\">\n",
       "      <th></th>\n",
       "      <th>timestamp</th>\n",
       "      <th>open</th>\n",
       "      <th>high</th>\n",
       "      <th>low</th>\n",
       "      <th>close</th>\n",
       "      <th>volume</th>\n",
       "      <th>value</th>\n",
       "    </tr>\n",
       "  </thead>\n",
       "  <tbody>\n",
       "    <tr>\n",
       "      <th>0</th>\n",
       "      <td>2020-12-26 13:11:00</td>\n",
       "      <td>777.0</td>\n",
       "      <td>777.0</td>\n",
       "      <td>777.0</td>\n",
       "      <td>777.0</td>\n",
       "      <td>2350.713400</td>\n",
       "      <td>1.826504e+06</td>\n",
       "    </tr>\n",
       "    <tr>\n",
       "      <th>1</th>\n",
       "      <td>2020-12-26 13:12:00</td>\n",
       "      <td>777.0</td>\n",
       "      <td>777.0</td>\n",
       "      <td>777.0</td>\n",
       "      <td>777.0</td>\n",
       "      <td>1630.621294</td>\n",
       "      <td>1.266993e+06</td>\n",
       "    </tr>\n",
       "    <tr>\n",
       "      <th>2</th>\n",
       "      <td>2020-12-26 13:13:00</td>\n",
       "      <td>777.0</td>\n",
       "      <td>778.0</td>\n",
       "      <td>777.0</td>\n",
       "      <td>778.0</td>\n",
       "      <td>1128.288067</td>\n",
       "      <td>8.771163e+05</td>\n",
       "    </tr>\n",
       "    <tr>\n",
       "      <th>3</th>\n",
       "      <td>2020-12-26 13:15:00</td>\n",
       "      <td>777.0</td>\n",
       "      <td>777.0</td>\n",
       "      <td>777.0</td>\n",
       "      <td>777.0</td>\n",
       "      <td>6474.727887</td>\n",
       "      <td>5.030864e+06</td>\n",
       "    </tr>\n",
       "    <tr>\n",
       "      <th>4</th>\n",
       "      <td>2020-12-26 13:16:00</td>\n",
       "      <td>778.0</td>\n",
       "      <td>778.0</td>\n",
       "      <td>777.0</td>\n",
       "      <td>777.0</td>\n",
       "      <td>7533.733012</td>\n",
       "      <td>5.854151e+06</td>\n",
       "    </tr>\n",
       "    <tr>\n",
       "      <th>...</th>\n",
       "      <td>...</td>\n",
       "      <td>...</td>\n",
       "      <td>...</td>\n",
       "      <td>...</td>\n",
       "      <td>...</td>\n",
       "      <td>...</td>\n",
       "      <td>...</td>\n",
       "    </tr>\n",
       "    <tr>\n",
       "      <th>1576795</th>\n",
       "      <td>2024-10-12 18:32:00</td>\n",
       "      <td>390.4</td>\n",
       "      <td>391.0</td>\n",
       "      <td>389.9</td>\n",
       "      <td>391.0</td>\n",
       "      <td>350074.951992</td>\n",
       "      <td>1.366919e+08</td>\n",
       "    </tr>\n",
       "    <tr>\n",
       "      <th>1576796</th>\n",
       "      <td>2024-10-12 18:33:00</td>\n",
       "      <td>390.9</td>\n",
       "      <td>391.9</td>\n",
       "      <td>390.7</td>\n",
       "      <td>391.4</td>\n",
       "      <td>181924.275797</td>\n",
       "      <td>7.114177e+07</td>\n",
       "    </tr>\n",
       "    <tr>\n",
       "      <th>1576797</th>\n",
       "      <td>2024-10-12 18:34:00</td>\n",
       "      <td>391.4</td>\n",
       "      <td>392.1</td>\n",
       "      <td>391.3</td>\n",
       "      <td>391.8</td>\n",
       "      <td>221882.023167</td>\n",
       "      <td>8.694523e+07</td>\n",
       "    </tr>\n",
       "    <tr>\n",
       "      <th>1576798</th>\n",
       "      <td>2024-10-12 18:35:00</td>\n",
       "      <td>391.5</td>\n",
       "      <td>393.5</td>\n",
       "      <td>391.5</td>\n",
       "      <td>392.6</td>\n",
       "      <td>398580.407319</td>\n",
       "      <td>1.564076e+08</td>\n",
       "    </tr>\n",
       "    <tr>\n",
       "      <th>1576799</th>\n",
       "      <td>2024-10-12 18:36:00</td>\n",
       "      <td>392.6</td>\n",
       "      <td>393.5</td>\n",
       "      <td>392.2</td>\n",
       "      <td>393.1</td>\n",
       "      <td>384860.145955</td>\n",
       "      <td>1.511778e+08</td>\n",
       "    </tr>\n",
       "  </tbody>\n",
       "</table>\n",
       "<p>1576800 rows × 7 columns</p>\n",
       "</div>"
      ],
      "text/plain": [
       "                   timestamp   open   high    low  close         volume  \\\n",
       "0        2020-12-26 13:11:00  777.0  777.0  777.0  777.0    2350.713400   \n",
       "1        2020-12-26 13:12:00  777.0  777.0  777.0  777.0    1630.621294   \n",
       "2        2020-12-26 13:13:00  777.0  778.0  777.0  778.0    1128.288067   \n",
       "3        2020-12-26 13:15:00  777.0  777.0  777.0  777.0    6474.727887   \n",
       "4        2020-12-26 13:16:00  778.0  778.0  777.0  777.0    7533.733012   \n",
       "...                      ...    ...    ...    ...    ...            ...   \n",
       "1576795  2024-10-12 18:32:00  390.4  391.0  389.9  391.0  350074.951992   \n",
       "1576796  2024-10-12 18:33:00  390.9  391.9  390.7  391.4  181924.275797   \n",
       "1576797  2024-10-12 18:34:00  391.4  392.1  391.3  391.8  221882.023167   \n",
       "1576798  2024-10-12 18:35:00  391.5  393.5  391.5  392.6  398580.407319   \n",
       "1576799  2024-10-12 18:36:00  392.6  393.5  392.2  393.1  384860.145955   \n",
       "\n",
       "                value  \n",
       "0        1.826504e+06  \n",
       "1        1.266993e+06  \n",
       "2        8.771163e+05  \n",
       "3        5.030864e+06  \n",
       "4        5.854151e+06  \n",
       "...               ...  \n",
       "1576795  1.366919e+08  \n",
       "1576796  7.114177e+07  \n",
       "1576797  8.694523e+07  \n",
       "1576798  1.564076e+08  \n",
       "1576799  1.511778e+08  \n",
       "\n",
       "[1576800 rows x 7 columns]"
      ]
     },
     "execution_count": 5,
     "metadata": {},
     "output_type": "execute_result"
    }
   ],
   "source": [
    "df"
   ]
  },
  {
   "cell_type": "code",
   "execution_count": 6,
   "metadata": {},
   "outputs": [],
   "source": [
    "df['timestamp'] = pd.to_datetime(df['timestamp'])\n",
    "df.set_index('timestamp', inplace=True)"
   ]
  },
  {
   "cell_type": "code",
   "execution_count": 7,
   "metadata": {},
   "outputs": [
    {
     "data": {
      "text/html": [
       "<div>\n",
       "<style scoped>\n",
       "    .dataframe tbody tr th:only-of-type {\n",
       "        vertical-align: middle;\n",
       "    }\n",
       "\n",
       "    .dataframe tbody tr th {\n",
       "        vertical-align: top;\n",
       "    }\n",
       "\n",
       "    .dataframe thead th {\n",
       "        text-align: right;\n",
       "    }\n",
       "</style>\n",
       "<table border=\"1\" class=\"dataframe\">\n",
       "  <thead>\n",
       "    <tr style=\"text-align: right;\">\n",
       "      <th></th>\n",
       "      <th>open</th>\n",
       "      <th>high</th>\n",
       "      <th>low</th>\n",
       "      <th>close</th>\n",
       "      <th>volume</th>\n",
       "      <th>value</th>\n",
       "    </tr>\n",
       "    <tr>\n",
       "      <th>timestamp</th>\n",
       "      <th></th>\n",
       "      <th></th>\n",
       "      <th></th>\n",
       "      <th></th>\n",
       "      <th></th>\n",
       "      <th></th>\n",
       "    </tr>\n",
       "  </thead>\n",
       "  <tbody>\n",
       "    <tr>\n",
       "      <th>2020-12-26 13:11:00</th>\n",
       "      <td>777.0</td>\n",
       "      <td>777.0</td>\n",
       "      <td>777.0</td>\n",
       "      <td>777.0</td>\n",
       "      <td>2350.713400</td>\n",
       "      <td>1.826504e+06</td>\n",
       "    </tr>\n",
       "    <tr>\n",
       "      <th>2020-12-26 13:12:00</th>\n",
       "      <td>777.0</td>\n",
       "      <td>777.0</td>\n",
       "      <td>777.0</td>\n",
       "      <td>777.0</td>\n",
       "      <td>1630.621294</td>\n",
       "      <td>1.266993e+06</td>\n",
       "    </tr>\n",
       "    <tr>\n",
       "      <th>2020-12-26 13:13:00</th>\n",
       "      <td>777.0</td>\n",
       "      <td>778.0</td>\n",
       "      <td>777.0</td>\n",
       "      <td>778.0</td>\n",
       "      <td>1128.288067</td>\n",
       "      <td>8.771163e+05</td>\n",
       "    </tr>\n",
       "    <tr>\n",
       "      <th>2020-12-26 13:15:00</th>\n",
       "      <td>777.0</td>\n",
       "      <td>777.0</td>\n",
       "      <td>777.0</td>\n",
       "      <td>777.0</td>\n",
       "      <td>6474.727887</td>\n",
       "      <td>5.030864e+06</td>\n",
       "    </tr>\n",
       "    <tr>\n",
       "      <th>2020-12-26 13:16:00</th>\n",
       "      <td>778.0</td>\n",
       "      <td>778.0</td>\n",
       "      <td>777.0</td>\n",
       "      <td>777.0</td>\n",
       "      <td>7533.733012</td>\n",
       "      <td>5.854151e+06</td>\n",
       "    </tr>\n",
       "    <tr>\n",
       "      <th>...</th>\n",
       "      <td>...</td>\n",
       "      <td>...</td>\n",
       "      <td>...</td>\n",
       "      <td>...</td>\n",
       "      <td>...</td>\n",
       "      <td>...</td>\n",
       "    </tr>\n",
       "    <tr>\n",
       "      <th>2024-10-12 18:32:00</th>\n",
       "      <td>390.4</td>\n",
       "      <td>391.0</td>\n",
       "      <td>389.9</td>\n",
       "      <td>391.0</td>\n",
       "      <td>350074.951992</td>\n",
       "      <td>1.366919e+08</td>\n",
       "    </tr>\n",
       "    <tr>\n",
       "      <th>2024-10-12 18:33:00</th>\n",
       "      <td>390.9</td>\n",
       "      <td>391.9</td>\n",
       "      <td>390.7</td>\n",
       "      <td>391.4</td>\n",
       "      <td>181924.275797</td>\n",
       "      <td>7.114177e+07</td>\n",
       "    </tr>\n",
       "    <tr>\n",
       "      <th>2024-10-12 18:34:00</th>\n",
       "      <td>391.4</td>\n",
       "      <td>392.1</td>\n",
       "      <td>391.3</td>\n",
       "      <td>391.8</td>\n",
       "      <td>221882.023167</td>\n",
       "      <td>8.694523e+07</td>\n",
       "    </tr>\n",
       "    <tr>\n",
       "      <th>2024-10-12 18:35:00</th>\n",
       "      <td>391.5</td>\n",
       "      <td>393.5</td>\n",
       "      <td>391.5</td>\n",
       "      <td>392.6</td>\n",
       "      <td>398580.407319</td>\n",
       "      <td>1.564076e+08</td>\n",
       "    </tr>\n",
       "    <tr>\n",
       "      <th>2024-10-12 18:36:00</th>\n",
       "      <td>392.6</td>\n",
       "      <td>393.5</td>\n",
       "      <td>392.2</td>\n",
       "      <td>393.1</td>\n",
       "      <td>384860.145955</td>\n",
       "      <td>1.511778e+08</td>\n",
       "    </tr>\n",
       "  </tbody>\n",
       "</table>\n",
       "<p>1576800 rows × 6 columns</p>\n",
       "</div>"
      ],
      "text/plain": [
       "                      open   high    low  close         volume         value\n",
       "timestamp                                                                   \n",
       "2020-12-26 13:11:00  777.0  777.0  777.0  777.0    2350.713400  1.826504e+06\n",
       "2020-12-26 13:12:00  777.0  777.0  777.0  777.0    1630.621294  1.266993e+06\n",
       "2020-12-26 13:13:00  777.0  778.0  777.0  778.0    1128.288067  8.771163e+05\n",
       "2020-12-26 13:15:00  777.0  777.0  777.0  777.0    6474.727887  5.030864e+06\n",
       "2020-12-26 13:16:00  778.0  778.0  777.0  777.0    7533.733012  5.854151e+06\n",
       "...                    ...    ...    ...    ...            ...           ...\n",
       "2024-10-12 18:32:00  390.4  391.0  389.9  391.0  350074.951992  1.366919e+08\n",
       "2024-10-12 18:33:00  390.9  391.9  390.7  391.4  181924.275797  7.114177e+07\n",
       "2024-10-12 18:34:00  391.4  392.1  391.3  391.8  221882.023167  8.694523e+07\n",
       "2024-10-12 18:35:00  391.5  393.5  391.5  392.6  398580.407319  1.564076e+08\n",
       "2024-10-12 18:36:00  392.6  393.5  392.2  393.1  384860.145955  1.511778e+08\n",
       "\n",
       "[1576800 rows x 6 columns]"
      ]
     },
     "execution_count": 7,
     "metadata": {},
     "output_type": "execute_result"
    }
   ],
   "source": [
    "df"
   ]
  },
  {
   "cell_type": "code",
   "execution_count": 8,
   "metadata": {},
   "outputs": [
    {
     "data": {
      "text/plain": [
       "['models/KRW-SXP_scaler.pkl']"
      ]
     },
     "execution_count": 8,
     "metadata": {},
     "output_type": "execute_result"
    }
   ],
   "source": [
    "scaler = MinMaxScaler(feature_range=(0, 1))\n",
    "scaled_data = scaler.fit_transform(df['close'].values.reshape(-1, 1))\n",
    "joblib.dump(scaler, f'models/{coin}_scaler.pkl')"
   ]
  },
  {
   "cell_type": "code",
   "execution_count": 9,
   "metadata": {},
   "outputs": [],
   "source": [
    "timestep = 1"
   ]
  },
  {
   "cell_type": "code",
   "execution_count": 10,
   "metadata": {},
   "outputs": [],
   "source": [
    "X = []\n",
    "y = []\n",
    "for i in range(len(scaled_data) - timestep - 1):\n",
    "    X.append(scaled_data[i:(i + timestep), 0])\n",
    "    y.append(scaled_data[i + timestep, 0])"
   ]
  },
  {
   "cell_type": "code",
   "execution_count": 11,
   "metadata": {},
   "outputs": [],
   "source": [
    "X, y = np.array(X), np.array(y)"
   ]
  },
  {
   "cell_type": "code",
   "execution_count": 12,
   "metadata": {},
   "outputs": [],
   "source": [
    "train_size = int(len(X) * .8)\n",
    "X_train, X_test = X[:train_size], X[train_size:]\n",
    "y_train, y_test = y[:train_size], y[train_size:]"
   ]
  },
  {
   "cell_type": "code",
   "execution_count": 13,
   "metadata": {},
   "outputs": [],
   "source": [
    "train_dates = df.index[:train_size]\n",
    "test_dates = df.index[train_size:]"
   ]
  },
  {
   "cell_type": "code",
   "execution_count": 14,
   "metadata": {},
   "outputs": [],
   "source": [
    "X_train = X_train.reshape(X_train.shape[0], X_train.shape[1], 1)\n",
    "X_test = X_test.reshape(X_test.shape[0], X_test.shape[1], 1)"
   ]
  },
  {
   "cell_type": "code",
   "execution_count": 15,
   "metadata": {},
   "outputs": [],
   "source": [
    "model = Sequential()\n",
    "model.add(LSTM(50, return_sequences=True, input_shape=(timestep, 1)))\n",
    "model.add(LSTM(50, return_sequences=False))\n",
    "model.add(Dense(25))\n",
    "model.add(Dense(1))"
   ]
  },
  {
   "cell_type": "code",
   "execution_count": 16,
   "metadata": {},
   "outputs": [],
   "source": [
    "model.compile(optimizer='adam', loss='mean_squared_error')"
   ]
  },
  {
   "cell_type": "code",
   "execution_count": 17,
   "metadata": {},
   "outputs": [],
   "source": [
    "early_stop = EarlyStopping(monitor='val_loss', patience=10)"
   ]
  },
  {
   "cell_type": "code",
   "execution_count": 18,
   "metadata": {},
   "outputs": [
    {
     "name": "stdout",
     "output_type": "stream",
     "text": [
      "Epoch 1/20\n"
     ]
    },
    {
     "name": "stdout",
     "output_type": "stream",
     "text": [
      "39420/39420 [==============================] - 72s 2ms/step - loss: 4.7566e-05 - val_loss: 1.4808e-07\n",
      "Epoch 2/20\n",
      "39420/39420 [==============================] - 68s 2ms/step - loss: 2.1816e-06 - val_loss: 3.1593e-08\n",
      "Epoch 3/20\n",
      "39420/39420 [==============================] - 68s 2ms/step - loss: 1.9216e-06 - val_loss: 2.2490e-06\n",
      "Epoch 4/20\n",
      "39420/39420 [==============================] - 69s 2ms/step - loss: 1.7815e-06 - val_loss: 1.9629e-06\n",
      "Epoch 5/20\n",
      "39420/39420 [==============================] - 66s 2ms/step - loss: 1.6419e-06 - val_loss: 1.4307e-07\n",
      "Epoch 6/20\n",
      "39420/39420 [==============================] - 67s 2ms/step - loss: 1.5524e-06 - val_loss: 1.0109e-07\n",
      "Epoch 7/20\n",
      "39420/39420 [==============================] - 67s 2ms/step - loss: 1.4885e-06 - val_loss: 5.5404e-07\n",
      "Epoch 8/20\n",
      "39420/39420 [==============================] - 68s 2ms/step - loss: 1.4758e-06 - val_loss: 3.9236e-07\n",
      "Epoch 9/20\n",
      "39420/39420 [==============================] - 68s 2ms/step - loss: 1.4232e-06 - val_loss: 5.5761e-07\n",
      "Epoch 10/20\n",
      "39420/39420 [==============================] - 67s 2ms/step - loss: 1.4026e-06 - val_loss: 3.0014e-08\n",
      "Epoch 11/20\n",
      "39420/39420 [==============================] - 67s 2ms/step - loss: 1.3826e-06 - val_loss: 1.0112e-07\n",
      "Epoch 12/20\n",
      "39420/39420 [==============================] - 67s 2ms/step - loss: 1.3617e-06 - val_loss: 3.5242e-08\n",
      "Epoch 13/20\n",
      "39420/39420 [==============================] - 67s 2ms/step - loss: 1.3614e-06 - val_loss: 4.2075e-08\n",
      "Epoch 14/20\n",
      "39420/39420 [==============================] - 67s 2ms/step - loss: 1.3484e-06 - val_loss: 2.4109e-08\n",
      "Epoch 15/20\n",
      "39420/39420 [==============================] - 67s 2ms/step - loss: 1.3249e-06 - val_loss: 2.9859e-07\n",
      "Epoch 16/20\n",
      "39420/39420 [==============================] - 67s 2ms/step - loss: 1.3254e-06 - val_loss: 1.1535e-07\n",
      "Epoch 17/20\n",
      "39420/39420 [==============================] - 67s 2ms/step - loss: 1.3028e-06 - val_loss: 1.4499e-06\n",
      "Epoch 18/20\n",
      "39420/39420 [==============================] - 67s 2ms/step - loss: 1.2817e-06 - val_loss: 8.5848e-08\n",
      "Epoch 19/20\n",
      "39420/39420 [==============================] - 67s 2ms/step - loss: 1.2777e-06 - val_loss: 5.5280e-07\n",
      "Epoch 20/20\n",
      "39420/39420 [==============================] - 67s 2ms/step - loss: 1.2648e-06 - val_loss: 3.9140e-07\n"
     ]
    },
    {
     "data": {
      "text/plain": [
       "<keras.src.callbacks.History at 0x2eda67fd0>"
      ]
     },
     "execution_count": 18,
     "metadata": {},
     "output_type": "execute_result"
    }
   ],
   "source": [
    "model.fit(X_train, y_train, batch_size=32, epochs=20,\n",
    "          validation_data=(X_test, y_test), callbacks=[early_stop])"
   ]
  },
  {
   "cell_type": "code",
   "execution_count": 35,
   "metadata": {},
   "outputs": [
    {
     "name": "stderr",
     "output_type": "stream",
     "text": [
      "/Users/sun/anaconda3/envs/dl/lib/python3.10/site-packages/keras/src/engine/training.py:3079: UserWarning: You are saving your model as an HDF5 file via `model.save()`. This file format is considered legacy. We recommend using instead the native Keras format, e.g. `model.save('my_model.keras')`.\n",
      "  saving_api.save_model(\n"
     ]
    }
   ],
   "source": [
    "model.save(f'models/lstm_{coin}.h5')"
   ]
  },
  {
   "cell_type": "code",
   "execution_count": 20,
   "metadata": {},
   "outputs": [
    {
     "name": "stdout",
     "output_type": "stream",
     "text": [
      "39420/39420 [==============================] - 22s 551us/step\n",
      "9855/9855 [==============================] - 5s 555us/step\n"
     ]
    }
   ],
   "source": [
    "train_predict = model.predict(X_train)\n",
    "test_predict = model.predict(X_test)"
   ]
  },
  {
   "cell_type": "code",
   "execution_count": 21,
   "metadata": {},
   "outputs": [],
   "source": [
    "train_predict = scaler.inverse_transform(train_predict)\n",
    "test_predict = scaler.inverse_transform(test_predict)\n",
    "y_train = scaler.inverse_transform([y_train])\n",
    "y_test = scaler.inverse_transform([y_test])"
   ]
  },
  {
   "cell_type": "code",
   "execution_count": 22,
   "metadata": {},
   "outputs": [
    {
     "name": "stdout",
     "output_type": "stream",
     "text": [
      "Train RMSE: 13.99\n",
      "Test RMSE: 4.64\n"
     ]
    }
   ],
   "source": [
    "train_score = np.sqrt(mean_squared_error(y_train[0], train_predict[:, 0]))\n",
    "test_score = np.sqrt(mean_squared_error(y_test[0], test_predict[:, 0]))\n",
    "print(f'Train RMSE: {train_score:.2f}')\n",
    "print(f'Test RMSE: {test_score:.2f}')"
   ]
  },
  {
   "cell_type": "code",
   "execution_count": 26,
   "metadata": {},
   "outputs": [
    {
     "name": "stdout",
     "output_type": "stream",
     "text": [
      "[[0.02063342]]\n"
     ]
    }
   ],
   "source": [
    "last_1_day = scaled_data[-timestep:]\n",
    "X_predict = last_1_day.reshape(1, timestep, 1)\n",
    "print(last_1_day)"
   ]
  },
  {
   "cell_type": "code",
   "execution_count": 27,
   "metadata": {},
   "outputs": [
    {
     "name": "stdout",
     "output_type": "stream",
     "text": [
      "1/1 [==============================] - 0s 14ms/step\n",
      "[[388.0206]]\n"
     ]
    }
   ],
   "source": [
    "pred = model.predict(X_predict)\n",
    "pred = scaler.inverse_transform(pred)\n",
    "print(pred)"
   ]
  },
  {
   "cell_type": "code",
   "execution_count": 33,
   "metadata": {},
   "outputs": [
    {
     "name": "stdout",
     "output_type": "stream",
     "text": [
      "1/1 [==============================] - 0s 14ms/step\n",
      "1/1 [==============================] - 0s 17ms/step\n",
      "1/1 [==============================] - 0s 13ms/step\n",
      "1/1 [==============================] - 0s 14ms/step\n",
      "1/1 [==============================] - 0s 12ms/step\n",
      "1/1 [==============================] - 0s 13ms/step\n",
      "1/1 [==============================] - 0s 13ms/step\n",
      "1/1 [==============================] - 0s 12ms/step\n",
      "1/1 [==============================] - 0s 13ms/step\n",
      "1/1 [==============================] - 0s 13ms/step\n",
      "1/1 [==============================] - 0s 13ms/step\n",
      "1/1 [==============================] - 0s 13ms/step\n",
      "1/1 [==============================] - 0s 13ms/step\n",
      "1/1 [==============================] - 0s 13ms/step\n",
      "1/1 [==============================] - 0s 12ms/step\n",
      "1/1 [==============================] - 0s 13ms/step\n",
      "1/1 [==============================] - 0s 13ms/step\n",
      "1/1 [==============================] - 0s 13ms/step\n",
      "1/1 [==============================] - 0s 14ms/step\n",
      "1/1 [==============================] - 0s 13ms/step\n",
      "1/1 [==============================] - 0s 13ms/step\n",
      "1/1 [==============================] - 0s 13ms/step\n",
      "1/1 [==============================] - 0s 13ms/step\n",
      "1/1 [==============================] - 0s 13ms/step\n",
      "1/1 [==============================] - 0s 13ms/step\n",
      "1/1 [==============================] - 0s 13ms/step\n",
      "1/1 [==============================] - 0s 14ms/step\n",
      "1/1 [==============================] - 0s 14ms/step\n",
      "1/1 [==============================] - 0s 14ms/step\n",
      "1/1 [==============================] - 0s 14ms/step\n"
     ]
    }
   ],
   "source": [
    "preds = []\n",
    "for i in range(30):\n",
    "    pred = model.predict(X_predict)\n",
    "    preds.append(scaler.inverse_transform(pred)[0][0])\n",
    "    pred = pred.reshape(1, 1, 1)\n",
    "    X_predict = np.append(X_predict[:, 1:, :], pred, axis=1).reshape(1, timestep, 1)"
   ]
  },
  {
   "cell_type": "code",
   "execution_count": 34,
   "metadata": {},
   "outputs": [
    {
     "data": {
      "text/plain": [
       "[7918.2964,\n",
       " 7901.353,\n",
       " 7885.5864,\n",
       " 7870.9004,\n",
       " 7857.206,\n",
       " 7844.4243,\n",
       " 7832.488,\n",
       " 7821.3286,\n",
       " 7810.892,\n",
       " 7801.123,\n",
       " 7791.9717,\n",
       " 7783.396,\n",
       " 7775.356,\n",
       " 7767.8125,\n",
       " 7760.733,\n",
       " 7754.0845,\n",
       " 7747.84,\n",
       " 7741.9727,\n",
       " 7736.4565,\n",
       " 7731.27,\n",
       " 7726.3896,\n",
       " 7721.7974,\n",
       " 7717.4756,\n",
       " 7713.4077,\n",
       " 7709.5757,\n",
       " 7705.967,\n",
       " 7702.5674,\n",
       " 7699.3647,\n",
       " 7696.344,\n",
       " 7693.4976]"
      ]
     },
     "execution_count": 34,
     "metadata": {},
     "output_type": "execute_result"
    }
   ],
   "source": [
    "preds"
   ]
  },
  {
   "cell_type": "code",
   "execution_count": null,
   "metadata": {},
   "outputs": [],
   "source": []
  }
 ],
 "metadata": {
  "kernelspec": {
   "display_name": "dl",
   "language": "python",
   "name": "python3"
  },
  "language_info": {
   "codemirror_mode": {
    "name": "ipython",
    "version": 3
   },
   "file_extension": ".py",
   "mimetype": "text/x-python",
   "name": "python",
   "nbconvert_exporter": "python",
   "pygments_lexer": "ipython3",
   "version": "3.10.0"
  }
 },
 "nbformat": 4,
 "nbformat_minor": 2
}
