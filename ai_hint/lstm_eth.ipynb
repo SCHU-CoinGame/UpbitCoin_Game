{
 "cells": [
  {
   "cell_type": "code",
   "execution_count": 1,
   "metadata": {},
   "outputs": [],
   "source": [
    "from tensorflow.keras.layers import LSTM, Dense\n",
    "from tensorflow.keras.models import Sequential\n",
    "from tensorflow.keras.callbacks import EarlyStopping\n",
    "\n",
    "import pandas as pd\n",
    "import numpy as np\n",
    "import matplotlib.pyplot as plt\n",
    "from matplotlib.dates import DateFormatter\n",
    "import joblib\n",
    "\n",
    "from sklearn.preprocessing import MinMaxScaler\n",
    "from sklearn.metrics import mean_squared_error"
   ]
  },
  {
   "cell_type": "code",
   "execution_count": 2,
   "metadata": {},
   "outputs": [],
   "source": [
    "seed = 42"
   ]
  },
  {
   "cell_type": "code",
   "execution_count": 3,
   "metadata": {},
   "outputs": [],
   "source": [
    "df = pd.read_csv('../data/from_pyupbit/KRW-ETH.csv')"
   ]
  },
  {
   "cell_type": "code",
   "execution_count": 4,
   "metadata": {},
   "outputs": [
    {
     "data": {
      "text/html": [
       "<div>\n",
       "<style scoped>\n",
       "    .dataframe tbody tr th:only-of-type {\n",
       "        vertical-align: middle;\n",
       "    }\n",
       "\n",
       "    .dataframe tbody tr th {\n",
       "        vertical-align: top;\n",
       "    }\n",
       "\n",
       "    .dataframe thead th {\n",
       "        text-align: right;\n",
       "    }\n",
       "</style>\n",
       "<table border=\"1\" class=\"dataframe\">\n",
       "  <thead>\n",
       "    <tr style=\"text-align: right;\">\n",
       "      <th></th>\n",
       "      <th>timestamp</th>\n",
       "      <th>open</th>\n",
       "      <th>high</th>\n",
       "      <th>low</th>\n",
       "      <th>close</th>\n",
       "      <th>volume</th>\n",
       "      <th>value</th>\n",
       "    </tr>\n",
       "  </thead>\n",
       "  <tbody>\n",
       "    <tr>\n",
       "      <th>0</th>\n",
       "      <td>2021-09-27 16:41:00</td>\n",
       "      <td>3737000.0</td>\n",
       "      <td>3741000.0</td>\n",
       "      <td>3737000.0</td>\n",
       "      <td>3740000.0</td>\n",
       "      <td>26.211112</td>\n",
       "      <td>9.802993e+07</td>\n",
       "    </tr>\n",
       "    <tr>\n",
       "      <th>1</th>\n",
       "      <td>2021-09-27 16:42:00</td>\n",
       "      <td>3741000.0</td>\n",
       "      <td>3741000.0</td>\n",
       "      <td>3739000.0</td>\n",
       "      <td>3739000.0</td>\n",
       "      <td>13.748591</td>\n",
       "      <td>5.140882e+07</td>\n",
       "    </tr>\n",
       "    <tr>\n",
       "      <th>2</th>\n",
       "      <td>2021-09-27 16:43:00</td>\n",
       "      <td>3738000.0</td>\n",
       "      <td>3741000.0</td>\n",
       "      <td>3738000.0</td>\n",
       "      <td>3740000.0</td>\n",
       "      <td>27.905444</td>\n",
       "      <td>1.043716e+08</td>\n",
       "    </tr>\n",
       "    <tr>\n",
       "      <th>3</th>\n",
       "      <td>2021-09-27 16:44:00</td>\n",
       "      <td>3740000.0</td>\n",
       "      <td>3744000.0</td>\n",
       "      <td>3740000.0</td>\n",
       "      <td>3744000.0</td>\n",
       "      <td>18.936442</td>\n",
       "      <td>7.083924e+07</td>\n",
       "    </tr>\n",
       "    <tr>\n",
       "      <th>4</th>\n",
       "      <td>2021-09-27 16:45:00</td>\n",
       "      <td>3744000.0</td>\n",
       "      <td>3745000.0</td>\n",
       "      <td>3742000.0</td>\n",
       "      <td>3743000.0</td>\n",
       "      <td>12.745847</td>\n",
       "      <td>4.771550e+07</td>\n",
       "    </tr>\n",
       "    <tr>\n",
       "      <th>...</th>\n",
       "      <td>...</td>\n",
       "      <td>...</td>\n",
       "      <td>...</td>\n",
       "      <td>...</td>\n",
       "      <td>...</td>\n",
       "      <td>...</td>\n",
       "      <td>...</td>\n",
       "    </tr>\n",
       "    <tr>\n",
       "      <th>1576795</th>\n",
       "      <td>2024-10-12 17:32:00</td>\n",
       "      <td>3302000.0</td>\n",
       "      <td>3302000.0</td>\n",
       "      <td>3302000.0</td>\n",
       "      <td>3302000.0</td>\n",
       "      <td>2.521127</td>\n",
       "      <td>8.324761e+06</td>\n",
       "    </tr>\n",
       "    <tr>\n",
       "      <th>1576796</th>\n",
       "      <td>2024-10-12 17:33:00</td>\n",
       "      <td>3302000.0</td>\n",
       "      <td>3302000.0</td>\n",
       "      <td>3300000.0</td>\n",
       "      <td>3302000.0</td>\n",
       "      <td>2.657685</td>\n",
       "      <td>8.775670e+06</td>\n",
       "    </tr>\n",
       "    <tr>\n",
       "      <th>1576797</th>\n",
       "      <td>2024-10-12 17:34:00</td>\n",
       "      <td>3302000.0</td>\n",
       "      <td>3302000.0</td>\n",
       "      <td>3300000.0</td>\n",
       "      <td>3302000.0</td>\n",
       "      <td>1.076884</td>\n",
       "      <td>3.555856e+06</td>\n",
       "    </tr>\n",
       "    <tr>\n",
       "      <th>1576798</th>\n",
       "      <td>2024-10-12 17:35:00</td>\n",
       "      <td>3302000.0</td>\n",
       "      <td>3302000.0</td>\n",
       "      <td>3302000.0</td>\n",
       "      <td>3302000.0</td>\n",
       "      <td>1.430845</td>\n",
       "      <td>4.724651e+06</td>\n",
       "    </tr>\n",
       "    <tr>\n",
       "      <th>1576799</th>\n",
       "      <td>2024-10-12 17:36:00</td>\n",
       "      <td>3302000.0</td>\n",
       "      <td>3302000.0</td>\n",
       "      <td>3300000.0</td>\n",
       "      <td>3300000.0</td>\n",
       "      <td>1.862570</td>\n",
       "      <td>6.148319e+06</td>\n",
       "    </tr>\n",
       "  </tbody>\n",
       "</table>\n",
       "<p>1576800 rows × 7 columns</p>\n",
       "</div>"
      ],
      "text/plain": [
       "                   timestamp       open       high        low      close  \\\n",
       "0        2021-09-27 16:41:00  3737000.0  3741000.0  3737000.0  3740000.0   \n",
       "1        2021-09-27 16:42:00  3741000.0  3741000.0  3739000.0  3739000.0   \n",
       "2        2021-09-27 16:43:00  3738000.0  3741000.0  3738000.0  3740000.0   \n",
       "3        2021-09-27 16:44:00  3740000.0  3744000.0  3740000.0  3744000.0   \n",
       "4        2021-09-27 16:45:00  3744000.0  3745000.0  3742000.0  3743000.0   \n",
       "...                      ...        ...        ...        ...        ...   \n",
       "1576795  2024-10-12 17:32:00  3302000.0  3302000.0  3302000.0  3302000.0   \n",
       "1576796  2024-10-12 17:33:00  3302000.0  3302000.0  3300000.0  3302000.0   \n",
       "1576797  2024-10-12 17:34:00  3302000.0  3302000.0  3300000.0  3302000.0   \n",
       "1576798  2024-10-12 17:35:00  3302000.0  3302000.0  3302000.0  3302000.0   \n",
       "1576799  2024-10-12 17:36:00  3302000.0  3302000.0  3300000.0  3300000.0   \n",
       "\n",
       "            volume         value  \n",
       "0        26.211112  9.802993e+07  \n",
       "1        13.748591  5.140882e+07  \n",
       "2        27.905444  1.043716e+08  \n",
       "3        18.936442  7.083924e+07  \n",
       "4        12.745847  4.771550e+07  \n",
       "...            ...           ...  \n",
       "1576795   2.521127  8.324761e+06  \n",
       "1576796   2.657685  8.775670e+06  \n",
       "1576797   1.076884  3.555856e+06  \n",
       "1576798   1.430845  4.724651e+06  \n",
       "1576799   1.862570  6.148319e+06  \n",
       "\n",
       "[1576800 rows x 7 columns]"
      ]
     },
     "execution_count": 4,
     "metadata": {},
     "output_type": "execute_result"
    }
   ],
   "source": [
    "df"
   ]
  },
  {
   "cell_type": "code",
   "execution_count": 5,
   "metadata": {},
   "outputs": [],
   "source": [
    "df['timestamp'] = pd.to_datetime(df['timestamp'])\n",
    "df.set_index('timestamp', inplace=True)"
   ]
  },
  {
   "cell_type": "code",
   "execution_count": 6,
   "metadata": {},
   "outputs": [
    {
     "data": {
      "text/plain": [
       "['models/KRW-ETH_scaler.pkl']"
      ]
     },
     "execution_count": 6,
     "metadata": {},
     "output_type": "execute_result"
    }
   ],
   "source": [
    "scaler = MinMaxScaler(feature_range=(0, 1))\n",
    "scaled_data = scaler.fit_transform(df['close'].values.reshape(-1, 1))\n",
    "joblib.dump(scaler, 'models/KRW-ETH_scaler.pkl')"
   ]
  },
  {
   "cell_type": "code",
   "execution_count": 7,
   "metadata": {},
   "outputs": [],
   "source": [
    "timestep = 1"
   ]
  },
  {
   "cell_type": "code",
   "execution_count": 8,
   "metadata": {},
   "outputs": [],
   "source": [
    "X = []\n",
    "y = []\n",
    "for i in range(len(scaled_data) - timestep - 1):\n",
    "    X.append(scaled_data[i:(i + timestep), 0])\n",
    "    y.append(scaled_data[i + timestep, 0])"
   ]
  },
  {
   "cell_type": "code",
   "execution_count": 9,
   "metadata": {},
   "outputs": [],
   "source": [
    "X, y = np.array(X), np.array(y)"
   ]
  },
  {
   "cell_type": "code",
   "execution_count": 10,
   "metadata": {},
   "outputs": [],
   "source": [
    "train_size = int(len(X) * 0.8)\n",
    "test_size = len(X) - train_size\n",
    "X_train, X_test = X[0:train_size], X[train_size:len(X)]\n",
    "y_train, y_test = y[0:train_size], y[train_size:len(y)]"
   ]
  },
  {
   "cell_type": "code",
   "execution_count": 11,
   "metadata": {},
   "outputs": [],
   "source": [
    "train_dates = df.index[:train_size]\n",
    "test_dates = df.index[train_size:len(X)]"
   ]
  },
  {
   "cell_type": "code",
   "execution_count": 12,
   "metadata": {},
   "outputs": [],
   "source": [
    "X_train = X_train.reshape(X_train.shape[0], X_train.shape[1], 1)\n",
    "X_test = X_test.reshape(X_test.shape[0], X_test.shape[1], 1)"
   ]
  },
  {
   "cell_type": "code",
   "execution_count": 13,
   "metadata": {},
   "outputs": [],
   "source": [
    "model = Sequential()\n",
    "model.add(LSTM(50, return_sequences=True, input_shape=(timestep, 1)))\n",
    "model.add(LSTM(50, return_sequences=False))\n",
    "model.add(Dense(25))\n",
    "model.add(Dense(1))"
   ]
  },
  {
   "cell_type": "code",
   "execution_count": 14,
   "metadata": {},
   "outputs": [],
   "source": [
    "model.compile(optimizer='adam', loss='mean_squared_error')"
   ]
  },
  {
   "cell_type": "code",
   "execution_count": 15,
   "metadata": {},
   "outputs": [],
   "source": [
    "early_stop = EarlyStopping(monitor='val_loss', patience=10)"
   ]
  },
  {
   "cell_type": "code",
   "execution_count": 16,
   "metadata": {},
   "outputs": [
    {
     "name": "stdout",
     "output_type": "stream",
     "text": [
      "Epoch 1/20\n",
      "39420/39420 [==============================] - 399s 10ms/step - loss: 9.1307e-05 - val_loss: 3.5752e-06\n",
      "Epoch 2/20\n",
      "39420/39420 [==============================] - 417s 11ms/step - loss: 1.5579e-06 - val_loss: 1.5784e-06\n",
      "Epoch 3/20\n",
      "39420/39420 [==============================] - 416s 11ms/step - loss: 1.3692e-06 - val_loss: 4.2993e-06\n",
      "Epoch 4/20\n",
      "39420/39420 [==============================] - 412s 10ms/step - loss: 1.1959e-06 - val_loss: 3.1172e-06\n",
      "Epoch 5/20\n",
      "39420/39420 [==============================] - 412s 10ms/step - loss: 1.1190e-06 - val_loss: 2.7677e-06\n",
      "Epoch 6/20\n",
      "39420/39420 [==============================] - 414s 10ms/step - loss: 1.0735e-06 - val_loss: 2.5051e-06\n",
      "Epoch 7/20\n",
      "39420/39420 [==============================] - 416s 11ms/step - loss: 1.0034e-06 - val_loss: 7.1494e-07\n",
      "Epoch 8/20\n",
      "39420/39420 [==============================] - 401s 10ms/step - loss: 9.7753e-07 - val_loss: 7.7426e-07\n",
      "Epoch 9/20\n",
      "39420/39420 [==============================] - 399s 10ms/step - loss: 9.3608e-07 - val_loss: 8.0438e-07\n",
      "Epoch 10/20\n",
      "39420/39420 [==============================] - 413s 10ms/step - loss: 8.8699e-07 - val_loss: 7.5173e-07\n",
      "Epoch 11/20\n",
      "39420/39420 [==============================] - 411s 10ms/step - loss: 8.8582e-07 - val_loss: 3.8403e-06\n",
      "Epoch 12/20\n",
      "39420/39420 [==============================] - 405s 10ms/step - loss: 8.4830e-07 - val_loss: 7.8095e-07\n",
      "Epoch 13/20\n",
      "39420/39420 [==============================] - 386s 10ms/step - loss: 8.1956e-07 - val_loss: 1.0574e-06\n",
      "Epoch 14/20\n",
      "39420/39420 [==============================] - 383s 10ms/step - loss: 7.9950e-07 - val_loss: 1.2750e-06\n",
      "Epoch 15/20\n",
      "39420/39420 [==============================] - 271s 7ms/step - loss: 7.8348e-07 - val_loss: 1.2983e-06\n",
      "Epoch 16/20\n",
      "39420/39420 [==============================] - 415s 11ms/step - loss: 7.5586e-07 - val_loss: 1.7714e-06\n",
      "Epoch 17/20\n",
      "39420/39420 [==============================] - 453s 12ms/step - loss: 7.3982e-07 - val_loss: 1.0435e-06\n"
     ]
    },
    {
     "data": {
      "text/plain": [
       "<keras.callbacks.History at 0x244b40d75e0>"
      ]
     },
     "execution_count": 16,
     "metadata": {},
     "output_type": "execute_result"
    }
   ],
   "source": [
    "model.fit(X_train, y_train, batch_size=32, epochs=20,\n",
    "          validation_data=(X_test, y_test), callbacks=[early_stop])"
   ]
  },
  {
   "cell_type": "code",
   "execution_count": 17,
   "metadata": {},
   "outputs": [],
   "source": [
    "model.save('models/lstm_KRW-ETH.h5')"
   ]
  },
  {
   "cell_type": "code",
   "execution_count": 18,
   "metadata": {},
   "outputs": [
    {
     "name": "stdout",
     "output_type": "stream",
     "text": [
      "39420/39420 [==============================] - 145s 4ms/step\n",
      "9855/9855 [==============================] - 37s 4ms/step\n"
     ]
    }
   ],
   "source": [
    "train_predict = model.predict(X_train)\n",
    "test_predict = model.predict(X_test)"
   ]
  },
  {
   "cell_type": "code",
   "execution_count": 19,
   "metadata": {},
   "outputs": [],
   "source": [
    "train_predict = scaler.inverse_transform(train_predict)\n",
    "test_predict = scaler.inverse_transform(test_predict)\n",
    "y_train = scaler.inverse_transform([y_train])\n",
    "y_test = scaler.inverse_transform([y_test])"
   ]
  },
  {
   "cell_type": "code",
   "execution_count": 20,
   "metadata": {},
   "outputs": [
    {
     "name": "stdout",
     "output_type": "stream",
     "text": [
      "Train RMSE: 3158.02\n",
      "Test RMSE: 4790.41\n"
     ]
    }
   ],
   "source": [
    "train_score = np.sqrt(mean_squared_error(y_train[0], train_predict[:, 0]))\n",
    "test_score = np.sqrt(mean_squared_error(y_test[0], test_predict[:, 0]))\n",
    "print(f'Train RMSE: {train_score:.2f}')\n",
    "print(f'Test RMSE: {test_score:.2f}')"
   ]
  },
  {
   "cell_type": "code",
   "execution_count": 21,
   "metadata": {},
   "outputs": [
    {
     "data": {
      "image/png": "[encoded data removed]",
      "text/plain": [
       "<Figure size 1440x720 with 1 Axes>"
      ]
     },
     "metadata": {
      "needs_background": "light"
     },
     "output_type": "display_data"
    }
   ],
   "source": [
    "plt.figure(figsize=(20, 10))\n",
    "plt.subplot(1, 1, 1)\n",
    "plt.plot(train_dates, y_train[0], label='Actual', color = 'Blue')\n",
    "plt.plot(train_dates, train_predict, label='Predicted', color = 'Red')\n",
    "plt.title('Train Data')\n",
    "plt.xlabel('Date')\n",
    "plt.ylabel('Price')\n",
    "plt.legend()\n",
    "plt.xticks(rotation=45)\n",
    "plt.gca().xaxis.set_major_formatter(DateFormatter('%Y'))"
   ]
  },
  {
   "cell_type": "code",
   "execution_count": 22,
   "metadata": {},
   "outputs": [
    {
     "data": {
      "image/png": "[encoded data removed]",
      "text/plain": [
       "<Figure size 432x288 with 1 Axes>"
      ]
     },
     "metadata": {
      "needs_background": "light"
     },
     "output_type": "display_data"
    }
   ],
   "source": [
    "plt.subplot(1, 1, 1)\n",
    "plt.plot(test_dates, y_test[0], label='Actual', color = 'Blue')\n",
    "plt.plot(test_dates, test_predict, label='Predicted', color = 'Red')\n",
    "plt.title('Test Data')\n",
    "plt.xlabel('Date')\n",
    "plt.ylabel('Price')\n",
    "plt.legend()\n",
    "plt.xticks(rotation=45)\n",
    "plt.gca().xaxis.set_major_formatter(DateFormatter('%Y-%m'))\n",
    "\n",
    "plt.tight_layout()\n",
    "plt.show()"
   ]
  },
  {
   "cell_type": "code",
   "execution_count": 23,
   "metadata": {},
   "outputs": [
    {
     "name": "stdout",
     "output_type": "stream",
     "text": [
      "[[3300000.]]\n"
     ]
    }
   ],
   "source": [
    "last_1_day = scaled_data[-timestep:]\n",
    "X_predict = last_1_day.reshape(1, timestep, 1)\n",
    "print(scaler.inverse_transform(last_1_day))"
   ]
  },
  {
   "cell_type": "code",
   "execution_count": 24,
   "metadata": {},
   "outputs": [
    {
     "name": "stdout",
     "output_type": "stream",
     "text": [
      "1/1 [==============================] - 0s 14ms/step\n",
      "1/1 [==============================] - 0s 14ms/step\n",
      "1/1 [==============================] - 0s 13ms/step\n",
      "1/1 [==============================] - 0s 13ms/step\n",
      "1/1 [==============================] - 0s 14ms/step\n",
      "1/1 [==============================] - 0s 14ms/step\n",
      "1/1 [==============================] - 0s 14ms/step\n",
      "1/1 [==============================] - 0s 16ms/step\n",
      "1/1 [==============================] - 0s 13ms/step\n",
      "1/1 [==============================] - 0s 13ms/step\n",
      "1/1 [==============================] - 0s 13ms/step\n",
      "1/1 [==============================] - 0s 13ms/step\n",
      "1/1 [==============================] - 0s 13ms/step\n",
      "1/1 [==============================] - 0s 13ms/step\n",
      "1/1 [==============================] - 0s 13ms/step\n",
      "1/1 [==============================] - 0s 12ms/step\n",
      "1/1 [==============================] - 0s 13ms/step\n",
      "1/1 [==============================] - 0s 12ms/step\n",
      "1/1 [==============================] - 0s 13ms/step\n",
      "1/1 [==============================] - 0s 12ms/step\n",
      "1/1 [==============================] - 0s 13ms/step\n",
      "1/1 [==============================] - 0s 12ms/step\n",
      "1/1 [==============================] - 0s 12ms/step\n",
      "1/1 [==============================] - 0s 13ms/step\n",
      "1/1 [==============================] - 0s 12ms/step\n",
      "1/1 [==============================] - 0s 13ms/step\n",
      "1/1 [==============================] - 0s 14ms/step\n",
      "1/1 [==============================] - 0s 13ms/step\n",
      "1/1 [==============================] - 0s 12ms/step\n",
      "1/1 [==============================] - 0s 13ms/step\n"
     ]
    }
   ],
   "source": [
    "preds = []\n",
    "for i in range(30):  # 30분 예측\n",
    "    pred = model.predict(X_predict)\n",
    "    preds.append(pred[0][0])\n",
    "    pred = pred.reshape(1, 1, 1)\n",
    "    X_predict = np.append(X_predict[:, 1:, :], pred, axis=1).reshape(1, timestep, 1)"
   ]
  },
  {
   "cell_type": "code",
   "execution_count": 25,
   "metadata": {},
   "outputs": [],
   "source": [
    "preds = scaler.inverse_transform([preds])"
   ]
  },
  {
   "cell_type": "code",
   "execution_count": 26,
   "metadata": {},
   "outputs": [
    {
     "data": {
      "text/plain": [
       "array([[3299050.66436529, 3298102.26663947, 3297155.26649356,\n",
       "        3296209.24465358, 3295264.34087753, 3294320.55516541,\n",
       "        3293377.88751721, 3292436.19817495, 3291495.62689662,\n",
       "        3290556.17368221, 3289617.83853173, 3288680.62144518,\n",
       "        3287744.24290657, 3286808.98243189, 3285874.84002113,\n",
       "        3284941.8156743 , 3284009.76963341, 3283078.98141444,\n",
       "        3282149.1715014 , 3281220.33989429, 3280292.62635112,\n",
       "        3279365.89111388, 3278440.13418257, 3277515.49531519,\n",
       "        3276591.83475375, 3275669.29225624, 3274747.58830667,\n",
       "        3273827.00242102, 3272907.39484131, 3271988.76556754]])"
      ]
     },
     "execution_count": 26,
     "metadata": {},
     "output_type": "execute_result"
    }
   ],
   "source": [
    "preds"
   ]
  },
  {
   "cell_type": "code",
   "execution_count": 27,
   "metadata": {},
   "outputs": [],
   "source": [
    "# Predict the future\n",
    "# future_predictions = []\n",
    "# for _ in range(len(new_df)):\n",
    "#     pred = model.predict(X_predict)\n",
    "#     future_predictions.append(pred[0, 0])\n",
    "#     pred = pred.reshape(1, 1, 1)\n",
    "#     X_predict = np.append(X_predict[:, 1:, :], pred, axis=1).reshape(1, timestep, 1)\n",
    "# future_predictions = scaler.inverse_transform(np.array(future_predictions).reshape(-1, 1))"
   ]
  },
  {
   "cell_type": "code",
   "execution_count": null,
   "metadata": {},
   "outputs": [],
   "source": []
  }
 ],
 "metadata": {
  "kernelspec": {
   "display_name": "Python 3",
   "language": "python",
   "name": "python3"
  },
  "language_info": {
   "codemirror_mode": {
    "name": "ipython",
    "version": 3
   },
   "file_extension": ".py",
   "mimetype": "text/x-python",
   "name": "python",
   "nbconvert_exporter": "python",
   "pygments_lexer": "ipython3",
   "version": "3.10.2"
  }
 },
 "nbformat": 4,
 "nbformat_minor": 2
}
